{
 "cells": [
  {
   "cell_type": "code",
   "execution_count": 1,
   "metadata": {},
   "outputs": [
    {
     "name": "stdout",
     "output_type": "stream",
     "text": [
      "hi\n"
     ]
    }
   ],
   "source": [
    "print('hi')"
   ]
  },
  {
   "cell_type": "code",
   "execution_count": 2,
   "metadata": {},
   "outputs": [],
   "source": [
    "# 导入分析库\n",
    "from bs4 import BeautifulSoup\n",
    "# 导入通用爬虫python基本库\n",
    "import requests\n",
    "# 导入正则匹配\n",
    "import re\n",
    "# 将所有数据压缩到一行\n",
    "from itertools import chain\n",
    "\n",
    "# User-Agent 保护\n",
    "headers = {\n",
    "    'User-Agent':'Mozilla/5.0 (Windows NT 10.0; Win64; x64) AppleWebKit/537.36 (KHTML, like Gecko) Chrome/85.0.4183.102 Safari/537.36'\n",
    "}"
   ]
  },
  {
   "cell_type": "code",
   "execution_count": 3,
   "metadata": {},
   "outputs": [],
   "source": [
    "page_text = requests.get('https://www.baobeihuijia.com/view.aspx?id=347710', headers=headers).text\n",
    "soup = BeautifulSoup(page_text, 'lxml')"
   ]
  },
  {
   "cell_type": "code",
   "execution_count": 15,
   "metadata": {},
   "outputs": [
    {
     "name": "stdout",
     "output_type": "stream",
     "text": [
      "寻亲类别：宝贝寻家\n",
      "寻亲编号：347710\n",
      "姓    名：罗林仁\n",
      "性    别：男\n",
      "出生日期：1933年04月19日\n",
      "失踪时身高：未知\n",
      "失踪时间：1940年10月01日\n",
      "失踪人所在地：浙江省,杭州市\n",
      "失踪地点：浙江省,杭州市,杭州市富阳区\n",
      "寻亲者特征描述：失踪时身材瘦弱\n",
      "其他资料：\n",
      "注册时间：2018/10/1 13:23:17\n",
      "跟进志愿者：漂泊\n"
     ]
    }
   ],
   "source": [
    "for each in soup.select('body div#table_1 div.reginfo ul li'):\n",
    "    print(each.text)"
   ]
  },
  {
   "cell_type": "code",
   "execution_count": 30,
   "metadata": {},
   "outputs": [],
   "source": [
    "'''\n",
    "Summary:\n",
    "    获取走失孩童的全部信息\n",
    "Parameters:\n",
    "    aspx_url - 详细信息页\n",
    "Return:\n",
    "    信息字典\n",
    "'''\n",
    "def get_information_from_aspx_url(aspx_url):\n",
    "    # 获取页面\n",
    "    page_text = requests.get(aspx_url, headers=headers).text\n",
    "    soup = BeautifulSoup(page_text, 'lxml')\n",
    "    \n",
    "    # 提取信息到字典\n",
    "    information_dic = {}\n",
    "    for each in soup.select('body div#table_1 div.reginfo ul li'):\n",
    "        messages = each.text.split(\"：\")\n",
    "        # 防止出现'姓\\xa0\\xa0\\xa0\\xa0名' 的情况\n",
    "        key = \"\".join(messages[0].split())\n",
    "        value = \"\".join(messages[1].split())\n",
    "        information_dic[key] = value\n",
    "    return information_dic\n",
    "    "
   ]
  },
  {
   "cell_type": "code",
   "execution_count": 31,
   "metadata": {},
   "outputs": [
    {
     "data": {
      "text/plain": [
       "{'寻亲类别': '宝贝寻家',\n",
       " '寻亲编号': '388153',\n",
       " '姓名': '李先生',\n",
       " '性别': '男',\n",
       " '出生日期': '1987年07月29日',\n",
       " '失踪时身高': '50厘米左右',\n",
       " '失踪时间': '1987年10月31日',\n",
       " '失踪人所在地': '山东省,聊城市',\n",
       " '失踪地点': '山东省,聊城市,',\n",
       " '寻亲者特征描述': '本人172',\n",
       " '其他资料': '本人也是才知道这个情况',\n",
       " '注册时间': '2019/4/2513:48:59',\n",
       " '跟进志愿者': '小黑'}"
      ]
     },
     "execution_count": 31,
     "metadata": {},
     "output_type": "execute_result"
    }
   ],
   "source": [
    "get_information_from_aspx_url('https://www.baobeihuijia.com/view.aspx?id=388153')"
   ]
  },
  {
   "cell_type": "code",
   "execution_count": null,
   "metadata": {},
   "outputs": [],
   "source": [
    "import pickle\n",
    " \n",
    "file = open('pickle_message.pickle', 'wb')\n",
    "pickle.dump(a_dict, file)\n",
    "file.close()"
   ]
  }
 ],
 "metadata": {
  "kernelspec": {
   "display_name": "Python 3",
   "language": "python",
   "name": "python3"
  },
  "language_info": {
   "codemirror_mode": {
    "name": "ipython",
    "version": 3
   },
   "file_extension": ".py",
   "mimetype": "text/x-python",
   "name": "python",
   "nbconvert_exporter": "python",
   "pygments_lexer": "ipython3",
   "version": "3.6.8"
  }
 },
 "nbformat": 4,
 "nbformat_minor": 4
}
