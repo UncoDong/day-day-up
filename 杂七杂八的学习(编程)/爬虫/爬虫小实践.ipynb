{
 "cells": [
  {
   "cell_type": "markdown",
   "metadata": {},
   "source": [
    "### 爬取搜狗首页的数据\n",
    "- 指定url\n",
    "- 对url发出http请求，get or post\n",
    "- 获取响应数据\n",
    "- 持久化存储"
   ]
  },
  {
   "cell_type": "code",
   "execution_count": 2,
   "metadata": {},
   "outputs": [],
   "source": [
    "import requests"
   ]
  },
  {
   "cell_type": "code",
   "execution_count": 17,
   "metadata": {},
   "outputs": [],
   "source": [
    "# 指定url\n",
    "url = 'https://www.sogou.com/web?query=%E5%B9%B4%E5%90%8E'\n",
    "# 发起请求 返回一个相应对象\n",
    "response = requests.get(url, headers=headers)# 参数：url, params, headers\n",
    "# 获取相应数据 \n",
    "page_text = response.text\n",
    "\n",
    "fileName = 'hi.html'\n",
    "with open(fileName, 'w', encoding='utf-8') as fp:\n",
    "    fp.write(page_text)"
   ]
  },
  {
   "cell_type": "markdown",
   "metadata": {},
   "source": [
    "#### 网页采集器\n"
   ]
  },
  {
   "cell_type": "code",
   "execution_count": 74,
   "metadata": {},
   "outputs": [
    {
     "name": "stdout",
     "output_type": "stream",
     "text": [
      "<!DOCTYPE html><html data-vtype=\"default\"> <head><meta http-equiv=\"X-UA-Compatible\" content=\"IE=Edge\"><meta http-equiv=\"x-dns-prefetch-control\" content=\"on\"><meta charset=\"utf-8\"><meta name=\"referrer\" content=\"always\"><meta name=\"viewport\" content=\"width=device-width,minimum-scale=1,maximum-scale=1,user-scalable=no\">  <link rel=\"dns-prefetch\" href=\"//img01.sogoucdn.com\"><link rel=\"dns-prefetch\" href=\"//img02.sogoucdn.com\"><link rel=\"dns-prefetch\" href=\"//img03.sogoucdn.com\"><link rel=\"dns-prefetch\" href=\"//img04.sogoucdn.com\"><link rel=\"dns-prefetch\" href=\"//dlweb.sogoucdn.com\"><link rel=\"preconnect\" href=\"//img01.sogoucdn.com\"><link rel=\"preconnect\" href=\"//img02.sogoucdn.com\"><link rel=\"preconnect\" href=\"//img03.sogoucdn.com\"><link rel=\"preconnect\" href=\"//img04.sogoucdn.com\"><link rel=\"preconnect\" href=\"//dlweb.sogoucdn.com\"> <script type=\"text/javascript\">/*file=static/js/resourceErrorReport.js*/!function(a){var n=(new Date).getTime(),r=a.location.protocol;function c(e,t){var o=(new Date).getTime()-n;(new Image).src=[\"//pb.sogou.com/pv.gif?uigs_productid=wapapp&type=resource-error&stype=\",e,\"&timestamp=\",o,\"&protocol=\",r,\"&host=\",encodeURIComponent(a.location.host),\"&path=\",encodeURIComponent(a.location.pathname),\"&resource=\",encodeURIComponent(t)].join(\"\")}function e(e){if((e=e||a.event)&&\"error\"===e.type){var t=e.srcElement?e.srcElement:e.target;if(t){var o,n,r=t.tagName;\"LINK\"===r?(n=\"css\",(o=t.getAttribute(\"href\"))&&o.match(/\\.css($|\\?)/)&&c(n,o)):\"SCRIPT\"===r&&(n=\"js\",(o=t.getAttribute(\"src\"))&&o.match(/\\.js($|\\?)/)&&c(n,o))}}}r&&(r=r.substring(0,r.length-1)),a.addEventListener?a.addEventListener(\"error\",e,!0):a.attachEvent&&a.attachEvent(\"onerror\",e)}(window);</script><script type=\"text/javascript\">if(window.location.href.indexOf('/waprdt') != -1){window.location.href=\"https://pb.sogou.com/pv.gif\"};new Image().src = '/approve?uuid=76579b96-4df3-4e2a-8551-ed30dcd839da&token=2038DB6F268E3CD56266CDADE67C3877639F25275F68623F';/*file=static/js/errorLog.min.js*/(function(){function c(h){if(typeof h===\"object\"&&!(h instanceof Array)){var d=new Image(),e=$s.httpsUtil.getPingbackHost()+\"/pv.gif?uigs_productid=webapp&type=error&\",g=[];h.ua=window.navigator.userAgent;h.page=window.location.href;for(var f in h){g.push(f+\"=\"+encodeURIComponent(h[f]))}d.src=e+g.join(\"&\")}}var b=window.sogou=window.sogou||{},a=b.error=b.error||{};a.sendErrorLog=c;window.onerror=function(f,e,d){a.sendErrorLog({stype:\"JSError\",uuid:window.uuid||\"\",msg:f,url:e,line:d})}})(); /*file=static/js/speedreport.min.js*/(function(){var b=[0,0,0,0,0,0,0,0,0,0,0,0,0,0];function c(){}c.config={};c.setBeforeBody=function(){b[0]=new Date()};c.setBeforeHeadJs=function(){b[1]=new Date()};c.setAfterHeadJs=function(){b[2]=new Date()};c.setBeforeHeadCss=function(){b[3]=new Date()};c.setAfterHeadCss=function(){b[4]=new Date()};c.setBeforeStaticJs=function(){b[5]=new Date()};c.setAfterStaticJs=function(){b[6]=new Date()};c.setBeforeCenter=function(){b[7]=new Date()};c.setAfterCenter=function(){b[8]=new Date()};c.setBeforeRight=function(){b[9]=new Date()};c.setAfterRight=function(){b[10]=new Date()};c.setBeforeFootJs=function(){b[11]=new Date()};c.setAfterFootJs=function(){b[12]=new Date()};c.setAfterBody=function(){b[13]=new Date()};c.reportSpeed=function(f){if(window.addEventListener){window.addEventListener(\"load\",function(){a(f)},false)}else{if(window.attachEvent){window.attachEvent(\"onload\",function(){a(f)})}else{if(window.onload){window.onload=function(){a(f)}}}}};function a(g){var h=g+\"&\"+e(),f=[\"1=\"+Math.max(0,b[13]-b[0]),\"2=\"+Math.max(0,b[4]-b[3]),\"3=\"+Math.max(0,((b[3]-b[2])+(b[6]-b[5]))),\"4=\"+Math.max(0,b[8]-b[7]),\"5=\"+Math.max(0,b[10]-b[9]),\"6=\"+Math.max(0,b[12]-b[11]),\"7=\"+Math.max(0,(new Date())-b[0])];setTimeout(function(){var j;j=h+\"&\"+f.join(\"&\");var i=new Image();i.src=j},1000)}function e(){var f=[];if(typeof uigs_para!=\"undefined\"){var g=uigs_para;for(var h in g){if(g.hasOwnProperty(h)&&h!=\"uigs_productid\"&&h!=\"type\"&&h!=\"qtype\"&&h!=\"stype\"){f.push(\"&\"+h+\"=\"+encodeURIComponent(g[h]))}}}return f.join(\"\")}function d(g,f){var h=new RegExp(g+\"=(\\\\d*)\");var i=f.match(h);if(i!=null){return unescape(i[1])}return\"\"}window.sogou=window.sogou||{};window.sogou.WebReportSpeed=c})();\n",
      "   var sst={h_s:(new Date()).getTime()};\n",
      "\n",
      "        var SgConst = {};SgConst.common={};\n",
      "        SgConst.common.oldQuery = \"hi\";\n",
      "        SgConst.common.gbkQuery = \"%68%69\";\n",
      "        SgConst.common.qcQuery = \"\";\n",
      "        SgConst.common.keywords_string = \"hi\";\n",
      "        SgConst.common.sab = \"5\";\n",
      "        SgConst.common.keywords = SgConst.common.oldQuery.split(' ');\n",
      "        SgConst.common.now = 1600676415038 ;\n",
      "        SgConst.common.idc = \"hb1\";\n",
      "        SgConst.common.versiontype = \"default\";\n",
      "        SgConst.common.viewportWideSize = 1280;\n",
      "        SgConst.common.clientIp = \"183.95.236.68\";\n",
      "        SgConst.common.supportSNI = \"\";  SgConst.isNewSnapshotUrl = true;\n",
      "        SgConst.common.pid = \"sogou__free\";\n",
      "        SgConst.common.userid = \"\";\n",
      "        SgConst.common.sec = \"\"; SgConst.common.loginFlag = \"0\";\n",
      "        SgConst.common.ipsec = \"\"; var showNewOfficialSite=true;\n",
      "        var oldQuery=\"hi\",\n",
      "            reventonCode='reventonCode=75ea65298e5e11049713efbd4681089e&reventonTime=1600676415272',\n",
      "            gbkQuery=\"%68%69\",\n",
      "            uuid=\"76579b96-4df3-4e2a-8551-ed30dcd839da\";\n",
      "        var keywords_string=oldQuery,\n",
      "            sab=\"5\",\n",
      "            keywords=oldQuery.split(' ');  var now = 1600676415038;\n",
      "        var idc = \"hb1\";\n",
      "        var clientIp = \"183.95.236.68\";\n",
      "        var domainMapping = '';  /*file=static/js/require.js*/!function(a){var l={},u={},c={},s={},d=a.document,f=\"anonymous\",h=1,e=\"1.0.2\",n={},p=[/^vr$/i,/^vr\\..+$/i,/^ie$/i,/^ie\\..+/i,/\\$.+$/i],m=function(){var e=a.navigator.userAgent.toLowerCase(),t={};if(-1!=e.indexOf(\"msie\")){t.ie=!0;var n=/msie\\s+(\\d+)/.exec(e);n&&(t.ie=parseInt(n[1]))}return t}(),o=null,r={ext:\".js\",baseUrl:\"//dlweb.sogoucdn.com/common/widget/vr/\",shim:{},paths:{},urlArgs:\"v=191202a\",alias:{jquery:\"$\",jQuery:\"$\"}},g={},t=[],v=!1,i=\"PLAYSTATION 3\"===navigator.platform?/^complete$/:/^(complete|loaded)$/,y=null,x=null;function b(e){this.name=e.name||\"\",this.isOldModule=e.isOldModule,this.callback=e.callback,this.deps=e.deps,this.options=e,this.execute=e.execute,this.isAnoymouse=!!e.isAnoymouse,this.isDone=!!e.isDone,this.notifies=e.notifies&&0<e.notifies.length?e.notifies:[],this.exports=e.exports||null,this.name&&b.setModule(this.name,this)}function O(e,t){c[e]?c[e].push(t):c[e]=[t]}function M(e,t,n){u[e]=null;var i=t.apply(this,n);e&&0!==e.indexOf(f)&&A(e,i,a,A);var o=b.getModule(e);o&&(o.isDone=!0,o.exports=i,o.notify(!0)),e&&0!==e.indexOf(f)&&notifyAll(e,i)}function A(e,t,n,i){var o,r;0<(o=e.indexOf(\".\"))?(n[r=e.substring(0,o)]||(n[r]={}),i(e.substring(o+1),t,n[r],i)):n[e]=t}function E(e,t){var n,i,o;if(!t&&g[e]&&g[e].isDone&&g[e].exports)return g[e].exports;for(i=e.split(\".\"),o=a,n=0;n<i.length;n++){if(!o)return null;o=o[i[n]]}return o}function D(e,t,n){o||(o=d.getElementsByTagName(\"head\")[0]);var i=d.createElement(\"script\");i.attachEvent?i.attachEvent(\"onreadystatechange\",L):i.addEventListener(\"load\",L,!1),i.type=\"text/javascript\",i.charset=n||\"gbk\",i.setAttribute(\"module\",e),i.setAttribute(\"data-requirecontext\",\"_\"),i.setAttribute(\"data-requiremodule\",e),i.src=t,o.appendChild(i)}function L(e){var t,n;if(n=(e=a.event||e).target||e.srcElement,\"load\"==e.type||\"loaded\"==n.readyState||\"complete\"==n.readyState){if(!(t=n.getAttribute(\"module\")))return;S(t)}}function S(e){var t=E(e);t?notifyAll(e,t):(n[e]||(n[e]=0),n[e]++,500<=n[e]?function(e){{if(void 0===a.console)throw e;console.error(e)}}(new Error(\"模块[\"+e+\"]检查超时...\")):setTimeout(function(e,t){return function(){t(e)}}(e,S),20))}function k(e){void 0!==a.console&&console.log(e)}function w(e){return\"[object Array]\"===Object.prototype.toString.call(e)}function j(e){return\"[object Function]\"===Object.prototype.toString.call(e)}function $(e,t,n){if(\"object\"==typeof e||\"object\"==typeof t)for(var i in t)if(t.hasOwnProperty(i)){var o=t[i];n&&\"object\"==typeof o&&w(o),e[i]=o}return e}function q(e,t){var n;for(n=0;n<e.length;n++)\"function\"==typeof t&&t(e[n],n)}function N(e,t){var n,i,o=[],r={};if(e&&e.length)for(n=0;n<e.length;n++)(i=e[n])&&!r[i]&&(o.push(i),r[i]=1);if(t&&t.length)for(n=0;n<t.length;n++)(i=t[n])&&!r[i]&&(o.push(i),r[i]=1);return o}b.checkOldModule=function(e){var t;if(e){if(l[e])return!0;for(t=0;t<p.length;t++)if(p[t].test(e))return!0}return!1},b.getModule=function(e){var t=b.getCorrectName(e);if(g[t])return g[t];var n=E(e);return n||e==t||(n=E(t)),n?new b({name:t,isOldModule:!0,deps:[],exports:n,isDone:!0}):null},b.setModule=function(e,t){g[e]=t},b.onScriptError=function(){},b.onScriptLoad=function(e){if(\"load\"===e.type||i.test((e.currentTarget||e.srcElement).readyState)){x=null;var t=b.getScriptData(e);if(t&&t.id){var n=b.getModule(t.id);n&&n.completeLoad()}}},b.getCorrectName=function(e){return r.alias&&r.alias[e]?r.alias[e]:e},b.getScriptData=function(e){var t=e.currentTarget||e.srcElement;return b.removeListener(t,b.onScriptLoad,\"load\",\"onreadystatechange\"),b.removeListener(t,b.onScriptError,\"error\"),{node:t,id:t&&t.getAttribute(\"data-requiremodule\")}},b.removeListener=function(e,t,n,i){e.detachEvent?i&&e.detachEvent(i,t):e.removeEventListener(n,t,!1)},b.prototype.$nextTick=function(e){var t=this;\"function\"==typeof e&&setTimeout(function(){e.call(t)},1)},b.prototype.load=function(){var e=E(this.name,!0);return e?(this.exports=e,this.isDone=!0,this.notify(),!0):(this.isOldModule?this.loadOldModule():this.loadNewModule(),!1)},b.prototype.loadOldModule=function(){var e,t,n,i,o=[],r=!1;if(this.name||(this.isAnoymouse=!0,this.name=f+h++,b.setModule(this.name,this)),!u[this.name]&&!E(this.name)){for(e=0;e<this.deps.length;e++)if(i=(n=(t=b.getCorrectName(this.deps[e])).match(/_ie(\\d+)$/))&&(!m.ie||m.ie>parseInt(n[1]))?{}:E(t))o.push(i);else{if(O(t,this.name),r=!0,o.push(t),!l[t]){(i=b.getModule(t))||((i=new b({name:t,isOldModule:!1,deps:[]})).notifies.push(this.name),i.needLoad=!0,i.load());continue}if(\"inline\"==l[t]||s[t])continue;(i=b.getModule(t))||(i=new b({name:t,isOldModule:!0,deps:[]})).notifies.push(this.name),s[t]=!0,D(t,l[t])}return r?function(e,t,n){u[e]||(u[e]={callback:t,args:n})}(this.name,this.callback,o):M(this.name,this.callback,o),this}},b.prototype.loadNewModule=function(){if(this.options.execute)this.loadDependecies();else if(this.name&&this.needLoad)if(b.checkOldModule(this.name)){var e=this.name.match(/_ie(\\d+)$/);(e&&(!m.ie||m.ie>parseInt(e[1]))?{}:E(this.name))?this.notify(!0):\"inline\"===l[this.name]||s[this.name]||(s[this.name]=!0,D(this.name,l[this.name]))}else this.$nextTick(function(){this.loadScript()});else this.name?this.loadDependecies():t.push(this)},b.prototype.completeLoad=function(){var n=this;if(n.name&&\"function\"==typeof n.callback)return n.loadDependecies();if(t&&t.length){var i=t.length;q(t,function(e,t){t===i-1?(n.deps=e.deps,n.callback=e.callback,n.loadDependecies()):e.loadDependecies()})}else n.loadDependecies();t=[]},b.prototype.onNotify=function(){var e=this.deps,t=0,n=[];if(!this.isDone){for(t=0;t<e.length;t++){var i=b.getModule(e[t]);if(!i||!i.isDone)return this;n.push(i.exports)}\"function\"==typeof this.callback?(this.exports=this.callback.apply(this,n),this.exports||(this.exports=E(this.name,!0))):this.exports={},this.isDone=!0}return this.name&&A(this.name,this.exports,a,A),this.notify(),this},b.prototype.notify=function(e){var t=0,n=null;for(t=0;t<this.notifies.length;t++)(n=b.getModule(this.notifies[t]))?n.onNotify():k(this.notifies[t]+\" is not defined.\");return!e&&c[this.name]&&a.notifyAll(this.name,this.exports),this},b.prototype.name2URL=function(){var e,t=this.name,n=t,i=r.baseUrl,o=0===i.indexOf(\"https://\")||0===i.indexOf(\"http://\")||0===i.indexOf(\"//\");return r.paths[t]&&(n=r.paths[t]),0===n.indexOf(\"http://\")||0===n.indexOf(\"https://\")||0===n.indexOf(\"//\")||(n=0===n.indexOf(\"/\")?a.location.protocol+\"//\"+(o?i.split(\"/\")[2]:a.location.host)+n:i+n),r.urlArgs&&(0!==n.indexOf(\"?\")?n+=\"?\":n+=\"&\",n+=r.urlArgs),n=function(e){if(\"string\"!=typeof e)return\"\";for(var t=e.split(\"/\"),n=\"\",i=3;i<t.length;)\"\"===(n=t[i])?(t.splice(3,i-2),i=3):\".\"===n?t.splice(i,1):\"..\"===n?3<i?t.splice(i-1,2):t.splice(i,1):i++;return t.join(\"/\")}(n=function(e){if(\"string\"!=typeof e)return\"\";var t=e.split(\"?\"),n=/\\.[^\\.\\/]+$/.exec(t[0]),i=r.ext||\".js\";return n&&n[0]===i||t[0].match(/\\/$/)||(t[0]=t[0]+i),t.join(\"?\")}(n=\"string\"==typeof(e=n)?0===e.indexOf(\"http://\")||0===e.indexOf(\"https://\")?e:0===e.indexOf(\"//\")?a.location.protocol+e:0===e.indexOf(\"/\")?a.location.protocol+\"//\"+a.location.host+e:0===e.indexOf(\"..\")?a.location.protocol+\"//\"+a.location.host+a.location.pathname+\"/\"+e:a.location.protocol+\"//\"+a.location.host+a.location.pathname+\"/../\"+e:a.location.href))},b.prototype.loadDependecies=function(){var e=this.deps.length,o=0,r=this;q(this.deps,function(e){var t=b.getCorrectName(e),n=b.getModule(t),i=!1;n||(i=(n=new b({name:t,isOldModule:!1,deps:[]})).needLoad=!0),n.isDone?o++:n.notifies.push(r.name),i&&n.load()}),e<=o&&this.onNotify()},b.prototype.loadScript=function(){var e=this.name,t=this.name2URL(),n=d.createElement(\"script\");return n.type=\"text/javascript\",n.charset=\"utf-8\",n.async=!0,n.setAttribute(\"data-requirecontext\",\"_\"),n.setAttribute(\"data-requiremodule\",e),n.setAttribute(\"module\",e),!n.attachEvent||n.attachEvent.toString&&n.attachEvent.toString().indexOf(\"[native code\")<0?(n.addEventListener(\"load\",b.onScriptLoad,!1),n.addEventListener(\"error\",b.onScriptError,!1)):(v=!0,n.attachEvent(\"onreadystatechange\",b.onScriptLoad)),n.src=t,y=n,o.appendChild(n),y=null,n},a.declare=function(e,t){l[e]=t},a.define=function(n,i,e,t){if(w(n))return a.define(null,n,i,{isOldModule:!1});if(j(n))return a.define(null,[],n,{isOldModule:!1});if(j(i))return a.define(n,[],i,{isOldModule:!1});if(!w(i))return a.define(n,[],e,t);v&&(node=y||function(){if(x&&\"interactive\"===x.readyState)return x;return q(d.getElementsByTagName(\"script\"),function(e){if(\"interactive\"===e.readyState)return x=e}),x}(),node&&(n||(n=node.getAttribute(\"data-requiremodule\"))));var o=$({name:n,deps:i,callback:e,isOldModule:function(){var e,t;if(n){if(l[n])return!0;for(t=0;t<p.length;t++)if(p[t].test(n))return!0}for(e=0;e<i.length;e++){if(!i[e])throw new Error(\"dependecy can not be empty.\");if(\"string\"!=typeof i[e])throw new Error(\"dependecy must be an string.\");if(l[i[e]]||i[e].match(/_ie(\\d+)$/gi))return!0}return!1}()},t),r=n?b.getModule(o.name):null;if(r&&(o.deps=N(r.deps,i),o.notifies=N(r.notifies,o.notifies)),!o.isOldModule&&o.name&&!o.execute&&r)return r.deps=o.deps,r.callback=o.callback,r;var s=new b(o);return s.load(),s},a.define.amd=!0,a.require=a.requirejs=function(e,t){var n=null;\"function\"==typeof e?(n=[],t=e):\"string\"==typeof e?n=[e]:w(e)&&(n=e),this.define(f+h++,n,t,{isOldModule:!1,isAnoymouse:!0,execute:!0})},a.require.config=function(e){return e&&\"object\"==typeof e&&($(r,e,!0),r.baseUrl&&\"/\"===r.baseUrl.charAt(r.baseUrl.length-1)||(r.baseUrl=r.baseUrl+\"/\")),this},a.require.report=function(){a.console&&(console.info(\"version\",e),console.info(\"moduleMap\",l),console.info(\"loadedQueue\",s),console.info(\"defineQueue\",u),console.info(\"notifyQueue\",c),console.info(\"globalModule\",g),console.info(\"globalLoading\",t))},a.require.version=e,a.notifyAll=function(e,t){var n,i,o,r,s,a,l=b.getModule(e);if(!l||l.isDone||l.exports||(l.exports=t,l.isDone=!0,l.notify(!0)),c[e]){for(n=0;n<c[e].length;n++)if(o=c[e][n],u[o]){for(r=!1,s=u[o].callback,a=u[o].args,i=0;i<a.length;i++)\"string\"==typeof a[i]&&(a[i]==e?a[i]=t:r=!0);r||M(o,s,a)}c[e]=null}}}(window); /*file=static/js/declare.js*/declare(\"$s\",\"inline\"),declare(\"vr\",\"inline\"),\"https:\"===window.location.protocol?declare(\"$\",\"https://dlweb.sogoucdn.com/common/lib/jquery/jquery-1.11.0.min.js\"):declare(\"$\",\"http://dlweb.sogoucdn.com/common/lib/jquery/jquery-1.11.0.min.js\"),declare(\"authentication\",\"/js/vr/authentication.v.1.js\"),declare(\"ui.select\",\"/js/ui/select.js\"),declare(\"ui.popup\",\"/js/ui/popup.js\"),declare(\"ui.hotcity\",\"/js/ui/hotcity.js\"),declare(\"$calendar\",\"/js/ui/calendar.v.6.js\"),declare(\"ui.suggestion\",\"/js/ui/suggestion.v.1.js\"),declare(\"ui.player\",\"/js/ui/player.v.1.js\"),declare(\"sgcal\",\"/js/vr/sgcal.js\"),declare(\"sgcal2\",\"/js/vr/sgcal2.js\"),declare(\"canvas_ie8\",\"/js/excanvas.min.js\"),declare(\"$.jqplot\",\"/js/jquery.jqplot.min.v.1.js\"),declare(\"$.jqplot.DateAxisRenderer\",\"/js/jplot/jqplot.dateAxisRenderer.min.js\"),declare(\"$.jqplot.Highlighter\",\"/js/jplot/jqplot.highlighter.min.js\"),declare(\"$.jqplot.PointLabels\",\"/js/jplot/jqplot.pointLabels.min.js\"),declare(\"$.jqplot.cursor\",\"/js/jplot/jqplot.cursor.min.js\"),declare(\"$.jqplot.all\",\"/js/jplot/jqplot.all.min.js\"),declare(\"juicer\",\"/js/lib/juicer-min.js\"),declare(\"StringUtils\",\"/js/string_utils.min.v.1.js\"),declare(\"SogouNotify\",\"/js/sogou_notify.min.v.0.1.js\"),declare(\"XmlUtils\",\"/js/xml_utils.min.v.1.js\"); /*file=static/js/sogou_common2_abtest.js*/function getDomain(){var e=document.domain;if(e){if(e.indexOf(\"sogou.com\")==e.length-9)return\".sogou.com\";if(e.indexOf(\"soso.com\")==e.length-8)return\".soso.com\";if(-1!=e.indexOf(\"sogo.com\"))return\".sogo.com\"}}var $s=function(){var r={};r.ext_js=\"/js/sext.v.1.js\";var c,e,t,s=r.$d=document,a={};function u(e,t,o){var n=this,i=Array.prototype.slice.call(arguments,3);if(\"function\"==typeof window[e])\"1\"==a[t]?(a[t]=\"2\",\"function\"==typeof o&&o.apply(n,i)):\"2\"==a[t]&&\"function\"==typeof o&&o.apply(n,i),window[e].apply(n,i);else{if(!a[t]){var r=s.createElement(\"script\");a[t]=\"1\",r.type=\"text/javascript\",r.charset=\"gbk\",r.src=t,$s.ua&&$s.ua.ie6?setTimeout(function(){$s.$h().appendChild(r)},50):$s.$h().appendChild(r)}i=Array.prototype.slice.call(arguments,0),setTimeout(function(){u.apply(n,i)},50)}}return r.cjs=u,r.$=function(e){return s.getElementById(e)},r.$$=function(e,t){return e?e.getElementsByTagName(t):s.getElementsByTagName(t)},r.$b=function(e,t,o,n){if(e){if(n&&void 0!==n&&1==o.length)return void setTimeout(function(){var e=r.viewport;r.viewport=function(){return{width:1400}},o[0](),r.viewport=e},1);for(var i in t)window.attachEvent?e.attachEvent(\"on\"+t[i],o[i]):e.addEventListener(t[i],o[i],!1)}},r.$c=function(e,t,o,n,i){var r=s.createElement(e);return n&&(r.type=\"text/javascript\",i&&(r.charset=i),r.src=n),t&&t.appendChild(r),o&&(r.className=o),r},r.$h=function(){return r.$$(s,\"head\")[0]},r.t=function(){return(new Date).getTime()},r.ua=function(){var e=window.navigator.userAgent.toLowerCase(),t={};if(window.opera)t.opera=!0;else if(-1!=e.indexOf(\"msie\")){t.ie=!0;var o=/msie\\s+(.)/.exec(e);o&&(t[\"ie\"+o[1]]=!0)}else-1!=e.indexOf(\"webkit\")?(t.webkit=!0,-1!=e.indexOf(\"chrome\")?t.chrome=!0:-1!=e.indexOf(\"ipad\")?(t.ipad=!0,t.ios=!0):-1!=e.indexOf(\"safari\")&&(t.safari=!0)):-1!=e.indexOf(\"gecko\")&&(t.gecko=!0,-1!=e.indexOf(\"firefox\")&&(t.firefox=!0));return-1!=e.indexOf(\"se 2.x\")&&(t.se=!0),-1!=e.indexOf(\"android\")&&(t.and=!0),-1!=e.indexOf(\"iphone\")&&(t.ios=!0),t}(),r.wait=function(e,t,o){var n=$s.$(e);if(n)return t(n);void 0===o?o=1e3:o-=1,o&&setTimeout(function(){r.wait(e,t,o)},100)},r.preload=function(e){if($s.ua.ie||$s.ua.opera){(new Image).src=e}else{if(void 0===s.body||!s.body)return void setTimeout(\"$s.preload('\"+e+\"')\",50);var t=s.createElement(\"object\");t.data=e,t.width=0,t.height=0,s.body.appendChild(t)}},r.extend=function(e){u(\"$s_ext\",$s.ext_js,e)},r.cls=function(e,t,o){if(e){var n=e.className;n=n.replace(t,\"\"),o&&(n=n+\" \"+t),e.className=n.replace(/\\s+/g,\" \")}},r.viewport=function(){var e=window,t=\"inner\";return\"innerWidth\"in window||(t=\"client\",e=s.documentElement||s.body),{width:e[t+\"Width\"],height:e[t+\"Height\"]}},r.cookie=function(e,t,o,n){if(void 0===t)return(s.cookie.match(\"(^|; )\"+e+\"=([^;]*)\")||0)[2];var i=new Date,r=[e,\"=\",t];o&&(i.setTime(i.getTime()+o),r.push(\";expires=\"+i.toGMTString())),r.push(\"; path=/\"),n&&r.push(\"; domain=\"+n),s.cookie=r.join(\"\")},r.ajax=function(e){var t=e||{};if(\"string\"==typeof t.url&&\"\"!=t.url){var o,n=function(){var t=null;if(\"undefined\"!=typeof XMLHttpRequest)t=new XMLHttpRequest;else if(\"undefined\"!=typeof ActiveXObject)try{t=new ActiveXObject(\"Msxml2.XMLHTTP\")}catch(e){try{t=new ActiveXObject(\"Microsoft.XMLHTTP\")}catch(e){}}return t}();if(null!=n){t.method&&\"POST\"==t.method.toUpperCase()||(t.method=\"GET\"),\"boolean\"!=typeof t.async&&(t.async=!0),\"number\"==typeof t.timeout&&(o=setTimeout(function(){n.abort(),\"function\"==typeof t.error&&t.error({xhr:n,message:\"timeout\"})},t.timeout)),n.onreadystatechange=function(){4==n.readyState&&200==n.status?(clearTimeout(o),\"function\"==typeof t.success&&(\"xml\"==t.dataType?t.success(n.responseXML):t.success(n.responseText))):4==n.readyState&&(clearTimeout(o),\"function\"==typeof t.error&&t.error({xhr:n,message:\"failure\"}))},n.open(t.method,t.url,t.async);var i=\"\";if(\"POST\"==t.method.toUpperCase())if(n.setRequestHeader(\"Content-Type\",\"application/x-www-form-urlencoded\"),\"string\"==typeof t.data)i=t.data;else if(\"object\"==typeof t.data){for(var r in t.data)i+=r+\"=\"+t.data[r]+\"&\";\"\"!=i&&(i=i.substr(0,i.length-1))}n.send(i)}}},r.httpsUtil={isHttps:c=\"https:\"==location.protocol.toLowerCase(),getCdnImgLink:function(e){if(!e)return\"\";if(!c||-1==e.indexOf(\"http://\")||0==e.indexOf(\"https://\"))return e;var t=\"https://img0\"+(Math.abs(function(e){var t=0;if(0==e.length)return t;for(var o=0;o<e.length;o++)t=(t<<5)-t+e.charCodeAt(o),t&=t;return t}(e)%4)+1)+\".sogoucdn.com\",o=/^\\s*http:\\/\\/www\\.sogou\\.com/g,n=/^\\s*http:\\/\\/img\\d*\\.sogoucdn\\.com/g,i=/^\\s*http:\\/\\/img\\d*\\.store\\.sogou\\.com/g,r=/^\\s*http:\\/\\/imgstore\\d*\\.cdn\\.sogou\\.com/g,s=/^\\s*http:\\/\\/cmc\\.imgstore\\.cdn\\.sogou\\.com/g,a=/^\\s*http:\\/\\/pic\\d*\\.sogoucdn\\.com/g;return o.test(e)?e.replace(o,\"\"):n.test(e)?e.replace(n,t):i.test(e)?e.replace(i,t):r.test(e)?e.replace(r,t):s.test(e)?e.replace(s,t):a.test(e)?e.replace(a,t):t+\"/v2/thumb?created_by=js_web&t=2&url=\"+encodeURIComponent(e)+\"&appid=200580\"},getPingbackHost:function(){return c?\"https://pb.sogou.com\":\"http://pb.sogou.com\"},getWebCdnHost:function(){return c?\"https://dlweb.sogoucdn.com\":\"http://dlweb.sogoucdn.com\"},getUrl:function(e){var t=e;if(e){var o=document.createElement(\"a\");o.href=e,t=(t=o.href).replace(/https?:/i,location.protocol.toLowerCase()),o=null}return t},transformUrl:function(){var e,t,o,n,i=[\"/reventondc/transform?key=\"+window.encodeURIComponent(window.oldQuery),\"uuid=\"+window.uuid,\"type=2\"],r={};for(e=0;e<arguments.length;e++)if(\"string\"==typeof(t=arguments[e]))0==e&&(r.objid=t),1==e&&(r.userarea=t),2==e&&(r.url=t),3==e&&(r.charset=t);else if(\"object\"==typeof t)for(o in t)r[o]=t[o];if(!c)return r.url;for(o in r)n=r[o],i.push(o+\"=\"+(n?window.encodeURIComponent(n):n));return i.join(\"&\")}},r.domainUtil=(e=window.location.hostname,t=!1,window.domainMapping&&window.domainMapping.replace(/(^\\s*)|(\\s*$)/g,\"\")&&(t=!0),{hostName:e,logoName:t?\"sogo\":\"sogou\",isSogo:t,isSogoDomain:t?1:0,replaceSogoDomain:function(e){return window.domainMapping&&/[^\\/]sogou\\.com\\/?$/.test(e)&&e&&e.replace(/(^\\s*)|(\\s*$)/g,\"\")&&~domainMapping.indexOf(\";\"+e+\";\")?\"wap.sogou.com\"===e?\"m.sogo.com\":e.replace(\".sogou.com\",\".sogo.com\"):e}}),r}();function uigsPB(){}var sogou_preview=function(e,t){$s.cjs(\"sogou_preview_swap\",\"/js/preview2.v.3.js\",null,e,t)};function dissatisfied(e,t){var o,n=$s.$(e),i=$s.httpsUtil.isHttps,r=location.protocol+\"//fankui.sogou.com\";n.target=\"_blank\",n.scenehtml.value=\"\",n.url=location.href,t?(n.queryurl&&(n.queryurl.name=\"urlword\"),n.method=\"get\",i?(n.action=\"/submit\",n.targeturl&&(n.targeturl.value=r+\"/index.php/web/web/index/type/1\")):n.action=r+\"/index.php/web/web/index/type/1\"):(n.urlword&&(n.urlword.name=\"queryurl\"),n.action=r+\"/index.php/web/web/index/type/4\",n.method=\"post\",n.scenehtml.value=0==(o=document.documentElement.outerHTML).length?\"\":o.replace(/&/g,\"&amp;\").replace(/</g,\"&lt;\").replace(/>/g,\"&gt;\").replace(/\\s/g,\"&nbsp;\").replace(/\\'/g,\"&#39;\").replace(/\\\"/g,\"&quot;\")),n.submit()}var noresize=!1;function fixBodyClass(){try{if($s.$(\"sugc\")){var e=$s.$(\"sugc\").parentNode.parentNode;e.style.display=\"none\",$s.cls($s.$(\"querybox_up\"),\"sugg-open\"),(e=$s.$(\"sugg_iframe\"))&&(e.style.display=\"none\")}if(noresize)return;SgConst.common.viewportWideSize?$s.cls(document.body,\"vr1024\",$s.viewport().width<SgConst.common.viewportWideSize):$s.cls(document.body,\"vr1024\",$s.viewport().width<1281)}catch(e){}}var timeoutId=-1,fix=function(){-1!=timeoutId&&clearTimeout(timeoutId),timeoutId=setTimeout(function(){fixBodyClass(),timeoutId=-1},20)};$s.ua.ios||$s.ua.and||$s.$b(window,[\"resize\"],[fix]);var ime_s=function(e,t){$s.cjs(\"sogou_ime_dispatch\",\"/js/ime_addr_dispatch2.v.2.2.js\",null,e,t)};function search(e){var t=document.searchForm;return t.query.value=e,t.submit(),!0}function searchWenwen(){$s.$(\"insite\").value=\"wenwen.sogou.com\"}function searchInsite(e){$s.$(\"insite\").value=e}function createWord(){window.open(\"https://baike.sogou.com/createTitle.v?&ch=sogo.search\"),event.preventDefault(),event.stopPropagation()}function searchSogou(e){$s.$(\"insite\").value=\"\",e&&(\"wenwen.sogou.com\"==e||\"zhihu.com\"==e||\"zhinan.sogou.com\"==e)&&$s.$(\"pid\")&&($s.$(\"pid\").value=\"\")}function s(e,t,o){var n=document.searchForm.query,i=\"\"+e.href,r=encodeURIComponent(n.value);0<i.indexOf(\"kw=\")?e.href=i.replace(new RegExp(\"kw=[^&$]*\"),\"kw=\"+r):e.href+=\"?p=\"+t+\"&kw=\"+r,o&&0<o.length&&(e.href+=\"#\"+o)}function sogou_adclk(e,t){return\"undefined\"!=typeof uigs_para&&\"undefined\"!=typeof sogou_last_mousedown_time&&(t.href=t.href+\"&ml=\"+uigs_para.mml+\"&mc=\"+((new Date).getTime()-sogou_last_mousedown_time)),!0}var escapespacial={\"¤\":\"%A1%E8\",\"§\":\"%A1%EC\",\"¨\":\"%A1%A7\",\"°\":\"%A1%E3\",\"±\":\"%A1%C0\",\"·\":\"%A1%A4\",\"×\":\"%A1%C1\",\"à\":\"%A8%A4\",\"á\":\"%A8%A2\",\"è\":\"%A8%A8\",\"é\":\"%A8%A6\",\"ê\":\"%A8%BA\",\"ì\":\"%A8%AC\",\"í\":\"%A8%AA\",\"ò\":\"%A8%B0\",\"ó\":\"%A8%AE\",\"÷\":\"%A1%C2\",\"ù\":\"%A8%B4\",\"ú\":\"%A8%B2\",\"ü\":\"%A8%B9\",\"+\":\"%2B\"};function rescape(e){var t=\"\";if(void 0===e)return t;for(var o=0;o<e.length;o++){var n=e.charAt(o);void 0!==escapespacial[n]?t+=escapespacial[n]:t+=escape(n)}return t}function navBar(e,t,o){var n=e.href.split(t),i=$s.$(\"searchForm\").query.value;o&&(i=encodeURIComponent(i)),e.href=[n[0],t,i,\"&\",n[1].split(\"&\").slice(1).join(\"&\")].join(\"\")}function clickHide(e,t,o,n){var i,r=!1;if(e.onmouseover=function(){},e&&t){function s(){r?r=!1:\"none\"!=t.style.display&&(uigsPB(\"intclose_\"+n),t.style.display=\"none\")}e.onclick=function(){return r=!0,\"none\"!=t.style.display?(uigsPB(\"intclose_\"+n),t.style.display=\"none\"):(uigsPB(\"intmore_\"+n),t.style.display=\"block\"),!1},t.onmouseout=e.onmouseout=function(){clearTimeout(i),i=setTimeout(s,100)},t.onmouseover=e.onmouseover=function(){clearTimeout(i)},$s.$b(document.body,[\"click\"],[s])}}var queryList=[\"upquery\",\"bottom_form_querytext\"];for(i=0;i<queryList.length;i++)$s.wait(queryList[i],function(t){var o=$s.$$(t.parentNode,\"a\")[0];if(o&&o.style){!function e(){o.style.visibility=t.value?\"visible\":\"hidden\",setTimeout(e,100)}(),o.onclick=function(){return t.value=\"\",t.setAttribute(\"ov\",\"\"),setTimeout(function(){t.focus()},100),uigsPB(\"clearImg\"+t.id),!1}}});var wendaList=[],smallImageList=[],imageSuccessList=[];function vrimg_error(e,t){e.onerror=null;var o=$s.httpsUtil.getPingbackHost()+\"/pv.gif?uigs_productid=webapp&type=imgerror&src=\"+encodeURIComponent(e.src),n=(new Date).getTime(),i=window.location.href;o=o+\"&t=\"+n+\"&pl=\"+encodeURIComponent(i),(new Image).src=o;var r=t||\"images/vr/err.gif\";return e.src=r,!0}function focusInput(e){var t=e.parentNode.parentNode.parentNode;e.onblur=function(){$s.cls(t,\"querybox-focus\")},e.onfocus=function(){$s.cls(t,\"querybox-focus\",!0),void 0!==uigsPB&&uigsPB(e.getAttribute(\"id\"))},e.getAttribute(\"ov\")&&setTimeout(function(){e.value!=e.getAttribute(\"ov\")&&(e.value=e.getAttribute(\"ov\")),$s.$(\"searchForm\").setAttribute(\"reseted\",1)},50),$s.cls(t,\"querybox-focus\",!0),void 0!==uigsPB&&uigsPB(e.getAttribute(\"id\"))}function uigsPBA(e,t,o,n){(e=e||{}).uigs_productid=o||\"webapp\",e.type=t||\"\",(new Image).src=getParaFromJson(e,n?$s.httpsUtil.getPingbackHost()+\"/cl.gif\":$s.httpsUtil.getPingbackHost()+\"/pv.gif\")}function jsonp(e,t,o){if(e&&t){var n,i,r=(o=o||{}).callbackName||\"sogoup\"+(new Date).getTime()%1e4+Math.floor(1e4*Math.random()),s=!1;window[r]=function(){uigsPBA({cost:(new Date).getTime()-n.getTime(),url:e},\"interface_speed\"),s||t.apply(this,arguments)},e=(e=getParaFromJson(o.data,e))+(0<e.indexOf(\"?\")?\"&\":\"?\")+(o.jsonp||\"cb\")+\"=\"+r,(i=document.createElement(\"script\")).async=!0,o.charset&&(i.charset=o.charset),i.src=e,document.body.appendChild(i),n=new Date,o.timeout&&setTimeout(function(){s=!0},o.timeout)}}function getParaFromJson(e,t){if(\"object\"!=typeof e)return t;for(var o in t=t?[t+(0<t.indexOf(\"?\")?\"\":\"?\")]:[],e)e.hasOwnProperty(o)&&t.push(o+\"=\"+encodeURIComponent(e[o]));return t.join(\"&\")}function sogouShare(){}!function(){try{if(!window.external||!window.external.util)return;var e=window.external.util(\"hid\");if(!e)return;var t=(o=\"YYID\",0<document.cookie.length&&-1!=(n=document.cookie.indexOf(o+\"=\"))?(n=n+o.length+1,-1==(i=document.cookie.indexOf(\";\",n))&&(i=document.cookie.length),unescape(document.cookie.substring(n,i))):\"\");t&&t==e||function(e,t,o,n){var i=new Date;i.setFullYear(i.getFullYear()+10);var r=i.toUTCString();document.cookie=[e,\"=\",escape(t),\";expires=\",r,\";domain=\",o,\";path=\",n].join(\"\")}(\"YYID\",e,getDomain(),\"/\")}catch(e){}var o,n,i}(),function(){function e(e,t,o){var n=new Date;n.setTime(n.getTime()-1e4),document.cookie=[e,\"=a;expires=\",n.toGMTString(),\";domain=\",t,\";path=\",o].join(\"\")}if(e(\"LSTMV\",getDomain(),\"/\"),e(\"LCLKINT\",getDomain(),\"/\"),\"undefined\"!=typeof sst){var o=!0;$s.$b($s.$d,[\"click\"],[function(e){if(o){var t=$s.t()-sst.h_e;n(\"LSTMV\",e.clientX+\",\"+e.clientY,getDomain(),\"/\"),n(\"LCLKINT\",t,getDomain(),\"/\"),o=!1}}])}function n(e,t,o,n){var i=new Date;i.setFullYear(i.getFullYear()+10);var r=i.toUTCString();document.cookie=[e,\"=\",escape(t),\";expires=\",r,\";domain=\",o,\";path=\",n].join(\"\")}}(),define(\"\",[\"$\"],function(d){d(document).ready(function(){String.prototype.codePointAt||function(){\"use strict\";function t(e){if(null==this)throw TypeError();var t=String(this),o=t.length,n=e?Number(e):0;if(n!=n&&(n=0),!(n<0||o<=n)){var i,r=t.charCodeAt(n);return 55296<=r&&r<=56319&&n+1<o&&56320<=(i=t.charCodeAt(n+1))&&i<=57343?1024*(r-55296)+i-56320+65536:r}}if(Object.defineProperty)try{Object.defineProperty(String.prototype,\"codePointAt\",{value:t,configurable:!0,writable:!0})}catch(e){String.prototype.codePointAt=t}else String.prototype.codePointAt=t}();function e(e){var t=d(e),o=t.val(),n=t.attr(\"len\");if(r(o)>n){var i=function(e){var t=0;if(document.selection){var o=document.selection.createRange();o.moveStart(\"character\",-e.value.length),t=o.text.length}else!e.selectionStart&&\"0\"!=e.selectionStart||(t=e.selectionStart);return t}(e);o=s(o,n),t.val(o),function(e,t){if(e.setSelectionRange)e.focus(),e.setSelectionRange(t,t);else if(e.createTextRange){var o=e.createTextRange();o.collapse(!0),o.moveEnd(\"character\",t),o.moveStart(\"character\",t),o.select()}}(e,i),u(o)}}var r=function(e){e+=\"\";for(var t,o=0,n=0;n<e.length;n++)e.charAt(n),0<=(t=e.codePointAt(n))&&t<=255?o++:(o+=2,65535<t&&n++);return o},s=function(e,t){for(var o,n,i=\"\",r=0,s=0,a=!1;!a;)o=e.charAt(s),t<(r+=0<=(n=e.codePointAt(s))&&n<=255?1:2)?a=!0:e.codePointAt(s)<=65535?(i+=o,s++):(i+=o+e.charAt(s+1),s+=2);return i},i=function(e){for(var t,o=[],n=0;n<e.length;n++)t=e.charAt(n),e.codePointAt(n)<=65535?o.push(t):(o.push(t+e.charAt(n+1)),n++);return o},t=!1,a=d(\"#keywordsTips\"),c=d(\"#keywordsTipsStrong\"),u=new function(o){var n;return function(e){var t=i(e);c.text(t.slice(t.length-3).join(\"\")),a.show(),clearTimeout(n),n=setTimeout(function(){a.fadeOut(\"slow\")},o)}}(1500);d(\"#upquery\").on(\"input propertychange\",function(){t?r(d(this).val())>d(this).attr(\"len\")&&u(d(this).val()):e(this)}).on(\"compositionstart\",function(){t=!0}).on(\"compositionend\",function(){t=!1,e(this)})})});  /*file=static/js/https_click.js*/define(\"https_click\",[\"$\"],function(e){if(\"https:\"==location.protocol){e(document).delegate(\"a\",\"mousedown\",function(){var t=e(this),o=t.attr(\"href\");o&&-1!=o.indexOf(\"http://www.sogou.com/link?\")&&/Chrome|Safari/.test(navigator.userAgent)&&(o=o.replace(/^http:\\/\\/www\\.sogou\\.com/,\"https://www.sogou.com\"),t.attr(\"href\",o))})}});   /*file=static/js/extendJQueryAjax.js*/define(\"\",[\"$\",\"$s\"],function(t,a){var o=t.ajax;t.ajax=function(i){var e,p;return p={speedStartTime:0,beforeSend:function(e){},complete:function(e,t){}},i.beforeSend&&(p.beforeSend=i.beforeSend),i.complete&&(p.complete=i.complete),e=t.extend(i,{beforeSend:function(e){if(this.speedStartTime=(new Date).getTime(),a.httpsUtil.isHttps&&void 0!==i.url&&0==i.url.indexOf(\"http://\")){var t=location.href,o=\"undefined\"!=typeof oldQuery?oldQuery:\"\",n=[a.httpsUtil.getPingbackHost()+\"/pv.gif?uigs_productid=webapp&type=https_error_report&stype=ajaxerror&info=\",encodeURIComponent(i.url),\"&pageurl=\"+encodeURIComponent(t),\"&query=\",encodeURIComponent(o)].join(\"\");(new Image).src=n}p.beforeSend.apply(this,arguments)},complete:function(e,t){var o=this.speedStartTime,n=(new Date).getTime(),r={startTime:o,endTime:n,time:n-o,portUrl:i.url};i.vrid&&(r.vrid=i.vrid),function(e){var t=new Image,o=a.httpsUtil.getPingbackHost()+\"/pv.gif?uigs_productid=webapp&type=speed&stype=port&\",n=[];for(var r in e.page=window.location.href,e)e.hasOwnProperty(r)&&n.push(r+\"=\"+encodeURIComponent(e[r]));t.src=o+n.join(\"&\")}(r),p.complete.apply(this,arguments)}}),o(e)}});  /*file=static/js/vr.js*/define(\"vr\",[\"$s\"],function(e){var i={},l=[];return i.add=function(n,o,t){l.push(arguments)},i.show=function(){var n,o,t;if((o=e.$(\"bodywithouttopform\"))&&\"block\"!=o.style.display)setTimeout(i.show,50);else for(n=0;n<l.length;n++)t=\"vr.tpl\"+l[n][0],declare(t,\"inline\"),define(\"\",[t],function(o){return function(n){try{n.apply(this,o)}catch(n){window.console&&window.console.log(n)}}}(l[n]))},i}); var kmap_qa_link=0,kmap_stas_type=0,kmap_qa_dis_type=0;\n",
      "        var has_schoolagg = 0,has_dramaagg = 0, has_downmovieagg = 0, has_personagg = 0, has_musicagg = 0, has_videoagg = 0, has_zhuzuoagg = 0,  fakePos = -1, fakeId = -1, qazhuzuoPage = 1;   function initEndorseShow2(endorseJo,commentsJo){\n",
      "            if(!commentsJo) return;\n",
      "            var docid = commentsJo.docid;\n",
      "            if(!docid) return;\n",
      "            document.getElementById(docid).parentNode.style.display = \"none\";\n",
      "        }\n",
      "        var sogouHost = \"doc12.web.1.hb.ted\";\n",
      "        if(typeof JSON == \"undefined\" || !JSON){\n",
      "            var jsonScript =document.createElement(\"script\");\n",
      "            jsonScript.src = \"/js/comment/json2.v.1.0.js\";\n",
      "            document.getElementsByTagName('head')[0].appendChild(jsonScript);\n",
      "        }   var ad_policy_no = \"0\";\n",
      "        var lead_ip = \"\";   var bing_statistic_params = {page:\"common\",google:\"hide\",english_nav:\"hide\",english_entrance:\"hide\",banner:\"hide\",brand:\"hide\",bing_use:\"none\",is_hunpai:\"no\"};    bing_statistic_params.english_nav = \"show\";  bing_statistic_params.bing_use = \"none\";  bing_statistic_params.is_hunpai = \"yes\";   var bing_uigs_cl_url = \"//:pb.sogou.com/cl.gif?uigs_productid=webapp&stype=bing_statistics&abtest=5&uid=&is_hit=false&bing_use=\"+bing_statistic_params.bing_use+\"&uuid=76579b96-4df3-4e2a-8551-ed30dcd839da&t=\"+(+new Date);\n",
      "        var is_show_from_google = false, is_show_translate_page = true;   window.suggestionPersonalCenterSwitch = \"on\";\n",
      "\n",
      "        var newpage=1;function call_cloud(a){setTimeout(function(){call_cloud(a)}, 500);}\n",
      "        var final_info = null;\n",
      "        sst.h_e=$s.t();</script><link rel=\"shortcut icon\" href=\"/images/logo/new/favicon.ico?nv=1&v=3\" type=\"image/x-icon\"><link rel=\"search\" type=\"application/opensearchdescription+xml\" href=\"/content-search.xml\" title=\"搜狗搜索\"><title>hi - 搜狗搜索</title> <script>(function(){if(typeof sogou != 'undefined' && typeof sogou.WebReportSpeed != 'undefined'){sogou.WebReportSpeed.setBeforeBody();}})();</script> <script>(function(){if(typeof sogou != 'undefined' && typeof sogou.WebReportSpeed != 'undefined'){sogou.WebReportSpeed.setBeforeHeadJs();}})();</script> <script>(function(){if(typeof sogou != 'undefined' && typeof sogou.WebReportSpeed != 'undefined'){sogou.WebReportSpeed.setAfterHeadJs();}})();</script> <script>(function(){if(typeof sogou != 'undefined' && typeof sogou.WebReportSpeed != 'undefined'){sogou.WebReportSpeed.setBeforeHeadCss();}})();</script>  <!-- vr external css -->  <!-- vr external css end-->   <link rel=\"stylesheet\" type=\"text/css\" href=\"//dlweb.sogoucdn.com/pcweb/static/css/search.68a406c3.css\">   <style>.vr1024 .kmapli4,   /*file=static/css/qc.css*/.topqc{font-size:14px;margin-bottom:17px}.topqc a,.topqc a em{text-decoration:underline}.illegal{background:url(../images/icon!.gif) no-repeat;line-height:1.5;margin:0 0 20px 0;padding-left:28px;padding-top:2px;font-size:14px}.topqc2{color:#999;margin-bottom:17px}.norsbox{font-size:14px}.norsor{margin-bottom:18px;font-weight:bold}.norsinfo{line-height:2;margin-top:7px}.linkhead{font-size:14px;line-height:2;margin:0 0 16px}/* CSS Document *//* msg.css *//* CSS Document */.vrTips{margin-top:1px;padding-bottom:12px;font-size:14px;line-height:22px}.vrTips a em{text-decoration:underline}.vrTips .filter_box{margin-bottom:0}.vrTips .filter_box a{margin:0}.vrTips .filter_box p{font-size:12px;padding-left:1px}.vrTips h4{font-size:13px;line-height:20px}.icon_noRes{line-height:22px;padding-left:28px;background:url(../images/tips.gif) no-repeat;margin-bottom:36px}.noResList{margin-left:25px;margin-top:1px;list-style-type:decimal}.noResList li{padding:1px 0;list-style-type:decimal}.mg_9{margin-bottom:9px}.tips_p1{padding-top:17px}.tips_p1 p{margin-bottom:7px}.vrTips .p13{font-weight:normal;margin-left:5px;font-size:13px}.icon_find{padding-left:21px;background:url(../images/ico_zhanzhang_srch.gif) no-repeat 0 2px;height:22px}.vrTips .tips_p2{padding-left:21px;font-size:13px}.tips_p1.no_mg{padding-top:0}.vrTips .nosrch-tit{font-size:14px;font-weight:bold;padding:32px 0 0;line-height:20px}          .vr1024 .kmapli3{display:none}.atAdPiclist{height:auto;overflow:visible}     /*file=static/css/right_lead.css*/.picad{padding-bottom:5px}        /*file=static/css/ellipsis_tips.css*/.omission{margin-left:10px}.laws{font-style:italic;font-size:medium;margin:10px;color:#666}    /*file=static/css/orderblack_tip.css*/.requerytip{font-weight:bold;margin:16px 13px}     /*file=static/css/cacheresult.css*/.vrbox table{border-collapse:collapse}.vrc{padding-right:10px}        .strBox{zoom:1}.strBox:after,.str-pd-box:after,.str_time:after{clear:both;display:block;content:''}.str_img{border:1px solid #ebebeb;position:relative;float:left;overflow:hidden;margin-right:11px;_margin-right:8px;margin-bottom:5px;margin-top:5px;zoom:1;z-index:0}.str_div{float:left;padding-bottom:5px;margin-right:12px;_margin-right:8px}.str_div .str_img{margin-bottom:0;margin-right:0}.str_img img{vertical-align:top;position:relative}.str_info{line-height:20px;padding:1px 0;overflow:hidden}.size_120_135{width:120px;height:135px}.size_120_90,.tv_120_90{width:120px;height:90px}.size_90_90{width:90px;height:90px}.size_120_120{width:120px;height:120px}.tv_120_90{background:#000}.size_120_80{width:120px;height:80px}.tv_120_90:hover img{opacity:.5;filter:alpha(opacity=50)}.str_time{color:#999;line-height:22px;overflow:hidden;zoom:1}.str_time a:visited{color:#741274}.tv_play{width:40px;height:40px;overflow:hidden;background:url(../images/strPlay.png) no-repeat;_background:none;_filter:progid:DXImageTransform.Microsoft.AlphaImageLoader(src=images/strPlay.png, sizingMethod=crop);position:absolute;top:50%;left:50%;margin:-20px 0 0 -20px;z-index:1}.tv_120_90:hover .tv_play{background:url(../images/strPlay-hover.png) no-repeat;_background:none;_filter:progid:DXImageTransform.Microsoft.AlphaImageLoader(src=images/strPlay-hover.png, sizingMethod=crop)}.strLink{line-height:22px;padding-top:1px}.strLink a{text-decoration:none;color:#00c}.strLink span{margin:0 8px}.strLink a:hover{text-decoration:underline}.strLink a:visited{color:#741274}/*Quality*/.qaBox{padding:10px 0 0;border-top:1px solid #f2f2f2}.qaList{margin:0 0 10px}.qaList dt,.qaList dd{background:url(../images/qa_ico.gif) no-repeat 0 5px}.qaList dt{line-height:26px;font-size:16px;padding:0 0 5px 21px}.qaList dt a{text-decoration:none}.qaList dt a:hover{text-decoration:underline}.qaList dd{line-height:24px;background-position:0 -33px;padding:1px 0 1px 21px;font-size:14px}.qaList dd a{color:#7777cc;text-decoration:none;white-space:nowrap;word-break:normal;word-wrap:normal;font-size:13px;margin-left:5px}.qaList dd a:hover{text-decoration:underline}.qaLists li{line-height:20px;zoom:1;padding:1px 0;height:20px}.qaLists li:after{display:block;clear:both;content:'';width:100%}.qaLists a{display:inline-block;max-width:320px;height:20px;line-height:20px;overflow:hidden;white-space:nowrap;word-break:normal;text-overflow:ellipsis;float:left}.qaLists a:visited,.qaList a:visited{color:#741274}.qaLists span{color:#999999;height:20px;line-height:20px}.qaLists a,.qaLists a em,.qaList dt a em{text-decoration:none}.qaLists a:hover,.qaLists a:hover em,.qaList dt a:hover em{text-decoration:underline}.str-dl-list{clear:both;line-height:22px}.str-dl-list span{color:#999}.str-ul-list a:visited,.str-tv-list a:visited,.str-list-v3 a:visited{color:#741274}.str-ul-list,.str-tv-list{padding:2px 0 0 0}.str-ul-list{clear:both;zoom:1}.str-ul-list li,.str-tv-list li{padding-left:8px}.str-ul-list li,.str-tv-list li,.str-list-v3 li{height:22px;zoom:1;color:#999;line-height:22px;overflow:hidden}.str-ul-list li span,.str-tv-list li span,.str-list-v3 li span{float:right;display:inline-block;text-align:right}.str-ul-list li i,.str-tv-list li i,.str-list-v3 li i{float:right;display:inline-block;font-style:normal;padding-right:20px}.str-tv-list li i{padding-right:20px}.str-tv-list{padding:0}.str-tv-list li{padding:0;overflow:hidden}.str-tv-list li span{width:48px;display:block;height:22px}.new-ul-list{padding:0}.str-ul-list a em,.str-list-v3 a em{text-decoration:underline}.str_time a{margin-right:10px}.str_time a em{text-decoration:underline}.str_time span{margin:0 17px 0 7px}.str_time strong{color:#008000;font-weight:normal;margin-right:8px}.tag-video{display:inline-block;width:23px;height:13px;background:url(/images/structure/icon-video.jpg) 0 0 no-repeat;vertical-align:middle}.str_time .wx-placeholder{margin:0 4px}.str-ul-list strong{color:#008000;font-weight:normal;margin-left:8px}.str-ul-list .tag-gray{color:#999}.str_info .gray-font,.gray-font{color:#666}.str_time .rt-time{float:right;margin:0;text-align:right;color:#999}.str_time .rt-qa{float:right;margin:0;padding-right:20px;color:#999}.str-pd-box{padding-left:8px;zoom:1}.str-pd-none{padding-left:0}.str-pd-box .str-ul-list li{padding-left:0}.layout-pl{padding-left:8px}.str_info .tag-video{margin-right:8px}.str_info .tag-time{display:inline-block;vertical-align:middle;color:#999}.post-bar{border:1px solid #eeeeee;padding:10px;zoom:1;margin:5px 0}.aggrBox .post-bar{border:none}.post-bar:after{clear:both;content:'';display:block}.size_120_120{width:120px;height:120px;overflow:hidden}.post-bar-num{line-height:22px;border-bottom:1px solid #eee;padding:5px 0;margin-bottom:5px;color:#666}.post-bar-num span{margin-right:40px}.bar-list{margin-bottom:1px\\9}.bar-list li{line-height:22px;padding-bottom:5px;padding-bottom:4px\\9;overflow:hidden;padding-top:0;padding-top:1px\\9}.bar-list li span{float:right;color:#999}.bar-list li a,.bar-list li a em{text-decoration:none;zoom:1}.bar-list li a:hover,.bar-list li a:hover em{text-decoration:underline}.bar-list li a:visited{color:#741274}.fine,.blue-top{background:#d62828;display:inline-block;color:#fff;font-style:normal;padding:0 1px;height:14px;line-height:14px;margin-top:1px;margin-top:0\\9;margin-left:4px;line-height:15px\\9;*line-height:16px;font-size:12px;overflow:hidden;zoom:1;position:relative;z-index:0;top:2px;*top:-1px;*margin-bottom:1px}.str_time .fine,.str_time .blue-top{margin-left:0;margin-right:4px;margin-top:0}.bar-list li .blue-top{background:#66a3ff}.str-rev{line-height:22px;padding-top:1px}.str-rev span{display:inline-block}.str-rev a{zoom:1;text-decoration:none}.str-rev a:hover{text-decoration:underline}.str-rev i{font-style:normal;color:#cc0000}.text-rev{zoom:1}.str-star{width:90px;height:15px;overflow:hidden;background:url(../images/str-star.gif) repeat-x;display:inline-block;margin-right:8px;position:relative;z-index:0;top:2px;*top:-1px}.str-star span{height:15px;display:block;background:url(../images/str-star.gif) repeat-x left -22px}.rating-bar .str-star{_margin-top:4px}.str-line{display:inline-block;margin:0 8px;color:#e4e4e4}.str-num{color:#666;margin-left:20px}.str-num i{color:#333;font-style:normal}.str_info_div{overflow:hidden;padding-top:1px\\9;zoom:1}.enc-list{zoom:1;margin-right:-20px}.enc-list:after{clear:both;content:\"\";display:block}.enc-list td{float:left;width:122px;padding-right:10px;padding-bottom:2px;padding-top:5px;vertical-align:top}.list-img{display:block;border:1px solid #ebebeb;position:relative;margin-bottom:3px;zoom:1;height:90px;overflow:hidden;width:120px}.list-img img{vertical-align:top}.str-tag{position:absolute;display:block;background:url(../images/tag-skin.png) no-repeat;height:20px;line-height:20px;padding:0 6px;bottom:0;left:0;cursor:pointer;_background:none;_filter:progid:DXImageTransform.Microsoft.AlphaImageLoader(src=images/tag-skin.png, sizingMethod=crop);z-index:2;color:#fff}.enc-list td p{line-height:17px}.enc-list td a{text-decoration:none;color:#333}.enc-list td .list-img{color:#fff}.enc-list td .list-img:hover{text-decoration:none}.post-bar .mainShow{margin-top:10px}.post-bar .jzwdPage{padding:10px 0 5px}.str-rev .gray-font{color:#666}.str_tv{line-height:22px}.str_tv span{color:#666}.str-tv-list a,.str-tv-list a em,.str_time .click-down{text-decoration:none}.str-tv-list a:hover,.str_time a:hover,.str-tv-list a:hover em{text-decoration:underline}.black-skin{height:22px;line-height:22px;position:absolute;bottom:0;left:0;width:100%;background:url(../images/tag-skin.png) no-repeat;cursor:pointer;_background:none;_filter:progid:DXImageTransform.Microsoft.AlphaImageLoader(src=images/tag-skin.png, sizingMethod=crop);text-align:center;color:#fff;z-index:2;zoom:1}.str_img{color:#fff;text-decoration:none}.str_img:hover .black-skin i{text-decoration:underline}.str-c-txt{margin-right:5px;font-size:12px;position:relative;top:-1px}.str-c-txt i{font-style:normal;margin:0 2px}.pink-color{color:#f06b31;margin-right:5px;font-weight:bold}.blue-color{color:#16aee4}.gray-color{color:#666}.sco{zoom:1}/*2014.7.9*/.par-box{line-height:22px;letter-spacing:-6px}.par{padding-right:12px;padding-right:10px\\9}.par i{font-style:normal}.rise-in-price,.cut-price,.str-price,.flat-ico{color:#ef0000;font-size:16px;font-weight:bold}.rise-in-price,.cut-price,.flat-ico{padding-right:16px;background:url(../images/price-skin.gif) right 3px no-repeat}.cut-price{background-position:right -26px}.par-table td{padding-right:12px;line-height:22px}.par-box a{margin-right:10px;*margin-right:9px;text-decoration:none;font-size:13px;letter-spacing:normal}.par-box span{font-size:13px;letter-spacing:normal}.par-box a:hover{text-decoration:underline}.par-box strong{font-weight:normal;color:#e4e4e4;margin-right:10px;*margin-right:9px}.light-gray,.str-list-v4 .light-gray{color:#999}.par-more{color:#7777cc}.off-website{margin-top:5px}.off-website th{color:#999;font-weight:normal;line-height:22px}.off-website td{color:#666;line-height:22px;padding-right:20px}.str-line-v2{height:10px;overflow:hidden;border-bottom:1px solid #eeeeee;clear:both;width:100%;margin-bottom:5px}.flat-ico{background-position:right -53px}.net-table{margin:1px 0}.net-table td{padding-right:18px;line-height:20px}.net-table td a{text-decoration:none}.net-table td a:hover{text-decoration:underline}.net-table td a:visited{color:#741274}/* 20140814 */.sy-sec{padding:5px 0;zoom:1}.sy-sec:after{clear:both;content:'';display:block}.sy-sec input{border:1px solid #c2c2c2;height:26px;line-height:26px\\9;width:188px;padding:0 5px;float:left;font-size:13px;margin-right:5px;color:#333}.sy-sec a{border:1px solid #b8b8b8;border-radius:2px;display:block;height:26px;color:#333;float:left;padding:0 9px;background-color:#f9f9f9;text-decoration:none;line-height:26px;line-height:27px\\9;-webkit-box-shadow:2px 0 rgba(255,255,255,.1);box-shadow:2px 0 rgba(255,255,255,.1)}.sy-sec a:hover{background-color:#f2f2f2;border:1px solid #888888;-webkit-box-shadow:2px 0 rgba(255,255,255,.5);box-shadow:2px 0 rgba(255,255,255,.5)}.r-sech a:visited{color:#741274}/*photo*/.photo-list{border:1px solid #eeeeee;margin:5px 0}.photo-list ul{zoom:1}.photo-list ul:after{clear:both;content:'';display:block}.photo-list ul li{float:left;padding:10px 8px 5px 10px;line-height:22px;text-align:center;width:91px}.photo-img{display:block;border:1px solid #ebebeb;width:89px;height:89px;overflow:hidden}.photo-img img{display:block}.photo-list li a{text-decoration:none}.photo-list li a:hover{text-decoration:underline}.photo-list li p{width:100%;-ms-text-overflow:ellipsis;text-overflow:ellipsis;white-space:nowrap;word-wrap:normal;-ms-word-break:normal;word-break:normal;overflow:hidden}.str-play-btn{height:22px;border-radius:2px;display:inline-block;border:1px solid #c4ddff;background-color:#f4f8ff;text-decoration:none;padding:0 9px;line-height:23px;line-height:24px\\0;line-height:24px\\9;margin-right:10px;zoom:1;float:left;overflow:hidden;color:#00c}.str-play-btn i{display:inline-block;border:6px solid #f4f8ff;border-width:4px 5px;width:0;height:0;border-left-color:#94c1ff;margin-bottom:1px;margin-right:-1px;margin-right:-2px\\0;*margin-right:-2px;overflow:hidden;float:left;position:relative;top:7px;*top:6px}.str-play-btn:hover{background-color:#eff5ff;border:1px solid #7ea6f7}.str-play-btn:hover i{border:6px solid #eff5ff;border-width:4px 5px;border-left-color:#5d9afc}.str_author{color:#666;line-height:22px}.str_author a{text-decoration:none}.str_author a,.str_author span{margin-right:14px;margin-right:13px\\9}.str_author a:hover{text-decoration:underline}.novel-update{padding:3px 0 5px;line-height:24px;color:#666}.novel-update a{text-decoration:none}.novel-update a:hover{text-decoration:underline}.novel-update a:visited{color:#741274}.reading-btn{height:22px;border:1px solid #c4ddff;border-radius:2px;background-color:#f4f8ff;margin-right:7px;display:inline-block;padding:0 7px;line-height:22px;line-height:24px\\0;*line-height:24px}.novel-update .reading-btn:visited{color:#00c}.novel-update .reading-btn:hover{text-decoration:none;background-color:#eff5ff;border:1px solid #7ea6f7}.novel-update i{font-style:normal;color:#c00;margin-right:15px}.experience-list li{zoom:1;line-height:22px}.experience-list li:after{clear:both;content:'';display:block}.experience-list span,.experience-list i{float:right;font-style:normal;color:#999}.experience-list span{width:76px;text-align:right}.experience-list i{text-align:right;padding-right:20px}.experience-list a{text-decoration:none}.experience-list a:hover{text-decoration:underline}.experience-list a:visited{color:#741274}.exp-p{padding:5px 0;line-height:14px;zoom:1;overflow:hidden;color:#666}.exp-p span{margin-right:19px}.level-ico,.gold-medal{display:inline-block;width:14px;height:14px;overflow:hidden;float:left;background:url(../images/exp-skin.gif) 0 0 no-repeat;margin-right:5px}.gold-medal{background:url(../images/exp-skin.gif) 0 -34px no-repeat}.str-box-v4{border-width:1px 0;border-color:#eee;margin:5px 0;padding-bottom:5px;border-style:solid;zoom:1}.str-box-v4:after{clear:both;display:block;content:''}.rating-bar{border-bottom:1px solid #eeeeee;zoom:1;margin-bottom:5px;color:#666}.rating-bar:after{clear:both;display:block;content:''}.rating-bar li{line-height:22px;float:left;padding:5px 18px 5px 0}.rating-bar li i{font-style:normal;color:#c00}.rating-bar li a{text-decoration:none}.rating-bar li a:hover{text-decoration:underline}.rating-bar li a:visited{color:#741274}.str-list-v4 li{color:#666;line-height:20px;padding:1px 0}.str-list-v4 strong{font-weight:normal;margin-left:18px}.str-list-v4 .mg-40{margin-left:38px}.str-list-v4 span{color:#333}.str-list-v4 a{text-decoration:none}.str-list-v4 a:hover{text-decoration:underline}.str-list-v4 a:visited{color:#741274}.str-list-v4 .str-play-btn:hover{text-decoration:none}.str-list-v4 .str-play-btn:visited{color:#00c}.str-list-v4 i{color:#c00;font-style:normal}.str-list-v4 .str-star{_margin-top:2px}.str-list-v4 .mg-10{margin-right:10px}.str-list-v4 .wb-name{color:#c00;font-size:14px}.yellow-v{padding-right:19px;background:url(../images/v.gif) right 2px no-repeat}.blue-v{padding-right:19px;background:url(../images/v.gif) right -29px no-repeat}/*software*/.str-text-info{color:#666;line-height:20px;padding:1px 0;overflow:hidden}.str-text-info span{color:#333}.str-text-info a{text-decoration:none;color:#77c;white-space:nowrap}.str-text-info a:visited{color:#741274}.str-text-info a:hover{text-decoration:underline}.str-info-btn{display:inline-block;padding:0 7px;line-height:22px;line-height:24px\\0;*line-height:24px;height:22px;border:1px solid #c4ddff;border-radius:2px;background-color:#f4f8ff;text-decoration:none;float:left;margin-right:10px}.str-info-btn:hover{background-color:#eff5ff;border:1px solid #7ea6f7}/*end software*/.str-tit-6fc6eb,.str-tit-1ba91b{font-size:12px;color:#fff;height:16px;padding:0 4px;line-height:16px;overflow:hidden;display:inline-block;margin-left:5px;position:relative;z-index:-1;top:3px;*top:-2px;line-height:17px\\9}.str-tit-6fc6eb{background-color:#6fc6eb}.str-tit-1ba91b{background-color:#1ba91b}.str-list-v4 .str-play-box{overflow:hidden;padding:5px 0 5px;margin-top:-1px;line-height:23px;zoom:1}.str-list-v4 .str-play-box-v1{padding:5px 0 0;margin-top:0}.str-play-box a:visited{color:#741274}.str-score-box{color:#c00;font-style:normal}.str-list-v4 .min-link span{color:#e4e4e4;margin-right:10px}.str-list-v4 .min-link i{margin-right:10px;color:#00c}.str-list-v4 .light-gray{color:#999}.str-list-v4 .rise-in-price,.str-list-v4 .cut-price,.str-list-v4 .str-price,.str-list-v4 .flat-ico{color:#ef0000}.str-ico-box{overflow:hidden}.str-ico-box .level-ico,.str-ico-box .gold-medal{position:relative;top:3px;z-index:0}.str-tv-list .str-list-wt76{width:76px}.str_gray-link a{color:#666;margin-right:14px}.str-list-v4 .str_gray-link a:visited{color:#666}/*table*/.str-software-table{width:100%;table-layout:fixed;margin:5px 0;border-top:1px solid #f2f2f2}.str-software-table th{font-weight:normal;color:#999;text-align:left}.str-software-table th,.str-software-table td{border-bottom:1px solid #f2f2f2;padding:5px 0;line-height:22px;padding-right:25px}.str-software-table th div,.str-software-table td div{text-align:right;padding-right:5px}.str-software-table td a{text-decoration:none}.str-software-table td p{width:100%;overflow:hidden;white-space:nowrap;word-wrap:normal;-ms-word-break:normal;word-break:normal;-ms-text-overflow:ellipsis;text-overflow:ellipsis}.str-software-table td a:hover{text-decoration:underline}/*end table*/.str-text-info i{font-style:normal}.str-green-font{color:#4f8859}.str-green-skin{display:inline-block;height:18px;overflow:hidden;background-color:#63b663;color:#fff;line-height:19px;line-height:20px\\0;line-height:20px\\9;padding:0 2px;margin-right:9px;position:relative;top:-1px;vertical-align:middle}.str-ico-img{vertical-align:middle;margin-right:4px;position:relative;top:-1px}.web-btn{overflow:hidden;padding:5px 0;zoom:1}.web-btn a{display:inline-block;border:1px solid #c4ddff;border-radius:2px;background-color:#f4f8ff;padding:0 6px;height:22px;line-height:22px;overflow:hidden;text-decoration:none;float:left;margin-right:10px;*line-height:24px;color:#00c}.web-btn a:hover{border:1px solid #7ea6f7;background-color:#eff5ff}.ask-list,.str-KA-list02{margin-top:-10px;margin-bottom:-5px}.ask-list dt{line-height:24px;font-size:14px;padding-top:5px;padding-top:6px\\0;padding-top:6px\\9;*padding-top:5px;overflow:hidden}.ask-list dt a{line-height:24px}.ask-list dt a em{text-decoration:underline}.ask-list dt a:visited{color:#741274}.ask-list dt a span{display:inline-block;width:4px;height:4px;background-color:#2b9cec;margin-right:5px;position:relative;top:-3px;*top:-6px;overflow:hidden;line-height:0;_float:left;_top:10px}.ask-list dd{line-height:20px;border-bottom:1px solid #ededed;padding:0 0 5px}.ask-list dd div,.ask-list dd p{padding:1px 0}.ask-list dd p{padding-bottom:0\\0;padding-bottom:0\\9}.ask-list dd p{color:#999}.ask-list dd p span{margin:0 8px;color:#e4e4e4}.ask-list .no-line{border:0;padding-bottom:0}.ask-list dd p a{text-decoration:none;color:#999}.ask-list dd p a:hover{text-decoration:underline}.ask-list dd p a:visited{color:#999}.str-tv-list li .wt-auto,.str-ul-list li .wt-auto{width:auto}.violet-color{color:#77c}/* video */.str-video{margin-top:5px}.str-video ul{overflow:hidden;zoom:1;margin-left:-20px}.str-video ul li{width:122px;float:left;margin-left:20px;_display:inline}.str-video ul li .str-video-img{border:1px solid #f2f2f2;width:120px;height:90px;overflow:hidden;display:block;position:relative}.str-video ul li p{text-align:center;padding:2px 0 2px}.str-video ul li a{text-decoration:none;line-height:18px}.str-video ul li p a:hover{text-decoration:underline}.str-video ul li p a:visited{color:#741274}.str-video ul li .str-vipos{position:absolute;width:110px;padding:0 5px;height:20px;line-height:20px;left:0px;bottom:0px;z-index:30}.str-video ul li .str-vipos-bg{position:absolute;width:120px;display:block;height:20px;left:0px;background:#000;z-index:10;top:0;filter:alpha(opacity=50);-moz-opacity:0.5;opacity:0.5}.str-video ul li .str-vipos-txt{position:relative;z-index:20;font-size:13px;color:#fff;display:block;zoom:1}.str-video ul li .str-vipos-txt span{position:absolute;right:0px;font-family:Arial;display:inline-block;top:0}.str-video ul li .str-vipos2{width:120px;height:90px;display:none;position:absolute;z-index:20;left:0px;top:0px;background:url(../images/bg_video.png) 0 0 no-repeat;_background:none;_filter:progid:DXImageTransform.Microsoft.AlphaImageLoader(src=images/bg_video.png, sizingMethod=crop)}.str-video ul .str-video-hover .str-vipos2{display:block}.str-video ul .str-video-hover .str-vipos-bg{display:none}/*rumor*/.str-rumor-title-false,.str-rumor-title-true,.str-rumor-title-talk{line-height:30px;border-top:1px solid #f5f5f5;border-bottom:1px solid #f5f5f5;font-size:14px;padding-left:19px;font-weight:bold;margin-top:5px;background:url(../images/rumor.png) no-repeat}.str-rumor-title-false{color:#ef7474;background-position:0 8px}.str-rumor-title-true{color:#6ec444;background-position:0 -22px}.str-rumor-title-talk{color:#e9a707;background-position:0 -52px}.str-rumor{line-height:20px;padding-top:6px}.str-rumor dt{margin-bottom:4px}.str-rumor dt,.str-rumor dd{position:relative;padding-left:45px;min-height:29px;_zoom:1}.str-rumor-false,.str-rumor-true,.str-rumor-talk{display:block;position:absolute;left:0;top:0;width:34px;height:21px;line-height:21px;padding-right:4px;text-align:center;background:url(../images/rumor.png) no-repeat}.str-rumor-false{color:#e65353;background-position:0 -82px}.str-rumor-true{color:#4bb219;background-position:0 -104px}.str-rumor-talk{color:#ca8e00;background-position:0 -126px}.str-rumor  a{color:#7777cc;text-decoration:none}/*ask doctor*/.str-d150818{padding-top:5px}.str-decimal{margin-bottom:5px;margin-top:-1px;margin-top:0\\0;margin-top:0\\9}.str-decimal li{list-style-type:decimal;line-height:20px;padding:6px 0;border-bottom:1px solid #f2f2f2;list-style-position:inside}/*zhihu*/.str-KA-list02 li div span{display:inline-block;width:4px;height:4px;background-color:#2b9cec;margin-right:5px;position:relative;top:-3px;*top:-6px;overflow:hidden;line-height:0;_float:left;_top:10px}.str-KA-list02 li{line-height:20px;border-bottom:1px solid #ededed;padding:5px 0 5px;padding:6px 0 5px\\0;padding:6px 0 5px\\9;*padding:5px 0 5px}.str-KA-list02 li p{color:#999}.str-KA-list02 li div,.str-KA-list02 li p{padding:1px 0}.str-KA-list02 li div a{color:#77c;margin-left:5px}.str-KA-list02 li p{padding-bottom:0\\0;padding-bottom:0\\9}.str-KA-list02 li p{color:#999}.str-KA-list02 li p span{margin:0 8px;color:#e4e4e4}.str-KA-list02 li a{text-decoration:none}.str-KA-list02 li p a{color:#999}.str-KA-list02 li a:hover{text-decoration:underline}.str-KA-list02 li p a:visited{color:#999}.str-KA-list02 .no-line{border:0;padding-bottom:0}.str-msg{line-height:22px;color:#999;padding-top:1px\\0;padding-top:1px\\9}.str-msg a{text-decoration:none;color:#77c;margin-left:5px}.str-msg a:hover{text-decoration:underline}.str-tab{border:1px solid #cfeafb;background-color:#f9fcff}.str-tab-box{display:none}.str-tab-tit{width:100%;table-layout:fixed}.str-tab-tit td{border-bottom:1px solid #cfeafb;border-right:1px solid #cfeafb}.str-tab-tit .no-line{border-right:0}.str-tab-tit .cur{background-color:#fff}.str-tab-tit a{display:block;text-align:center;height:32px;overflow:hidden;text-decoration:none;line-height:32px;color:#666}.str-tab-box{padding:10px}.str-ka-list{overflow:hidden;zoom:1\\0;zoom:1\\9}.str-ka-list li{overflow:hidden;zoom:1\\0;zoom:1\\9;float:left;width:33%;padding:5px 0}.str-ka-img{float:left;margin-right:10px;width:58px;height:58px;border:1px solid #ebebeb;border-radius:2px;overflow:hidden}.str-ka-img img{display:block}.str-ka-img a{display:block;overflow:hidden;width:58px;height:58px}.str-ka-list a{text-decoration:none}.str-ka-list p{line-height:17px;color:#999;margin-right:5px}.str-ka-list h4{margin-bottom:4px;line-height:22px;font-weight:normal;margin-right:5px}.str-ka-list h4 a:hover{text-decoration:underline}.str-KA-down{overflow:hidden;zoom:1\\0;zoom:1\\9}.str-KA-down li{float:left;width:50%;padding:5px 0}.str-KA-info{overflow:hidden;zoom:1\\0;zoom:1\\9}.str-KA-info span{display:block;float:left;margin-right:10px;width:60px;height:60px;border:1px solid #ebebeb}.str-KA-info span img{display:block}.str-KA-txt{margin-right:5px;float:left}.str-KA-txt h4{color:#c00;font-size:14px;line-height:24px;padding-top:8px}.str-KA-txt p{line-height:22px;color:#999}.str-KA-down-btn{padding-top:10px;overflow:hidden}.str-KA-down-btn a{height:28px;line-height:28px;float:left;color:#5d9afc;background-color:#e5f2ff}.str-KA-down-btn .str-ico-down{width:16px;height:13px;background:url(../images/ka_skin.gif) 0 0 no-repeat}.str-search{height:30px;border:1px solid #0279d8;padding-right:75px;padding-left:10px;position:relative;margin:10px 0 15px}.str-search a{width:65px;display:block;height:30px;text-align:center;font-size:16px;color:#fff;top:0;right:0;background-color:#0279d8;position:absolute;text-decoration:none;line-height:30px;font-weight:bold}.str-search input{width:100%;height:100%;border:0;font-size:13px;line-height:30px\\0;line-height:30px\\9}.str-search .vr-value-tips{line-height:30px;left:10px}.pd-5{padding:5px 10px}.str-pic-ka{overflow:hidden;zoom:1}.str-pic-tit{line-height:24px;font-size:14px;margin-bottom:4px;padding-top:1px}.str-pic-tit span{margin-left:5px;position:relative;top:2px;top:1px\\0;top:1px\\9;*top:-1px}.str-pic-tit a{color:#c00;text-decoration:none}.str-pic-tit a:hover{text-decoration:underline}.str-pic-ka li{float:left;text-align:center;padding:0 15px;position:relative;line-height:21px}.str-pic-ka li p{color:#999}.str-pic-ka li i{width:1px;overflow:hidden;display:block;position:absolute;right:0;top:50%;margin-top:-15px;background-color:#dcdcdc;height:30px}.str-pic-ka li span{color:#666}.str-pic-ka .li-left{padding-left:0;text-align:left}.str-ka-link{color:#999;padding-top:5px}.str-ka-link span{margin-right:20px}.str-ka-link i{color:#666;font-style:normal;margin-left:5px}.str-ico-male,.str-ico-famale,.str-ico-laud,.str-ico-heart{display:inline-block;background:url(../images/ka_skin.gif) no-repeat;overflow:hidden}.str-ico-male{background-position:0 -19px;width:12px;height:12px}.str-ico-famale{background-position:0 -38px;width:10px;height:14px}.str-ico-laud{background-position:0 -59px;width:13px;height:14px}.str-ico-heart{background-position:0 -80px;width:12px;height:12px}.str-ka-link span{width:auto;height:auto}.str-ka-link .str-ico-laud{padding-left:18px;background-position:0 -58px}.str-ka-link .str-ico-heart{padding-left:17px;background-position:0 -78px}.font-c999{color:#999}/*  public btn */.str-public-btn{height:20px;line-height:21px;display:inline-block;font-size:13px;color:#00c;margin-right:14px;padding:0 7px;background:#f4f8ff;border:1px solid #c4ddff;-moz-border-radius:2px;-webkit-border-radius:2px;border-radius:2px;text-decoration:none}.str-public-btn:hover{border:1px solid #7ea6f7;text-decoration:none !important}.str-public-btn i{_float:left;background-image:url(../images/spy-public-btn.gif);background-repeat:no-repeat;width:12px;height:12px;display:inline-block;margin-right:5px;_margin-right:0px;position:relative;top:1px;*top:-1px;_top:4px;overflow:hidden}.str-public-btn .str-ico-music{background-position:0 0}.str-public-btn .str-ico-read{background-position:0 -12px}.str-public-btn .str-ico-game{background-position:0 -24px}.str-public-btn .str-ico-video{background-position:0 -36px}.str-public-btn .str-ico-down{background-position:0 -48px}.str-public-btn:visited{color:#00c !important}/*ext query css*/.ext-query a:visited{color:#741274}.fb .ext-query{padding-top:1px}.ext-query{font-weight:bold;line-height:23px}.str-ul-list-v1 li{height:22px;zoom:1;color:#999;line-height:22px}.str-ul-list-v1 span,.str-link span{float:right;display:inline-block;width:76px;text-align:right}.str-ul-list-v1 i,.str-link i{float:right;display:inline-block;font-style:normal;padding-right:20px}.str-ul-list-v1 a:hover,.str-ul-list-v1 a:hover em,.str-link a:hover em,.str-link a:hover{text-decoration:underline}.str-link{line-height:22px;color:#666}.str-list-v4 .str-ul-list{margin:-2px 0}.str-list-v4 .str-ul-list li{padding:0}.str-list-v4 .str-ul-list span{color:#666}/*160219k*/.str-tit-1a7cd3{background-color:#1a7cd3;padding:0 2px;margin:0 5px 0 0}.font-laud{padding:0 22px 0 5px;margin-right:9px;font-style:normal;height:18px;line-height:18px;border-radius:2px;background:url(../images/ka_skin.gif) no-repeat right -59px #f7f7f7}.str-KA-list03{border-top:1px solid #ededed;margin:4px 0 4px}.str-KA-list03 li{border-bottom:1px solid #ededed;line-height:22px;padding:6px 0 4px}.str-KA-list03 li a{color:#77c;margin-left:5px;text-decoration:none}/* 160419map */.str_map{margin-top:4px}.str_map .str_img{margin-right:10px}.str_mapinfo{float:left;margin-top:4px}.str-map-tit{font-size:14px;font-weight:normal;margin-top:5px;padding-bottom:5px}.str-map-link{margin-top:4px}.str-map-btn{position:relative;display:inline-block}.str-map-ico{display:inline-block;height:18px;line-height:18px;font-size:13px;color:#58c0d6;padding:0 15px 0 5px;border:1px solid #e7e7e7;text-decoration:none;position:relative;cursor:default}.str-map-ico:hover{background-color:#fafafa}.str-map-ico i{display:inline-block;border:5px solid #fff;border-width:3px 4px;width:0;height:0;border-left-color:#58c0d6;position:absolute;top:6px;right:2px}.str-map-pbox{position:absolute;top:0;left:54px;width:425px}.str-map-pop{display:inline-block;background:#fff;border:1px solid #cccccc;padding:8px 10px 6px;zoom:1}.str-map-pop .str-mp1{font-weight:bold}.str-map-pop .str-mp2,.str-map-pop .str-mp3{line-height:20px;color:#666;margin-top:5px}.str-map-pop .str-mp2 a{text-decoration:none}.str-map-pop .str-mp3{margin-top:2px}.str-map-ltxt{margin-left:4px;color:#008000}/*160623 xiao lu yi guan*/.str-expert-info{line-height:22px}.str-expert-info span{color:#999;margin-left:7px}.str-reco-p{line-height:22px}.str-doctor-list{margin:0 -10px 6px 0;overflow:hidden;zoom:1}.str-doctor-list li{margin-right:10px;float:left;width:270px}.str-doctor-list a{border:1px solid #ebebeb;display:block;padding:5px;color:#333;text-decoration:none}.str-doctor-list a:hover{background-color:#f9f9f9}.str-doctor-list a:visited{color:#333}.str-doctor-list .pic-div{width:60px;height:60px;float:left;margin-right:10px}.str-doctor-list .pic-con{overflow:hidden}.str-doctor-list p{line-height:20px}.str-doctor-list .gray-sp{color:#999}.str-doctor-list .one-jd{overflow:hidden;white-space:nowrap;text-overflow:ellipsis;word-wrap:normal;word-break:normal;_width:185px}/*160802 jing zhun wen da */.vr-qa160727 ol{overflow:hidden}.vr-qa160727 li{padding:2px 0 5px;zoom:1}.vr-qa160727 li p{overflow:hidden;line-height:20px;zoom:1}.vr-qa160727 .show-box{margin:3px 0 4px}.vr-qa160727 .show-box a{position:relative;padding-right:12px;text-decoration:none}.vr-qa160727 .show-box a:hover{text-decoration:underline}/*jing zhun wen da list*/.yc{display:inline-block;width:25px;height:14px;overflow:hidden;float:left;background:url(../images/yc_ico.png) 0 0 no-repeat;position:relative;top:3px;z-index:0}.clamp1{overflow:hidden;white-space:nowrap;text-overflow:ellipsis;word-wrap:normal;word-break:normal;width:100%;zoom:1}.jzwd-list p{color:#333;margin-bottom:2px}.jzwd-list strong{margin:0}.jzwd-list span{color:#666;margin-right:14px}.jzwd-list .yc{margin-right:14px}.jzwd-list .mar0{margin-bottom:0}.show-box{margin:3px 0 4px}.show-box a{position:relative;padding-right:12px;text-decoration:none}.show-box a:hover{text-decoration:underline}.jzwd-list .more-box{padding-left:5px}.str_info_toggle p{display:inline;line-height:20px}.str_info_toggle .hide,.str_info_toggle .show{position:static;padding:0 12px 0 0;height:15px;line-height:15px;text-decoration:none;margin-left:5px}.str_info_toggle .check{display:inline-block;text-decoration:none;margin-left:5px;padding-right:12px;background:url(../../images/arr.gif) no-repeat;background-position:right -80px;font-size:13px;height:18px;line-height:19px;line-height:20px\\0;*line-height:20px}.str_info_toggle+.fb{padding-top:1px}/* 20161205 long answer */.str_info_toggle .selection{color:#3ac044}.str_info_toggle p{display:inline;line-height:20px}.str_info_toggle .hide,.str_info_toggle .show{position:static;padding:0 12px 0 0;height:15px;line-height:15px;text-decoration:none;margin-left:5px}.str_info_toggle+.fb{padding-top:1px}.str_info_toggle .check{display:inline-block;text-decoration:none;margin-left:5px;padding-right:12px;background:url(../web/img/arr.gif) no-repeat;background-position:right -80px;font-size:13px;height:18px;line-height:19px;line-height:20px\\0;*line-height:20px}/* question171016 afanti*/.vr-question171016>div:first-child{padding-top:1px}.vr-question171016 .q-content span,.vr-question171016 .a-content span{position:relative;top:-1px}.vr-question171016 .q-content,.vr-question171016 .a-content{border-bottom:1px solid #f2f2f2;line-height:20px;padding:6px 0}.vr-question171016 .clamp3{display:-webkit-box;text-overflow:ellipsis;-webkit-line-clamp:3;-webkit-box-orient:vertical;overflow:hidden}.vr-question171016 .clamp2{display:-webkit-box;text-overflow:ellipsis;-webkit-line-clamp:2;-webkit-box-orient:vertical;overflow:hidden}.vr-question171016 .a-only{border:0;padding:1px 0 0}.vr-question171016 .fb{padding:4px 0}.vr-question171016 .a-only+.fb{padding:0}   /* CSS Document */.vrTitle{font-size:16px;font-weight:normal;line-height:26px;zoom:1;white-space:nowrap;word-wrap:normal}.wx-box-new{zoom:1}h5.wx-box-h5 a em{text-decoration:underline}.wx-box-new:after{clear:both;display:block;content:''}.wx-table{position:relative;padding-right:96px;margin-top:5px;min-height:75px;_height:75px;z-index:97}.wx-table p{margin:0;padding:0}.wx-table table{width:100%;table-layout:fixed}.wx-table td{vertical-align:top;overflow:visible !important}.wx-table .wx-pic{width:67px;padding-right:10px;padding-bottom:5px;text-align:center}.wx-pic a{width:67px;height:67px;overflow:hidden;position:relative;display:block}.wx-ok{display:block;width:16px;height:16px;overflow:hidden;background:url(../images/wx/ico_dui.png) no-repeat;_background:none;_filter:progid:DXImageTransform.Microsoft.AlphaImageLoader(src=images/wx/wx-ok.png, sizingMethod=crop);cursor:pointer;z-index:3}.wx-pic .wx-ok{position:absolute;bottom:2px;right:1px;z-index:3}.wx-pic-skin{width:100%;height:100%;overflow:hidden;position:absolute;z-index:1;top:0;left:0;background:url(../images/wx/ico_yuan.png) no-repeat;_background:none;_filter:progid:DXImageTransform.Microsoft.AlphaImageLoader(src=images/wx/ico_yuan.png, sizingMethod=crop);cursor:pointer}.wx-pic-hover{width:100%;height:100%;overflow:hidden;position:absolute;z-index:2;top:0;left:0;background:url(../images/wx-skin-hover.png) no-repeat;_background:none;_filter:progid:DXImageTransform.Microsoft.AlphaImageLoader(src=images/wx-skin-hover.png, sizingMethod=crop);cursor:pointer;display:none}.wx-public .wx-pic-skin{background:url(../images/wx/wx-skin-big.png) no-repeat;_background:none;_filter:progid:DXImageTransform.Microsoft.AlphaImageLoader(src=images/wx/wx-skin-big.png, sizingMethod=crop)}.wx-public .wx-pic-hover{background:url(../images/wx/wx-skin-big-hover.png) no-repeat;_background:none;_filter:progid:DXImageTransform.Microsoft.AlphaImageLoader(src=images/wx/wx-skin-big-hover.png, sizingMethod=crop)}.wx-name{margin:0;padding:3px 0 0;line-height:26px;margin-bottom:0px}.wx-name span a{color:#333;font-size:16px;font-weight:bold;padding-left:0}.wx-name span a em{color:#c00}.wx-name a{color:#999}.wx-table td .div-p{color:#333;line-height:22px;overflow:hidden;zoom:1}.wx-table td .div-p span{float:left;color:#666}.wx-table td .div-p .tetbox{overflow:hidden;zoom:1}.wx-table h5{margin:0;padding:5px 0 0;line-height:22px;font-size:13px}.wx-table p a{color:#666}.wx-table p{color:#bbb}.wx-table p .purple-color{color:#0000cc;margin-right:8px}.wx-table a,.wx-table a em{text-decoration:none}.wx-table a:hover,.wx-table a:hover em{text-decoration:underline}.wx-table a,.wx-table a em{color:#7777cc}.wx-table .wx-ewm p{color:#999}.wx-table .wx-ewm p{line-height:normal}.wx-ewm{width:88px;border:1px solid #eee;text-align:center;padding:0 0 5px 0px;position:absolute;top:0px;right:0;z-index:11}.wx-ewm a{display:block;width:70px;height:70px;overflow:hidden;margin:9px auto 6px}.wx-img{float:left;margin-top:5px;margin-right:10px;width:120px;height:80px;display:block;overflow:hidden;border:1px solid #ebebeb;margin-bottom:5px;position:relative}.wx-img img{vertical-align:top}h5.wx-box-h5{font-size:13px;font-weight:normal;margin:0;padding:0;line-height:22px;overflow:hidden;white-space:nowrap;text-overflow:ellipsis;word-wrap:normal;width:400px}.wx-box-new .div-p2{line-height:20px;padding:1px 0;margin:0;color:#333;zoom:1;position:relative;word-break:break-word;width:418px;float:right}.wx-box-new .div-p2 .weizhi{position:absolute;right:0;bottom:0;*bottom:3px}.wx-box-new div{color:#999;line-height:22px}.wx-box-new div .from-link{margin-right:8px;text-decoration:none}.from-link{display:inline-block;height:22px;color:#008102;text-decoration:none}.wx-list-new .from-link:hover{text-decoration:underline}.wx-box-new .wx-list-new,.wx-box-new .moreLink{margin-left:8px}.wx-list-new{clear:both}.wx-list-new li{line-height:22px;color:#999;zoom:1;padding-right:80px;position:relative}.wx-list-new li p{width:462px;overflow:hidden;white-space:nowrap;text-overflow:ellipsis;word-wrap:normal}.wx-list-new li p a{text-decoration:none}.wx-list-new li p a:hover{text-decoration:underline}.wx-list-new li:after{content:'';display:block;clear:both}.wx-right{float:right;position:absolute;right:0}.moreLink{line-height:22px}.moreLink a{text-decoration:none;display:inline-block}.moreLink a em{text-decoration:none}.moreLink a:hover,.moreLink a:hover em{text-decoration:underline}/*public*/.wx-public{zoom:1;margin-right:-25px;_margin-right:-50px;position:relative;z-index:99}.wx-public:after{clear:both;content:'';display:block}.wx-public li{position:relative;float:left;width:90px;margin-right:25px;text-align:center;padding-bottom:3px}.public-box{position:relative;width:90px;height:90px;overflow:hidden;margin-bottom:3px;display:block;z-index:1}.wx-public .wx-ok{position:absolute;bottom:0;right:5px;cursor:pointer}.public-name{overflow:hidden;width:100%}.public-name a{color:#333;text-decoration:none}.public-name a:hover{text-decoration:underline}.wx-public .wx-pop{text-align:left}.wx-pop{padding:5px 5px 5px 10px;background:#fff;border:1px solid #ebebeb;position:absolute;width:349px;left:100px;zoom:1;top:2px;box-shadow:0 1px 2px rgba(0,0,0,.1);z-index:2}.wx-pop:after{clear:both;content:'';display:block}.wx-public .wx-pop-ewm{float:right;width:86px;padding-top:5px;text-align:center}.wx-pop-ewm span{width:70px;height:70px;overflow:hidden;display:block;border:1px solid #eee;margin:0 auto 4px;padding:1px}.wx-pop h4{margin:0;font-size:14px;line-height:24px}.wx-pop h5{font-size:13px;font-weight:normal;color:#999;line-height:22px;height:22px;margin:0;padding:0}.wx-pop table{color:#666}.wx-pop table th{text-align:left;font-weight:normal;width:66px;width:70px\\9}.wx-pop table th,.wx-pop table td{padding:1px 0;line-height:20px;vertical-align:top;overflow:hidden}/*end public*/.vrTitle a:visited,.wx-list-new li a:visited,.wx-table p .purple-color:visited{color:#741274}.from-link:visited{color:#008102 !important}.wx-name .fx,.weizhi .fx{position:relative;margin-left:10px;display:inline-block;line-height:16px}.wx-name .fx .fx-a,.weizhi .fx .fx-a{font-size:13px;font-weight:normal;height:16px;vertical-align:top;display:inline-block;background:url(../images/wx/ico_fx.png) 0 1px no-repeat;_background:url(../images/wx/ico_fx.gif) 0 1px no-repeat;padding-left:20px;color:#999;position:relative;top:5px}.wx-name .fx .fx-a:hover,.weizhi .fx .fx-a:hover{background:url(../images/wx/ico_fx.png) 0 -17px no-repeat;_background:url(../images/wx/ico_fx.gif) 0 -17px no-repeat;color:#666}.wx-name .fx .fx-pos,.weizhi .fx .fx-pos{position:absolute;left:-9px;top:25px;width:144px;height:72px;background:#fff;border:1px solid #ebebeb;display:none;-moz-box-shadow:0px 2px 2px #eee;-webkit-box-shadow:0px 2px 2px #eee;box-shadow:0px 2px 2px #eee}.wx-name .fx .fx-pos a,weizhi .fx .fx-pos a{position:relative;padding-left:0;margin:0;line-height:20px}.wx-name .fx.on .fx-pos,.weizhi .fx.on .fx-pos{display:block}.wx-name .fx .fx-pos p,.weizhi .fx .fx-pos p{color:#333;line-height:24px;font-weight:bold;padding-left:10px}.wx-name .fx .ico-sj,.wx-name .sc .ico-sj,.weizhi .fx .ico-sj,.weizhi .sc .ico-sj{background:url(../images/wx/ico_sj.gif) 0 0 no-repeat;width:8px;height:5px;position:absolute;top:-5px;left:11px}.wx-name .fx a,.weizhi .fx a{display:inline-block;width:36px;height:36px;float:left;overflow:hidden;text-decoration:none}.wx-name .fx a:hover,.weizhi .fx a:hover{background:#f5f5f5;text-decoration:underline}.wx-name .fx a span,.weizhi .fx a span{display:inline-block;width:16px;height:16px;margin:10px;cursor:pointer}.wx-name .fx .qq span,.weizhi .fx .qq span{background:url(../images/wx/ico_qq.gif) 0px 0px no-repeat}.wx-name .fx .qq2 span,.weizhi .fx .qq2 span{background:url(../images/wx/ico_qq2.gif) 0px 0px no-repeat}.wx-name .fx .wx2 span,.weizhi .fx .wx2 span{background:url(../images/wx/ico_wx2.gif) 0px 0px no-repeat}.wx-name .fx .xl span,.weizhi .fx .xl span{background:url(../images/wx/ico_xl.gif) 0px 0px no-repeat}.wx-name .fx .baidu span,.weizhi .fx .baidu span{background:url(../images/wx/ico_baidu.gif) 0px 0px no-repeat}.wx-name .fx .renren span,.weizhi .fx .renren span{background:url(../images/wx/ico_renren.gif) 0px 0px no-repeat}.wx-name .fx .qq3 span,.weizhi .fx .qq3 span{background:url(../images/wx/ico_qq3.gif) 0px 0px no-repeat}.wx-name .fx .douban span,.weizhi .fx .douban span{background:url(../images/wx/ico_douban.gif) 0px 0px no-repeat}.wx-name .fx .xl:hover span,.weizhi .fx .xl:hover span{background:url(../images/wx/ico_xl.gif) 0px -21px no-repeat}.wx-name .fx .qq2:hover span,.weizhi .fx .qq2:hover span{background:url(../images/wx/ico_qq2.gif) 0px -21px no-repeat}.wx-name .fx .qq:hover span,.weizhi .fx .qq:hover span{background:url(../images/wx/ico_qq.gif) 0px -21px no-repeat}.wx-name .fx .wx2:hover span,.weizhi .fx .wx2:hover span{background:url(../images/wx/ico_wx2.gif) 0px -24px no-repeat}.wx-name .fx .baidu:hover span,.weizhi .fx .baidu:hover span{background:url(../images/wx/ico_baidu.gif) 0px -21px no-repeat}.wx-name .fx .renren:hover span,.weizhi .fx .renren:hover span{background:url(../images/wx/ico_renren.gif) 0px -21px no-repeat}.wx-name .fx .qq3:hover span,.weizhi .fx .qq3:hover span{background:url(../images/wx/ico_qq3.gif) 0px -21px no-repeat}.wx-name .fx .douban:hover span,.weizhi .fx .douban:hover span{background:url(../images/wx/ico_douban.gif) 0px -21px no-repeat}.wx-box-new .div-p2 .weizhi span{display:inline-block;position:relative;line-height:16px}.weizhi .on .sc-a,.weizhi .on .sc-a:hover{background:url(../images/wx/ico_fx.png) 0 -73px no-repeat;_background:url(../images/wx/ico_fx.gif) 0 -73px no-repeat}.weizhi .sc-a{position:relative;top:1px;display:inline-block;text-decoration:none;height:16px;background:url(../images/wx/ico_fx.png) 0 -35px no-repeat;*background:url(../images/wx/ico_fx.png) 0 -34px no-repeat;_background:url(../images/wx/ico_fx.gif) 0 -35px no-repeat;padding-left:20px;color:#999;position:relative;*top:4px}.weizhi .sc-a:hover{background:url(../images/wx/ico_fx.png) 0 -53px no-repeat;*background:url(../images/wx/ico_fx.png) 0 -52px no-repeat;_background:url(../images/wx/ico_fx.gif) 0 -53px no-repeat;color:#666;text-decoration:underline}.weizhi .close2{background:url(../images/wx/btn_close.gif) 0 0 no-repeat;position:absolute;width:10px;height:10px;right:10px;top:10px}.weizhi .sc-pos{position:absolute;left:-9px;top:22px;display:none;width:213px;height:87px;background:#fff;border:1px solid #ebebeb;z-index:20;-moz-box-shadow:0px 2px 2px #eee;-webkit-box-shadow:0px 2px 2px #eee;box-shadow:0px 2px 2px #eee}.weizhi .sc-pos p{text-align:center;color:#333;line-height:24px;padding-top:9px}.weizhi .sc-btn{text-align:center;display:block !important}.weizhi .sc-btn a{width:54px;height:28px;line-height:28px;text-align:center;display:inline-block;border:1px solid #e2e2e2;background:#f9f9f9;color:#333;margin:11px 7px 0 8px;text-decoration:none}.weizhi .sc .sc-btn .a2{background:#e1ffe1;border:1px solid #b7e8b7;color:#0b7d09}.weizhi .sc .sc-btn .a2:hover{border:1px solid #67d567;background:#e1ffe1;color:#0b7d09 !important;text-decoration:none !important}.weizhi .sc-btn a:hover{border:1px solid #c1c1c1;color:#333 !important;text-decoration:none !important}.weizhi .sc-pos2{top:-96px;-moz-box-shadow:0px 0px 0px #fff;-webkit-box-shadow:0px 0px 0px #fff;box-shadow:0px 0px 0px #fff}.weizhi .sc .sc-pos2 .ico-sj{background:url(../images/ico_sj2.gif) 0 0 no-repeat;top:87px}.weizhi .sc-pos-v1{width:252px;height:75px}.weizhi .sc-pos-v1 p{background:url(../images/wx/ico-d.gif) 70px 16px no-repeat;padding-top:14px}.weizhi .sc-pos-v1 .p2{color:#666;padding-top:2px;background:none}.weizhi .sc .sc-pos-v1 .p2 a{color:#7777cc;text-decoration:none}.weizhi .sc .sc-pos-v1 .p2 a:hover{text-decoration:underline;color:#7777cc !important}h5.wx-box-h5 a{text-decoration:none}h5.wx-box-h5 a:hover{text-decoration:underline}.wx-table td .div-p a em{color:#C00}h5.wx-box-h5 span,.wx-list-new li p span{display:inline-block;vertical-align:top;padding:0 5px;margin-top:2px;margin-left:5px;line-height:16px;color:#fff;font-size:12px;-moz-border-radius:2px;-webkit-border-radius:2px;border-radius:2px}h5.wx-box-h5 .ico-i1,.wx-list-new li p .ico-i1{background:#78b9fa;color:#fff}h5.wx-box-h5 .ico-i2,.wx-list-new li p .ico-i2{background:#fa8178;color:#fff}h5.wx-box-h5 .ico-i3,.wx-list-new li p .ico-i3{background:#f5bb58;color:#fff}.wx-table a.bq{line-height:20px;width:57px;height:20px;text-align:center;text-decoration:none;display:inline-block;background:#f4f8ff;color:#7777cc;margin-top:10px;-moz-border-radius:2px;-webkit-border-radius:2px;border-radius:2px}.wx-table a.bq:hover{text-decoration:underline}.erwm-box2{width:250px;height:280px;background:#fff;border:1px solid #53bc53;position:absolute;z-index:403}.erwm-box2 .ewm-tit{color:#999;font-size:12px;text-align:center;line-height:30px;font-weight:bold;padding:6px 0 6px}.erwm-box2 .ewm-img{position:relative;text-align:center}.erwm-box2 .ewm-img img{vertical-align:top}.erwm-box2 .ewm-img em{display:block;width:34px;height:34px;position:absolute;left:83px;top:53px}.erwm-box2 .ico_close2{background:url(../images/ico_close.gif) 5px 5px no-repeat;width:20px;height:20px;position:absolute;display:block;top:5px;right:5px}.erwm-box2 .ico_close2:hover{background:url(../images/ico_close2.gif) 5px 5px no-repeat}.erwm-box2 .ewm-end{text-align:center;margin-top:12px}.erwm-box2 .ewm-end span{font-size:13px;padding-left:24px;line-height:24px;color:#666;background:url(../images/ico_wx3.gif) 0 1px no-repeat}h5.wx-box-h5 span,.wx-list-new li p .wx-right{position:absolute;color:#999}.wx-box-new h5.wx-box-h5 a em{text-decoration:none}.wx-box-new h5.wx-box-h5 a:hover em{text-decoration:underline}        </style><!-- printPageCss -->  <!-- printSpecialUaCss -->  <!-- snippetToHeader --> <style>#sogou_vr_10000104_piclist_0{height: auto}.vrTitle {white-space: normal !important;word-wrap: normal !important;}.wx-public{zoom:1;margin-right:-25px;_margin-right:-50px;position: relative;z-index:99}.wx-table{position:relative;padding-right:96px;margin-top:5px;min-height:75px;_height:75px; z-index:97}.wx-box-new .div-p2{line-height:20px;padding:1px 0;margin:0; color:#333;zoom:1; position:relative; word-break: break-word; width:418px; float: right}.fb-remark{display:none;}</style><link href=\"//dlweb.sogoucdn.com/vr/css/guanjiaRight.min.4eed5030.css\" rel=\"stylesheet\" type=\"text/css\" /><style>.blue-color{color: #16aee4;}#lpf{}</style> <!-- afterHeadCss --> <script>(function(){if(typeof sogou != 'undefined' && typeof sogou.WebReportSpeed != 'undefined'){sogou.WebReportSpeed.setAfterHeadCss();}})();</script> <!-- beforeStatcJs --> <script>(function(){if(typeof sogou != 'undefined' && typeof sogou.WebReportSpeed != 'undefined'){sogou.WebReportSpeed.setBeforeStaticJs();}})();</script> <link rel=\"stylesheet\" type=\"text/css\" href=\"//dlweb.sogoucdn.com/pcsearch/css/compressCommon_08d7854.css\"> <script type=\"text/javascript\" src=\"//dlweb.sogoucdn.com/pcsearch/js/kmap/jsanalyzexml.20200619.min_e3f6e39.js\"></script></head> <!-- bodyViewBengin --><body><!-- bodyHeadViewBegin --> <script>var pid_version=\"20190723a\";</script>\n",
      "<script type=\"text/javascript\">requirejs.config({\n",
      "     urlArgs: \"v=20200303a\",\n",
      "     baseUrl:  location.protocol + \"//dlweb.sogoucdn.com/vrfly/web/vr/common_ued/js/common\" \n",
      "})</script> <script type=\"text/javascript\">fixBodyClass();   /*file=static/js/float_form_hint_abtest.js*/define(\"\",[\"$\",\"$s\"],function(s,i){function o(t){h=!0,l=(d=t).parentNode.parentNode,setTimeout(e,50),l.onmouseover=function(){\"headsearch\"==this.className&&(this.style.backgroundColor=\"#f5f5f5\")},l.onmouseout=function(){this.style.backgroundColor=\"\"}}function u(t,e,a,n){var s=location.protocol+\"//pb.sogou.com/\"+t+\".gif?uigs_productid=webapp&uigs_t=\"+(new Date).getTime();s+=\"&uuid=\"+(\"undefined\"==typeof uuid?\"\":uuid),s+=\"&type=\"+e,s+=\"&stype=\"+a,s+=\"&abtest=\"+m,void 0!==n&&(s+=n),(new Image).src=s}function e(){if(h){if(p=c(),!(Math.abs(r-p)<=4)){var t=!1,e=i.$(\"float_uphint\")&&i.$(\"stable_uphint\");e&&(t=p<r);var a=-1;if(f<=(r=p)?a=l.className.indexOf(\"headsearch\")<0?1:t?2:1:0<=l.className.indexOf(\"headsearch\")&&(a=0),-1<a){if(l.childNodes,0<a){var n=window.innerHeight||document.body&&document.body.clientHeight;if(n==document.body.offsetHeight&&document.documentElement&&document.documentElement.offsetHeight&&(n=document.documentElement.offsetHeight),n&&document.body.offsetHeight-n<50)return;l.className=\"header headsearch\",d.className=\"hsform\",e&&(1==a?(i.$(\"float_uphint\").style.display=\"none\",i.$(\"stable_uphint\").style.display=\"none\"):2==a&&(i.$(\"float_uphint\").style.display=\"\",i.$(\"stable_uphint\").style.display=\"none\",\"0\"==s(\"#stable_uphint\").attr(\"data-showed\")&&(u(\"pv\",\"uphint\",\"resultpage\",\"&isUpintTag=\"+b),s(\"#stable_uphint\").attr(\"data-showed\",\"1\"))))}else l.className=\"header\",d.className=\"\",e&&(i.$(\"float_uphint\").style.display=\"none\",i.$(\"stable_uphint\").style.display=\"\",\"0\"==s(\"#stable_uphint\").attr(\"data-showed\")&&(u(\"pv\",\"uphint\",\"resultpage\",\"&isUpintTag=\"+b),s(\"#stable_uphint\").attr(\"data-showed\",\"1\")));i.$(\"upquery\")&&(i.$(\"upquery\").value=i.$(\"upquery\").value),i.$(\"vl\")&&(i.$(\"vl\").style.display=\"none\",i.cls(i.$(\"querybox_up\"),\"sugg-open\"))}}}else i.wait(\"searchForm\",o)}var l,d,p,t,h,c,r,f,m,b;t=i.$d,h=!1,c=function(){return t.body&&t.body.scrollTop||t.documentElement&&t.documentElement.scrollTop||0},r=-1,f=38,m=\"\",b=s(\"#stable_uphint\")&&s(\"#stable_uphint\").attr(\"data-tag\")?s(\"#stable_uphint\").attr(\"data-tag\"):\"0\",s(\"#stable_uphint\")&&(m=s(\"#stable_uphint\").attr(\"data-abtest\"),s(\"#stable_uphint\").attr(\"data-showed\",\"0\"),s(\"#stable_uphint\").on(\"click\",\"a\",function(){u(\"cl\",\"uphint\",\"resultpage\",\"&isUpintTag=\"+b)}),s(\"#float_uphint\").on(\"click\",\"a\",function(){u(\"cl\",\"uphint\",\"resultpage\",\"&isUpintTag=\"+b)})),\"1\"==b&&(s(\"#stable_uphint\").attr(\"data-showed\",\"1\"),u(\"pv\",\"uphint\",\"resultpage\",\"&isUpintTag=\"+b)),i.$b(window,[\"scroll\",\"resize\"],[e,function(){setTimeout(e,50)}]),setTimeout(e,50)});  </script><div class=\"bg-gj-w\" id=\"settings-mask\" style=\"display:none\"></div><div class=\"gjss\" id=\"settings-advanced\" style=\"display:none;top:-240px\"><div class=\"hf-box\" id=\"settings-save-layer\"><div class=\"hf-def\">已保存设置</div></div><div class=\"gjss-tab\"><a uigs-id=\"tab_adv\" href=\"javascript:void(0);\" class=\"js-settings-tab tab-a\">高级搜索</a><a href=\"javascript:void(0);\" class=\"close-btn\" id=\"settings-close\"></a></div><div class=\"gjss-main\"><div class=\"gjss-sz js-settings-content\"><form action=\"/web\" target=\"_blank\" id=\"advanced-search-form\"><input type=\"hidden\" name=\"query\" value=\"\"> <input name=\"fieldtitle\" type=\"hidden\" value=\"\"> <input name=\"fieldcontent\" type=\"hidden\" value=\"\"> <input name=\"fieldstripurl\" type=\"hidden\" value=\"\"> <input name=\"bstype\" type=\"hidden\" value=\"\"> <input name=\"ie\" type=\"hidden\" value=\"utf8\"><dl><dt>搜索关键词</dt><dd class=\"js-as-radio\"><div class=\"input-box js-input-box\" id=\"advanced-query-box\"><input name=\"q\" type=\"text\" must=\"1\" size=\"42\" maxlength=\"100\" autocomplete=\"off\" placeholder=\"例如：搜狗真棒（多个关键词可用空格区分）\"><span class=\"err-word\">* 请输入搜索关键词</span></div><a uigs-id=\"adv_split-query\" href=\"javascript:void(0);\" data-value=\"checkbox\" class=\"dk-btn cur\">拆分关键词</a><a uigs-id=\"adv_no-split-query\" href=\"javascript:void(0);\" data-value=\"\" class=\"dk-btn\">不拆分关键词</a><input type=\"hidden\" name=\"include\" value=\"checkbox\"></dd></dl><dl><dt>在指定站内搜索</dt><dd><div class=\"input-box js-input-box\"><input name=\"sitequery\" type=\"text\" size=\"40\" autocomplete=\"off\" placeholder=\"例如：www.sogou.com\"></div></dd></dl><dl class=\"js-as-select\" style=\"padding-top:16px\"><dt>搜索词位于</dt><dd><a href=\"javascript:void(0);\" class=\"xz\">网页中任何地方</a><ul><li><a href=\"javascript:void(0);\" data-value=\"0\">网页中任何地方</a></li><li><a href=\"javascript:void(0);\" data-value=\"1\">仅在标题中</a></li><li><a href=\"javascript:void(0);\" data-value=\"2\">仅在正文中</a></li><li><a href=\"javascript:void(0);\" data-value=\"3\">仅在网址中</a></li></ul></dd><input type=\"hidden\" name=\"located\" value=\"0\"></dl><dl class=\"js-as-select\" style=\"padding-top:16px\"><dt>需要搜索的文件格式</dt><dd><a href=\"javascript:void(0);\" class=\"xz\">全部网页</a><ul><li><a href=\"javascript:void(0);\" data-value=\"\">全部网页</a></li><li><a href=\"javascript:void(0);\" data-value=\"doc\">Microsoft Word (.doc)</a></li><li><a href=\"javascript:void(0);\" data-value=\"xls\">Microsoft Excel (.xls)</a></li><li><a href=\"javascript:void(0);\" data-value=\"ppt\">Microsoft Powerpoint (.ppt)</a></li><li><a href=\"javascript:void(0);\" data-value=\"pdf\">Adobe Acrobat PDF (.pdf)</a></li><li><a href=\"javascript:void(0);\" data-value=\"rtf\">RTF (.rtf)</a></li><li><a href=\"javascript:void(0);\" data-value=\"all\">全部文档</a></li></ul></dd><input type=\"hidden\" name=\"filetype\" value=\"\"></dl><dl><dt>搜索结果排序方式</dt><dd class=\"js-as-radio\"><a uigs-id=\"adv_relevance-ranking\" href=\"javascript:void(0);\" data-value=\"off\" class=\"dk-btn cur\">按相关性排序</a><a uigs-id=\"adv_time-sort\" href=\"javascript:void(0);\" data-value=\"on\" class=\"dk-btn\">按时间排序</a><input type=\"hidden\" name=\"tro\" value=\"off\"></dd></dl><p class=\"enter\"><input id=\"adv-search-btn\" uigs-id=\"adv_search-btn\" type=\"submit\" class=\"a1\" value=\"开始搜索\"></p></form></div></div></div><!-- bodyHeadViewEnd --> <!-- MainBodyViewBegin --><div class=\"wrap \" id=\"sogou_wrap_id\"><!-- SearchHeadViewBegin --><div class=\"header\" style=\"\"><div class=\"header-box\">  <a title=\"回到搜狗首页\" href=\"/\" class=\"logo\" uigs-id=\"resultLogo\">  <img src=\"/web/img/logo115_50.png?v=5\" alt=\"搜狗搜索\" srcset=\"/web/img/logo115_50x2.png?v=5 2x\">  </a>  <!--[if IE 6]><style type=\"text/css\">.topbar, .res-logn-ico {display:none}</style><![endif]--><style>.res-logn-icot{background:url(/images/@skin.gif) 15px -530px no-repeat}.res-logn-icot2{background:url(/images/@skin.gif) 15px -580px no-repeat}</style><ul class=\"top-bar\"><li class=\"sogou-set-box\"><a class=\"sogou-set\" href=\"javascript:void(0);\" id=\"settings\">设置</a><div class=\"top-bar-pop\" id=\"settings-box\" style=\"display: none; top: 40px; opacity: 0;\"><i></i><a href=\"javascript:void(0);\" id=\"advanced-search\" uigs-id=\"settings_advanced\">高级搜索</a><a href=\"http://help.sogou.com/?w=01091500&amp;v=1\" uigs-id=\"settings_help\">帮助</a></div></li><li><a class=\"res-logn-ico\" href=\"javascript:void(0)\" id=\"loginBtn\" uigs-id=\"result_login\">登录</a></li></ul> <!-- TabViewBegin --><ul class=\"searchnav\">   <li class=\"cur\"><a>网页</a></li>    <li><a href=\"http://weixin.sogou.com/weixin?p=01030402&query=hi&type=2&ie=utf8\" id=\"sogou_weixin\" onclick=\"navBar(this,'query=',true)\">微信</a></li>  <li><a href=\"http://zhihu.sogou.com/zhihu?p=40351207&ie=utf8&query=hi\" id=\"sogou_zhihu\" onclick=\"navBar(this,'query=',true)\">知乎</a></li>  <li><a href=\"http://pic.sogou.com/pics?ie=utf8&p=40230504&interV=kKIOkrELjbgLmLkElbkTkKILk7ELjboImLkEk74TkKIMkrELjbkRmLkEmrELjbgRmLkEkLYTKVeRFTbxHUwElKJ6wu9DxqRLzO1H1qR7zOMTEl+OKaIPjeh5yupNj+lHzrGSATrijb0Exe971aR7z4==_-682287274&query=hi\" id=\"sogou_pic\" onclick=\"navBar(this,'query=',true)\">图片</a></li><li><a href=\"https://v.sogou.com/v?ie=utf8&p=40230608&interV=kKIOkrELjbgLmLkElbkTkKILk7ELjboImLkEk74TkKIMkrELjbkRmLkEmrELjbgRmLkEkLYTKVeRFTbxHUwElKJ6wu9DxqRLzO1H1qR7zOMTEl+OKaIPjeh5yupNj+lHzrGSATrijb0Exe971aR7z4==_-682287274&query=hi\" onclick=\"navBar(this,'query=',true)\" id=\"sogou_video\">视频</a></li>    <li><a href=\"https://www.sogou.com/web?m2web=mingyi.sogou.com&query=hi&ie=utf8&fr=common_nav\" id=\"sogou_mingyi\" onclick=\"navBar(this,'query=',true)\">明医</a></li>  <li><a href=\"http://hanyu.sogou.com/result?query=hi&fr=common_nav\" id=\"sogou_hanyu\" onclick=\"navBar(this,'?query=',true)\">汉语</a></li>   <li><a href=\"//www.sogou.com/sogou?ie=utf8&p=40230447&interation=1728053249&interV=&pid=sogou-wsse-8f646834ef1adefa&query=hi\" id=\"sogou_news\" onclick=\"navBar(this,'query=',true);\">新闻</a></li>   <li><a href=\"http://english.sogou.com/english?query=hi&b_o_e=1&ie=utf8&fr=common_nav\" id=\"sogou_overseas\" onclick=\"navBar(this,'query=',true)\">英文</a></li>  <li><a onclick=\"navBar(this,'w=',true)\" id=\"result_more_wenwen_ABC\" href=\"//wenwen.sogou.com/s/?ch=websearch&cid=websearch2ww&w=hi\">问问</a></li>  <li><a href=\"http://scholar.sogou.com/xueshu?ie=utf-8&query=hi%26fr%3Dcommon_nav\" id=\"sogou_scholar\" onclick=\"navBar(this,'query=',true)\">学术</a></li>   <li class=\"navMore\"><a href=\"javascript:void(0)\" id=\"searchnav-more\" class=\"more-btn\">更多<i class=\"arrow-down\"></i></a><div class=\"top-bar-pop\" style=\"display:none\" id=\"searchnav-more-list\"><i></i>    <a href=\"http://map.sogou.com/#lq=hi\" id=\"sogou_maps\" onclick=\"navBar(this,'#lq=',false)\">地图</a><a onclick=\"navBar(this,'query=',true)\" id=\"result_more_gouwu_ABC\" href=\"http://gouwu.sogou.com/shop?ie=utf8&query=hi&p=40251501\">购物</a>   <a onclick=\"navBar(this,'query=', true)\" id=\"result_more_baike_ABC\" href=\"//www.sogou.com/sogou?query=hi&ie=utf8&insite=baike.sogou.com&pid=sogou-wsse-17737832ac17be52\">百科</a>   <a onclick=\"navBar(this,'query=', true)\" id=\"result_more_zhishi_ABC\" href=\"//www.sogou.com/sogou?query=hi&ie=utf8&pid=sogou-wsse-926c11cc055de9b8&interation=196636&chuidq=28\">知识</a>   <a onclick=\"navBar(this,'query=', true)\" id=\"result_more_appli_ABC\" href=\"http://as.sogou.com/so?query=hi&p=40351212\">应用</a><a onclick=\"navBar(this,'keyword=', true)\" id=\"result_more_fanyi_ABC\" href=\"http://fanyi.sogou.com/?fr=common_index_nav_pc_result&keyword=hi&p=40351212\">翻译</a><a id=\"result_more_index_ABC\" href=\"http://index.sogou.com\">指数</a>  <a href=\"http://dangjian.sogou.com/dangjian?query=hi\" id=\"sogou_dangjian\" onclick=\"navBar(this,'query=',true)\">党建</a>  <span class=\"all\"><a href=\"//www.sogou.com/docs/more.htm?v=1&kw=hi&p=40351213\" id=\"top-more\" onclick=\"navBar(this,'kw=',true)\" target=\"_blank\">全部</a></span></div></li></ul><!-- TabViewEnd --> <!-- QueryBoxViewBegin --><form name=\"searchForm\" id=\"searchForm\"><div class=\"querybox\" id=\"querybox_up\">  <div class=\"qborder\"><div class=\"qborder2\"><input type=\"text\" class=\"query\" id=\"upquery\" name=\"query\" maxlength=\"100\" len=\"80\" onfocus=\"focusInput(this)\" ov=\"hi\" value=\"hi\" autocomplete=\"off\"><a href=\"javascript:void(0);\" class=\"qreset2\" id=\"top_qreset\"></a><div class=\"keywords-tips\" id=\"keywordsTips\" style=\"display:none\"><i></i><p>“<strong id=\"keywordsTipsStrong\"></strong>”后面的文字被忽略，搜狗的查询限制在40个汉字以内。</p></div></div></div>  <input type=\"hidden\" name=\"_ast\" value=\"1600676415\"> <input type=\"hidden\" name=\"_asf\" value=\"www.sogou.com\">  <input type=\"hidden\" name=\"w\" value=\"01029901\">            <input type=\"hidden\" name=\"cid\" value=\"\">   <input type=\"hidden\" name=\"s_from\" value=\"result_up\">      <input type=\"submit\" value=\"搜狗搜索\" class=\"sbtn1\" uigs=\"searchBtn\" id=\"searchBtn\">   </div></form><!-- QueryBoxViewEnd --> <form id=\"fankuiform\" method=\"post\"><input type=\"hidden\" name=\"cause\" value=\"满意\"> <input type=\"hidden\" name=\"query\" value=\"hi\"> <input type=\"hidden\" name=\"refer\" value=\"\"> <input type=\"hidden\" name=\"uuid\" value=\"76579b96-4df3-4e2a-8551-ed30dcd839da\"> <input type=\"hidden\" name=\"targeturl\" value=\"\"> <input type=\"hidden\" name=\"scenehtml\" id=\"scenehtml\"> <input type=\"hidden\" name=\"url\" value=\"\"> <input type=\"hidden\" name=\"queryurl\" value=\"\"> <input type=\"hidden\" name=\"v\" value=\"1\"></form> <div class=\"r-sech \" id=\"float_uphint\" style=\"display: none\"><span><strong></strong>相关推荐：</span><p> <a target=\"_blank\" id=\"sogou_vr_21167301_T1_0\" href=\"?user_ip=183.95.236.68&sourceid=uphint&s_from=hint_up&bh=1&hintidx=0&query=hi%20%E6%88%91%E7%9A%84%E8%90%8C%E7%B3%BB%E5%B0%8F%E7%94%9C%E5%A6%BB&w=01020600&interation=&interV=kKIOkrELjbgLmLkElbkTkKILk7ELjboImLkEk74TkKIMkrELjbkRmLkEmrELjbgRmLkEkLYTKVeRFTbxHUwElKJ6wu9DxqRLzO1H1qR7zOMTEl+OKaIPjeh5yupNj+lHzrGSATrijb0Exe971aR7z4==_-682287274&htdbg=on\">hi 我的萌系小甜妻</a> <a target=\"_blank\" id=\"sogou_vr_21167301_T2_0\" href=\"?user_ip=183.95.236.68&sourceid=uphint&s_from=hint_up&bh=1&hintidx=1&query=hi%E5%AE%A4%E5%8F%8B%E7%AC%AC%E4%BA%8C%E5%AD%A3&w=01020600&interation=&interV=kKIOkrELjbgLmLkElbkTkKILk7ELjboImLkEk74TkKIMkrELjbkRmLkEmrELjbgRmLkEkLYTKVeRFTbxHUwElKJ6wu9DxqRLzO1H1qR7zOMTEl+OKaIPjeh5yupNj+lHzrGSATrijb0Exe971aR7z4==_-682287274&htdbg=on\">hi室友第二季</a> <a target=\"_blank\" id=\"sogou_vr_21167301_T3_0\" href=\"?user_ip=183.95.236.68&sourceid=uphint&s_from=hint_up&bh=1&hintidx=2&query=hi%E5%AE%A4%E5%8F%8B%E4%B8%BB%E9%A2%98%E6%9B%B2&w=01020600&interation=&interV=kKIOkrELjbgLmLkElbkTkKILk7ELjboImLkEk74TkKIMkrELjbkRmLkEmrELjbgRmLkEkLYTKVeRFTbxHUwElKJ6wu9DxqRLzO1H1qR7zOMTEl+OKaIPjeh5yupNj+lHzrGSATrijb0Exe971aR7z4==_-682287274&htdbg=on\">hi室友主题曲</a> <a target=\"_blank\" id=\"sogou_vr_21167301_T4_0\" href=\"?user_ip=183.95.236.68&sourceid=uphint&s_from=hint_up&bh=1&hintidx=3&query=hi%E4%BB%80%E4%B9%88%E6%84%8F%E6%80%9D%E4%B8%AD%E6%96%87&w=01020600&interation=&interV=kKIOkrELjbgLmLkElbkTkKILk7ELjboImLkEk74TkKIMkrELjbkRmLkEmrELjbgRmLkEkLYTKVeRFTbxHUwElKJ6wu9DxqRLzO1H1qR7zOMTEl+OKaIPjeh5yupNj+lHzrGSATrijb0Exe971aR7z4==_-682287274&htdbg=on\">hi什么意思中文</a> <a target=\"_blank\" id=\"sogou_vr_21167301_T5_0\" href=\"?user_ip=183.95.236.68&sourceid=uphint&s_from=hint_up&bh=1&hintidx=4&query=hi%E8%81%8A%E5%A4%A9%E8%BD%AF%E4%BB%B6&w=01020600&interation=&interV=kKIOkrELjbgLmLkElbkTkKILk7ELjboImLkEk74TkKIMkrELjbkRmLkEmrELjbgRmLkEkLYTKVeRFTbxHUwElKJ6wu9DxqRLzO1H1qR7zOMTEl+OKaIPjeh5yupNj+lHzrGSATrijb0Exe971aR7z4==_-682287274&htdbg=on\">hi聊天软件</a></p></div> </div></div>  <!-- SearchHeadViewEnd --> <!-- AllResultViewBegin --><div class=\"wrapper\" id=\"wrapper\"><!-- LeftResultViewBegin --><div id=\"main\" class=\"main\"><div class=\"search-info\"> <div class=\"all-time-box\"><a class=\"all-time\" href=\"javascript:void(0)\" onmouseover=\"clickHide(this, this.nextSibling, this.firstElementChild, 'time')\"><strong></strong>全部时间</a><div class=\"top-bar-pop\" style=\"display:none\"><i></i><a id=\"left_timespan_0\" class=\"cur\" href=\"javascript:void(0);\">全部时间</a><a id=\"left_timespan_1\" href=\"?query=hi&tsn=1&interV=kKIOkrELjbgLmLkElbkTkKILk7ELjboImLkEk74TkKIMkrELjbkRmLkEmrELjbgRmLkEkLYTKVeRFTbxHUwElKJ6wu9DxqRLzO1H1qR7zOMTEl%2BOKaIPjeh5yupNj%2BlHzrGSATrijb0Exe971aR7z4%3D%3D_-682287274&sourceid=inttime_day\">一天内</a><a id=\"left_timespan_2\" href=\"?query=hi&tsn=2&interV=kKIOkrELjbgLmLkElbkTkKILk7ELjboImLkEk74TkKIMkrELjbkRmLkEmrELjbgRmLkEkLYTKVeRFTbxHUwElKJ6wu9DxqRLzO1H1qR7zOMTEl%2BOKaIPjeh5yupNj%2BlHzrGSATrijb0Exe971aR7z4%3D%3D_-682287274&sourceid=inttime_week\">一周内</a><a id=\"left_timespan_3\" href=\"?query=hi&tsn=3&interV=kKIOkrELjbgLmLkElbkTkKILk7ELjboImLkEk74TkKIMkrELjbkRmLkEmrELjbgRmLkEkLYTKVeRFTbxHUwElKJ6wu9DxqRLzO1H1qR7zOMTEl%2BOKaIPjeh5yupNj%2BlHzrGSATrijb0Exe971aR7z4%3D%3D_-682287274&sourceid=inttime_month\">一月内</a><a id=\"left_timespan_4\" href=\"?query=hi&tsn=4&interV=kKIOkrELjbgLmLkElbkTkKILk7ELjboImLkEk74TkKIMkrELjbkRmLkEmrELjbgRmLkEkLYTKVeRFTbxHUwElKJ6wu9DxqRLzO1H1qR7zOMTEl%2BOKaIPjeh5yupNj%2BlHzrGSATrijb0Exe971aR7z4%3D%3D_-682287274&sourceid=inttime_year\">一年内</a></div></div> <p class=\"num-tips\">搜狗已为您找到约527,600条相关结果</p>  </div>   <div class=\"top-hintBox\" id=\"stable_uphint\" style=\"display:block\" data-tag=\"1\" data-abtest=\"5\"><div id=\"sogou_vr_21167301_recommand_0\" class=\"r-sech\"><span><strong></strong>相关推荐：</span><p> <a target=\"_blank\" id=\"sogou_vr_21167301_T1_0\" href=\"?user_ip=183.95.236.68&sourceid=uphint&s_from=hint_up&bh=1&w=01020600&interation=&interV=kKIOkrELjbgLmLkElbkTkKILk7ELjboImLkEk74TkKIMkrELjbkRmLkEmrELjbgRmLkEkLYTKVeRFTbxHUwElKJ6wu9DxqRLzO1H1qR7zOMTEl+OKaIPjeh5yupNj+lHzrGSATrijb0Exe971aR7z4==_-682287274&htdbg=on&ie=utf8&hintidx=0&query=hi%20%E6%88%91%E7%9A%84%E8%90%8C%E7%B3%BB%E5%B0%8F%E7%94%9C%E5%A6%BB\">hi 我的萌系小甜妻</a> <a target=\"_blank\" id=\"sogou_vr_21167301_T2_0\" href=\"?user_ip=183.95.236.68&sourceid=uphint&s_from=hint_up&bh=1&w=01020600&interation=&interV=kKIOkrELjbgLmLkElbkTkKILk7ELjboImLkEk74TkKIMkrELjbkRmLkEmrELjbgRmLkEkLYTKVeRFTbxHUwElKJ6wu9DxqRLzO1H1qR7zOMTEl+OKaIPjeh5yupNj+lHzrGSATrijb0Exe971aR7z4==_-682287274&htdbg=on&ie=utf8&hintidx=1&query=hi%E5%AE%A4%E5%8F%8B%E7%AC%AC%E4%BA%8C%E5%AD%A3\">hi室友第二季</a> <a target=\"_blank\" id=\"sogou_vr_21167301_T3_0\" href=\"?user_ip=183.95.236.68&sourceid=uphint&s_from=hint_up&bh=1&w=01020600&interation=&interV=kKIOkrELjbgLmLkElbkTkKILk7ELjboImLkEk74TkKIMkrELjbkRmLkEmrELjbgRmLkEkLYTKVeRFTbxHUwElKJ6wu9DxqRLzO1H1qR7zOMTEl+OKaIPjeh5yupNj+lHzrGSATrijb0Exe971aR7z4==_-682287274&htdbg=on&ie=utf8&hintidx=2&query=hi%E5%AE%A4%E5%8F%8B%E4%B8%BB%E9%A2%98%E6%9B%B2\">hi室友主题曲</a> <a target=\"_blank\" id=\"sogou_vr_21167301_T4_0\" href=\"?user_ip=183.95.236.68&sourceid=uphint&s_from=hint_up&bh=1&w=01020600&interation=&interV=kKIOkrELjbgLmLkElbkTkKILk7ELjboImLkEk74TkKIMkrELjbkRmLkEmrELjbgRmLkEkLYTKVeRFTbxHUwElKJ6wu9DxqRLzO1H1qR7zOMTEl+OKaIPjeh5yupNj+lHzrGSATrijb0Exe971aR7z4==_-682287274&htdbg=on&ie=utf8&hintidx=3&query=hi%E4%BB%80%E4%B9%88%E6%84%8F%E6%80%9D%E4%B8%AD%E6%96%87\">hi什么意思中文</a> <a target=\"_blank\" id=\"sogou_vr_21167301_T5_0\" href=\"?user_ip=183.95.236.68&sourceid=uphint&s_from=hint_up&bh=1&w=01020600&interation=&interV=kKIOkrELjbgLmLkElbkTkKILk7ELjboImLkEk74TkKIMkrELjbkRmLkEmrELjbgRmLkEkLYTKVeRFTbxHUwElKJ6wu9DxqRLzO1H1qR7zOMTEl+OKaIPjeh5yupNj+lHzrGSATrijb0Exe971aR7z4==_-682287274&htdbg=on&ie=utf8&hintidx=4&query=hi%E8%81%8A%E5%A4%A9%E8%BD%AF%E4%BB%B6\">hi聊天软件</a></p></div></div> <!--top_filter-->  <!--top_filter-->   <!-- topVrViewBegin -->  <!-- topVrViewEnd -->  \n",
      "            <script>\n",
      "                define(\"\", [\"$\"], function($){\n",
      "                    $(function(){\n",
      "                        // 点击导航栏“英文”\n",
      "                        $(\"#sogou_english\").click(function(){\n",
      "                            if(typeof bing_uigs_cl_url != \"undefined\"){\n",
      "                                (new Image()).src = bing_uigs_cl_url+\"&clk_target=nav\";\n",
      "                            }\n",
      "                            if($(\".suggestion\").is(\":visible\")){\n",
      "                                $(\".suggestion\").hide();\n",
      "                            }\n",
      "                        });\n",
      "                        // 点击提示区\n",
      "                        $(\"#bing_english_tab_en\").click(function(){\n",
      "                            if(typeof bing_uigs_cl_url != \"undefined\"){\n",
      "                                (new Image()).src = bing_uigs_cl_url+\"&clk_target=entrance\";\n",
      "                            }\n",
      "                        });\n",
      "                    });\n",
      "                });\n",
      "            </script>\n",
      "           <!--Left BRAND start--><!--Left BRAND end--> <!--Top ADV Start--><!--Top ADV End-->      <div><div class=\"results\">   <!-- kmapLeftViewBegin -->  <!-- kmapLeftViewEnd -->    <!-- ResultListViewBegin -->  <!-- a --><div class=\"vrwrap\" id=\"sogou_vr_70162601_wrap_0\">\n",
      "<link href=\"https://dlweb.sogoucdn.com/vr/css/vr/translate190315.min.6ec6a114.css\" rel=\"stylesheet\" type=\"text/css\">\n",
      "<h3 class=\"vrTitle _title\"><a target=\"_blank\" href=\"http://wap.sogou.com\" id=\"sogou_vr_70162601_title_0\"><em>word::ｈｉ::0</em>_搜狗翻译\n",
      "                </a></h3>\n",
      "<div class=\"translate190315 vrwrap-border _box\">\n",
      "<div class=\"word-title  _word-title\"></div>\n",
      "<div class=\"word-pronunciation\">\n",
      "<div class=\"translate-result _shiyi-box\">嗨<span class=\"base-tag\">常用释义</span>\n",
      "</div>\n",
      "<div class=\"_pronounce-box\"></div>\n",
      "</div>\n",
      "<div class=\"word-result  _detail-box\"></div>\n",
      "<div class=\"moreLink _more\"><a href=\"javascript:void(0)\" target=\"_blank\" id=\"sogou_vr_70162601_more_0\">查看更多内容&gt;&gt;</a></div>\n",
      "</div>\n",
      "<div id=\"sogou_vr_70162601_jqplayercontainer_0\"><div id=\"sogou_vr_70162601_jqplayer_0\"></div></div>\n",
      "<div class=\"fb\"><cite>www.sogou.com</cite></div>\n",
      "<script src=\"https://dlweb.sogoucdn.com/vr/js/70162600.min.a8b4d1c5.js\" type=\"text/javascript\"></script><script type=\"text/javascript\">declare(\"vr.tpl70162600\", \"inline\");define(\"\", [\"vr.tpl70162600\"], function(tpl70162600){\n",
      "                var sub_doc_arr= [] ;\n",
      "                if(''){\n",
      "                    var obj = {};\n",
      "                    obj.title_en = '' ;\n",
      "                    obj.word_en = '' ;\n",
      "                    obj.word_zh = '' ;\n",
      "                    obj.title = '' ;\n",
      "                    sub_doc_arr.push(obj) ;\n",
      "                }\n",
      "                if(''){\n",
      "                    var obj = {};\n",
      "                    obj.title_en = '' ;\n",
      "                    obj.word_en = '' ;\n",
      "                    obj.word_zh = '' ;\n",
      "                    obj.title = '' ;\n",
      "                    sub_doc_arr.push(obj) ;\n",
      "                }\n",
      "            tpl70162600(70162600, \"70162601\", \"0\",\"word::ｈｉ::0\",\"嗨\",sub_doc_arr);});</script>\n",
      "</div>\n",
      "<!-- z --><!-- a -->\r\n",
      "<div class=\"vrwrap\">\r\n",
      "    <h3 class=\"vrTitle\">\r\n",
      "        <a id=\"sogou_vr_30010097_1\" target=\"_blank\"  cacheStrategy=\"qcr:-1\" href=\"/link?url=DOb0bgH2eKjRiy6S-EyBciCDFRTZxEJgfeCGayCWlsJIK9ahPqNmMMiyEHfbcNFh\"><em><!--red_beg-->hi<!--red_end--></em> - 搜狗百科</a>\r\n",
      "    </h3>\r\n",
      "\r\n",
      "    <div class=\"strBox\">\r\n",
      "        <div class=\"str_div\" id=\"sogou_vr_30010097_str_div_1\">\r\n",
      "            <a target=\"_blank\" class=\"str_img size_120_90\" id=\"sogou_vr_30010097_pic_1\" href=\"http://baike.sogou.com/v99177.htm?fromTitle=hi\">\r\n",
      "                <img  alt=\"\" id=\"sogou_vr_30010097_img_1\" src=\"https://img03.sogoucdn.com/v2/thumb/crop/xy/ai/x/0/y/0/w/120/h/90/iw/90/ih/67.5/t/0/ir/3?t=2&amp;appid=200997&amp;url=http%3A%2F%2Fpic.baike.soso.com%2Fpqpic%2Fbaikepic%2F34508%2Fcut-20140523213706-1927077362.jpg%2F0&amp;referer=http%3A%2F%2Fbaike.sogou.com%2Fv99177.htm%3FfromTitle%3Dhi&amp;sign=62301a7e6f3d979a43079dcfb1605e74\" onerror=\"this.parentNode.parentNode.style.display=&#39;none&#39;;this.onerror = null;\"></img>\r\n",
      "            </a>\r\n",
      "        </div>\r\n",
      "        <div class=\"str_info_div\">\r\n",
      "            <p class=\"str_info\">\r\n",
      "                        【口语】<em><!--red_beg-->你好<!--red_end--></em>、嗨。也可用于日常问候。 <em><!--red_beg-->hi<!--red_end--></em>[hai]int.喂，嗨！【口】<em><!--red_beg-->你好<!--red_end--></em>、嗨多用于口语，在人名前使用<em><!--red_beg-->Hi<!--red_end--></em>, Barbara, how are ...\r\n",
      "            </p><div class=\"strLink\" id=\"sogou_vr_30010097_list_1\"><a target=\"_blank\" id=\"sogou_vr_30010097_sub_1_1\" href=\"/link?url=DOb0bgH2eKjRiy6S-EyBciCDFRTZxEJgfeCGayCWlsKWDWufKUJPCw..\">英文单词</a>&nbsp;-&nbsp;<a target=\"_blank\" id=\"sogou_vr_30010097_sub_2_1\" href=\"/link?url=DOb0bgH2eKjRiy6S-EyBciCDFRTZxEJgfeCGayCWlsIEhhzByDJqR63mlRzfPLR2\">HI字幕</a>&nbsp;-&nbsp;<a target=\"_blank\" id=\"sogou_vr_30010097_sub_3_1\" href=\"/link?url=DOb0bgH2eKjRiy6S-EyBciCDFRTZxEJgfeCGayCWlsKHUo213dllya3mlRzfPLR2\">企业听觉识别</a>                </div><div class=\"moreLink\">\r\n",
      "                    <a target=\"_blank\" id=\"sogou_vr_30010097_link-more_1\" href=\"/link?url=DOb0bgH2eKjRiy6S-EyBciCDFRTZxEJgfeCGayCWlsJIK9ahPqNmMMiyEHfbcNFh\">\r\n",
      "                        查看更多<em>hi</em>的释义&gt;&gt;\r\n",
      "                    </a>\r\n",
      "                </div><div class=\"fb\" >\r\n",
      "        <cite id=\"cacheresult_info_1\">\r\n",
      "            搜狗百科 - baike.sogou.com/v...&nbsp;-&nbsp;2019-7-28</cite>&nbsp;-&nbsp;<!--resultsnap_beg--><a target=\"_blank\" style=\"color: #666666;\" href=\"http://snapshot.sogoucdn.com/websnapshot?ie=utf8&url=http%3A%2F%2Fbaike.sogou.com%2Fv99177.htm%3FfromTitle%3Dhi&did=3c28af542f2d49f7-efa638340bb86e2c-5badcacabd673c47764950d4d044d39b&k=064b5586c889da6a077e3390303b803a&encodedQuery=hi&query=hi&&w=01020400&m=0&st=1\" id=\"sogou_snapshot_1\"><!--resultsnap_end-->快照</a></div>\r\n",
      "        </div>\r\n",
      "    </div>\r\n",
      "\r\n",
      "            <div class=\"r-sech ext_query r-sech-test_02\" style=\"display:none\" id=\"sogou_vr_30010097_sq_ext_1\">\r\n",
      "            <span><strong></strong>推荐您搜索：</span><i></i>\r\n",
      "            <p>\r\n",
      "                <a target=\"_blank\" href=\"http://www.sogou.com/web?query=hi是什么意思；hi同义词；\" id=\"sogou_vr_30010097_sq_ext_a_1\">hi是什么意思；hi同义词；</a>\r\n",
      "            </p>\r\n",
      "        </div>\r\n",
      "\r\n",
      "    <script>define(\"vr.tpl6006\",[\"$s\",\"$\"],function(h){function o(n,e){return 0==e?0:n/e}function g(n,e,r,t){if(r<=0||t<=0)$(\"#\"+n).css({display:\"none\"});else{o(r,t);if(function(n,e){var r=o(n,e);return 2<=r||r<=120/90*.5}(r,t))$(\"#\"+n).css({display:\"none\"});else if(120<r){var i=.382*(r-=120);$(\"#\"+e).css({left:\"-\"+i+\"px\"})}else if(90<t){i=.382*(t-=90);$(\"#\"+e).css({top:\"-\"+i+\"px\"})}}}return function(n,e,r){function t(n){return\"sogou_vr_\"+o+\"_sub_\"+n+\"_\"+s}for(var i,o=e,s=r,u=\"sogou_vr_\"+o+\"_img_\"+s,f=\"sogou_vr_\"+o+\"_str_div_\"+s,c=$(\"#\"+f),l=$(\"#\"+u),a=function(){for(var n=0,e=1;e<=5;e++){var r=t(e);h.$(r)&&n++}return n}(),v=\"\",_=1;_<=a;_++){var d=t(_);v+=(i=d,h.$(i)?h.$(i).innerHTML:null)}if(function(n){var e,r=0,t=0;if(null==n)return\"\";for(t=0,e=(n=n.replace(/^\\s+|\\s+$/g,\"\")).length;t<e;t++)r+=n.charCodeAt(t)<=127?1:2;return r}(v)<=62){var p=t(a);h.$(p)&&(h.$(p).style.display=\"\")}void 0!==l[0]&&(setTimeout(function(){l.height()<=0&&c.css({display:\"none\"})},1500),void 0!==l[0].complete&&l[0].complete?g(f,u,l.width(),l.height()):l.load(function(){g(f,u,l.width(),l.height())}))}});</script> <script> declare(\"vr.tpl6006\", \"inline\"); define(\"\", [\"vr.tpl6006\"], function(func){func(6006, \"30010097\", 1);});</script>\r\n",
      "    <!--STATUS VR OK--><!--VR TYPE: 30010097 ,RANK:1-->\r\n",
      "</div><!-- z --><!-- a --><style type=\"text/css\">\r\n",
      "    .aggrBox .vrPic{border: 1px solid #eee;min-height: 20px;background: #FFF;margin-bottom: 4px;padding: 10px 15px;zoom: 1;width: auto;}\r\n",
      "    .vrPic .vrPicBox{margin:5px 0;position:relative;zoom:1;}\r\n",
      "    .vrPic .vrPicBox ul{border-top:none;border-left:1px solid #ebebeb; background:none;float:left; height: 92px; overflow:hidden; position: relative;}\r\n",
      "    .vrPic .vrPicBox li{float:left;border-bottom:1px solid #ebebeb;border-right:1px solid #ebebeb;_overflow:hidden}\r\n",
      "    .vrPic .vrPicBox li img{height:92px;vertical-align: top;}\r\n",
      "    .vrPic .more{text-decoration:none;display:inline-block;margin-bottom: 6px;border-top:none;line-height:16px;color:#00c;clear:both}\r\n",
      "    .vrPic .relat{margin:0 0 7px;color:#666;height:16px;line-height:16px;overflow:hidden; display:none}\r\n",
      "    .vrPic .relat a{margin-right:10px; white-space:nowrap; display:inline-block;*line-height:16px}\r\n",
      "    .picShow{ position:absolute;left:0;top:0;border:1px solid #dcdcdb;padding:5px; background:#fff}\r\n",
      "    .picShow img{width:300px;display:none}\r\n",
      "    .vrPic .vrPicBox li.bigImg{height:181px}\r\n",
      "    .vrPic .vrPicBox li.bigImg img{height:181px}\r\n",
      "    .vrPic cite{ color: #008000;font-style: normal;}\r\n",
      "    .vrPic cite a {color: #686868;font-style: normal;}\r\n",
      "    .vrPic .vrPicBox li{position:relative;}\r\n",
      "    .vrPic .vrPicBox li.hover img{height: 94px;position:relative; left:-2px; top:-2px;}\r\n",
      "    .vrPic {padding-bottom: 8px;}\r\n",
      "    .key-box{position: relative;margin-top:5px;margin-left: -4px;padding-bottom: 5px;overflow:hidden;zoom:1;}\r\n",
      "    .key{float: left;display: inline;padding:0 19px;line-height:24px;border:1px solid #e4e4e4; text-decoration:none;margin:5px 5px 0;}\r\n",
      "    .key:hover{background:#f4f9ff;}\r\n",
      "    .related{line-height:22px;clear:both;height: 22px;overflow:hidden;}\r\n",
      "    .related a{margin:0 5px;text-decoration:none;white-space: nowrap;display: inline-block;}\r\n",
      "    .related a:hover{text-decoration:underline;}\r\n",
      "    .related em{text-decoration:none;}\r\n",
      "    .re-tt{color:#746f65;}\r\n",
      "    cite,.vr-bing-msg{_float:left;}\r\n",
      "    .vr-bing-msg{display: inline-block;margin-left: 4px;padding: 0;}\r\n",
      "    .vr-bing-msg span{height: 10px;width: 1px;background-color: #ebebeb;display: inline-block;margin: 1px 8px 0 0;}\r\n",
      "    .vr-bing-msg img{margin: -1px 5px 0;width: 12px;height: 12px; vertical-align: -1px;}\r\n",
      "</style>\r\n",
      "<script>\r\n",
      "    function vrImgHandleLoad550(obj,width,height){\r\n",
      "        calImg(obj);\r\n",
      "        obj.style.visibility = \"visible\";\r\n",
      "        function calImg (that){\r\n",
      "            if (that.height == 0){\r\n",
      "                setTimeout(function (){\r\n",
      "                    calImg(that);\r\n",
      "                }, 50);\r\n",
      "                return;\r\n",
      "            }\r\n",
      "            if(width != that.width){\r\n",
      "                var pos = Math.floor((that.width - width)/2);\r\n",
      "                obj.style.marginLeft = (-pos) + \"px\";\r\n",
      "            }\r\n",
      "            if(height != that.height){\r\n",
      "                var pos = Math.floor((that.height - height)/2);\r\n",
      "                obj.style.marginTop = (-pos) + \"px\";\r\n",
      "            }\r\n",
      "        }\r\n",
      "    }\r\n",
      "\r\n",
      "    function vrImgHandleError550(obj,width,height){\r\n",
      "        var defaultImage = '/images/wx/120-80.png';\r\n",
      "        if (width == 57) {\r\n",
      "            defaultImage = '/images/wx/56-56.png';\r\n",
      "        } else if (width == 90) {\r\n",
      "            defaultImage = '/images/wx/88-88.png';\r\n",
      "        } else if (width == 120) {\r\n",
      "            defaultImage = '/images/wx/120-80.png';\r\n",
      "        } else if (width == 70) {\r\n",
      "            obj.parentNode.parentNode.style.display = \"none\";\r\n",
      "        }\r\n",
      "        obj.src = defaultImage;\r\n",
      "        obj.onload = function(){};\r\n",
      "        obj.style.visibility = \"visible\";\r\n",
      "        obj.style.marginLeft = \"0px\";\r\n",
      "        obj.style.marginTop = \"0px\";\r\n",
      "    }\r\n",
      "\r\n",
      "    function vrUrl550(that, q){\r\n",
      "        that.href = 'http://weixin.sogou.com/weixin?query='+encodeURIComponent(q)+'&type=2';\r\n",
      "        return false;\r\n",
      "    }\r\n",
      "\r\n",
      "    function len(str){\r\n",
      "        if(str)\r\n",
      "            return str.replace(/<.*?>/g, \"\").replace(/[^\\x00-\\xff]/g,\"rr\").replace(/&nbsp;/g, \" \").length;\r\n",
      "        return 0;\r\n",
      "    }\r\n",
      "    function cutLength(str, maxLen, appended, appendLength){\r\n",
      "        appended = appended||\"...\";\r\n",
      "        appendLength = appendLength||2;\r\n",
      "        str = str.replace(/<!.*?>/g, \"\");\r\n",
      "        if (len(str) > maxLen){\r\n",
      "            do{\r\n",
      "                str = str.substring(0, str.length-1);\r\n",
      "            }while(str && (len(str)+appendLength > maxLen));\r\n",
      "            if (str.lastIndexOf(\"</\") != str.lastIndexOf(\"<\")){\r\n",
      "                str = str.substring(0, str.lastIndexOf(\"<\"))+str.substring(str.lastIndexOf(\">\")+1);\r\n",
      "            }\r\n",
      "            return str+appended;\r\n",
      "        }\r\n",
      "        return str;\r\n",
      "    }\r\n",
      "\r\n",
      "    function vrTimeHandle550(time){\r\n",
      "        if (time) {\r\n",
      "            var type = [\"1分钟前\", \"分钟前\", \"小时前\", \"天前\", \"周前\", \"个月前\", \"年前\"], secs = now/1000 - parseInt(time,10);\r\n",
      "            if(secs < 60){\r\n",
      "                return type[0];\r\n",
      "            }else if(secs < 3600){\r\n",
      "                return Math.floor(secs/60) + type[1];\r\n",
      "            }else if(secs < 24*3600){\r\n",
      "                return Math.floor(secs/3600) + type[2];\r\n",
      "            }else if(secs < 24*3600 *7){\r\n",
      "                return Math.floor(secs/(24*3600)) + type[3];\r\n",
      "            }else if(secs < 24*3600*31){\r\n",
      "                return Math.round(secs/(24*3600*7)) + type[4];\r\n",
      "            }else if(secs < 24*3600*365){\r\n",
      "                return Math.round(secs/(24*3600*31)) + type[5];\r\n",
      "            }else if(secs >= 24*3600*365){\r\n",
      "                return Math.round(secs/(24*3600*365)) + type[6];\r\n",
      "            }else {\r\n",
      "                return '';\r\n",
      "            }\r\n",
      "        } else {\r\n",
      "            return '';\r\n",
      "        }\r\n",
      "    }\r\n",
      "</script>\r\n",
      "<div class=\"vrwrap\"><div style=\"display:none;\" id=\"wx_title_550_2\"><em><!--red_beg-->hi<!--red_end--></em>,好久不见,我是晶晶!</div>\r\n",
      "    <h3 class=\"vrTitle\">\r\n",
      "        <a target=\"_blank\" class=\"tit-ico\" href=\"http://mp.weixin.qq.com/s?src=11&amp;timestamp=1600676415&amp;ver=2597&amp;signature=4jb-f1ybQZGSDhySBOmHrINGUK603OstMEXKIoOgkoqOZgOBWuqc7YKLLhPaiBxY4XdQ*2*izvOgHLfqSZ5BKX6iboDC*kO6I1gUxEN-*hvZY637vuFZeN*QWhg6pwFk&amp;new=1\" id=\"sogou_vr_11002601_title_2\" style=\"background:url(/images/wx/wx-ico.gif) no-repeat left center;padding-left:21px;height:26px;display:inline-block;\"></a>\r\n",
      "    </h3>\r\n",
      "    <script>\r\n",
      "        (function(pos, id){\r\n",
      "            var obj = $s.$(id);\r\n",
      "            if(obj){\r\n",
      "                obj.innerHTML = cutLength($s.$('wx_title_550_'+pos).innerHTML, 62, \"\", 0);\r\n",
      "            }\r\n",
      "        })('2', \"sogou_vr_11002601_title_2\");\r\n",
      "    </script><div class=\"strBox\"><div class=\"str_div\">\r\n",
      "                <a target=\"_blank\" class=\"str_img size_120_80\" href=\"http://mp.weixin.qq.com/s?src=11&amp;timestamp=1600676415&amp;ver=2597&amp;signature=4jb-f1ybQZGSDhySBOmHrINGUK603OstMEXKIoOgkoqOZgOBWuqc7YKLLhPaiBxY4XdQ*2*izvOgHLfqSZ5BKX6iboDC*kO6I1gUxEN-*hvZY637vuFZeN*QWhg6pwFk&amp;new=1\" id=\"sogou_vr_11002601_image_2\">\r\n",
      "                    <img width=\"120\" alt=\"\" onload=\"vrImgHandleLoad550(this,120,80)\" onerror=\"vrImgHandleError550(this,120,80)\" src=\"https://img01.sogoucdn.com/v2/thumb/crop/xy/ai/x/0/y/0/w/120/h/80/iw/90/ih/60/t/0/ir/3?t=2&amp;appid=200997&amp;url=http%3A%2F%2Fmmbiz.qpic.cn%2Fmmbiz_jpg%2FdgyzJRuH3nKl6GicooyGOb5KlPUU9P3PYm5FMHJILgEkeawM38wAD3I4s9Svh7BbSePAKaf7nfApvkGs7ds4yvw%2F0%3Fwx_fmt%3Djpeg&amp;sign=88053ff739d051a5584d86b05a3be592\"></img>\r\n",
      "                </a>\r\n",
      "            </div><div class=\"str_info_div\"><div id=\"wx_data_550\" style=\"display:none\"><em><!--red_beg-->Hi<!--red_end--></em>,好久不见呀!我是晶晶,那个亮晶晶的晶晶几个月前的突然离开,让我对FM96.1、对爱吃、对你们都格外的不舍经过这几个月的休息,现在我终于回来啦!!爱吃的宝宝们,...</div>\r\n",
      "            <p class=\"str_info\"><span class=\"tag-time\" style=\"margin-right:5px\">\r\n",
      "                    <script>document.write(vrTimeHandle550('1591000259')+' -');</script>\r\n",
      "                </span>\r\n",
      "                <script>document.write(cutLength($s.$('wx_data_550').innerHTML, 168, \"\", 0));</script>\r\n",
      "            </p><div class=\"fb\">\r\n",
      "                <cite>我在衡阳我爱吃 - weixin.qq.com - 2020-06-01</cite>\r\n",
      "            </div>\r\n",
      "        </div>\r\n",
      "    </div></div><!-- z --><!-- a --><div class=\"vrwrap\"><div class=\"vrTitle\"><span><em>99%</em>的人还搜了</span></div><div class=\"hint-mid\"><a href=\"?user_ip=183&sourceid=hint&bh=1&hintidx=0&query=hi%E8%8B%B1%E8%AF%AD&w=01020600&interation=&interV=kKIOkrELjbgLmLkElbkTkKILk7ELjboImLkEk74TkKIMkrELjbkRmLkEmrELjbgRmLkEkLYTKVeRFTbxHUwElKJ6wu9DxqRLzO1H1qR7zOMTEl+OKaIPjeh5yupNj+lHzrGSATrijb0Exe971aR7z4==_-682287274&htdbg=on&ie=utf8&s_from=hint_mid\" id=\"sogou_99666_1\">hi英语</a><a href=\"?user_ip=183&sourceid=hint&bh=1&hintidx=1&query=hi%E6%98%AF%E4%BB%80%E4%B9%88%E6%84%8F%E6%80%9D%E4%B8%AD%E6%96%87&w=01020600&interation=&interV=kKIOkrELjbgLmLkElbkTkKILk7ELjboImLkEk74TkKIMkrELjbkRmLkEmrELjbgRmLkEkLYTKVeRFTbxHUwElKJ6wu9DxqRLzO1H1qR7zOMTEl+OKaIPjeh5yupNj+lHzrGSATrijb0Exe971aR7z4==_-682287274&htdbg=on&ie=utf8&s_from=hint_mid\" id=\"sogou_99666_2\">hi是什么意思中文</a><a href=\"?user_ip=183&sourceid=hint&bh=1&hintidx=2&query=hi%E8%81%8A%E5%A4%A9%E8%BD%AF%E4%BB%B6&w=01020600&interation=&interV=kKIOkrELjbgLmLkElbkTkKILk7ELjboImLkEk74TkKIMkrELjbkRmLkEmrELjbgRmLkEkLYTKVeRFTbxHUwElKJ6wu9DxqRLzO1H1qR7zOMTEl+OKaIPjeh5yupNj+lHzrGSATrijb0Exe971aR7z4==_-682287274&htdbg=on&ie=utf8&s_from=hint_mid\" id=\"sogou_99666_3\">hi聊天软件</a><a href=\"?user_ip=183&sourceid=hint&bh=1&hintidx=3&query=hi%E6%80%8E%E4%B9%88%E8%AF%BB&w=01020600&interation=&interV=kKIOkrELjbgLmLkElbkTkKILk7ELjboImLkEk74TkKIMkrELjbkRmLkEmrELjbgRmLkEkLYTKVeRFTbxHUwElKJ6wu9DxqRLzO1H1qR7zOMTEl+OKaIPjeh5yupNj+lHzrGSATrijb0Exe971aR7z4==_-682287274&htdbg=on&ie=utf8&s_from=hint_mid\" id=\"sogou_99666_4\">hi怎么读</a><a href=\"?user_ip=183&sourceid=hint&bh=1&hintidx=4&query=hi%E7%9A%84%E9%9F%B3%E6%A0%87%E6%98%AF%E4%BB%80%E4%B9%88&w=01020600&interation=&interV=kKIOkrELjbgLmLkElbkTkKILk7ELjboImLkEk74TkKIMkrELjbkRmLkEmrELjbgRmLkEkLYTKVeRFTbxHUwElKJ6wu9DxqRLzO1H1qR7zOMTEl+OKaIPjeh5yupNj+lHzrGSATrijb0Exe971aR7z4==_-682287274&htdbg=on&ie=utf8&s_from=hint_mid\" id=\"sogou_99666_5\">hi的音标是什么</a><a href=\"?user_ip=183&sourceid=hint&bh=1&hintidx=5&query=hi%E5%90%8C%E4%B9%89%E8%AF%8D&w=01020600&interation=&interV=kKIOkrELjbgLmLkElbkTkKILk7ELjboImLkEk74TkKIMkrELjbkRmLkEmrELjbgRmLkEkLYTKVeRFTbxHUwElKJ6wu9DxqRLzO1H1qR7zOMTEl+OKaIPjeh5yupNj+lHzrGSATrijb0Exe971aR7z4==_-682287274&htdbg=on&ie=utf8&s_from=hint_mid\" id=\"sogou_99666_6\">hi同义词</a><a href=\"?user_ip=183&sourceid=hint&bh=1&hintidx=6&query=hi%20%E6%88%91%E7%9A%84%E8%90%8C%E7%B3%BB%E5%B0%8F%E7%94%9C%E5%A6%BB&w=01020600&interation=&interV=kKIOkrELjbgLmLkElbkTkKILk7ELjboImLkEk74TkKIMkrELjbkRmLkEmrELjbgRmLkEkLYTKVeRFTbxHUwElKJ6wu9DxqRLzO1H1qR7zOMTEl+OKaIPjeh5yupNj+lHzrGSATrijb0Exe971aR7z4==_-682287274&htdbg=on&ie=utf8&s_from=hint_mid\" id=\"sogou_99666_7\">hi 我的萌系小甜妻</a><a href=\"?user_ip=183&sourceid=hint&bh=1&hintidx=7&query=hi%E7%9A%84%E7%9B%B8%E5%85%B3%E8%B5%84%E6%96%99&w=01020600&interation=&interV=kKIOkrELjbgLmLkElbkTkKILk7ELjboImLkEk74TkKIMkrELjbkRmLkEmrELjbgRmLkEkLYTKVeRFTbxHUwElKJ6wu9DxqRLzO1H1qR7zOMTEl+OKaIPjeh5yupNj+lHzrGSATrijb0Exe971aR7z4==_-682287274&htdbg=on&ie=utf8&s_from=hint_mid\" id=\"sogou_99666_8\">hi的相关资料</a><a href=\"?user_ip=183&sourceid=hint&bh=1&hintidx=8&query=hi%E8%AF%AD%E9%9F%B3%E5%AE%98%E6%96%B9%E4%B8%8B%E8%BD%BD&w=01020600&interation=&interV=kKIOkrELjbgLmLkElbkTkKILk7ELjboImLkEk74TkKIMkrELjbkRmLkEmrELjbgRmLkEkLYTKVeRFTbxHUwElKJ6wu9DxqRLzO1H1qR7zOMTEl+OKaIPjeh5yupNj+lHzrGSATrijb0Exe971aR7z4==_-682287274&htdbg=on&ie=utf8&s_from=hint_mid\" id=\"sogou_99666_9\">hi语音官方下载</a><a href=\"?user_ip=183&sourceid=hint&bh=1&hintidx=9&query=hi%E4%B8%8Ehello%E7%9A%84%E5%8C%BA%E5%88%AB&w=01020600&interation=&interV=kKIOkrELjbgLmLkElbkTkKILk7ELjboImLkEk74TkKIMkrELjbkRmLkEmrELjbgRmLkEkLYTKVeRFTbxHUwElKJ6wu9DxqRLzO1H1qR7zOMTEl+OKaIPjeh5yupNj+lHzrGSATrijb0Exe971aR7z4==_-682287274&htdbg=on&ie=utf8&s_from=hint_mid\" id=\"sogou_99666_10\">hi与hello的区别</a><a href=\"?user_ip=183&sourceid=hint&bh=1&hintidx=10&query=hi%E8%BD%AF%E4%BB%B6&w=01020600&interation=&interV=kKIOkrELjbgLmLkElbkTkKILk7ELjboImLkEk74TkKIMkrELjbkRmLkEmrELjbgRmLkEkLYTKVeRFTbxHUwElKJ6wu9DxqRLzO1H1qR7zOMTEl+OKaIPjeh5yupNj+lHzrGSATrijb0Exe971aR7z4==_-682287274&htdbg=on&ie=utf8&s_from=hint_mid\" id=\"sogou_99666_11\">hi软件</a><a href=\"?user_ip=183&sourceid=hint&bh=1&hintidx=11&query=hey%E5%92%8Chi%E7%9A%84%E5%8C%BA%E5%88%AB&w=01020600&interation=&interV=kKIOkrELjbgLmLkElbkTkKILk7ELjboImLkEk74TkKIMkrELjbkRmLkEmrELjbgRmLkEkLYTKVeRFTbxHUwElKJ6wu9DxqRLzO1H1qR7zOMTEl+OKaIPjeh5yupNj+lHzrGSATrijb0Exe971aR7z4==_-682287274&htdbg=on&ie=utf8&s_from=hint_mid\" id=\"sogou_99666_12\">hey和hi的区别</a><a href=\"?user_ip=183&sourceid=hint&bh=1&hintidx=12&query=hi%E5%8F%91%E9%9F%B3&w=01020600&interation=&interV=kKIOkrELjbgLmLkElbkTkKILk7ELjboImLkEk74TkKIMkrELjbkRmLkEmrELjbgRmLkEkLYTKVeRFTbxHUwElKJ6wu9DxqRLzO1H1qR7zOMTEl+OKaIPjeh5yupNj+lHzrGSATrijb0Exe971aR7z4==_-682287274&htdbg=on&ie=utf8&s_from=hint_mid\" id=\"sogou_99666_13\">hi发音</a><a href=\"?user_ip=183&sourceid=hint&bh=1&hintidx=13&query=hi%E5%8C%96%E5%AD%A6%E5%90%8D%E7%A7%B0&w=01020600&interation=&interV=kKIOkrELjbgLmLkElbkTkKILk7ELjboImLkEk74TkKIMkrELjbkRmLkEmrELjbgRmLkEkLYTKVeRFTbxHUwElKJ6wu9DxqRLzO1H1qR7zOMTEl+OKaIPjeh5yupNj+lHzrGSATrijb0Exe971aR7z4==_-682287274&htdbg=on&ie=utf8&s_from=hint_mid\" id=\"sogou_99666_14\">hi化学名称</a><a href=\"?user_ip=183&sourceid=hint&bh=1&hintidx=14&query=hello%E5%92%8Chi&w=01020600&interation=&interV=kKIOkrELjbgLmLkElbkTkKILk7ELjboImLkEk74TkKIMkrELjbkRmLkEmrELjbgRmLkEkLYTKVeRFTbxHUwElKJ6wu9DxqRLzO1H1qR7zOMTEl+OKaIPjeh5yupNj+lHzrGSATrijb0Exe971aR7z4==_-682287274&htdbg=on&ie=utf8&s_from=hint_mid\" id=\"sogou_99666_15\">hello和hi</a></div></div><!-- a -->\r\n",
      "\r\n",
      "<div class=\"vrwrap\">\r\n",
      "    <h3 class=\"vrTitle\">\r\n",
      "        <a id=\"sogou_vr_30000701_4\" target=\"_blank\"  cacheStrategy=\"qcr:-1\" href=\"/link?url=DSOYnZeCC_qCg_sV8b7XKZlpsg6hxU8406jqesMEqQY.\"><em><!--red_beg-->Hi<!--red_end--></em>现场-免费微信墙-微信大屏幕-年会节目策划-现场互动服务平台</a></h3>\r\n",
      "\r\n",
      "    <div class=\"strBox\">\r\n",
      "        <div class=\"str_div\" id=\"sogou_vr_30000701_str_div_4\">\r\n",
      "            <a target=\"_blank\" class=\"str_img size_90_90\" id=\"sogou_vr_30000701_pic_4\"  href=\"/link?url=DSOYnZeCC_qCg_sV8b7XKZlpsg6hxU8406jqesMEqQY.\">\r\n",
      "                <img style=\"height:90px\" alt=\"\" id=\"sogou_vr_30000701_pic_img_4\" src=\"https://img01.sogoucdn.com/app/a/100520115/a12da878dabc770f5dc8046c31c0630a\" onerror='    this.parentNode.parentNode.style.display=&quot;none&quot;;this.onerror = null;'></img>\r\n",
      "            </a>\r\n",
      "        </div>\r\n",
      "\r\n",
      "\r\n",
      "        <div class=\"str_info_div\"><p class=\"str_info\"><em><!--red_beg-->Hi<!--red_end--></em>现场是一款免费，简单，好玩，个性化的微信墙，微信大屏幕制作软件工具。<em><!--red_beg-->Hi<!--red_end--></em>现场，适用于年会，酒吧，婚礼婚庆，校园活动，培训，演出，订货会，开盘等活动方案策划，包括微信上墙，弹幕，签到，抽奖，投票等现场必备功能，更有摇一摇，赛马，红包雨，打赏...</p><div class=\"fb\" >\r\n",
      "        <cite id=\"cacheresult_info_4\">\r\n",
      "            Hi现场 - www.hixianchang.com&nbsp;-&nbsp;2020-9-17</cite>&nbsp;-&nbsp;<!--resultsnap_beg--><a target=\"_blank\" style=\"color: #666666;\" href=\"http://snapshot.sogoucdn.com/websnapshot?ie=utf8&url=http%3A%2F%2Fwww.hixianchang.com%2F&did=3d642390fe538296-88b6a449b898c953-a12da878dabc770f5dc8046c31c0630a&k=8d5f3b3f22c382bf970513b38b47e212&encodedQuery=hi&query=hi&&w=01020400&m=0&st=1\" id=\"sogou_snapshot_4\"><!--resultsnap_end-->快照</a></div></div>\r\n",
      "    </div>\r\n",
      "\r\n",
      "            <div class=\"r-sech ext_query r-sech-test_02\" style=\"display:none\" id=\"sogou_vr_30000701_sq_ext_4\">\r\n",
      "            <span><strong></strong>推荐您搜索：</span><i></i>\r\n",
      "            <p>\r\n",
      "                <a target=\"_blank\" href=\"http://www.sogou.com/web?query=hi现场登录；hi现场手机版；hi现场官网手机版下载；嗨现场抽奖怎么做；hi现场软件下载；hi聊天软件下载；hi现场免费使用；hi现场微信墙；hi现场免费版；hi现场霸屏；hi现场签到；high现场；hi现场校园版；hi直播盒子；hi现场抽奖；\" id=\"sogou_vr_30000701_sq_ext_a_4\">hi现场登录；hi现场手机版；hi现场官网手机版下载；嗨现场抽奖怎么做；hi现场软件下载；hi聊天软件下载；hi现场免费使用；hi现场微信墙；hi现场免费版；hi现场霸屏；hi现场签到；high现场；hi现场校园版；hi直播盒子；hi现场抽奖；</a>\r\n",
      "            </p>\r\n",
      "        </div>\r\n",
      "\r\n",
      "    <script>define(\"vr.tpl139\",[\"$s\",\"$\"],function(t){function i(t,o){return 0==o?0:t/o}function g(t,o,n,r){if(n<=0||r<=0)$(\"#\"+t).css({display:\"none\"});else{i(n,r);if(function(t,o){var n=i(t,o);return 1.8<=n||n<=.5556}(n,r))$(\"#\"+t).css({display:\"none\"});else if(90<n){var e=.382*(n-=90);$(\"#\"+o).css({left:\"-\"+e+\"px\"})}else if(90<r){e=.382*(r-=90);$(\"#\"+o).css({top:\"-\"+e+\"px\"})}}}return function(t,o,n){var r=o,e=n,i=\"sogou_vr_\"+r+\"_str_div_\"+e,s=\"sogou_vr_\"+r+\"_pic_img_\"+e,c=$(\"#\"+i),u=$(\"#\"+s),a=\"sogou_vr_\"+r+\"_hidesmallform_\"+e,l=\"sogou_vr_\"+r+\"_smallform_\"+e,_=\"sogou_vr_\"+r+\"_smallinput_\"+e,f=\"sogou_vr_\"+r+\"_smallform_a_\"+e,v=($(\"#\"+a).attr(\"action\"),$(\"#\"+l).attr(\"action\"),$(\"#\"+_).attr(\"name\"),$(\"#\"+_).attr(\"value\")),h=v;$(\"#\"+(\"sogou_vr_\"+r+\"_net_link_\"+e)+\" a\").each(function(){var t=$($(this)[0]),o=t.text();7<function(t){for(var o=0,n=0;n<t.length;n++){var r=t.charAt(n);2<encodeURI(r).length?o+=1:o+=.5}return o}(o)&&(o=function(t,o){for(var n=0,r=0;r<t.length;r++){var e=t.charAt(r);if(2<encodeURI(e).length?n+=1:n+=.5,o<=n){var i=n==o?r+1:r;return t.substr(0,i)}}}(o,6)+\"...\"),t.text(o)}),$(\"#\"+_).focus(function(){(\"\"==h||h==v)&&$(\"#\"+_).val(\"\"),$(\"#\"+_).css({color:\"\"})}),$(\"#\"+_).blur(function(){\"\"==(h=$(\"#\"+_).val())||h==v?($(\"#\"+_).val(v),h=v,$(\"#\"+_).css({color:\"#999\"})):$(\"#\"+_).css({color:\"\"})}),$(\"#\"+f).click(function(){return\"\"==h||h==v?$(\"#\"+a).submit():$(\"#\"+l).submit(),!1}),void 0!==u[0]&&(setTimeout(function(){u.height()<=0&&c.css({display:\"none\"})},1500),void 0!==u[0].complete&&u[0].complete?g(i,s,u.width(),u.height()):u.load(function(){g(i,s,u.width(),u.height())}))}});</script>\r\n",
      "    <script>\r\n",
      "        declare(\"vr.tpl139\", \"inline\");\r\n",
      "        define(\"\", [\"vr.tpl139\"], function(func){func(139, \"30000701\", 4);});\r\n",
      "    </script>\r\n",
      "    <!--STATUS VR OK--><!--VR TYPE: 30000701 ,RANK:4-->\r\n",
      "</div><!-- z --><!-- a --><div class=\"rb\" id=\"rb_5\"><h3 class=\"pt\"><!--awbg5--><a name=\"dttl\" target=\"_blank\" href=\"/link?url=WaeIF24cBDsDHAXKDJ4G53YetV5XAxyH\" id=\"sogou_vr_30000000_5\" cachestrategy=\"qcr:-1\" bingpb=\"\"><!--awbg5--><em>hi</em>是什么意思_<em>hi</em>在线翻译_英语_读音_用法_例句_海词词典</a></h3><div class=\"ft\" id=\"cacheresult_summary_5\">海词词典，最权威的学习词典，为您提供<em>hi</em>的在线翻译，<em>hi</em>是什么意思，<em>hi</em>的真人发音，权威用法和精选例句等。</div><div class=\"fb\"><cite id=\"cacheresult_info_5\">海词词典 - dict.cn/hi&nbsp;-&nbsp;2003-11-27</cite>&nbsp;-&nbsp;<a target=\"_blank\" style=\"color:#666\" href=\"http://snapshot.sogoucdn.com/websnapshot?ie=utf8&url=http%3A%2F%2Fdict.cn%2Fhi&did=ad9e5972fe8a8e89-1e834cfa71865232-f8f2ab65bb4e5331a136de350aac9297&k=b83e1350a59203c658e433d3d7f87921&encodedQuery=hi&query=hi&&w=01020400&m=0&st=1\" id=\"sogou_snapshot_5\">快照</a></div></div><!--STATUS VR OK--><!--VR TYPE:30000000,,RANK:5--><!-- z --><!-- a -->\n",
      "<div class=\"vrwrap\">\n",
      "        <h3 class=\"vrTitle\">\n",
      "            <a id=\"sogou_vr_30001903_6\" target=\"_blank\"  cacheStrategy=\"qcr:-1\" href=\"/link?url=DSOYnZeCC_qeWLvFV8oHyUD0a6cZ34NVn96GTVLbf1vTO13urmeXqg..\">百度<em><!--red_beg-->Hi<!--red_end--></em>电脑版(百度<em><!--red_beg-->hi<!--red_end--></em>下载) 6.1.2.4官方版下载 - 下载吧</a>\n",
      "        </h3>\n",
      "        <div class=\"strBox\"><div class=\"str_div\" id=\"sogou_vr_30001903_str_div_6\">\n",
      "                    <a href=\"/link?url=DSOYnZeCC_qeWLvFV8oHyUD0a6cZ34NVn96GTVLbf1vTO13urmeXqg..\" target=\"_blank\" class=\"str_img size_120_90\" id=\"sogou_vr_30001903_pic_6\">\n",
      "                        <img alt=\"\" id=\"sogou_vr_30001903_img_6\" src=\"https://img03.sogoucdn.com/v2/thumb/crop/xy/ai/x/0/y/0/w/120/h/90/iw/90/ih/67/t/0/ir/3?t=2&amp;appid=200997&amp;url=https%3A%2F%2Fwww.xiazaiba.com%2Fuploadfiles%2Fpreview_img%2F2014%2F0626%2Fwater_2014062614483265713.jpg&amp;referer=http%3A%2F%2Fwww.xiazaiba.com%2Fhtml%2F17.html&amp;sign=bdfe58f002f6fbb077fd179a27036e7b\" onerror=\"this.parentNode.parentNode.style.display='none';this.onerror = null;\"></img>\n",
      "                    </a>\n",
      "                </div><div class=\"str_info_div\">\n",
      "                <ul class=\"str-list-v4\">\n",
      "                    <li class=\"str-play-box str-play-box-v1\">\n",
      "                        <a target=\"_blank\" class=\"str-public-btn\" href=\"/link?url=DSOYnZeCC_qeWLvFV8oHyUD0a6cZ34NVn96GTVLbf1vTO13urmeXqg..\" id=\"sogou_vr_30001903_link-button_6\">\n",
      "                            <i class=\"str-ico-down\"></i>下载地址\n",
      "                        </a>2万次下载</li>\n",
      "                    <li class=\"str-text-info\"><span>百度<em><!--red_beg-->Hi<!--red_end--></em>是一款集文字消息、音视频通话、文件传输等功能的即时通讯软件,百度<em><!--red_beg-->Hi<!--red_end--></em>下载后您可以通过它您可以方便地找到志同道合...</span></li>\n",
      "                </ul>\n",
      "                <div class=\"fb\" >\r\n",
      "        <cite id=\"cacheresult_info_6\">\r\n",
      "            下载吧 - www.xiazaiba.com/h...&nbsp;-&nbsp;2019-4-3</cite>&nbsp;-&nbsp;<!--resultsnap_beg--><a target=\"_blank\" style=\"color: #666666;\" href=\"http://snapshot.sogoucdn.com/websnapshot?ie=utf8&url=http%3A%2F%2Fwww.xiazaiba.com%2Fhtml%2F17.html&did=dac66323e954329a-d633d503d32bf4ed-738ec8dc0336364078398d8f89f0ce79&k=59eb5fc5bd8a55e4282bdaddc03387b4&encodedQuery=hi&query=hi&&w=01020400&m=0&st=0\" id=\"sogou_snapshot_6\"><!--resultsnap_end-->快照</a></div>\n",
      "            </div>\n",
      "        </div>\n",
      "                <div class=\"r-sech ext_query r-sech-test_02\" style=\"display:none\" id=\"sogou_vr_30001903_sq_ext_6\">\r\n",
      "            <span><strong></strong>推荐您搜索：</span><i></i>\r\n",
      "            <p>\r\n",
      "                <a target=\"_blank\" href=\"http://www.sogou.com/web?query=百度电脑版手机打开;百度下载安装;手机百度改成电脑版;百度官网下载imtokeh;电脑版百度下载地址;电脑百度下载;百度一下切换电脑版;百度电脑版网页;电脑版浏览器;百度一下百度网页;电脑版百度;百度下载;电脑百度;电脑版百度浏览器;电脑版百度一下;手机一键变电脑;\" id=\"sogou_vr_30001903_sq_ext_a_6\">百度电脑版手机打开;百度下载安装;手机百度改成电脑版;百度官网下载imtokeh;电脑版百度下载地址;电脑百度下载;百度一下切换电脑版;百度电脑版网页;电脑版浏览器;百度一下百度网页;电脑版百度;百度下载;电脑百度;电脑版百度浏览器;电脑版百度一下;手机一键变电脑;</a>\r\n",
      "            </p>\r\n",
      "        </div>\r\n",
      "\n",
      "        <script>define(\"vr.tpl517\",[\"$s\",\"$\"],function(i){function s(i,e){return 0==e?0:i/e}function f(i,e,n,t){if(n<=0||t<=0)$(\"#\"+i).css({display:\"none\"});else{s(n,t);if(function(i,e){var n=s(i,e);return 2<=n||n<=2/3}(n,t))$(\"#\"+i).css({display:\"none\"});else if(120<n){var o=.382*(n-=120);$(\"#\"+e).css({left:\"-\"+o+\"px\"})}else if(90<t){o=.382*(t-=90);$(\"#\"+e).css({top:\"-\"+o+\"px\"})}}}return function(i,e,n){var t=\"sogou_vr_\"+e+\"_str_div_\"+n,o=\"sogou_vr_\"+e+\"_img_\"+n,s=$(\"#\"+t),c=$(\"#\"+o);void 0!==c[0]&&(setTimeout(function(){c.height()<=0&&s.css({display:\"none\"})},1500),void 0!==c[0].complete&&c[0].complete?f(t,o,c.width(),c.height()):c.load(function(){f(t,o,c.width(),c.height())}))}});</script> <script> declare(\"vr.tpl517\", \"inline\"); define(\"\", [\"vr.tpl517\"], function(func){func(517, \"30001903\", 6);}); </script>\n",
      "        <!--STATUS VR OK--><!--VR TYPE: 30001903 ,RANK:6-->\n",
      "    </div><!-- z --><!-- a --><div class=\"vrwrap\">\n",
      "    <h3 class=\"vrTitle\">\n",
      "        <a target=\"_brank\" id=\"sogou_vr_30010244_title_7\" href=\"/link?url=hedJjaC291NIRGGMMk8BvWRFzFBIhMTszSk9SN7Jw6xdyBkcDOUic89qYRcG_yhK\">\n",
      "            <img src=\"https://img01.sogoucdn.com/app/a/100520120/d25bce84_zhihu.png\" class=\"title-ico\"/>\n",
      "            <em>hi</em>的相关内容_知乎\n",
      "        </a>\n",
      "    </h3>\n",
      "    <div class=\"structured190524\">\n",
      "        <div class=\"img-text \"><div class=\"img-layout size-120-80\">\n",
      "                    <a target=\"_blank\" id=\"sogou_vr_30010244_pic_7\" href=\"/link?url=hedJjaC291OfPyaFZYFLI4KQWvqt63NBUb8JhAuY0jMJsJciIuIHJA..\">\n",
      "                        <img id=\"sogou_vr_30010244_pic_img_7\" src=\"https://img01.sogoucdn.com/v2/thumb/crop/xy/ai/x/0/y/0/w/120/h/120/iw/90/ih/90/t/0/ir/3?t=2&amp;appid=200997&amp;url=https%3A%2F%2Fpic3.zhimg.com%2Fv2-5613fe3178982b53cba9708987e5be93_b.jpg&amp;sign=25745b60e59b598682ff9449b6a0795c\" alt=\"\" onerror=\"this.parentNode.parentNode.style.display='none';this.onerror = null;\"></img>\n",
      "                    </a>\n",
      "                </div><div class=\"text-layout\">\n",
      "                <p class=\"p-line-height ellipsis\">\n",
      "                    <a target=\"_blank\" class=\"a-text-decoration\" id=\"sogou_vr_30010244_item_0_7\" href=\"/link?url=hedJjaC291OfPyaFZYFLI4KQWvqt63NBUb8JhAuY0jMJsJciIuIHJA..\"><em><!--red_beg-->Hi<!--red_end--></em>!想成为创新世界的秀儿吗_知乎</a>\n",
      "                </p>\n",
      "                <p class=\"p-line-height\"><em><!--red_beg-->Hi<!--red_end--></em>!想成为创新世界的秀儿吗</p>\n",
      "                <p class=\"new-source-info\">                    <span>2020-9-21</span>\n",
      "                </p>\n",
      "            </div>\n",
      "        </div>\n",
      "        <ul class=\"news-list-default list-decoration\"><li>\n",
      "                    <i class=\"minor-info\">2020-09-12</i>\n",
      "                    <a target=\"_blank\"\n",
      "                        id=\"sogou_vr_30010244_item_1_7\"\n",
      "                        href=\"/link?url=hedJjaC291MBtMZVirtXo7CqjI0tE6P9O_poi2Wh1jJ3gAi8JZzGZLJHoyzodE74QMmxck4Z7_UHMtTa4ZJ0RQ..\"><em><!--red_beg-->Hi<!--red_end--></em>-Fi 是骗局吗?</a>\n",
      "                        <span class=\"new-source\">317个回答</span>\n",
      "                </li><li>\n",
      "                    <i class=\"minor-info\">2020-09-21</i>\n",
      "                    <a target=\"_blank\"\n",
      "                        id=\"sogou_vr_30010244_item_2_7\"\n",
      "                        href=\"/link?url=hedJjaC291MBtMZVirtXo7CqjI0tE6P9Irl9kkee06DSw-VTqNSMla3mlRzfPLR2\">有人知道高合HiP<em><!--red_beg-->hi<!--red_end--></em> X怎么读吗?</a>\n",
      "                        <span class=\"new-source\">1个回答</span>\n",
      "                </li><li>\n",
      "                    <i class=\"minor-info\">2017-03-19</i>\n",
      "                    <a target=\"_blank\"\n",
      "                        id=\"sogou_vr_30010244_item_3_7\"\n",
      "                        href=\"/link?url=hedJjaC291MBtMZVirtXo7CqjI0tE6P9Irl9kkee06AHcP9RyzmKBg..\"><em><!--red_beg-->hi<!--red_end--></em> panda这个牌子怎么样?</a>\n",
      "                        <span class=\"new-source\">9个回答</span>\n",
      "                </li></ul>\n",
      "    </div>\n",
      "</div>\n",
      "\n",
      "<!--STATUS VR OK--><!--VR TYPE: 30010244 ,RANK:7-->\n",
      "\n",
      "\n",
      "<!-- z --><!-- a -->\r\n",
      "<div class=\"vrwrap\" style=\"width:548px\" >\r\n",
      "    <h3 class=\"vrTitle\">\r\n",
      "        <a id=\"sogou_vr_30000909_8\" target=\"_blank\"  cacheStrategy=\"qcr:-1\" href=\"/link?url=6IqLFeTuIyjL9QIBBBMEFHD6bEmJK2gJWYNwoCljmXVIj9_O6-xt4iKqfSjHKUp6LzIeqYx2_mSt5pUc3zy0dg..\"><em><!--red_beg-->Hi<!--red_end--></em><em><!--red_beg-->你好<!--red_end--></em>新南京人 将爱高淳湖畔|兑现美好生活承诺_网易房产</a>    </h3>\r\n",
      "\r\n",
      "    <div class=\"strBox\">\r\n",
      "        <div class=\"str_div\" id=\"sogou_vr_30000909_pic_8\">\r\n",
      "            <a target=\"_blank\" class=\"str_img size_120_80\" id=\"sogou_vr_30000909_pic_a_8\" href=\"/link?url=6IqLFeTuIyjL9QIBBBMEFHD6bEmJK2gJWYNwoCljmXVIj9_O6-xt4iKqfSjHKUp6LzIeqYx2_mSt5pUc3zy0dg..\">\r\n",
      "                <img alt=\"\" id=\"sogou_vr_30000909_pic_img_8\" src=\"https://img02.sogoucdn.com/v2/thumb/crop/xy/ai/x/0/y/0/w/120/h/80/iw/90/ih/60/t/0/ir/3?t=2&amp;appid=200997&amp;url=https%3A%2F%2Fnimg.ws.126.net%2F%3Furl%3Dhttp%3A%2F%2Fcms-bucket.ws.126.net%2F2020%2F0921%2F592a58b3p00qh010000m8c000fe00a9c.png%26thumbnail%3D660x2147483647%26quality%3D80%26type%3Djpg&amp;referer=http%3A%2F%2Fnj.house.163.com%2F20%2F0921%2F16%2FFN2FDI6502031EIT.html&amp;sign=cd64e5170e24429a4fd1d60715cf3e49\"  onerror=\"(function(){var picId = 'sogou_vr_'+'30000909'+'_pic_'+'8';document.getElementById(picId).style.display='none';this.onerror = null;var pink_id = 'sogou_vr_'+'30000909'+'_pink_'+'8';document.getElementById(pink_id).style.display = '';})();\"></img>\r\n",
      "            </a>\r\n",
      "        </div>\r\n",
      "        <div class=\"str_info_div\">\r\n",
      "            <p class=\"str_info\"><span class=\"str-c-txt blue-color\" style =\"display:none\" id=\"sogou_vr_30000909_pink_8\">\r\n",
      "                        <strong>[</strong><i>图文</i><strong>]</strong></span><span class=\"gray-color\">16分钟前 - </span>\r\n",
      "                    <em><!--red_beg-->Hi<!--red_end--></em><em><!--red_beg-->你好<!--red_end--></em>新南京人 将爱高淳湖畔|兑现美好生活承诺 高淳，湖畔，洋房，孔雀城，实景图\r\n",
      "            </p>\r\n",
      "            <div class=\"fb\" >\r\n",
      "        <cite id=\"cacheresult_info_8\">\r\n",
      "            网易 - nj.house.163.com/2...&nbsp;-&nbsp;2020-9-21</cite>&nbsp;-&nbsp;<!--resultsnap_beg--><a target=\"_blank\" style=\"color: #666666;\" href=\"http://snapshot.sogoucdn.com/websnapshot?ie=utf8&url=http%3A%2F%2Fnj.house.163.com%2F20%2F0921%2F16%2FFN2FDI6502031EIT.html&did=a51423369a5d5a02-68699191382d44bd-6931d1dc428f2f2fe960b7ccb52f9af6&k=8fe07fc80fe71be766802a7fd3077406&encodedQuery=hi&query=hi&&w=01020400&m=0&st=1\" id=\"sogou_snapshot_8\"><!--resultsnap_end-->快照</a></div>\r\n",
      "        </div>\r\n",
      "    </div>\r\n",
      "\r\n",
      "    \r\n",
      "    <script>define(\"vr.tpl503\",[\"$s\",\"$\"],function(i){return function(i,e,n){var t,s,o=\"sogou_vr_\"+(t=e)+\"_pink_\"+(s=n),c=\"sogou_vr_\"+t+\"_pic_\"+s,d=\"sogou_vr_\"+t+\"_pic_img_\"+s,u=$(\"#\"+c),l=$(\"#\"+d);void 0!==l[0]&&(setTimeout(function(){l.height()<=0&&($(\"#\"+o).css({display:\"\"}),u.css({display:\"none\"}))},1500),\"undefined\"!=typeof unlimitedQuery_var&&unlimitedQuery_var?void 0!==l[0].complete&&l[0].complete?p(c,d,l.width(),l.height()):l.load(function(){140<l.height()?($(\"#\"+o).css({display:\"\"}),u.css({display:\"none\"})):p(c,d,l.width(),l.height())}):void 0!==l[0].complete&&l[0].complete?p(o,c,d,l.width(),l.height()):l.load(function(){p(o,c,d,l.width(),l.height())}))};function p(i,e,n,t,s){if(t<=0||s<=0)return $(\"#\"+i).css({display:\"\"}),void $(\"#\"+e).css({display:\"none\"});if(function(i,e){var n=function(i,e){return 0==e?0:i/e}(i,e);return 5<=n||n<=.2}(t,s))$(\"#\"+e).css({display:\"none\"});else if(120<t){var o=.382*(t-=120);$(\"#\"+n).css({left:\"-\"+o+\"px\"})}else if(80<s){o=.382*(s-=80);$(\"#\"+n).css({top:\"-\"+o+\"px\"})}}});</script> <script> declare(\"vr.tpl503\", \"inline\");define(\"\", [\"vr.tpl503\"], function(func){func(503, \"30000909\", 8);});</script>\r\n",
      "    <!--STATUS VR OK--><!--VR TYPE: 30000909 ,RANK:8-->\r\n",
      "</div><!-- z --><!-- a -->\r\n",
      "\r\n",
      "\r\n",
      "\r\n",
      "<div class=\"vrwrap\">\r\n",
      "    <h3 class=\"vrTitle\">\r\n",
      "<a id=\"sogou_vr_30010260_9\" target=\"_blank\"  cacheStrategy=\"qcr:-1\" style=\"padding-left:21px;background:url(/images/office/doc.gif) no-repeat left center\" href=\"/link?url=DSOYnZeCC_owkDvmYG0gMz-JrNZwwuWKRV4UNw7wx3TACwL1NQy3PYsCncUk3kWIBEm7p_asFxOuLaNMGv04nw..\"><em><!--red_beg-->Hi<!--red_end--></em> 的用法_百度文库</a>\r\n",
      "    </h3>\r\n",
      "    <div class=\"strBox\"><p class=\"str_time\" id=\"sogou_vr_30010260_str_time_9\">Word文档&nbsp;-&nbsp;2页&nbsp;-&nbsp;27.0KB</p><p class=\"str_info\"><em><!--red_beg-->Hi<!--red_end--></em> 的用法 我们中国人见面问好,一句“<em><!--red_beg-->你好<!--red_end--></em>!”句表达所有的意思.可是在国外,就不 那么简单了. 在不同的 <em><!--red_beg-->Hi<!--red_end--></em> 时间, 不同的场合, 不同的人之间, 使用不同的“<em><!--red_beg-->你好<!--red_end--></em>! ”. ...</p><ul class=\"str-ul-list new-ul-list\"><li><span>3页</span><a target=\"_blank\" id=\"sogou_vr_30010260_link1_9\" href=\"/link?url=DSOYnZeCC_owkDvmYG0gMz-JrNZwwuWKq38lJglpv_yFYzM9v99fL1DeQLB8mRA5ZYMrodUhRYhd-4ud3wkh5lCVIngUsCOtKgthd87yE_8.\"  style=\"background:url(images/office/pdf.gif) no-repeat left center;padding-left:21px;\"><em><!--red_beg-->Hi<!--red_end--></em>,</a><strong>百度文库</strong></li></ul></div>        <div class=\"r-sech ext_query r-sech-test_02\" style=\"display:none\" id=\"sogou_vr_30010260_sq_ext_9\">\r\n",
      "            <span><strong></strong>推荐您搜索：</span><i></i>\r\n",
      "            <p>\r\n",
      "                <a target=\"_blank\" href=\"http://www.sogou.com/web?query=hi的用法;hi的写中文是什么;hide的用法及短语;hide过去式及发音;build用法及短语;hiding和hidden的用法;hello和hi的用法;以hide为中心词的短语;hide的用法和考点;hide及物还是不及物;hide的用法和例句;excuse me三种用法;english 的用法;hide away的用法;hide sth from sb;english与england的区别;\" id=\"sogou_vr_30010260_sq_ext_a_9\">hi的用法;hi的写中文是什么;hide的用法及短语;hide过去式及发音;build用法及短语;hiding和hidden的用法;hello和hi的用法;以hide为中心词的短语;hide的用法和考点;hide及物还是不及物;hide的用法和例句;excuse me三种用法;english 的用法;hide away的用法;hide sth from sb;english与england的区别;</a>\r\n",
      "            </p>\r\n",
      "        </div>\r\n",
      "\r\n",
      "</div>\r\n",
      "<script>define(\"vr.tpl603\",[\"$s\",\"$\"],function(u){function g(n,e){return 0!=n.length&&n.substring(n.length-e.length)==e}return function(n,e,t){var l=\"sogou_vr_\"+e+\"_str_time_\"+t;if(u.$(l)){var s=u.$(l).innerHTML;if(null!=s&&g(s,\"文档&nbsp;-&nbsp;\"))u.$(l).style.display=\"none\";else{var i=\"&nbsp;-&nbsp;\";null!=s&&\"\"!=s||(u.$(l).style.display=\"none\"),g(s,i)&&(s=(s=s).substring(0,s.length-i.length));var r=s.split(i);3<r.length&&(s=(r=r.slice(0,3)).join(i)),u.$(l).innerHTML=s}}}});</script>\r\n",
      "<script>\r\n",
      "    declare(\"vr.tpl603\", \"inline\");\r\n",
      "    define(\"\", [\"vr.tpl603\"], function(func){func(603, \"30010260\", 9, \"\",\"\",\"\",\"\",\"\",\"http://wenku.baidu.com/view/67cad722192e45361066f5eb.html\");});\r\n",
      "</script>\r\n",
      "<!--STATUS VR OK--><!--VR TYPE: 30010260 ,RANK:9--><!-- z --><!-- a -->\r\n",
      "<div class=\"vrwrap\" style=\"width:548px\" >\r\n",
      "    <h3 class=\"vrTitle\">\r\n",
      "        <a id=\"sogou_vr_30000909_10\" target=\"_blank\"  cacheStrategy=\"qcr:-1\" href=\"/link?url=hedJjaC291OoQ6c0EqpnpEGXhE9buXYht0dzcd9v_q4Ief9ZkPB-Vg..\"><em><!--red_beg-->Hi<!--red_end--></em>tomi Tanaka XXX Pornstar - Fapz.red</a>    </h3>\r\n",
      "\r\n",
      "    <div class=\"strBox\">\r\n",
      "        <div class=\"str_div\" id=\"sogou_vr_30000909_pic_10\">\r\n",
      "            <a target=\"_blank\" class=\"str_img size_120_80\" id=\"sogou_vr_30000909_pic_a_10\" href=\"/link?url=hedJjaC291OoQ6c0EqpnpEGXhE9buXYht0dzcd9v_q4Ief9ZkPB-Vg..\">\r\n",
      "                <img alt=\"\" id=\"sogou_vr_30000909_pic_img_10\" src=\"https://img03.sogoucdn.com/v2/thumb/crop/xy/ai/x/0/y/0/w/120/h/80/iw/90/ih/60/t/0/ir/3?t=2&amp;appid=200997&amp;url=https%3A%2F%2Fdi.phncdn.com%2Fvideos%2F201901%2F22%2F203046451%2Foriginal%2F(m%3DeafTGgaaaa)(mh%3DVRf5fk7Es6S573lp)4.jpg&amp;referer=https%3A%2F%2Ffapz.red%2Fmodels%2Fhitomi-tanaka&amp;sign=cf8b795f093c03efe135b4c8c449a3c8\"  onerror=\"(function(){var picId = 'sogou_vr_'+'30000909'+'_pic_'+'10';document.getElementById(picId).style.display='none';this.onerror = null;var pink_id = 'sogou_vr_'+'30000909'+'_pink_'+'10';document.getElementById(pink_id).style.display = '';})();\"></img>\r\n",
      "            </a>\r\n",
      "        </div>\r\n",
      "        <div class=\"str_info_div\">\r\n",
      "            <p class=\"str_info\"><span class=\"str-c-txt blue-color\" style =\"display:none\" id=\"sogou_vr_30000909_pink_10\">\r\n",
      "                        <strong>[</strong><i>图文</i><strong>]</strong></span>                     178:01  102:00 <em><!--red_beg-->Hi<!--red_end--></em>tomi Tanaka-Sss-Body World&#39;S Biggest Class Super Tits Unfathomable Influence, Part1  0:15 <em><!--red_beg-->Hi<!--red_end--></em>tomi Tanaka Spreading Vagina Decensored Full ...\r\n",
      "            </p>\r\n",
      "            <div class=\"fb\" >\r\n",
      "        <cite id=\"cacheresult_info_10\">\r\n",
      "            fapz.red/m...&nbsp;-&nbsp;1天前<a class=\"fy\" target=\"_blank\" href=\"https://translate.sogoucdn.com/pcvtsnapshot?ie=utf8&amp;url=https://fapz.red/models/hitomi-tanaka&amp;did=f4ba3ce24b9d5cae-74b5a3b49d7dbafa-595bc2f9a28e85ce7ec9704a81126fb3&amp;encodedQuery=hi&amp;query=hi&amp;&amp;w=01020400&amp;from=en&amp;to=zh-CHS&amp;tfr=web&amp;domainType=sogou\">翻译此页</a></cite>&nbsp;-&nbsp;<!--resultsnap_beg--><a target=\"_blank\" style=\"color: #666666;\" href=\"http://snapshot.sogoucdn.com/websnapshot?ie=utf8&url=https%3A%2F%2Ffapz.red%2Fmodels%2Fhitomi-tanaka&did=f4ba3ce24b9d5cae-74b5a3b49d7dbafa-595bc2f9a28e85ce7ec9704a81126fb3&k=8275624639231d785aff233be39b92b6&encodedQuery=hi&query=hi&&w=01020400&m=0&st=1\" id=\"sogou_snapshot_10\"><!--resultsnap_end-->快照</a></div>\r\n",
      "        </div>\r\n",
      "    </div>\r\n",
      "\r\n",
      "    \r\n",
      "     <script> declare(\"vr.tpl503\", \"inline\");define(\"\", [\"vr.tpl503\"], function(func){func(503, \"30000909\", 10);});</script>\r\n",
      "    <!--STATUS VR OK--><!--VR TYPE: 30000909 ,RANK:10-->\r\n",
      "</div><!-- z --><!-- a -->\r\n",
      "<div class=\"vrwrap\" style=\"width:548px\" >\r\n",
      "    <h3 class=\"vrTitle\">\r\n",
      "        <a id=\"sogou_vr_30000909_11\" target=\"_blank\"  cacheStrategy=\"qcr:-1\" href=\"/link?url=DSOYnZeCC_osxP3blcTHm_bQwv33FxERDDeu4DtJFUXodf8MLL6HEQ..\"><em><!--red_beg-->Hi<!--red_end--></em>,高考君剧情介绍_电影_电视猫</a>    </h3>\r\n",
      "\r\n",
      "    <div class=\"strBox\">\r\n",
      "        <div class=\"str_div\" id=\"sogou_vr_30000909_pic_11\">\r\n",
      "            <a target=\"_blank\" class=\"str_img size_120_80\" id=\"sogou_vr_30000909_pic_a_11\" href=\"/link?url=DSOYnZeCC_osxP3blcTHm_bQwv33FxERDDeu4DtJFUXodf8MLL6HEQ..\">\r\n",
      "                <img alt=\"\" id=\"sogou_vr_30000909_pic_img_11\" src=\"https://img01.sogoucdn.com/v2/thumb/crop/xy/ai/x/0/y/0/w/120/h/80/iw/90/ih/60/t/0/ir/3?t=2&amp;appid=200997&amp;url=http%3A%2F%2Fpix2.tvzhe.com%2Fthumb%2Fmovie%2F182%2F790%2F270x360.jpg&amp;referer=http%3A%2F%2Fwww.tvmao.com%2Fmovie%2FW2JmYnEp&amp;sign=32b115dcaa1151519295dea4adfa5b01\"  onerror=\"(function(){var picId = 'sogou_vr_'+'30000909'+'_pic_'+'11';document.getElementById(picId).style.display='none';this.onerror = null;var pink_id = 'sogou_vr_'+'30000909'+'_pink_'+'11';document.getElementById(pink_id).style.display = '';})();\"></img>\r\n",
      "            </a>\r\n",
      "        </div>\r\n",
      "        <div class=\"str_info_div\">\r\n",
      "            <p class=\"str_info\"><span class=\"str-c-txt blue-color\" style =\"display:none\" id=\"sogou_vr_30000909_pink_11\">\r\n",
      "                        <strong>[</strong><i>图文</i><strong>]</strong></span>                    电影<em><!--red_beg-->Hi<!--red_end--></em>，高考君剧情讲述的是：讲述的是青年教师沈星（倪景阳 饰）受聘来到A市华威中学担任高三毕业班的语文老师，通过接触沈星惊奇的发现，这个盛名远扬的高考状元班...\r\n",
      "            </p>\r\n",
      "            <div class=\"fb\" >\r\n",
      "        <cite id=\"cacheresult_info_11\">\r\n",
      "            电视猫 - www.tvmao.com/m...&nbsp;-&nbsp;2020-9-9</cite>&nbsp;-&nbsp;<!--resultsnap_beg--><a target=\"_blank\" style=\"color: #666666;\" href=\"http://snapshot.sogoucdn.com/websnapshot?ie=utf8&url=http%3A%2F%2Fwww.tvmao.com%2Fmovie%2FW2JmYnEp&did=2d51c992373e5e42-056daf3f46a1e583-ef7f9d432d4f10e22e7c3f5baf41d3a6&k=20bafc82364585f839201329eb9d5e80&encodedQuery=hi&query=hi&&w=01020400&m=0&st=0\" id=\"sogou_snapshot_11\"><!--resultsnap_end-->快照</a></div>\r\n",
      "        </div>\r\n",
      "    </div>\r\n",
      "\r\n",
      "    \r\n",
      "     <script> declare(\"vr.tpl503\", \"inline\");define(\"\", [\"vr.tpl503\"], function(func){func(503, \"30000909\", 11);});</script>\r\n",
      "    <!--STATUS VR OK--><!--VR TYPE: 30000909 ,RANK:11-->\r\n",
      "</div><!-- z --><!-- a -->\n",
      "\n",
      "\n",
      "\n",
      "\n",
      "\n",
      "    <div class=\"vrwrap\">\n",
      "        <h3 class=\"vrTitle\">\n",
      "                <a id=\"sogou_vr_30000907_12\" target=\"_blank\"  cacheStrategy=\"qcr:-1\" href=\"/link?url=hedJjaC291MYXD7qgesLtYGVA4lvwoPQf5QFTf2Hn6rp0Gftoz8F-fwKQ3g2B8umkvA2rMDD4yedN8P9QGiTMA..\">荣耀/华为路由器的<em><!--red_beg-->hi<!--red_end--></em>键有什么用,怎么使用<em><!--red_beg-->Hi<!--red_end--></em>键-百度经验</a>\n",
      "            \n",
      "        </h3>\n",
      "\n",
      "                <div class=\"strBox\" style=\"display:none\" id=\"sogou_vr_30000907_strBox_12\">\n",
      "        <p class=\"str_info\" id=\"sogou_vr_30000907_str_info_12\">\n",
      "            在使用荣耀路由器或者华为路由器时,会发现路由器上有一个<em><!--red_beg-->hi<!--red_end--></em>键.那么,荣耀/华为路由器的<em><!--red_beg-->hi<!--red_end--></em>键有什么用,怎么使用路由器的<em><!--red_beg-->Hi<!--red_end--></em>键?接下来小编就演示操作步骤.\n",
      "        </p>\n",
      "    </div>\n",
      "        <div class=\"post-bar\" id=\"sogou_vr_30000907_post_bar_12\">\n",
      "            <table class=\"enc-list\" id=\"sogou_vr_30000907_list_12\"></table>\n",
      "            <div class=\"jzwdPage\" style=\"display:none\" id=\"sogou_vr_30000907_jzwdPage_12\"></div>\n",
      "            <div class=\"mainShow\" id=\"sogou_vr_30000907_show_12\">\n",
      "                <a href=\"javascript:void(0)\" id=\"sogou_vr_30000907_show_a_12\">展开</a>\n",
      "            </div>\n",
      "        </div>\n",
      "    \n",
      "    <div class=\"fb\" >\r\n",
      "        <cite id=\"cacheresult_info_12\">\r\n",
      "            百度经验 - jingyan.baidu.com/a...&nbsp;-&nbsp;2020-2-23</cite>&nbsp;-&nbsp;<!--resultsnap_beg--><a target=\"_blank\" style=\"color: #666666;\" href=\"http://snapshot.sogoucdn.com/websnapshot?ie=utf8&url=https%3A%2F%2Fjingyan.baidu.com%2Farticle%2F25648fc1fc95e3d090fd0069.html&did=60d2f4fe0275d790-c746af298564f454-4e64d09b0ecbc5a16e7da525fe7d4db7&k=17a8254344b9e070a8fc5759233a62e8&encodedQuery=hi&query=hi&&w=01020400&m=0&st=0\" id=\"sogou_snapshot_12\"><!--resultsnap_end-->快照</a></div>\n",
      "    \n",
      "    <script>define(\"vr.tpl516\",[\"$s\",\"$\"],function(t,j){return function(t,a,n,e){var u,v,l,g,i=8,f=0,m=!1;function h(){var t=0;return g&&(t=(u=g.length)%8==0?u/8:Math.floor(u/8)+1),t}function x(){return f*i}function y(){var t=x();return t+i<=u?t+i-1:u-1}function b(){var t=\"sogou_vr_\"+v+\"_post_bar_\"+l;j(\"#\"+(\"sogou_vr_\"+v+\"_strBox_\"+l)).css(\"display\",\"\"),j(\"#\"+t).css(\"display\",\"none\")}function w(t,a,n){var e=j(\"<td/>\");n||e.css(\"display\",\"none\"),t.append(e);var o=\"sogou_vr_\"+v+\"_list_\"+a+\"_\"+l,s=g[a].url,r=j(\"<a/>\");r.attr({id:o,target:\"_blank\",href:s}),r.addClass(\"list-img\"),e.append(r);var i=j(\"<span/>\");i.attr({target:\"_blank\",href:s}),i.addClass(\"str-tag\"),i.text(a+1),j(\"#\"+o).append(i);var _=\"sogou_vr_\"+v+\"_img_\"+a+\"_\"+l,d=j(\"<img/>\");d.attr({id:_,src:g[a].image}),j(\"#\"+o).append(d),d.bind(\"error\",function(){document.getElementById(_);g.splice(a,1),--u<3&&b(),function(){m?k():C();B(),E()}()});var p=j(\"<p/>\"),c=j(\"<a/>\");c.attr({id:_,target:\"_blank\",href:g[a].url}),c.text(g[a].content),p.append(c),e.append(p)}function _(){var t=m,a=x(),n=y(),e=\"sogou_vr_\"+v+\"_list_\"+l,o=document.getElementById(e);j(o).text(\"\");var s=j(\"<tr/>\");j(o).append(s);for(var r=a;r<=n;r++)r-a==4&&(s=j(\"<tr/>\"),j(o).append(s)),w(s,r,t);B(),E()}function o(t,a){var n=\"sogou_vr_\"+v+\"_list_\"+l,e=document.getElementById(n),o=x(),s=y();s<=o&&0<f&&(f--,o=x(),s=y()),j(e).text(\"\");var r=j(\"<tr/>\");j(e).append(r);for(var i=o;i<=s;i++)i-o==4&&(r=j(\"<tr/>\"),j(e).append(r)),w(r,i,!(o+4<=i&&(a||t)));E();var _=\"sogou_vr_\"+v+\"_show_a_\"+l,d=j(\"#\"+(\"sogou_vr_\"+v+\"_show_\"+l)),p=j(\"#\"+_),c=\"sogou_vr_\"+v+\"_jzwdPage_\"+l,u=document.getElementById(c);d.hasClass(\"mainShow\")||d.addClass(\"mainShow\"),m=a?(d.removeClass(\"mainHide\"),p.text(\"查看更多\"),j(u).css(\"display\",\"none\"),!1):(d.addClass(\"mainHide\"),p.text(\"收起\"),1<h()&&j(u).css(\"display\",\"\"),!0)}function d(){f>=h()||(f++,_())}function p(){f<=0||(f--,_())}function C(){o(!1,!0)}function k(){o(!1,!1)}function B(){if(!(i<=1)){var t,a,n=\"sogou_vr_\"+v+\"_jzwdPage_\"+l,e=document.getElementById(n);if(j(e).text(\"\"),1<=f&&1<h()?((t=j(\"<a/>\")).attr(\"id\",\"sogou_vr_\"+v+\"_pageprev_\"+l),t.addClass(\"page-prev\"),t.text(\"上一页\"),t.bind(\"click\",p),j(e).append(t)):1<h()&&((t=j(\"<span/>\")).text(\"上一页\"),j(e).append(t)),1<h())for(var o=1;o<=h();o++){var s;if(f==o-1)(s=j(\"<span/>\")).addClass(\"page-break\"),s.text(o);else{s=j(\"<a/>\");var r=\"sogou_vr_\"+v+\"_pagerun_\"+l;s.attr(\"id\",r),s.text(o),s.bind(\"click\",function(){var t;(t=Number(j(this).text())-1)<0||t>h()||(f=t,_())})}j(e).append(s)}1==h()&&j(e).css(\"display\",\"none\"),f<h()-1?((a=j(\"<a/>\")).attr(\"id\",\"sogou_vr_\"+v+\"_pagenext_\"+l),a.addClass(\"page-prev\"),a.text(\"下一页\"),a.bind(\"click\",d),j(e).append(a)):1<h()&&((a=j(\"<span/>\")).text(\"下一页\"),j(e).append(a))}}function E(){var t=x(),a=y(),n=j(\"#\"+(\"sogou_vr_\"+v+\"_show_\"+l));3<a-t?n.css(\"display\",\"\"):n.css(\"display\",\"none\")}function s(t,a,n,e){if(n<=0||e<=0)j(\"#\"+t).css({display:\"none\"});else{if(120<n){var o=.382*(n-=120);j(\"#\"+a).css({left:\"-\"+o+\"px\"})}if(120<e){o=.382*(e-=120);j(\"#\"+a).css({top:\"-\"+o+\"px\"})}}}g=e;var r=\"sogou_vr_\"+(v=a)+\"_pic_\"+(l=n),c=\"sogou_vr_\"+v+\"_pic_img_\"+l,I=(j(\"#\"+r),j(\"#\"+c));void 0!==I[0]&&(void 0!==I[0].complete&&I[0].complete?s(r,c,I.width(),I.height()):I.load(function(){s(r,c,I.width(),I.height())})),g&&((u=g.length)<3&&b(),j(\"#\"+(\"sogou_vr_\"+v+\"_show_a_\"+l)).bind(\"click\",function(){m?C():k()}),o(!0,!0),B(),E())}});</script>\n",
      "    <script>\n",
      "        declare(\"vr.tpl516\", \"inline\");\n",
      "        try{\n",
      "            define(\"\", [\"vr.tpl516\"], function(func){\n",
      "                func(516, \"30000907\", 12,\n",
      "                        [\n",
      "                                {\n",
      "                                    \"url\":\"/link?url=hedJjaC291MYXD7qgesLtYGVA4lvwoPQf5QFTf2Hn6rp0Gftoz8F-fwKQ3g2B8umkvA2rMDD4yedN8P9QGiTMA..\",\n",
      "                                    \"image\":\"https://img01.sogoucdn.com/v2/thumb/crop/xy/ai/x/0/y/0/w/120/h/90/iw/90/ih/67/t/0/ir/3?t=2&appid=200997&url=https%3A%2F%2Fexp-picture.cdn.bcebos.com%2Fdda98e4800fc77f73eed0195c8715fdb37209078.jpg%3Fx-bce-process%3Dimage%252Fresize%252Cm_lfit%252Cw_500%252Climit_1&referer=https%3A%2F%2Fjingyan.baidu.com%2Farticle%2F25648fc1fc95e3d090fd0069.html&sign=a38ee25e9dfa28a0e395c14383705add\",\n",
      "                                    \"content\":\"路由器的hi键其实是智联的功能,可...\"\n",
      "                                }\n",
      ",                                {\n",
      "                                    \"url\":\"/link?url=hedJjaC291MYXD7qgesLtYGVA4lvwoPQf5QFTf2Hn6rp0Gftoz8F-fwKQ3g2B8umkvA2rMDD4yedN8P9QGiTMA..\",\n",
      "                                    \"image\":\"https://img03.sogoucdn.com/v2/thumb/crop/xy/ai/x/0/y/0/w/120/h/90/iw/90/ih/67/t/0/ir/3?t=2&appid=200997&url=https%3A%2F%2Fexp-picture.cdn.bcebos.com%2F274e9635dd8a59def7e4d6b4b370d5413b8c8478.jpg%3Fx-bce-process%3Dimage%252Fresize%252Cm_lfit%252Cw_500%252Climit_1&referer=https%3A%2F%2Fjingyan.baidu.com%2Farticle%2F25648fc1fc95e3d090fd0069.html&sign=958dd39402730c2fe77c1222d416bafd\",\n",
      "                                    \"content\":\"在设置界面, 点击wlan的选项.\"\n",
      "                                }\n",
      ",                                {\n",
      "                                    \"url\":\"/link?url=hedJjaC291MYXD7qgesLtYGVA4lvwoPQf5QFTf2Hn6rp0Gftoz8F-fwKQ3g2B8umkvA2rMDD4yedN8P9QGiTMA..\",\n",
      "                                    \"image\":\"https://img04.sogoucdn.com/v2/thumb/crop/xy/ai/x/0/y/0/w/120/h/90/iw/90/ih/67/t/0/ir/3?t=2&appid=200997&url=https%3A%2F%2Fexp-picture.cdn.bcebos.com%2F9a8fd9f88a775ddd37afbbffa427e7ef2906f978.jpg%3Fx-bce-process%3Dimage%252Fresize%252Cm_lfit%252Cw_500%252Climit_1&referer=https%3A%2F%2Fjingyan.baidu.com%2Farticle%2F25648fc1fc95e3d090fd0069.html&sign=696686b13c232d97d85e557f3e5f5fcd\",\n",
      "                                    \"content\":\"点击后, 可以看到wifi后方会有一个...\"\n",
      "                                }\n",
      ",                                {\n",
      "                                    \"url\":\"/link?url=hedJjaC291MYXD7qgesLtYGVA4lvwoPQf5QFTf2Hn6rp0Gftoz8F-fwKQ3g2B8umkvA2rMDD4yedN8P9QGiTMA..\",\n",
      "                                    \"image\":\"https://img04.sogoucdn.com/v2/thumb/crop/xy/ai/x/0/y/0/w/120/h/90/iw/90/ih/67/t/0/ir/3?t=2&appid=200997&url=https%3A%2F%2Fexp-picture.cdn.bcebos.com%2Fb7b28f87031c99c0641fbf33af2fa872951fed78.jpg%3Fx-bce-process%3Dimage%252Fresize%252Cm_lfit%252Cw_500%252Climit_1&referer=https%3A%2F%2Fjingyan.baidu.com%2Farticle%2F25648fc1fc95e3d090fd0069.html&sign=90a978310778cf6f1dbd115182f3ad90\",\n",
      "                                    \"content\":\"点击进入后, 可以看到上方的操作提...\"\n",
      "                                }\n",
      ",                                {\n",
      "                                    \"url\":\"/link?url=hedJjaC291MYXD7qgesLtYGVA4lvwoPQf5QFTf2Hn6rp0Gftoz8F-fwKQ3g2B8umkvA2rMDD4yedN8P9QGiTMA..\",\n",
      "                                    \"image\":\"https://img01.sogoucdn.com/v2/thumb/crop/xy/ai/x/0/y/0/w/120/h/90/iw/90/ih/67/t/0/ir/3?t=2&appid=200997&url=https%3A%2F%2Fexp-picture.cdn.bcebos.com%2F4b626771fe1d96d8cffa3f952ccd0c6efaf2e178.jpg%3Fx-bce-process%3Dimage%252Fresize%252Cm_lfit%252Cw_500%252Climit_1&referer=https%3A%2F%2Fjingyan.baidu.com%2Farticle%2F25648fc1fc95e3d090fd0069.html&sign=0892c3bb0d2595bbcd1fa3f0d2eb45cd\",\n",
      "                                    \"content\":\"可以看到路由器的指示灯会闪烁红灯...\"\n",
      "                                }\n",
      ",                                {\n",
      "                                    \"url\":\"/link?url=hedJjaC291MYXD7qgesLtYGVA4lvwoPQf5QFTf2Hn6rp0Gftoz8F-fwKQ3g2B8umkvA2rMDD4yedN8P9QGiTMA..\",\n",
      "                                    \"image\":\"https://img04.sogoucdn.com/v2/thumb/crop/xy/ai/x/0/y/0/w/120/h/90/iw/90/ih/67/t/0/ir/3?t=2&appid=200997&url=https%3A%2F%2Fexp-picture.cdn.bcebos.com%2F983aa5f4da5872da3caa3fba0056ad042f68d478.jpg%3Fx-bce-process%3Dimage%252Fresize%252Cm_lfit%252Cw_500%252Climit_1&referer=https%3A%2F%2Fjingyan.baidu.com%2Farticle%2F25648fc1fc95e3d090fd0069.html&sign=81a17a78369cc8262422f772489c6f51\",\n",
      "                                    \"content\":\"按下后, 在不输入密码的情况下,设...\"\n",
      "                                }\n",
      "                        ]\n",
      ");\n",
      "                });\n",
      "        } catch(e) {\n",
      "            console.log(e.message);\n",
      "        }\n",
      "    </script>\n",
      "    <!--STATUS VR OK--><!--VR TYPE: 30000907 ,RANK:12-->\n",
      "\n",
      "    </div>\n",
      "<!-- z -->  <!-- ResultListViewEnd --></div></div>   <!--Bottom ADV Start--><!--Bottom ADV End--> </div><!-- LeftResultViewEnd --> <!-- RightViewBegin --><div class=\"right\" id=\"right\" style=\"display:none\">  <span class=\"atGradientLine\"></span>     <!--Right BRAND start--><!--Right BRAND end-->   <!-- rightitems -->  <!-- rightitemsend -->     <div class=\"rvr-model\" id=\"kmap_entity_div\"> <h3 class=\"rvr-atAdBranch\" title=\"相关音乐\" style=\"margin-top:0px\" show-row=\"2\" show-index=\"0\">                <span class=\"kmapAttrTitle\">相关音乐</span>                                                                <a class=\"rvr-info-box foldBtn\" id=\"sgkmap_right_21_73_0_more_vr_50022701\" href=\"javascript:void(0)\" target=\"_blank\" hidefocus style=\"outline:none\">展开</a>            </h3><ul data-show-row=\"2\" class=\"rvr-atAdPiclist \" show-index=\"0\" index=\"0\">                    <li id=\"sgkmap_right_none_21_73_0_content_21|73_cols_4_pos_1_1_innerid_wap_34497_vr_50022701\" >                        <div class=\"repDiv rep_Feed\" style=\"margin-bottom:5px;display:none\">                            <a class=\"rvr-atReport\" id=\"sgkmap_right_00000000000000000000000000000000__0_l0_wrong\" href=\"#\" hidefocus style=\"outline:none\" con=\"you\" product=\"right\">纠错</a>                        </div>                        <a target=\"_blank\" data-href=\"query=you&clickArea=1\" class=\"rvr-atpic2 rim-pic\" link=\"off\">                            <img data-show=\"show\" title=\"you\" data-src=\"http://img01.sogoucdn.com/app/a/10010016/85a685c2f226f26901acfb7f2488e0d2\"  style=\"display:none\"/>                                                    </a>                        <a title=\"you\" target=\"_blank\" href=\"query=you&clickArea=1\" >                            <span class=\"kmap-title\">                                you                            </span>                        </a>                                            </li><li id=\"sgkmap_right_none_21_73_0_content_21|73_cols_4_pos_1_2_innerid_wap_564682_vr_50022701\" >                        <div class=\"repDiv rep_Feed\" style=\"margin-bottom:5px;display:none\">                            <a class=\"rvr-atReport\" id=\"sgkmap_right_00000000000000000000000000000000__0_l1_wrong\" href=\"#\" hidefocus style=\"outline:none\" con=\"five\" product=\"right\">纠错</a>                        </div>                        <a target=\"_blank\" data-href=\"query=five&clickArea=1\" class=\"rvr-atpic2 rim-pic\" link=\"off\">                            <img data-show=\"show\" title=\"five\" data-src=\"http://img02.sogoucdn.com/app/a/10010016/d3ae16bb697593cba8094de1307c1777\"  style=\"display:none\"/>                                                    </a>                        <a title=\"five\" target=\"_blank\" href=\"query=five&clickArea=1\" >                            <span class=\"kmap-title\">                                five                            </span>                        </a>                        <span class=\"kmap-year\"> 滨崎步歌曲专辑</span>                    </li><li id=\"sgkmap_right_none_21_73_0_content_21|73_cols_4_pos_1_3_innerid_wap_40398_vr_50022701\" >                        <div class=\"repDiv rep_Feed\" style=\"margin-bottom:5px;display:none\">                            <a class=\"rvr-atReport\" id=\"sgkmap_right_00000000000000000000000000000000__0_l2_wrong\" href=\"#\" hidefocus style=\"outline:none\" con=\"help\" product=\"right\">纠错</a>                        </div>                        <a target=\"_blank\" data-href=\"query=help&clickArea=1\" class=\"rvr-atpic2 rim-pic\" link=\"off\">                            <img data-show=\"show\" title=\"help\" data-src=\"http://img01.sogoucdn.com/app/a/10010016/69022b18eec1c70fae9f1818b17dbf06\"  style=\"display:none\"/>                                                    </a>                        <a title=\"help\" target=\"_blank\" href=\"query=help&clickArea=1\" >                            <span class=\"kmap-title\">                                help                            </span>                        </a>                        <span class=\"kmap-year\"> Borgore演唱歌曲</span>                    </li><li id=\"sgkmap_right_none_21_73_0_content_21|73_cols_4_pos_1_4_innerid_wap_774917_vr_50022701\" >                        <div class=\"repDiv rep_Feed\" style=\"margin-bottom:5px;display:none\">                            <a class=\"rvr-atReport\" id=\"sgkmap_right_00000000000000000000000000000000__0_l3_wrong\" href=\"#\" hidefocus style=\"outline:none\" con=\"milk\" product=\"right\">纠错</a>                        </div>                        <a target=\"_blank\" data-href=\"query=milk&clickArea=1\" class=\"rvr-atpic2 rim-pic\" link=\"off\">                            <img data-show=\"show\" title=\"milk\" data-src=\"http://img04.sogoucdn.com/app/a/10010016/a2094933f593ac301a4df3f06b8337e3\"  style=\"display:none\"/>                                                    </a>                        <a title=\"milk\" target=\"_blank\" href=\"query=milk&clickArea=1\" >                            <span class=\"kmap-title\">                                milk                            </span>                        </a>                                            </li><li id=\"sgkmap_right_none_21_73_0_content_21|73_cols_4_pos_1_5_innerid_wap_54540_vr_50022701\" >                        <div class=\"repDiv rep_Feed\" style=\"margin-bottom:5px;display:none\">                            <a class=\"rvr-atReport\" id=\"sgkmap_right_00000000000000000000000000000000__0_l4_wrong\" href=\"#\" hidefocus style=\"outline:none\" con=\"cake\" product=\"right\">纠错</a>                        </div>                        <a target=\"_blank\" data-href=\"query=cake&clickArea=1\" class=\"rvr-atpic2 rim-pic\" link=\"off\">                            <img data-show=\"show\" title=\"cake\" data-src=\"http://img01.sogoucdn.com/app/a/10010016/36115170e105df954f28ba8f40fc0112\"  style=\"display:none\"/>                                                    </a>                        <a title=\"cake\" target=\"_blank\" href=\"query=cake&clickArea=1\" >                            <span class=\"kmap-title\">                                cake                            </span>                        </a>                        <span class=\"kmap-year\"> 合法注册的食品企业</span>                    </li><li id=\"sgkmap_right_none_21_73_0_content_21|73_cols_4_pos_1_6_innerid_wap_41153_vr_50022701\" >                        <div class=\"repDiv rep_Feed\" style=\"margin-bottom:5px;display:none\">                            <a class=\"rvr-atReport\" id=\"sgkmap_right_00000000000000000000000000000000__0_l5_wrong\" href=\"#\" hidefocus style=\"outline:none\" con=\"good bye\" product=\"right\">纠错</a>                        </div>                        <a target=\"_blank\" data-href=\"query=good%20bye&clickArea=1\" class=\"rvr-atpic2 rim-pic\" link=\"off\">                            <img data-show=\"show\" title=\"good bye\" data-src=\"http://img01.sogoucdn.com/app/a/10010016/138268bb9f6ca5b5a53c12dffb9320d9\"  style=\"display:none\"/>                                                    </a>                        <a title=\"good bye\" target=\"_blank\" href=\"query=good%20bye&clickArea=1\" >                            <span class=\"kmap-title\">                                good bye                            </span>                        </a>                        <span class=\"kmap-year\"> 郭静演唱歌曲</span>                    </li><li id=\"sgkmap_right_none_21_73_0_content_21|73_cols_4_pos_1_7_innerid_wap_58391_vr_50022701\" >                        <div class=\"repDiv rep_Feed\" style=\"margin-bottom:5px;display:none\">                            <a class=\"rvr-atReport\" id=\"sgkmap_right_00000000000000000000000000000000__0_l6_wrong\" href=\"#\" hidefocus style=\"outline:none\" con=\"say\" product=\"right\">纠错</a>                        </div>                        <a target=\"_blank\" data-href=\"query=say&clickArea=1\" class=\"rvr-atpic2 rim-pic\" link=\"off\">                            <img data-show=\"show\" title=\"say\" data-src=\"http://img03.sogoucdn.com/app/a/10010016/73b1cb3392e466aa91545ac821dfdeb1\"  style=\"display:none\"/>                                                    </a>                        <a title=\"say\" target=\"_blank\" href=\"query=say&clickArea=1\" >                            <span class=\"kmap-title\">                                say                            </span>                        </a>                        <span class=\"kmap-year\"> 交流的意思</span>                    </li><li id=\"sgkmap_right_none_21_73_0_content_21|73_cols_4_pos_1_8_innerid_wap_44150_vr_50022701\" >                        <div class=\"repDiv rep_Feed\" style=\"margin-bottom:5px;display:none\">                            <a class=\"rvr-atReport\" id=\"sgkmap_right_00000000000000000000000000000000__0_l7_wrong\" href=\"#\" hidefocus style=\"outline:none\" con=\"china\" product=\"right\">纠错</a>                        </div>                        <a target=\"_blank\" data-href=\"query=china&clickArea=1\" class=\"rvr-atpic2 rim-pic\" link=\"off\">                            <img data-show=\"show\" title=\"china\" data-src=\"http://img03.sogoucdn.com/app/a/10010016/a0a0e35ca3f3862e853cd41735b84be2\"  style=\"display:none\"/>                                                    </a>                        <a title=\"china\" target=\"_blank\" href=\"query=china&clickArea=1\" >                            <span class=\"kmap-title\">                                china                            </span>                        </a>                        <span class=\"kmap-year\"> 音乐专辑</span>                    </li><li id=\"sgkmap_right_none_21_73_0_content_21|73_cols_4_pos_1_9_innerid_wap_34487_vr_50022701\" style=\"display:none\">                        <div class=\"repDiv rep_Feed\" style=\"margin-bottom:5px;display:none\">                            <a class=\"rvr-atReport\" id=\"sgkmap_right_00000000000000000000000000000000__0_l8_wrong\" href=\"#\" hidefocus style=\"outline:none\" con=\"welcome\" product=\"right\">纠错</a>                        </div>                        <a target=\"_blank\" data-href=\"query=welcome&clickArea=1\" class=\"rvr-atpic2 rim-pic\" link=\"off\">                            <img data-show=\"hide\" title=\"welcome\" data-src=\"http://img01.sogoucdn.com/app/a/10010016/755e881f8ab254bd053c634d5b90d7f9\"  style=\"display:none\"/>                                                    </a>                        <a title=\"welcome\" target=\"_blank\" href=\"query=welcome&clickArea=1\" >                            <span class=\"kmap-title\">                                welcome                            </span>                        </a>                        <span class=\"kmap-year\"> 歌曲名称</span>                    </li><li id=\"sgkmap_right_none_21_73_0_content_21|73_cols_4_pos_1_10_innerid_wap_40383_vr_50022701\" style=\"display:none\">                        <div class=\"repDiv rep_Feed\" style=\"margin-bottom:5px;display:none\">                            <a class=\"rvr-atReport\" id=\"sgkmap_right_00000000000000000000000000000000__0_l9_wrong\" href=\"#\" hidefocus style=\"outline:none\" con=\"man\" product=\"right\">纠错</a>                        </div>                        <a target=\"_blank\" data-href=\"query=man&clickArea=1\" class=\"rvr-atpic2 rim-pic\" link=\"off\">                            <img data-show=\"hide\" title=\"man\" data-src=\"http://img03.sogoucdn.com/app/a/10010016/b6786410676846f9d6a6de8aaca63dfd\"  style=\"display:none\"/>                                                    </a>                        <a title=\"man\" target=\"_blank\" href=\"query=man&clickArea=1\" >                            <span class=\"kmap-title\">                                man                            </span>                        </a>                        <span class=\"kmap-year\"> 动力火车专辑</span>                    </li><li id=\"sgkmap_right_none_21_73_0_content_21|73_cols_4_pos_1_11_innerid_wap_776938_vr_50022701\" style=\"display:none\">                        <div class=\"repDiv rep_Feed\" style=\"margin-bottom:5px;display:none\">                            <a class=\"rvr-atReport\" id=\"sgkmap_right_00000000000000000000000000000000__0_l10_wrong\" href=\"#\" hidefocus style=\"outline:none\" con=\"weixin\" product=\"right\">纠错</a>                        </div>                        <a target=\"_blank\" data-href=\"query=weixin&clickArea=1\" class=\"rvr-atpic2 rim-pic\" link=\"off\">                            <img data-show=\"hide\" title=\"weixin\" data-src=\"http://img03.sogoucdn.com/app/a/10010016/d948ac22a487b7ab4f0c88c2330cd8d7\"  style=\"display:none\"/>                                                    </a>                        <a title=\"weixin\" target=\"_blank\" href=\"query=weixin&clickArea=1\" >                            <span class=\"kmap-title\">                                weixin                            </span>                        </a>                        <span class=\"kmap-year\"> 郑颖杰的歌曲</span>                    </li><li id=\"sgkmap_right_none_21_73_0_content_21|73_cols_4_pos_1_12_innerid_wap_330181_vr_50022701\" style=\"display:none\">                        <div class=\"repDiv rep_Feed\" style=\"margin-bottom:5px;display:none\">                            <a class=\"rvr-atReport\" id=\"sgkmap_right_00000000000000000000000000000000__0_l11_wrong\" href=\"#\" hidefocus style=\"outline:none\" con=\"你的每一次呼吸\" product=\"right\">纠错</a>                        </div>                        <a target=\"_blank\" data-href=\"query=%E4%BD%A0%E7%9A%84%E6%AF%8F%E4%B8%80%E6%AC%A1%E5%91%BC%E5%90%B8&clickArea=1\" class=\"rvr-atpic2 rim-pic\" link=\"off\">                            <img data-show=\"hide\" title=\"你的每一次呼吸\" data-src=\"http://img03.sogoucdn.com/app/a/10010016/f1bf60ccaf093daf4132a7dd6d04eee5\"  style=\"display:none\"/>                                                    </a>                        <a title=\"你的每一次呼吸\" target=\"_blank\" href=\"query=%E4%BD%A0%E7%9A%84%E6%AF%8F%E4%B8%80%E6%AC%A1%E5%91%BC%E5%90%B8&clickArea=1\" >                            <span class=\"kmap-title\">                                你的每一次呼吸                            </span>                        </a>                                            </li><li id=\"sgkmap_right_none_21_73_0_content_21|73_cols_4_pos_1_13_innerid_wap_484798_vr_50022701\" style=\"display:none\">                        <div class=\"repDiv rep_Feed\" style=\"margin-bottom:5px;display:none\">                            <a class=\"rvr-atReport\" id=\"sgkmap_right_00000000000000000000000000000000__0_l12_wrong\" href=\"#\" hidefocus style=\"outline:none\" con=\"你飞到城市另一边\" product=\"right\">纠错</a>                        </div>                        <a target=\"_blank\" data-href=\"query=%E4%BD%A0%E9%A3%9E%E5%88%B0%E5%9F%8E%E5%B8%82%E5%8F%A6%E4%B8%80%E8%BE%B9&clickArea=1\" class=\"rvr-atpic2 rim-pic\" link=\"off\">                            <img data-show=\"hide\" title=\"你飞到城市另一边\" data-src=\"http://img04.sogoucdn.com/app/a/10010016/bb2e5361fb808323b05803b81ba1cbcd\"  style=\"display:none\"/>                                                    </a>                        <a title=\"你飞到城市另一边\" target=\"_blank\" href=\"query=%E4%BD%A0%E9%A3%9E%E5%88%B0%E5%9F%8E%E5%B8%82%E5%8F%A6%E4%B8%80%E8%BE%B9&clickArea=1\" >                            <span class=\"kmap-title\">                                你飞到城市另一边                            </span>                        </a>                        <span class=\"kmap-year\"> 好妹妹乐队的一首歌曲</span>                    </li><li id=\"sgkmap_right_none_21_73_0_content_21|73_cols_4_pos_1_14_innerid_wap_48733_vr_50022701\" style=\"display:none\">                        <div class=\"repDiv rep_Feed\" style=\"margin-bottom:5px;display:none\">                            <a class=\"rvr-atReport\" id=\"sgkmap_right_00000000000000000000000000000000__0_l13_wrong\" href=\"#\" hidefocus style=\"outline:none\" con=\"路太弯\" product=\"right\">纠错</a>                        </div>                        <a target=\"_blank\" data-href=\"query=%E8%B7%AF%E5%A4%AA%E5%BC%AF&clickArea=1\" class=\"rvr-atpic2 rim-pic\" link=\"off\">                            <img data-show=\"hide\" title=\"路太弯\" data-src=\"http://img02.sogoucdn.com/app/a/10010016/31693f794bbed46bc0da2f59176f59fc\"  style=\"display:none\"/>                                                    </a>                        <a title=\"路太弯\" target=\"_blank\" href=\"query=%E8%B7%AF%E5%A4%AA%E5%BC%AF&clickArea=1\" >                            <span class=\"kmap-title\">                                路太弯                            </span>                        </a>                        <span class=\"kmap-year\"> 潘玮柏演唱歌曲</span>                    </li><li id=\"sgkmap_right_none_21_73_0_content_21|73_cols_4_pos_1_15_innerid_wap_407804_vr_50022701\" style=\"display:none\">                        <div class=\"repDiv rep_Feed\" style=\"margin-bottom:5px;display:none\">                            <a class=\"rvr-atReport\" id=\"sgkmap_right_00000000000000000000000000000000__0_l14_wrong\" href=\"#\" hidefocus style=\"outline:none\" con=\"情歌两三首\" product=\"right\">纠错</a>                        </div>                        <a target=\"_blank\" data-href=\"query=%E6%83%85%E6%AD%8C%E4%B8%A4%E4%B8%89%E9%A6%96&clickArea=1\" class=\"rvr-atpic2 rim-pic\" link=\"off\">                            <img data-show=\"hide\" title=\"情歌两三首\" data-src=\"http://img01.sogoucdn.com/app/a/10010016/c702049bdde4b9e374fff914ad6f34d5\"  style=\"display:none\"/>                                                    </a>                        <a title=\"情歌两三首\" target=\"_blank\" href=\"query=%E6%83%85%E6%AD%8C%E4%B8%A4%E4%B8%89%E9%A6%96&clickArea=1\" >                            <span class=\"kmap-title\">                                情歌两三首                            </span>                        </a>                                            </li>                </ul><script type=\"text/javascript\">                setTimeout(function() {                    kmap.kmapPB(\"right\", \"&vrid=\" + \"50022701\" + \"&pvarg=\" + \"21_73\" + \"&attr=\" + \"_21|73-0\" + \"&cooperation=\" + \"\" + \"&showparams=\" + encodeURIComponent(\"相关音乐\\0012\\001you^wap_34497^1\\001five^wap_564682^1\\001help^wap_40398^1\\001milk^wap_774917^1\\001cake^wap_54540^1\\001good bye^wap_41153^1\\001say^wap_58391^1\\001china^wap_44150^1\\001welcome^wap_34487^0\\001man^wap_40383^0\\001weixin^wap_776938^0\\001你的每一次呼吸^wap_330181^0\\001你飞到城市另一边^wap_484798^0\\001路太弯^wap_48733^0\\001情歌两三首^wap_407804^0\\001\"));                }, 100);            </script><div class=\"rvr-feedBack\" id=\"tp_fb_bcl\">            <span class=\"fr\">                <a id=\"sgkmap_right_report\" href=\"#\" class=\"fb\">反馈</a>            </span>        </div>        <div class=\"rvr-crtFeedBack\" id=\"tp_fb_acl\" style=\"display:none\" data-name=\"\">            若以上内容有误，点击相应的“纠错”提交；其他问题，请直接点击             <a class=\"fb\" href=\"#\">反馈</a>             <a class=\"cc\" href=\"#\">取消</a>            <span></span>            <span class=\"fr\"></span>        </div> </div><!--zlfRight--> <!-- rightTupuAfterItems -->  <style>\n",
      "\t\t\t.music-recommend{line-height:32px;border-top:1px solid #f5f5f5;margin-top:4px;}\n",
      "        .music-recommend li{border-bottom:1px solid #f5f5f5;position:relative;zoom:1}\n",
      "        .music-recommend li .mus-pub{width:16px;height:16px;display:block;position:absolute;background:#a8c2f3;line-height:16px;font-size:12px;color:#fff;text-align:center;top:8px;left:0;zoom:1}\n",
      "        .music-recommend li .mus-top1{background:#f87777}\n",
      "        .music-recommend li .mus-top2{background:#fd9393}\n",
      "        .music-recommend li .mus-top3{background:#ffb1b1}\n",
      "        .rvr-model-test .music-recommend li .mus-pub{background-color:rgba(153,153,153,0.8);border-radius:2px;}\n",
      "        .rvr-model-test .music-recommend li .mus-top1{background-color:rgba(226,43,0,0.8)}\n",
      "       \t.rvr-model-test .music-recommend li .mus-top2{background-color:rgba(255,94,0,0.8)}\n",
      "     \t\t.rvr-model-test .music-recommend li .mus-top3{background-color:rgba(255,154,0,0.8)}\n",
      "        .music-recommend li .ranklist_span{position:absolute;width:66px;padding-left:19px;top:0;right:0;color:#666;text-align:right;}\n",
      "        .music-recommend li a{margin-left:22px}\n",
      "        .music-recommend a{text-decoration: none}\n",
      "        .music-recommend a:hover{text-decoration: underline}\n",
      "        .music-tit{color:#999}\n",
      "        .music-tit span{position:absolute;top:0;*top:-6px;right:0}\n",
      "        .feedBack{text-align:right;color:#bbb;line-height:27px;margin-top:3px}\n",
      "        .feedBack a{color:#bbb}\n",
      "        .feedBack .fr a{color:#bbb;background:url(../images/knowledge/skin_y.gif) 0 2px no-repeat;padding-left:15px}\n",
      "\t\t</style><script>var kmap_ranklist = {title:\"搜狗热搜榜-动漫\",sourceurl:\"http://top.sogou.com/animation/all_1.html\",col1:\"关键词\",col2:\"热度\",source:\"数据来源：搜狗热搜榜\",value1:[\"火影忍者\",\"海贼王\",\"奥特曼\",\"熊出没\",\"赛尔号\",\"七夕节\",\"名侦探柯南\",\"猫和老鼠\",\"喜羊羊与灰太狼\",\"猪猪侠\"],value2:[36376,30959,25284,24135,20967,16262,14475,14285,12642,11939]}</script><script>\n",
      "\t\t\t$s.wait(\"kmap_right_ranklist\", buildRanklist, 20);\n",
      "\n",
      "\t\t\tfunction buildRanklist () {\n",
      "\t\t\t\t\tif (typeof kmap_ranklist === 'undefined')\n",
      "\t\t\t\t\t\t\treturn;\n",
      "\t\t\t\t\tif (kmap_ranklist.value1.length\t\t<= 0)\n",
      "\t\t\t\t\t\t\treturn;\n",
      "\t\t\t\t\tkmap_ranklist.value3 = kmap_ranklist.value3 || [];\n",
      "\n",
      "\t\t\t\t\tvar parent = $s.$('kmap_right_ranklist'), titleDiv, rankDiv, li, span, a_tag, srcDiv, isBusiness = kmap_ranklist.value3.length > 0,\n",
      "\t\t\t\t\t\t\tsource = isBusiness ? kmap_ranklist.source : '';\n",
      "\t\t\t\t\tvar vrid = '50023001';\n",
      "\t\t\t\t\tif (source && source === '鎼滅嫍杞欢涓嬭浇') {\n",
      "\t\t\t\t\t\t\tvrid = '50023201';\n",
      "\t\t\t\t\t}\n",
      "\t\t\t\t\ttitleDiv = $s.$c('h3', parent, 'rvr-atAdBranch');\n",
      "\t\t\t\t\tvar title = kmap_ranklist.title;\n",
      "\t\t\t\t\tif (/\\.soso\\./.test(location.hostname)){\n",
      "\t\t\t\t\t\t\ttitleDiv.innerHTML = title.replace(/^鎼滅嫍/, '');\n",
      "\t\t\t\t\t} else {\n",
      "\t\t\t\t\t\t\tif (kmap_ranklist.sourceurl) {\n",
      "\t\t\t\t\t\t\t\t\ttitle = '<a id=\"kmap_ranklist_title_vr_' + vrid + '\" href=\"' + kmap_ranklist.sourceurl + '\" target=\"_blank\">' + title + '</a>'\n",
      "\t\t\t\t\t\t\t}\n",
      "\t\t\t\t\t\t\ttitleDiv.innerHTML = isBusiness ? '<span class=\"kmapAttrTitle\">' + title + '<span class=\"business\">&nbsp;-&nbsp;' + (kmap_ranklist.source || '鎺ㄥ箍') + '</span></span>' : title;\n",
      "\t\t\t\t\t}\n",
      "\n",
      "\t\t\t\t\trankDiv = $s.$c('ol', parent, 'music-recommend');\n",
      "\t\t\t\t\tli = $s.$c('li', rankDiv, 'music-tit');\n",
      "\t\t\t\t\tli.innerHTML = kmap_ranklist.col1 + '<span>' + kmap_ranklist.col2 + '</span>';\n",
      "\t\t\t\t\tfor (var i=0; i<kmap_ranklist.value1.length; i++) {\n",
      "\t\t\t\t\t\t\tli = $s.$c('li', rankDiv);\n",
      "\t\t\t\t\t\t\tspan = $s.$c('span', li, 'ranklist_span');\n",
      "\t\t\t\t\t\t\tspan.innerHTML = kmap_ranklist.value2[i];\n",
      "\t\t\t\t\t\t\tspan = $s.$c('span', li, 'mus-pub' + (i<3 ? ' mus-top'+(i+1) : ''));\n",
      "\t\t\t\t\t\t\tspan.innerHTML = i + 1;\n",
      "\t\t\t\t\t\t\ta_tag = $s.$c('a', li);\n",
      "\t\t\t\t\t\t\ta_tag.id = 'kmap_ranklist_' + (source ? encodeURIComponent(source) + '_' : '') + i + '_vr_' + vrid;\n",
      "\t\t\t\t\t\t\ta_tag.target = '_blank';\n",
      "\t\t\t\t\t\t\ta_tag.href = kmap_ranklist.value3[i] || kmap.splicelink(kmap_ranklist.value1[i]);\n",
      "\t\t\t\t\t\t\ta_tag.innerHTML = kmap_ranklist.value1[i];\n",
      "\t\t\t\t\t\t\ta_tag.setAttribute('hidefocus', true);\n",
      "\t\t\t\t\t\t\ta_tag.style.outline = 'none';\n",
      "\t\t\t\t\t}\n",
      "\t\t\t\t\tparent.style.display = '';\n",
      "\t\t\t\t\t/*if (kmap_ranklist.source) {\n",
      "\t\t\t\t\tsrcDiv = $s.$c('div', li, 'feedBack');\n",
      "\t\t\t\t\tsrcDiv.innerHTML = '<span style=\"float: right;\">' + kmap_ranklist.source + '</span>';\n",
      "\t\t\t\t\t}*/\n",
      "\n",
      "\t\t\t\t\tvar _argList = []; _argList.push($s.httpsUtil.getPingbackHost()+'/pv.gif?uigs_productid=kmap&vrid=' + vrid + '&type=ranklist' + (source ? '_' + encodeURIComponent(source) : '')); _argList.push('&sab=', sab, '&k_uuid=', uuid, '&gbkQuery=', encodeURIComponent(gbkQuery));\n",
      "\t\t\t\t\t(new Image()).src = _argList.join('');\n",
      "\t\t\t}\n",
      "\t\t</script><div class=\"rvr-model\" id=\"kmap_right_ranklist\" style=\"display: none;\"></div><!--STATUS VR OK--><!--VR TYPE:21379401,RANK:0-->\n",
      "  <!-- rightTupuAfterItemsend -->           </div><!-- RightViewEnd --> </div><!-- AllResultViewEnd --> <!-- HintViewBegin --><div class=\"hintBox\">  <table id=\"hint_container\" class=\"hint\"><caption>相关搜索</caption>  <tr>  <td><p><a href=\"?user_ip=183.95.236.68&sourceid=hint&bh=1&hintidx=15 &query=hi%E4%B8%8B%E8%BD%BD&w=01020600 &interation=&interV=kKIOkrELjbgLmLkElbkTkKILk7ELjboImLkEk74TkKIMkrELjbkRmLkEmrELjbgRmLkEkLYTKVeRFTbxHUwElKJ6wu9DxqRLzO1H1qR7zOMTEl+OKaIPjeh5yupNj+lHzrGSATrijb0Exe971aR7z4==_-682287274 &htdbg=on&ie=utf8\" id=\"sogou_99999_1\">hi下载</a></p></td>  <td><p><a href=\"?user_ip=183.95.236.68&sourceid=hint&bh=1&hintidx=16 &query=hi%E5%92%8Clo%E5%93%AA%E4%B8%AA%E6%98%AF%E7%A9%BA%E8%B0%83%E7%83%AD%E9%A3%8E&w=01020600 &interation=&interV=kKIOkrELjbgLmLkElbkTkKILk7ELjboImLkEk74TkKIMkrELjbkRmLkEmrELjbgRmLkEkLYTKVeRFTbxHUwElKJ6wu9DxqRLzO1H1qR7zOMTEl+OKaIPjeh5yupNj+lHzrGSATrijb0Exe971aR7z4==_-682287274 &htdbg=on&ie=utf8\" id=\"sogou_99999_2\">hi和lo哪个是空调热风</a></p></td>  <td><p><a href=\"?user_ip=183.95.236.68&sourceid=hint&bh=1&hintidx=17 &query=%E7%A9%BA%E8%B0%83hi%20med%20lo%E6%98%AF%E7%83%AD%E9%A3%8E%E5%90%97&w=01020600 &interation=&interV=kKIOkrELjbgLmLkElbkTkKILk7ELjboImLkEk74TkKIMkrELjbkRmLkEmrELjbgRmLkEkLYTKVeRFTbxHUwElKJ6wu9DxqRLzO1H1qR7zOMTEl+OKaIPjeh5yupNj+lHzrGSATrijb0Exe971aR7z4==_-682287274 &htdbg=on&ie=utf8\" id=\"sogou_99999_3\">空调hi med lo是热风吗</a></p></td>  <td><p><a href=\"?user_ip=183.95.236.68&sourceid=hint&bh=1&hintidx=18 &query=hi%E5%AE%A4%E5%8F%8B%E7%AC%AC%E4%BA%8C%E5%AD%A3&w=01020600 &interation=&interV=kKIOkrELjbgLmLkElbkTkKILk7ELjboImLkEk74TkKIMkrELjbkRmLkEmrELjbgRmLkEkLYTKVeRFTbxHUwElKJ6wu9DxqRLzO1H1qR7zOMTEl+OKaIPjeh5yupNj+lHzrGSATrijb0Exe971aR7z4==_-682287274 &htdbg=on&ie=utf8\" id=\"sogou_99999_4\">hi室友第二季</a></p></td>  </tr>  <tr>  <td><p><a href=\"?user_ip=183.95.236.68&sourceid=hint&bh=1&hintidx=19 &query=%E6%91%A9%E6%96%AF%E5%AF%86%E7%A0%81hi%E4%BB%80%E4%B9%88%E6%84%8F%E6%80%9D&w=01020600 &interation=&interV=kKIOkrELjbgLmLkElbkTkKILk7ELjboImLkEk74TkKIMkrELjbkRmLkEmrELjbgRmLkEkLYTKVeRFTbxHUwElKJ6wu9DxqRLzO1H1qR7zOMTEl+OKaIPjeh5yupNj+lHzrGSATrijb0Exe971aR7z4==_-682287274 &htdbg=on&ie=utf8\" id=\"sogou_99999_5\">摩斯密码hi什么意思</a></p></td>  <td><p><a href=\"?user_ip=183.95.236.68&sourceid=hint&bh=1&hintidx=20 &query=hi%E6%98%AF%E4%BB%80%E4%B9%88%E8%AF%8D&w=01020600 &interation=&interV=kKIOkrELjbgLmLkElbkTkKILk7ELjboImLkEk74TkKIMkrELjbkRmLkEmrELjbgRmLkEkLYTKVeRFTbxHUwElKJ6wu9DxqRLzO1H1qR7zOMTEl+OKaIPjeh5yupNj+lHzrGSATrijb0Exe971aR7z4==_-682287274 &htdbg=on&ie=utf8\" id=\"sogou_99999_6\">hi是什么词</a></p></td>  <td><p><a href=\"?user_ip=183.95.236.68&sourceid=hint&bh=1&hintidx=21 &query=hi%E6%98%AF%E4%BB%80%E4%B9%88%E9%85%92&w=01020600 &interation=&interV=kKIOkrELjbgLmLkElbkTkKILk7ELjboImLkEk74TkKIMkrELjbkRmLkEmrELjbgRmLkEkLYTKVeRFTbxHUwElKJ6wu9DxqRLzO1H1qR7zOMTEl+OKaIPjeh5yupNj+lHzrGSATrijb0Exe971aR7z4==_-682287274 &htdbg=on&ie=utf8\" id=\"sogou_99999_7\">hi是什么酒</a></p></td>  <td><p><a href=\"?user_ip=183.95.236.68&sourceid=hint&bh=1&hintidx=22 &query=hi%E6%88%91%E6%98%AF%E8%8B%B9%E6%9E%9C&w=01020600 &interation=&interV=kKIOkrELjbgLmLkElbkTkKILk7ELjboImLkEk74TkKIMkrELjbkRmLkEmrELjbgRmLkEkLYTKVeRFTbxHUwElKJ6wu9DxqRLzO1H1qR7zOMTEl+OKaIPjeh5yupNj+lHzrGSATrijb0Exe971aR7z4==_-682287274 &htdbg=on&ie=utf8\" id=\"sogou_99999_8\">hi我是苹果</a></p></td>  </tr>  <tr>  <td><p><a href=\"?user_ip=183.95.236.68&sourceid=hint&bh=1&hintidx=23 &query=hi%E5%A5%BD%E7%94%A8%E7%9A%84%E6%84%8F%E6%80%9D%E6%98%AF%E4%BB%80%E4%B9%88&w=01020600 &interation=&interV=kKIOkrELjbgLmLkElbkTkKILk7ELjboImLkEk74TkKIMkrELjbkRmLkEmrELjbgRmLkEkLYTKVeRFTbxHUwElKJ6wu9DxqRLzO1H1qR7zOMTEl+OKaIPjeh5yupNj+lHzrGSATrijb0Exe971aR7z4==_-682287274 &htdbg=on&ie=utf8\" id=\"sogou_99999_9\">hi好用的意思是什么</a></p></td>  <td><p><a href=\"?user_ip=183.95.236.68&sourceid=hint&bh=1&hintidx=24 &query=hilink%E6%98%AF%E4%BB%80%E4%B9%88%E6%84%8F%E6%80%9D&w=01020600 &interation=&interV=kKIOkrELjbgLmLkElbkTkKILk7ELjboImLkEk74TkKIMkrELjbkRmLkEmrELjbgRmLkEkLYTKVeRFTbxHUwElKJ6wu9DxqRLzO1H1qR7zOMTEl+OKaIPjeh5yupNj+lHzrGSATrijb0Exe971aR7z4==_-682287274 &htdbg=on&ie=utf8\" id=\"sogou_99999_10\">hilink是什么意思</a></p></td>  <td><p><a href=\"?user_ip=183.95.236.68&sourceid=hint&bh=1&hintidx=25 &query=hi%20finderacg%20apk&w=01020600 &interation=&interV=kKIOkrELjbgLmLkElbkTkKILk7ELjboImLkEk74TkKIMkrELjbkRmLkEmrELjbgRmLkEkLYTKVeRFTbxHUwElKJ6wu9DxqRLzO1H1qR7zOMTEl+OKaIPjeh5yupNj+lHzrGSATrijb0Exe971aR7z4==_-682287274 &htdbg=on&ie=utf8\" id=\"sogou_99999_11\">hi finderacg apk</a></p></td>  <td><p><a href=\"?user_ip=183.95.236.68&sourceid=hint&bh=1&hintidx=26 &query=%E8%8B%B1%E8%AF%ADhi%E6%98%AF%E4%BB%80%E4%B9%88%E6%84%8F%E6%80%9D&w=01020600 &interation=&interV=kKIOkrELjbgLmLkElbkTkKILk7ELjboImLkEk74TkKIMkrELjbkRmLkEmrELjbgRmLkEkLYTKVeRFTbxHUwElKJ6wu9DxqRLzO1H1qR7zOMTEl+OKaIPjeh5yupNj+lHzrGSATrijb0Exe971aR7z4==_-682287274 &htdbg=on&ie=utf8\" id=\"sogou_99999_12\">英语hi是什么意思</a></p></td>  </tr>  </table>   </div><!-- HintViewEnd -->  <!-- PaginationViewBegin --><div class=\"p\" id=\"pagebar_container\">    <span>1</span>    <a id=\"sogou_page_2\" href=\"?query=hi&page=2&ie=utf8\">2</a>    <a id=\"sogou_page_3\" href=\"?query=hi&page=3&ie=utf8\">3</a>    <a id=\"sogou_page_4\" href=\"?query=hi&page=4&ie=utf8\">4</a>    <a id=\"sogou_page_5\" href=\"?query=hi&page=5&ie=utf8\">5</a>    <a id=\"sogou_page_6\" href=\"?query=hi&page=6&ie=utf8\">6</a>    <a id=\"sogou_page_7\" href=\"?query=hi&page=7&ie=utf8\">7</a>    <a id=\"sogou_page_8\" href=\"?query=hi&page=8&ie=utf8\">8</a>    <a id=\"sogou_page_9\" href=\"?query=hi&page=9&ie=utf8\">9</a>    <a id=\"sogou_page_10\" href=\"?query=hi&page=10&ie=utf8\">10</a>    <a id=\"sogou_next\" href=\"?query=hi&page=2&ie=utf8\" class=\"np\">下一页</a>  </div><!-- PaginationViewEnd --> <!-- BottomFormBegin --> <!-- BottomFormEnd --><!-- BottomFormBegin --><div class=\"querybox\" style=\"display:none\"><div class=\"qborder\"><div class=\"qborder2\"><input id=\"bottom_form_querytext\" name=\"query\" type=\"text\" onfocus=\"focusInput(this)\" autocomplete=\"off\" class=\"query\" size=\"32\" value=\"hi\"><a class=\"qreset2\" id=\"bottom_qreset\" href=\"#\"></a></div></div></div><!-- BottomFormEnd -->  <!-- CopyRightViewBegin --><div class=\"cr\" id=\"s_footer\"><div><a id=\"sogou_feedback\" href=\"javascript:dissatisfied('fankuiform', false)\">意见反馈及投诉</a><a target=\"_blank\" id=\"sogou_jubao\" href=\"http://fankui.help.sogou.com/index.php/web/web/index/type/5?query=hi\">举报</a><a target=\"_blank\" id=\"sogou_weibo\" href=\"http://e.weibo.com/sogou\">官方微博</a><a id=\"sogou_mianze\" href=\"http://www.sogou.com/docs/terms.htm?v=1\" target=\"_blank\" class=\"g\">免责声明</a><a target=\"_blank\" id=\"sogou_private\" href=\"http://corp.sogou.com/private.html\">隐私政策</a>&nbsp;&copy; 2020&nbsp;SOGOU.COM</div></div><!-- CopyRightViewEnd --> </div><!-- MainBodyViewEnd --> <!-- BottomViewBegin opt --> <img style=\"position:absolute;top:-1px\" src=\"/img/fav.ico?76579b96-4df3-4e2a-8551-ed30dcd839da\" height=\"0\" border=\"0\" width=\"0\"><!-- vr external js--><!-- vr external js end--><script type=\"text/javascript\">var uigs_para={\"uigs_productid\":\"web\",\"type\":\"pc_web_result\",'scrnwi':screen.width,'scrnhi':screen.height,\"yyid\":($s.cookie(\"YYID\") ||''),\"snuid\":($s.cookie(\"SNUID\") ||''),\"uigs_pbtag\":\"A\",\"uigs_cookie\":\"SUID,sct\",\"copyright\":typeof(copyrightCount) == \"undefined\"?\"\":copyrightCount,\"UA\":\"Mozilla%2F5.0%20(Windows%20NT%2010.0%3B%20Win64%3B%20x64)%20AppleWebKit%2F537.36%20(KHTML%2C%20like%20Gecko)%20Chrome%2F85.0.4183.102%20Safari%2F537.36\",\"fanyiciye\":typeof(fanyiciye) == \"undefined\"?\"\":fanyiciye,\"gaoduan_firstshow\":typeof(gaoduan_first) == \"undefined\"?\"\":gaoduan_first,\"gaoduan_secondshow\":typeof(gaoduan_second) == \"undefined\"?\"\":gaoduan_second,\"gaoduan_thirdshow\":typeof(gaoduan_third) == \"undefined\"?\"\":gaoduan_third, \"ladh\" : ($s.$(\"promotion_adv_container\")||'').offsetHeight ||-1, \"lbadh\" : ($s.$(\"PZL\")||'').offsetHeight || -1, 'abtestid':'5','query':'%68%69','rn':'527600','stype':2,'htn':12,'qcn':0,'hbn':0,'uuid':'76579b96-4df3-4e2a-8551-ed30dcd839da','vr':'70162601_0-30010097_1-11002601_2-11014801_3-30000701_4-30000000_5-30001903_6-30010244_7-30000909_8-30010260_9-30000909_10-30000909_11-30000907_12','exp_id':'null_0-null_1-null_2-null_3-null_4-null_5-null_6-null_7-null_8-null_9-null_10-null_11-null_12','vrdetail':'70162601_0-30010097_1-11002601_2-11014801_3-30000701_4-30000000_5-30001903_6-30010244_7-30000909_8-30010260_9-30000909_10-30000909_11-30000907_12','sm':'d0_0-d0_1-d0_2-d0_3-d0_4-d0_5-d0_6-d0_7-d0_8-d0_9-d0_10-d0_11-d0_12','loc':'CN4201','adn':0,'adltbn':0,'adltan':0,'radn':0,'bkcolor':0,'expand':0,'qflag':0,'qtype':0,'warnLevel':127,'adleftbrand':0,'adrightbrand':0,'adleftup':0,'adleftdown':0,'adright':0,'eg':1,'cost':11,'bl':'-1_127_0_0','pid':'sogou__free','qjf':'sogou__free','servuri':'%2Fwebsearch%2Fsogou.jsp','rw':'','idc':'hb1','pn':'11','jhhint':'0','jhshuxing':'0','intcat':'web','inttab':'baike.sogou.com-0_baidu.com-1_dict.cn-2_62-3_','jhly':'top','jhlysite':'all-0_baike.sogou.com-1_baidu.com-2_dict.cn-3_',legalad:'1','kmap':'qa_0-right_'+kmap_stas_type+'','qatype':'0','googlead':'0','rightvr':'21379401_0','ekv':'-1','lkx':'-1','protocol':'https','pagenum':'1','ipversion':'4' };</script><script type=\"text/javascript\" src=\"//dlweb.sogoucdn.com/pcsearch/js/pb_v.1.9.7_ca8005c.js\"></script><script type=\"text/javascript\" src=\"//dlweb.sogoucdn.com/pcsearch/js/abtest_common_B.min_c93f4cb.js\"></script><script type=\"text/javascript\">/*file=static/js/anti_pupeteer.js*/!function(){try{function detectAuto(){if(/HeadlessChrome/.test(navigator&&navigator.userAgent))return!0;for(var E=[],U=[\"EU6ET3ET6ET4EUYEUEEU7ET3EUY\",\"ET9ET9ET4EUYEUEEU7ET3EUYET9ET3EU7ET7EUREU8ET7EU9ET3\",\"ET9ET9EU6ET3ET6ET4EUYEUEEU7ET3EUYET9ET3EU7ET7EUREU8ET7EU9ET3\",\"EC9ET9ET9EUHET3EURET3EUUEUEEU8EUTET9ET3EU7ET7EUREU8ET7EU9ET3\",\"ET9ET9ET2EU5ET4EUYEUEEU7ET3EUYET9ET3EU7ET7EUREU8ET7EU9ET3\",\"ET9ET9ET4EUYEUEEU7ET3EUYET9EU8EUUEU6EUYET7EUOEUOET3ET4\",\"ET9ET9EU6ET3ET6ET4EUYEUEEU7ET3EUYET9EU8EUUEU6EUYET7EUOEUOET3ET4\",\"ET9ET9EUHET3EURET3EUUEUEEU8EUTET9EU8EUUEU6EUYET7EUOEUOET3ET4\",\"ET9ET9ET2EU5ET4EUYEUEEU7ET3EUYET9EU8EUUEU6EUYET7EUOEUOET3ET4\",\"ET9ER0ET3EURET3EUUEUEEU8EUTET9ERHERUERGET9ER1ET3ET5EUGEUYET4ET3EUY\",\"ET9EUHET3EURET3EUUEUEEU8EUT\",\"ET5ET7EUREURET3ET4ER0ET3EURET3EUUEUEEU8EUT\",\"ET9ETRERGERRERUER1ERHETAERGER1ET9ERGER7ERGER6ET9ERTERAERTERYERG\",\"ERTET0EUYEUGEUTET3ERUEUYEUEEU7ET3EUYEU6\",\"ET4EUYEUEEU7ET3EUYEARET3EU7ET7EUREU8ET7EU9ET3\",\"EU6ET3ET6ET4EUYEUEEU7ET3EUYEARET3EU7ET7EUREU8ET7EU9ET3\",\"EUHET3EURET3EUUEUEEU8EUTEARET3EU7ET7EUREU8ET7EU9ET3\",\"EU6ET3ET6ET4EUYEUEEU7ET3EUYERTEUGEUTEUTET7EUUET4\",\"EU6ET3ET6ET4EUYEUEEU7ET3EUYEARET3EU7ET7EUREU8ET7EU9ET3EAREUYET3EUHEUOEUGEUUEUHET3\",\"ET9ET9EU6ET3ET6ET4EUYEUEEU7ET3EUYEROEU8EUUET5\",\"ET9ET9EU6ET3ET6ET4EUYEUEEU7ET3EUYET9EUHET5EUYEUEEUOEU9ET9ET2EUU\",\"ET9ET9EC5EU6ET3ET6ET4EUYEUEEU7ET3EUYERAEUHEU4EUUET5ERGEU5ET3ET5EU8EU9EUGEUY\",\"ET9ET9EURET7EUHEU9ETRET7EU9EUEEUYERAEURET3EUYEU9\",\"ET9ET9EURET7EUHEU9ETRET7EU9EUEEUYERTEUGEUUET2EUEEUYEUT\",\"ET9ET9EURET7EUHEU9ETRET7EU9EUEEUYER3EUYEUGEUTEUOEU9\",\"EC5ET5ET0EUYEUGEUTET3ET9ET7EUHEU4EUUET5ER0ET5EUYEUEEUOEU9ERHEUUET2EUG\",\"EC5ET5ET4ET5ET9ET7EUHET4EUCET2EURET7EUHEU8EU9EUGEUOET2ET0EU7ET5ETGER7EUTET5ET2EURET9\",\"ET9EUOET0ET7EUUEU9EUGEUT\",\"ET9EUOET0ET7EUUEU9EUGEUTET7EUH\"],T=getKey(),e=0;e<U.length;e++){var t=fromCode(U[e],T);(window[t]||window.document&&window.document.documentElement&&window.document.documentElement.getAttribute&&window.document.documentElement.getAttribute(t)||navigator&&navigator[t])&&E.push(t)}return 0<E.length}function getKey(){for(var E=[\"hhy\",\"search\",\"sogu\"],U=\"\",T=0;T<10;T++)U+=T;return E[1]=\"trace\",E[0]=\"hy\",U+=E[0],U+=E[2],U=(U+=E[1]).toUpperCase().split(\"\").reverse().join(\"\")}function fromCode(str,key){var l=key.length,b,b1,b2,b3,d=0,s;s=new Array(Math.floor(str.length/3)),b=s.length;for(var i=0;i<b;i++)b1=key.indexOf(str.charAt(d)),d++,b2=key.indexOf(str.charAt(d)),d++,b3=key.indexOf(str.charAt(d)),d++,s[i]=b1*l*l+b2*l+b3;return b=eval(\"String.fromCharCode(\"+s+\")\"),b}if(detectAuto()){var date=new Date;date.setTime(date.getTime()+36e5),document.cookie=[\"sgwbtp=1;expires=\",date.toUTCString(),\";domain=.sogou.com;path=/\"].join(\"\")}else{var date=new Date;date.setTime(date.getTime()-1e4),document.cookie=[\"sgwbtp=1;expires=\",date.toUTCString(),\";domain=.sogou.com;path=/\"].join(\"\")}}catch(E){}}();</script><form id=\"tupufankuiform\" method=\"post\" accept-charset=\"utf-8\"><input type=\"hidden\" name=\"cause\" value=\"\"> <input type=\"hidden\" name=\"query\" value=\"hi\"> <input type=\"hidden\" name=\"refer\" value=\"\"> <input type=\"hidden\" name=\"uuid\" value=\"76579b96-4df3-4e2a-8551-ed30dcd839da\"> <input type=\"hidden\" name=\"scenehtml\" value=\"\" id=\"tupuscenehtml\"> <input type=\"hidden\" name=\"queryurl\" value=\"\"> <input type=\"hidden\" name=\"content\" value=\"\"> <input type=\"hidden\" name=\"side\" value=\"\"> <input type=\"hidden\" name=\"product\" value=\"\"> <input type=\"hidden\" name=\"vrid\" value=\"\"></form>    <script type=\"text/javascript\" src=\"https://dlweb.sogoucdn.com/struct/js/extQuery.20200612.min.js\"></script>  <script>define(\"\",[\"$s\"],function(a){var c=function(f){var l=new Object(),e=f.indexOf(\"?\");if(e>=0){var k=f.substr(e+1);if(k.indexOf(\"&\")!=-1){strs=k.split(\"&\");for(var h=0;h<strs.length;h++){if(strs[h]!=null&&strs[h].indexOf(\"=\")!=-1){l[strs[h].split(\"=\")[0]]=strs[h].split(\"=\")[1]}}}else{var g=k.substring(0,k.indexOf(\"=\"));var j=k.substr(k.indexOf(\"=\")+1);l[g]=decodeURIComponent(j)}}return l},d=function(g){var f=g.value.length;if(document.selection){g.focus();var e=document.selection.createRange();e.moveStart(\"character\",-f);e.moveStart(\"character\",f);e.moveEnd(\"character\",0);e.select()}else{if(typeof g.selectionStart==\"number\"&&typeof g.selectionEnd==\"number\"){g.selectionStart=f;g.selectionEnd=f;g.focus()}}},b=function(){var e=c(location.href);if(typeof e.lxea!=\"undefined\"&&(e.lxea.indexOf(\"7.5.0.5629\")!=-1||e.lxea.indexOf(\"7.2.1.5628\")!=-1)){setTimeout(function(){d(a.$(\"upquery\"))},100)}};b()});</script><style>.vr-express-box .order-flow{height:auto}.vr-express-box .order-flow ul{padding-bottom:0px}.vrPic .vrPicBox li{ *overflow:hidden}</style><script>define('',['$'], function($){if(typeof(bing_statistic_params)!=\"undefined\" && bing_statistic_params.page == \"common\"){$(\".results\").attr(\"style\",\"word-break:inherit;word-wrap:inherit\");}});</script><style>.r-sech a{white-space:nowrap}.top-hintBox .r-sech a{font-weight:normal}.headsearch .r-sech{position:relative;z-index:1;line-height:16px;height:16px;padding:9px 0 0 115px;border-bottom:7px solid transparent;margin-bottom:-12px;display:block}.headsearch .r-sech p{max-width:900px}.headsearch .r-sech a{font-weight:normal}@media screen and (min-width:1920px){.foot{width:1110px;margin:0 auto 39px;padding:0 5px}}</style>  <script type=\"text/javascript\">/*file=static/js/https_report.js*/define(\"https_report\",[\"$\",\"$s\"],function(p,c){p(window).on(\"load\",function(){if(c.httpsUtil.isHttps){var t=location.href,e=\"undefined\"!=typeof oldQuery?oldQuery:\"\",n=\"\",o=\"\",r=\"\";p(\"img\").each(function(){var t=p(this).attr(\"src\");void 0!==t&&0==t.indexOf(\"http://\")&&(n+=t+\" \")}),p(\"script\").each(function(){var t=p(this).attr(\"src\");void 0!==t&&0==t.indexOf(\"http://\")&&(o+=t+\" \")}),p(\"link\").each(function(){var t=p(this).attr(\"href\");void 0!==t&&0==t.indexOf(\"http://\")&&(r+=t+\" \")}),\"\"!=n&&i(\"imgerror\",n,t,e),\"\"!=o&&i(\"scripterror\",o,t,e),\"\"!=r&&i(\"linkerror\",r,t,e)}function i(t,e,n,o){var r=[c.httpsUtil.getPingbackHost()+\"/pv.gif?uigs_productid=webapp&type=https_error_report&stype=\",t,\"&info=\",encodeURIComponent(e),\"&pageurl=\"+encodeURIComponent(n),\"&query=\",encodeURIComponent(o)].join(\"\");(new Image).src=r}})});</script><script type=\"text/javascript\" async src=\"//dlweb.sogoucdn.com/pcsearch/js/copyright.min_7b3a93a.js\"></script> <script type=\"text/javascript\">/*file=static/js/https_shequ.js*/define(\"\",[\"$\"],function(c){\"https:\"!==location.protocol&&c(\"body\").on(\"click\",function(o){if(o&&o.target){var t=o.target,e=null;if(t.tagName&&\"object\"==typeof(e=\"a\"!==t.tagName.toLowerCase()?c(t).parents(\"a\"):c(t))){var a=e.attr(\"href\");/.sogou.com/i.test(a)&&(a=(a=(a=a.replace(/^http:\\/\\/wenwen.sogou.com/,\"https://wenwen.sogou.com\")).replace(/^http:\\/\\/zhinan.sogou.com/,\"https://zhinan.sogou.com\")).replace(/^http:\\/\\/ld.sogou.com/,\"https://ld.sogou.com\"),e.attr(\"href\",a))}}})});</script><script type=\"text/javascript\">sst.b_e=$s.t();\n",
      "\n",
      "    define(\"\", [\"vr\"], function(vr){vr.show();});\n",
      "    window.userSec = 'ae6908dd17141e62000c087f08512ee0';\n",
      "\n",
      "    /* draw kmap_right begin */  var rightVr = true;\n",
      "        var rightVrView = '1280';    var kmapRight = true;   /*file=static/js/kmap/initOpt.js*/kmap.loadInitEnd=(new Date).getTime();var kmap_properties={right:{entity:\"\",kmap_dom:\"\",showtype:0,type:0,attr:0},left:{display:\"\",others:\"\",pvtype:0,showarg:0,changePBtype:function(t,e){t&&(kmap_qa_dis_type=t),e&&(kmap_qa_link=e)}},business:{kmap_json:null},query:{kmap_json:null},version:1};!function(){var t={\"8_1\":\"81.v.22.js\",\"8_2\":\"82.v.17.js\",\"8_3\":\"83.v.2.js\",\"8_4\":\"84.v.2.js\",\"8_5\":\"85.v.1.js\",\"10_1\":\"101.v.17.js\",\"10_2\":\"102.v.20.js\",\"12_1\":\"121.v.2.js\"};if(\"undefined\"!=typeof kmapLeft&&kmapLeft){var e=kmap.parseXML(window.kmapLeft.xml),p=kmap.attr(e,\"type\"),a=kmap.first(e,\"display\"),s=kmap.first(e,\"attribute\"),r=kmap.attr(s,\"sort\"),m=kmap.attr(s,\"remain\"),i=kmap.first(a,\"others\");kmap_qa_link=kmap.attr(e,\"pvtype\"),kmap_properties.left.pvtype=kmap_qa_link,kmap_properties.left.display=a,kmap_properties.left.others=i;var k=kmap.attr(a,\"type\");kmap_properties.left.showarg=(8<m&&1==r&&!i?\"_sort\":\"\")+(i?\"_multi\":\"\")+(0<m?\"_more\":\"\"),kmap_properties.left.changePBtype(kmap_properties.left.pvtype),t[p+\"_\"+k]&&o(\"/js/kmap/left/\"+t[p+\"_\"+k])}if(\"undefined\"!=typeof kmapRight&&kmapRight){var n=\"//dlweb.sogoucdn.com/pcsearch/js/kmap/kmap_right.20200612.min.js\";window.showRightTest?o(n=window.kmapRightTestJsPath,\"utf-8\"):o(n,\"gbk\")}function o(t,e){e||(chraset=\"gbk\");var p=document.getElementsByTagName(\"head\")[0];$s.$c(\"script\",p,\"\",t,e)}kmap.loadLeftBegin=(new Date).getTime()}();  /* draw kmap_right end */   define('', ['$'], function($) { window.copyrightCount = $(\".js-copyright\").length;});/*file=static/js/adclick.js*/!function(){var n,c=[9999,9999],u=[9999,9999],i=0,r=0,d=0,f=document,w=[-1,-1],s=[-1,-1],e=0,t=0;function m(o,e,n){if(-1==o.indexOf(\"&\"+e+\"=\"))-1==o.indexOf(\"?\")?o+=\"?\"+e+\"=\"+n:o+=\"&\"+e+\"=\"+n;else{var i=new RegExp(\"&\"+e+\"=[0-9,]*\");o=o.replace(i,\"&\"+e+\"=\"+n)}return o}\"number\"!=typeof f.clientWidth&&((f=f.documentElement)&&0!==f.clientHeight||(f=document.body)),$s.$b(window,[\"scroll\"],[function(){d++}]),window.regALink=function(o){n=$s.$$(o,\"a\");for(var e=0;e<n.length;e++)n[e].href&&(0<n[e].href.indexOf(\"www.sogou.com/bill_\")||0<n[e].href.indexOf(\"www.sogou.com/brand_\")||0<n[e].href.indexOf(\"gouwu.sogo.com/rdt\")||0<n[e].href.indexOf(\"www.sogo.com/bill_\")||0<n[e].href.indexOf(\"www.sogo.com/brand_\")||0<n[e].href.indexOf(\"gouwu.sogou.com/rdt\"))&&$s.$b(n[e],[\"mouseover\",\"mousedown\"],[function(o){var e;e=o,i=$s.t(),c=[e.clientX,e.clientY]},function(o){var e;e=o,r=$s.t()-i,u=[e.clientX,e.clientY]}])},regALink(document.body),$s.$b($s.$(\"promotion_adv_container\"),[\"mouseover\"],[function(o){!function(o){0==e&&(w=[o.clientX,o.clientY],e=1)}(o)}]),$s.$b($s.$(\"right\"),[\"mouseover\"],[function(o){!function(o){0==t&&(s=[o.clientX,o.clientY],t=1)}(o)}]),window.sogou_adclk=function(o,e){var n=0,i=\"0\"==.9.toFixed(0);if(\"undefined\"!=typeof sogou_last_mousedown_time&&(n=sogou_last_mousedown_time),\"undefined\"!=typeof uigs_para&&e.href){var t=e.href;try{t&&(0<t.indexOf(\"www.sogou.com/bill_\")||0<t.indexOf(\"www.sogou.com/brand_\")||0<t.indexOf(\"gouwu.sogou.com/rdt\")||0<t.indexOf(\"www.sogo.com/bill_\")||0<t.indexOf(\"www.sogo.com/brand_\")||0<t.indexOf(\"gouwu.sogo.com/rdt\"))&&(t=m(t=m(t=m(t=m(t,\"ml\",uigs_para.mml),\"mc\",(new Date).getTime()-n),\"ma\",[r,d,c[0],c[1],u[0],u[1],f.clientWidth,f.clientHeight].join(\",\")),\"block\",[w[0],w[1],s[0],s[1]].join(\",\")),e.href=i?\" \"+t:t)}catch(o){}}return!0}}();var rflag=0;window.onload=function(){window.sst&&(sst.w_l=$s.t());if(document.searchForm1){document.searchForm1.reset()}var a=$s.$(\"searchForm\");if(a&&!a.getAttribute(\"reseted\")){a.reset()}};/*file=static/js/promotion_adv.js*/var adContent=document.getElementById(\"adContent\"),foldSpan=document.getElementById(\"sogou_abtest_ad\");function displayOrNot(){var n=adContent.style.display;return isShow=\"none\"!=n,isShow?(adContent.style.display=\"none\",ori=foldSpan.innerHTML,foldSpan.innerHTML=\"展开\"+ori.substr(2)):(adContent.style.display=\"\",ori=foldSpan.innerHTML,foldSpan.innerHTML=\"收起\"+ori.substr(2)),!1}  var SugPara = {idc:\"hb1\",domain:\"w.sugg.sogou.com\",productId:\"web\", inputid:\"upquery\",queryboxid:\"querybox_up\", suggestRid:\"01025001\", normalRid:\"01029901\", abtestid:\"5\", ipn:\"false\", useParent: 1, oms: 1,\"suggAbtestObject\":{\"suggestHistoryStrategy1\":\"\",\"suggestHistoryStrategy2\":\"0|1|2|3|4|5|6|7|8\",\"suggHistoryAbtest\":\"\"} };  // kmap pb\n",
      "\tif (typeof(kmapLeft) != 'undefined' && kmapLeft) {\n",
      "\t\tkmap.kmapPB('left', '&pvarg=' + encodeURIComponent(kmap_properties.left.pvtype) + '&showarg=' + kmap_properties.left.showarg);\n",
      "    }/* vr internal js*//* vr internal js end*/ function hiddenRight(){if(rflag==0){setTimeout(hiddenRight,100);return}var f=$s.$(\"right\");if(f==null){return}var c=f.getElementsByTagName(\"\");var d=f.getElementsByTagName(\"div\");var g=1,e=1;if(c!=null){for(var b=0;b<c.length;++b){var a=c[b].innerHTML.replace(/^\\s+|\\s+$/g,\"\");if(a.length>0){g=0;return}}}if(d!=null){for(var b=0;b<d.length;++b){var a=d[b].innerHTML.replace(/^\\s+|\\s+$/g,\"\");if(a.length>0){e=0;return}}}f.style.display=\"none\"};\n",
      "    hiddenRight();\n",
      "\n",
      "    var bing_uigs_pv_url=\"//pb.sogou.com/pv.gif?uigs_productid=webapp&stype=bing_statistics&uid=&uuid=76579b96-4df3-4e2a-8551-ed30dcd839da&t=\"+(+new Date);if(typeof bing_statistic_params!=\"undefined\"){bing_uigs_pv_url+=\"&page=\"+bing_statistic_params.page;bing_uigs_pv_url+=\"&google=\"+bing_statistic_params.google;bing_uigs_pv_url+=\"&english_nav=\"+bing_statistic_params.english_nav;bing_uigs_pv_url+=\"&english_entrance=\"+bing_statistic_params.english_entrance;bing_uigs_pv_url+=\"&banner=\"+bing_statistic_params.banner;bing_uigs_pv_url+=\"&brand=\"+bing_statistic_params.brand;bing_uigs_pv_url+=\"&bing_use=\"+bing_statistic_params.bing_use;bing_uigs_pv_url+=\"&is_hunpai=\"+bing_statistic_params.is_hunpai;bing_uigs_pv_url+=\"&q=hi\";bing_uigs_pv_url+=\"&is_hit=false\";bing_uigs_pv_url+=\"&b_a_n=0\";bing_uigs_pv_url+=\"&abtest=5\";(new Image()).src=bing_uigs_pv_url}; /*file=static/js/tlogger.js*/!function(){function t(){for(s=0;s<i.length;s++)c=c.concat([\"&\",i[s],\"=\",encodeURIComponent(uigs_para[i[s]])]);for(s in 0<o.indexOf(\"sst0=\")&&(sst.u_c=parseInt(o.substring(o.indexOf(\"sst0=\")+5).split(\"&\")[0])||0,document.cookie.indexOf(\"sst0=\"+sst.u_c%1e3)<0?document.cookie=\"sst0=\"+sst.u_c%1e3+\";\":sst.u_c=0),sst.m_t=window.metatick,sst)0<s.indexOf(\"_\")&&sst[s]&&(c=c.concat([\"&\",s,\"=\",sst[s]]));(new Image).src=c.join(\"\")}var s,n=window.onload||function(){},o=document.location.toString(),i=[\"uuid\",\"loc\",\"abtestid\",\"query\",\"eg\",\"cost\",\"idc\",\"vr\"],c=[$s.httpsUtil.getPingbackHost()+\"/pv.gif?uigs_productid=webapp&type=tmon\"];sst.a_e=$s.t(),sst.w_l?t():(sst.w_l=$s.t(),window.onload=function(){n(),t()})}(); if(!$s.ua.ios&&!$s.ua.and){$s.$b(window,[\"resize\"],[fix])};\n",
      "    fix();  sendHintPb(\"hint\",\"uphint\",\"11\",\"pv.gif\");   sendHintPb(\"hint\", \"midhint\", \"15\", \"pv.gif\");   sendHintPb(\"hint\", \"bottomhint\", \"12\", \"pv.gif\");   new Image().src = '//pb6.sogou.com/v6';  define(\"\",[\"$\"],function(a){var b=a(\"#myuser\");if(b.length){tipsPv(\"pv\",1);a(\"#main\").prepend('<div tpl=\"topvr\" id=\"tips\"><div class=\"tips-system\"><i></i>系统检测到您使用了有风险的插件,这将使您无法正常使用搜索功能,建议尽快停用</div></div>');setTimeout(function(){var c=a(\"#tips\");if(c.length&&c.css(\"display\")!==\"none\"){tipsPv(\"pv\",3)}},0);a(\".tips-system\").on(\"click\",function(){tipsPv(\"cl\",2);a(this).slideUp()})}}); function tipsPv(type, action) {\n",
      "            new Image().src = '//pb.sogou.com/'+type+'.gif?uigs_productid=webapp&uigs_t='+ (+new Date) + '&type=chrome_tips&stype=resultpage&action='+action+'&uid=&uuid=76579b96-4df3-4e2a-8551-ed30dcd839da';\n",
      "        }   function dynamicScript(src, async) {\n",
      "        if(!src) {\n",
      "            return false;\n",
      "        }\n",
      "        var s = document.createElement('script');\n",
      "        s.type = \"text/javascript\";\n",
      "        s.src = src;\n",
      "        if(async){\n",
      "            s.async = true;\n",
      "        }\n",
      "        document.body.appendChild(s);   \n",
      "    }\n",
      "\n",
      "    define('', ['$'], function($) { /*file=static/js/showMenu_abtest.min.js*/function showMenu(h,k){function e(){var a=b.find(\".arrow-down\");0<a.length&&a.addClass(\"arrow-up\")}function f(){var a=b.find(\".arrow-down\");0<a.length&&a.removeClass(\"arrow-up\")}function g(){clearTimeout(d);d=setTimeout(function(){c.hide();f()},50)}var b=$(h),c=$(k),d=null;b.length&&c.length&&(b.on(\"mouseover\",function(a){clearTimeout(d);c.show();e();a.stopPropagation()}),b.on(\"mouseout\",function(){d=setTimeout(function(){c.hide();f()},50)}),c.on(\"mouseover\",function(a){clearTimeout(d);a.stopPropagation()}),b.on(\"click\",function(a){c.show();e();a.stopPropagation()}),$(document).on(\"click\",g).on(\"mouseover\",g))}; showMenu($('#searchnav-more'),$('#searchnav-more-list'));\n",
      "\n",
      "        $(window).load(function() {\n",
      "            var deferArr = [\n",
      "                \"//dlweb.sogoucdn.com/pcsearch/web/js/voice_2524c4d.js\",\n",
      "                \"//dlweb.sogoucdn.com/pcsearch/web/js/taspeed.min_44d4c7f.js\",\n",
      "                \"//dlweb.sogoucdn.com/pcsearch/js/forbiddenopener.min_36fb942.js\",\n",
      "                \"//dlweb.sogoucdn.com/pcsearch/web/result/js/settings_advanced_ee2e548.js\",\n",
      "                \"//dlweb.sogoucdn.com/pcsearch/web/js/sugg_new_36aaa9e.js\"                      \n",
      "            ];\n",
      "            \n",
      "            for(var d = 0; d < deferArr.length; d++) {\n",
      "                var ele = deferArr[d];\n",
      "                dynamicScript(ele, true);\n",
      "            }\n",
      "\n",
      "            ;var loginArr = [\"//dlweb.sogoucdn.com/pcsearch/js/common/widget/pass_async.20200612.min.js\",\"//dlweb.sogoucdn.com/pcsearch/js/common/widget/index_login.20200612.min.js\",\"//dlweb.sogoucdn.com/pcsearch/js/crypto-js_c5b54bc.js\",];for (var l = 0; l < loginArr.length; l++) {var ele = loginArr[l];dynamicScript(ele);} ;(function optimizePb() {\n",
      "                if (window.performance && window.performance.timing) {\n",
      "                    setTimeout(function() {\n",
      "                        var timing = window.performance.timing;\n",
      "                        var perArr = [];\n",
      "                        perArr.push('domContentLoaded=' + (timing.domContentLoadedEventEnd - timing.navigationStart));\n",
      "                        perArr.push('dns=' + (timing.domainLookupEnd - timing.domainLookupStart));\n",
      "                        perArr.push('tcp=' + (timing.connectEnd - timing.connectStart));\n",
      "                        perArr.push('ttfb=' + (timing.responseStart - timing.navigationStart));\n",
      "                        perArr.push('pageLoaded=' + (timing.loadEventEnd - timing.navigationStart));\n",
      "                        perArr.push('domParsed=' + (timing.domContentLoadedEventEnd - timing.responseEnd));\n",
      "                        perArr.push('htmlTransfer=' + (timing.responseEnd - timing.responseStart));\n",
      "                        perArr.push('htmlGenerate=' + (timing.responseStart - timing.requestStart));\n",
      "                        perArr.push('domComplete=' + (timing.domComplete - timing.responseEnd));\n",
      "                        perArr.push('domInteractive=' + (timing.domInteractive - timing.responseEnd));\n",
      "                        perArr.push('ua=' + window.navigator.userAgent.toLowerCase());\n",
      "                        perArr.push('opt=1');\n",
      "\n",
      "                        new Image().src = ('//pb.sogou.com/pv.gif?uigs_productid=webapp&type=optforpc&' + perArr.join('&'));\n",
      "                    }, 300);\n",
      "                }\n",
      "            })();\n",
      "        })\n",
      "    });</script><!-- BottomViewEnd opt --> <script crossorigin=\"anonymous\" src=\"//dlweb.sogoucdn.com/hhytrace/trace_2020092116.js\" async></script> </body><!-- bodyViewEnd --> </html><!-- 1600676415279 --> <!--STATUS total 13 time 1600676415279 page 0 maxEnd 998 totalItems 527601--><!--real_pageno:1--><!--nodeserverinfo:doc12.web.1.hb.ted--><!--searchhubserverinfo:doc10.web.1.hb.ted:5555--><!--zly-->\n"
     ]
    }
   ],
   "source": [
    "# UA伪装 User-Agent\n",
    "# 服务网站的服务器会检测对应请求的载体身份标识\n",
    "# 如果检测为某一款浏览器，那就说明是正常的请求\n",
    "# 如果监测到载体身份标识不是浏览器的，说明就是不正常的请求，也就是爬虫\n",
    "\n",
    "# 封装头\n",
    "headers = {\n",
    "    'User-Agent':'Mozilla/5.0 (Windows NT 10.0; Win64; x64) AppleWebKit/537.36 (KHTML, like Gecko) Chrome/85.0.4183.102 Safari/537.36'\n",
    "}\n",
    "\n",
    "url = 'https://www.sogou.com/web'\n",
    "kw = 'hi'\n",
    "# 处理url携带的参数：封装到字典中\n",
    "param = {\n",
    "    'query':kw\n",
    "}\n",
    "# 对指定的url发起的请求是携带参数的\n",
    "response = requests.get(url, params=param, headers=headers)\n",
    "\n",
    "page_text = response.text\n",
    "print(page_text)"
   ]
  },
  {
   "cell_type": "markdown",
   "metadata": {},
   "source": [
    "#### 百度翻译\n",
    "- 使用google的network抓包工具，可以看到HXR的响应\n",
    "- 发送了Post请求\n",
    "- 相应数据是一组json文件"
   ]
  },
  {
   "cell_type": "code",
   "execution_count": 18,
   "metadata": {},
   "outputs": [
    {
     "name": "stdout",
     "output_type": "stream",
     "text": [
      "{'errno': 0, 'data': [{'k': 'dog', 'v': 'n. 狗; 犬; 公狗; 公狐; 公狼; 赛狗; 灵𤟥赛; v. (长期)困扰，折磨，纠缠; 跟踪;'}, {'k': 'dogs', 'v': 'n. 狗; 犬; 公狗; 公狐; 公狼; 赛狗; 灵𤟥赛; v. (长期)困扰，折磨，纠缠; 跟踪;'}, {'k': 'doge', 'v': 'n. （美西部）孤犊，无母犊牛;'}, {'k': 'doggy', 'v': 'n. (儿语)小狗，汪汪，狗狗; adj. 狗的; 像狗一样的;'}, {'k': 'doggie', 'v': 'n. (儿语)狗狗;'}]}\n"
     ]
    }
   ],
   "source": [
    "# 1.UA伪装\n",
    "headers = {\n",
    "    'User-Agent':'Mozilla/5.0 (Windows NT 10.0; Win64; x64) AppleWebKit/537.36 (KHTML, like Gecko) Chrome/85.0.4183.102 Safari/537.36'\n",
    "}\n",
    "\n",
    "# 2. 指定URL\n",
    "post_url = 'https://fanyi.baidu.com/sug'\n",
    "\n",
    "# 与3. Post请求参数（与get一致）\n",
    "data = {\n",
    "    'kw':'dog'\n",
    "}\n",
    "\n",
    "# 4. 请求发送\n",
    "response = request.post(post_url, data, headers = headers)# url, data(params参数)\n",
    "\n",
    "# 5. 获取响应数据 返回字典对象，只有相应数据是json类型的时候才用这个方法\n",
    "print(response.json())\n",
    "import json\n",
    "\n",
    "# 持久化存储\n",
    "# file = open(,encoding='utf-8')\n",
    "# json.dump(response.json(), fp=文件对象, ensure_ascii=False)"
   ]
  },
  {
   "cell_type": "markdown",
   "metadata": {},
   "source": [
    "#### 豆瓣电影"
   ]
  },
  {
   "cell_type": "code",
   "execution_count": 22,
   "metadata": {},
   "outputs": [
    {
     "name": "stdout",
     "output_type": "stream",
     "text": [
      "[{'rating': ['9.2', '45'], 'rank': 21, 'cover_url': 'https://img2.doubanio.com/view/photo/s_ratio_poster/public/p1959764913.jpg', 'is_playable': True, 'id': '1299628', 'types': ['喜剧', '爱情'], 'regions': ['美国'], 'title': '马戏团', 'url': 'https://movie.douban.com/subject/1299628/', 'release_date': '1928-01-06', 'actor_count': 19, 'vote_count': 13137, 'score': '9.2', 'actors': ['阿尔·欧内斯特·加西亚', '梅尔纳·肯尼迪', '哈里·克罗克', 'George Davis', '亨利·伯格曼', '蒂尼·桑福德', '约翰兰德', '查理·卓别林', '艾伯特·奥斯汀', '斯坦利·布莱斯通', '海尼·康克林', 'Toraichi Kono', '贝蒂莫里西', \"L.J. O'Connor\", '杰克 P. 皮尔斯', 'Hugh Saxon', 'Armand Triller', '吉恩·巴瑞', '乔治·W·戴维斯'], 'is_watched': False}, {'rating': ['9.2', '50'], 'rank': 22, 'cover_url': 'https://img3.doubanio.com/view/photo/s_ratio_poster/public/p2409467410.jpg', 'is_playable': False, 'id': '26946612', 'types': ['剧情', '喜剧', '爱情'], 'regions': ['中国大陆'], 'title': '狐妖小红娘剧场版：王权富贵', 'url': 'https://movie.douban.com/subject/26946612/', 'release_date': '2016-05-20', 'actor_count': 7, 'vote_count': 7713, 'score': '9.2', 'actors': ['杨天翔', '刘校妤', '乔诗语', '魏超', '阎萌萌', '张凯', '范哲琛'], 'is_watched': False}, {'rating': ['9.2', '45'], 'rank': 23, 'cover_url': 'https://img3.doubanio.com/view/subject/l/public/s1806732.jpg', 'is_playable': False, 'id': '3075070', 'types': ['动画', '喜剧'], 'regions': ['美国'], 'title': '欢乐树的朋友们：赶尽杀绝', 'url': 'https://movie.douban.com/subject/3075070/', 'release_date': '2005-11-28', 'actor_count': 3, 'vote_count': 5288, 'score': '9.2', 'actors': ['Ken Pontac', '沃伦·格拉夫', '凯恩·纳瓦罗'], 'is_watched': False}, {'rating': ['9.2', '45'], 'rank': 24, 'cover_url': 'https://img3.doubanio.com/view/photo/s_ratio_poster/public/p2559163201.jpg', 'is_playable': False, 'id': '1393471', 'types': ['喜剧', '动画'], 'regions': ['美国'], 'title': '欢乐树的朋友们：第二发球', 'url': 'https://movie.douban.com/subject/1393471/', 'release_date': '2003', 'actor_count': 3, 'vote_count': 4360, 'score': '9.2', 'actors': ['沃伦·格拉夫', 'Rhode Montijo', '凯恩·纳瓦罗'], 'is_watched': False}, {'rating': ['9.2', '50'], 'rank': 25, 'cover_url': 'https://img3.doubanio.com/view/subject/l/public/s1806711.jpg', 'is_playable': False, 'id': '1393472', 'types': ['喜剧', '动画'], 'regions': ['美国'], 'title': '欢乐树的朋友们：第三击', 'url': 'https://movie.douban.com/subject/1393472/', 'release_date': '2004-08-01', 'actor_count': 5, 'vote_count': 3538, 'score': '9.2', 'actors': ['Liz Stuart', 'Ken Pontac', '凯恩·纳瓦罗', '沃伦·格拉夫', 'Rhode Montijo'], 'is_watched': False}, {'rating': ['9.2', '45'], 'rank': 26, 'cover_url': 'https://img9.doubanio.com/view/photo/s_ratio_poster/public/p2508661126.jpg', 'is_playable': False, 'id': '4199429', 'types': ['喜剧'], 'regions': ['美国'], 'title': '乔治·卡林：你们都有病', 'url': 'https://movie.douban.com/subject/4199429/', 'release_date': '1999', 'actor_count': 1, 'vote_count': 1030, 'score': '9.2', 'actors': ['乔治·卡林'], 'is_watched': False}, {'rating': ['9.1', '45'], 'rank': 27, 'cover_url': 'https://img1.doubanio.com/view/photo/s_ratio_poster/public/p501177648.jpg', 'is_playable': True, 'id': '3319755', 'types': ['剧情', '喜剧', '爱情'], 'regions': ['美国'], 'title': '怦然心动', 'url': 'https://movie.douban.com/subject/3319755/', 'release_date': '2010-07-26', 'actor_count': 32, 'vote_count': 1341900, 'score': '9.1', 'actors': ['玛德琳·卡罗尔', '卡兰·麦克奥利菲', '瑞贝卡·德·莫妮', '安东尼·爱德华兹', '约翰·马奥尼', '佩内洛普·安·米勒', '艾丹·奎因', '凯文·韦斯曼', '摩根·莉莉', '瑞安·克茨纳', '吉莉安·普法夫', '迈克尔·博萨', '博·勒纳', '杰奎琳·埃沃拉', '泰勒·格鲁秀斯', '艾莉·布莱恩特', '阿什莉·泰勒', '伊瑟尔·布罗萨德', '科迪·霍恩', '迈克尔·博尔顿', '肖恩·哈珀', '斯戴芬妮·斯考特', '帕特丽夏·伦茨', '马修·戈尔德', '阿罗拉·凯瑟琳·史密斯', '凯莉·唐纳利', '索菲亚·撒高', '米歇尔·梅斯默', '斯科特·乔尔·吉兹基', '罗德·迈尔斯', '卡拉 帕西托', '凯特琳·帕西托'], 'is_watched': False}, {'rating': ['9.1', '45'], 'rank': 28, 'cover_url': 'https://img9.doubanio.com/view/photo/s_ratio_poster/public/p2614500706.jpg', 'is_playable': True, 'id': '20495023', 'types': ['喜剧', '动画', '奇幻', '音乐'], 'regions': ['美国'], 'title': '寻梦环游记', 'url': 'https://movie.douban.com/subject/20495023/', 'release_date': '2017-11-24', 'actor_count': 25, 'vote_count': 1158267, 'score': '9.1', 'actors': ['安东尼·冈萨雷斯', '盖尔·加西亚·贝纳尔', '本杰明·布拉特', '阿兰娜·乌巴赫', '芮妮·维克托', '杰米·卡米尔', '阿方索·阿雷奥', '赫伯特·西古恩萨', '加布里埃尔·伊格莱西亚斯', '隆巴多·博伊尔', '安娜·奥菲丽亚·莫吉亚', '娜塔丽·科尔多瓦', '赛琳娜·露娜', '爱德华·詹姆斯·奥莫斯', '索菲亚·伊斯皮诺萨', '卡拉·梅迪纳', '黛娅娜·欧特里', '路易斯·瓦尔德斯', '布兰卡·阿拉切利', '萨尔瓦多·雷耶斯', '切奇·马林', '奥克塔维·索利斯', '约翰·拉岑贝格', '以利亚·罗德里格斯', '石桥阳彩'], 'is_watched': False}, {'rating': ['9.1', '45'], 'rank': 29, 'cover_url': 'https://img1.doubanio.com/view/photo/s_ratio_poster/public/p792443418.jpg', 'is_playable': False, 'id': '1293350', 'types': ['剧情', '喜剧', '犯罪'], 'regions': ['英国'], 'title': '两杆大烟枪', 'url': 'https://movie.douban.com/subject/1293350/', 'release_date': '1998-08-28', 'actor_count': 23, 'vote_count': 458032, 'score': '9.1', 'actors': ['杰森·弗莱明', '德克斯特·弗莱彻', '尼克·莫兰', '杰森·斯坦森', '斯蒂文·麦金托什', '斯汀', '维尼·琼斯', '安德鲁·蒂曼', '维克多·麦奎尔', '丹尼·约翰-儒勒', '马修·沃恩', '弗兰克·哈珀', '罗尼·福克斯', '薇拉·黛', '史蒂夫·斯威尼', '阿兰·福德', '罗伯·布莱顿', '瓦斯·布莱克伍德', 'Lenny McLean', '尼古拉斯·罗尔', 'P.H.莫里亚蒂', '斯蒂芬·马库斯', '杰克·亚伯拉罕'], 'is_watched': False}, {'rating': ['9.1', '45'], 'rank': 30, 'cover_url': 'https://img9.doubanio.com/view/photo/s_ratio_poster/public/p1960167314.jpg', 'is_playable': True, 'id': '1295646', 'types': ['喜剧', '剧情', '战争'], 'regions': ['美国'], 'title': '大独裁者', 'url': 'https://movie.douban.com/subject/1295646/', 'release_date': '1940-10-15', 'actor_count': 8, 'vote_count': 53820, 'score': '9.1', 'actors': ['查理·卓别林', '宝莲·高黛', '杰克·奥克', '雷金纳德·加德纳', '邱岳峰', '卡特·德黑文', '比利·吉尔伯特', '格蕾斯·海尔'], 'is_watched': False}, {'rating': ['9.1', '45'], 'rank': 31, 'cover_url': 'https://img3.doubanio.com/view/photo/s_ratio_poster/public/p2248676081.jpg', 'is_playable': True, 'id': '1292778', 'types': ['剧情', '喜剧', '动作', '战争', '冒险'], 'regions': ['美国'], 'title': '将军号', 'url': 'https://movie.douban.com/subject/1292778/', 'release_date': '1926-12-31', 'actor_count': 12, 'vote_count': 17666, 'score': '9.1', 'actors': ['巴斯特·基顿', '玛丽昂·马克', '格伦·卡文德', '吉姆·法利', '弗雷德里克·弗鲁姆', '查尔斯·亨利·史密斯', '弗兰克·巴恩斯', '乔·基顿', '麦克·多林', '汤姆·纳恩', '波利斯·卡洛夫', '安东尼·哈维'], 'is_watched': False}, {'rating': ['9.1', '45'], 'rank': 32, 'cover_url': 'https://img9.doubanio.com/view/photo/s_ratio_poster/public/p2384320756.jpg', 'is_playable': False, 'id': '1303525', 'types': ['喜剧', '犯罪', '剧情', '奇幻'], 'regions': ['意大利', '英国', '南斯拉夫'], 'title': '流浪者之歌', 'url': 'https://movie.douban.com/subject/1303525/', 'release_date': '1988-12-21', 'actor_count': 15, 'vote_count': 6973, 'score': '9.1', 'actors': ['达沃尔·杜伊莫维奇', '博拉·托德洛维奇', 'Ajnur Redzepi', 'Mirsad Zulic', 'Suada Karisik', 'Elvira Sali', 'Husnija Hasimovic', '扎比特·梅梅托夫', '鲁比卡·艾德维奇', 'Sinolicka Trpkova', 'Boris Juh', '普雷德拉格·拉科维奇', 'Marjeta Gregorac', '布兰科·德约里奇', 'Sedrije Halim'], 'is_watched': False}, {'rating': ['9.1', '45'], 'rank': 33, 'cover_url': 'https://img3.doubanio.com/view/photo/s_ratio_poster/public/p2533709702.jpg', 'is_playable': False, 'id': '4181031', 'types': ['动画', '喜剧'], 'regions': ['美国'], 'title': '欢乐树的朋友们', 'url': 'https://movie.douban.com/subject/4181031/', 'release_date': '2006-05-03', 'actor_count': 0, 'vote_count': 5582, 'score': '9.1', 'actors': [], 'is_watched': False}, {'rating': ['9.1', '45'], 'rank': 34, 'cover_url': 'https://img3.doubanio.com/view/subject/l/public/s3622650.jpg', 'is_playable': False, 'id': '3075092', 'types': ['喜剧', '动画'], 'regions': ['美国'], 'title': '欢乐树的朋友们：滑雪巡逻救生队', 'url': 'https://movie.douban.com/subject/3075092/', 'release_date': '2006-04-12', 'actor_count': 3, 'vote_count': 1620, 'score': '9.1', 'actors': ['沃伦·格拉夫', '比利·维斯特', '凯恩·纳瓦罗'], 'is_watched': False}, {'rating': ['9.1', '45'], 'rank': 35, 'cover_url': 'https://img9.doubanio.com/view/photo/s_ratio_poster/public/p2508660995.jpg', 'is_playable': False, 'id': '2173593', 'types': ['喜剧'], 'regions': ['美国'], 'title': '克里斯·洛克：无所畏惧', 'url': 'https://movie.douban.com/subject/2173593/', 'release_date': '2004-04-17', 'actor_count': 3, 'vote_count': 1132, 'score': '9.1', 'actors': ['克里斯·洛克', 'Doug E. Fresh', '托尼·洛克'], 'is_watched': False}, {'rating': ['9.1', '45'], 'rank': 36, 'cover_url': 'https://img3.doubanio.com/view/photo/s_ratio_poster/public/p2517976810.jpg', 'is_playable': False, 'id': '4850732', 'types': ['喜剧'], 'regions': ['英国', '澳大利亚'], 'title': '迪兰·莫兰：是什么？', 'url': 'https://movie.douban.com/subject/4850732/', 'release_date': '2009', 'actor_count': 1, 'vote_count': 1094, 'score': '9.1', 'actors': ['迪兰·莫兰'], 'is_watched': False}, {'rating': ['9.0', '45'], 'rank': 37, 'cover_url': 'https://img9.doubanio.com/view/photo/s_ratio_poster/public/p2561305376.jpg', 'is_playable': True, 'id': '26752088', 'types': ['剧情', '喜剧'], 'regions': ['中国大陆'], 'title': '我不是药神', 'url': 'https://movie.douban.com/subject/26752088/', 'release_date': '2018-07-05', 'actor_count': 32, 'vote_count': 1572505, 'score': '9.0', 'actors': ['徐峥', '王传君', '周一围', '谭卓', '章宇', '杨新鸣', '王佳佳', '王砚辉', '贾晨飞', '龚蓓苾', '宁浩', '李乃文', '岳小军', '苇青', '富冠铭', '巴拉特·巴蒂', '喜利图', '张海艳', '朱耕佑', '张子贤', '邓飞', '任洛敏', '杜子蓝', '刘兴雷', '何李宁', '甘昀宸', '石强', '刘頔', '马千壹', '杜家毅', '陈翃', '宁晓志'], 'is_watched': False}, {'rating': ['9.0', '45'], 'rank': 38, 'cover_url': 'https://img9.doubanio.com/view/photo/s_ratio_poster/public/p485887754.jpg', 'is_playable': True, 'id': '2129039', 'types': ['剧情', '喜剧', '动画', '冒险'], 'regions': ['美国'], 'title': '飞屋环游记', 'url': 'https://movie.douban.com/subject/2129039/', 'release_date': '2009-08-04', 'actor_count': 21, 'vote_count': 1004255, 'score': '9.0', 'actors': ['爱德华·阿斯纳', '克里斯托弗·普卢默', '乔丹·长井', '鲍勃·彼德森', '德尔罗伊·林多', '杰罗姆·兰福特', '约翰·拉岑贝格', '大卫·卡耶', '艾丽·道克特', '杰里米·利里', '米凯·麦高万', '丹尼·曼恩', '唐纳德·富利洛夫', '杰斯·哈梅尔', '乔什·库雷', '彼特·道格特', '布兰达∙查普曼', '泰迪·牛顿', '保罗·伊丁', '托尼·弗希勒', '雪莉·琳恩'], 'is_watched': False}, {'rating': ['9.0', '45'], 'rank': 39, 'cover_url': 'https://img3.doubanio.com/view/photo/s_ratio_poster/public/p2561721372.jpg', 'is_playable': False, 'id': '1299398', 'types': ['喜剧', '爱情', '奇幻', '古装'], 'regions': ['中国香港', '中国大陆'], 'title': '大话西游之月光宝盒', 'url': 'https://movie.douban.com/subject/1299398/', 'release_date': '2014-10-24', 'actor_count': 13, 'vote_count': 912324, 'score': '9.0', 'actors': ['周星驰', '吴孟达', '罗家英', '蓝洁瑛', '莫文蔚', '江约诚', '陆树铭', '刘镇伟', '朱茵', '李健仁', '许敬义', '胡立成', '蔡少芬'], 'is_watched': False}, {'rating': ['9.0', '45'], 'rank': 40, 'cover_url': 'https://img9.doubanio.com/view/photo/s_ratio_poster/public/p2189265085.jpg', 'is_playable': True, 'id': '1293839', 'types': ['喜剧', '剧情', '爱情'], 'regions': ['美国'], 'title': '罗马假日', 'url': 'https://movie.douban.com/subject/1293839/', 'release_date': '1953-08-20', 'actor_count': 34, 'vote_count': 733144, 'score': '9.0', 'actors': ['奥黛丽·赫本', '格利高里·派克', '埃迪·艾伯特', '哈特利·鲍尔', '哈考特·威廉姆斯', '玛格丽特·罗林斯', '托里奥·卡米纳提', '保罗·卡利尼', '克劳迪奥·埃尔梅利', '保拉·布鲁布尼', '里佐·弗雷多里佐', 'Laura Solari', 'Gorella Gori', 'Armando Annuale', '毛里齐奥·阿雷纳', 'Silvio Bagolini', 'Gildo Bocci', '弗兰科·科尔萨罗', 'John Cortay', 'Vittoria Crispo', 'Sidney Gordon', 'Luigi Moneta', 'Piero Pastore', '米莫·波利', 'Carlo Rizzo', 'Gianna Segale', '阿梅代奥·特里利', '海伦·塔布斯', 'Marco Tulli', 'Joop van Hulzen', 'Catherine Wyler', 'Judy Wyler', '陆建艺', '金毅'], 'is_watched': False}]\n"
     ]
    }
   ],
   "source": [
    "# 1.UA伪装\n",
    "headers = {\n",
    "    'User-Agent':'Mozilla/5.0 (Windows NT 10.0; Win64; x64) AppleWebKit/537.36 (KHTML, like Gecko) Chrome/85.0.4183.102 Safari/537.36'\n",
    "}\n",
    "\n",
    "# 2. 指定URL\n",
    "url = 'https://movie.douban.com/j/chart/top_list?type=24&interval_id=100%3A90&action=&start=20&limit=20'\n",
    "\n",
    "# 3. 请求参数\n",
    "params = {\n",
    "    'type': '24',\n",
    "'interval_id': '100:90',\n",
    "'action': '',\n",
    "'start': '20', # 从库中的第几个电影开始\n",
    "'limit': '20'  # 取出多少个\n",
    "}\n",
    "\n",
    "# 4. 请求响应\n",
    "response = requests.get(url=url, params=params, headers=headers)\n",
    "\n",
    "# 看看返回乐啥)\n",
    "print(response.json())"
   ]
  },
  {
   "cell_type": "markdown",
   "metadata": {},
   "source": [
    "#### 药监总局\n",
    "点进去查看详细信息"
   ]
  },
  {
   "cell_type": "code",
   "execution_count": 23,
   "metadata": {},
   "outputs": [],
   "source": [
    "url = 'http://scxk.nmpa.gov.cn:81/xk/'\n",
    "headers = {\n",
    "    'User-Agent':'Mozilla/5.0 (Windows NT 10.0; Win64; x64) AppleWebKit/537.36 (KHTML, like Gecko) Chrome/85.0.4183.102 Safari/537.36'\n",
    "}\n",
    "\n",
    "# 发送请求和响应请求合成一步\n",
    "page_text = requests.get(url=url, headers=headers).text\n",
    "\n",
    "with open('药监总局.html', 'w', encoding='utf-8') as fp:\n",
    "    fp.write(page_text)"
   ]
  },
  {
   "cell_type": "markdown",
   "metadata": {},
   "source": [
    "这样子会发现相比原来地址，用爬虫的话是没有新的信息的，这是为啥呢\n",
    "\n",
    "**一定说明这些数据不是那个url请求得到的**\n",
    "\n",
    "很有可能是Ajax，在这个例子里就是Ajax\n",
    "\n",
    "**这种方法叫做动态加载数据**"
   ]
  },
  {
   "cell_type": "code",
   "execution_count": 28,
   "metadata": {},
   "outputs": [],
   "source": [
    "headers = {\n",
    "    'User-Agent':'Mozilla/5.0 (Windows NT 10.0; Win64; x64) AppleWebKit/537.36 (KHTML, like Gecko) Chrome/85.0.4183.102 Safari/537.36'\n",
    "}\n",
    "url = 'http://scxk.nmpa.gov.cn:81/xk/itownet/portalAction.do?method=getXkzsList'\n",
    "data = {\n",
    "    'on': 'true',\n",
    "'page': '1', # 第一页的数据\n",
    "'pageSize': '15', # 每页显示信息数量\n",
    "'productName': '',\n",
    "'conditionType': '1',\n",
    "'applyname': '',\n",
    "}\n",
    "\n",
    "response = requests.post(url=url, data=data, headers=headers) \n",
    "\n",
    "# print(response.json())"
   ]
  },
  {
   "cell_type": "markdown",
   "metadata": {},
   "source": [
    "我们想要获取到每个详情页的url，但是上面的josn里面并没有url，但是有***id***\n",
    "\n",
    "对url分析，域名都是一样的，只有携带的参数“id”不一样"
   ]
  },
  {
   "cell_type": "markdown",
   "metadata": {},
   "source": [
    "#### 数据解析\n",
    "1. 进行标签的定位\n",
    "2. 将标签中的数据进行提取\n",
    "\n",
    "##### bs4\n",
    "1. 实例化Beautiful对象，将源码加载到对象中\n",
    "2. 使用该对象相关的属性或者方法进行标签定位or数据解析\n",
    "\n",
    "环境安装\n",
    "pip install bs4\n",
    "pip install lxml"
   ]
  },
  {
   "cell_type": "code",
   "execution_count": 33,
   "metadata": {},
   "outputs": [],
   "source": [
    "# 实例化bs4\n",
    "from bs4 import BeautifulSoup\n"
   ]
  },
  {
   "cell_type": "code",
   "execution_count": 75,
   "metadata": {},
   "outputs": [
    {
     "name": "stdout",
     "output_type": "stream",
     "text": [
      "<html>\n",
      " <body>\n",
      "  <p>\n",
      "   html_doc = \"\"\"\n",
      "  </p>\n",
      "  <title>\n",
      "   The Dormouse's story\n",
      "  </title>\n",
      "  <p class=\"title\">\n",
      "   <b>\n",
      "    The Dormouse's story\n",
      "   </b>\n",
      "  </p>\n",
      "  <p class=\"story\">\n",
      "   Once upon a time there were three little sisters; and their names were\n",
      "   <a class=\"sister\" href=\"http://example.com/elsie\" id=\"link1\">\n",
      "    Elsie\n",
      "   </a>\n",
      "   ,\n",
      "   <a class=\"sister\" href=\"http://example.com/lacie\" id=\"link2\">\n",
      "    Lacie\n",
      "   </a>\n",
      "   and\n",
      "   <a class=\"sister\" href=\"http://example.com/tillie\" id=\"link3\">\n",
      "    Tillie\n",
      "   </a>\n",
      "   ;\n",
      "and they lived at the bottom of a well.\n",
      "  </p>\n",
      "  <p class=\"story\">\n",
      "   ...\n",
      "  </p>\n",
      "  \"\"\"\n",
      " </body>\n",
      "</html>\n"
     ]
    }
   ],
   "source": [
    "# 1. 将本地html的数据加载到对象中\n",
    "fp = open('alice.html', 'r', encoding='utf-8')\n",
    "soup = BeautifulSoup(fp,'lxml')# 文件对象 解析器\n",
    "print(soup.prettify())"
   ]
  },
  {
   "cell_type": "code",
   "execution_count": 78,
   "metadata": {},
   "outputs": [
    {
     "data": {
      "text/plain": [
       "[]"
      ]
     },
     "execution_count": 78,
     "metadata": {},
     "output_type": "execute_result"
    }
   ],
   "source": [
    "soup.select('body > a')"
   ]
  },
  {
   "cell_type": "code",
   "execution_count": null,
   "metadata": {},
   "outputs": [],
   "source": [
    "# 2. 将网上的加载到对象中\n",
    "page_text = response.text\n",
    "soup = BeautifulSoup(page_text, 'lxml')"
   ]
  },
  {
   "cell_type": "markdown",
   "metadata": {},
   "source": [
    "tag标签就是\\< div\\>, \\< head\\>, \\< p\\>这些\n",
    "\n",
    "使用方法;`soup.tagName` ，返回的是出现的第一个标签"
   ]
  },
  {
   "cell_type": "code",
   "execution_count": 36,
   "metadata": {},
   "outputs": [
    {
     "data": {
      "text/plain": [
       "<a class=\"sister\" href=\"http://example.com/elsie\" id=\"link1\">Elsie</a>"
      ]
     },
     "execution_count": 36,
     "metadata": {},
     "output_type": "execute_result"
    }
   ],
   "source": [
    "soup.a"
   ]
  },
  {
   "cell_type": "markdown",
   "metadata": {},
   "source": [
    "与之类似的方法是soup.find(TagName)，也是只返回第一个\n",
    "\n",
    "soup.find_all(TagName)可以找到符合要求的所有的\n",
    "\n",
    "##### Select函数\n",
    "```python\n",
    "# 类选择器：.+类名：class=tang -> .tang\n",
    "# 标签选择器：不加任何修饰\n",
    "# id选择器：#+id\n",
    "soup.select('某种选择器')\n",
    "# 还能够选择位置\n",
    "soup.select('.tang > ul > li[1]')\n",
    "```"
   ]
  },
  {
   "cell_type": "markdown",
   "metadata": {},
   "source": [
    "1 通过标签名称查找"
   ]
  },
  {
   "cell_type": "code",
   "execution_count": 38,
   "metadata": {},
   "outputs": [
    {
     "data": {
      "text/plain": [
       "[<title>The Dormouse's story</title>]"
      ]
     },
     "execution_count": 38,
     "metadata": {},
     "output_type": "execute_result"
    }
   ],
   "source": [
    "soup.select('title') "
   ]
  },
  {
   "cell_type": "markdown",
   "metadata": {},
   "source": [
    "2 通过类名查找"
   ]
  },
  {
   "cell_type": "code",
   "execution_count": 39,
   "metadata": {},
   "outputs": [
    {
     "data": {
      "text/plain": [
       "[<a class=\"sister\" href=\"http://example.com/elsie\" id=\"link1\">Elsie</a>,\n",
       " <a class=\"sister\" href=\"http://example.com/lacie\" id=\"link2\">Lacie</a>,\n",
       " <a class=\"sister\" href=\"http://example.com/tillie\" id=\"link3\">Tillie</a>]"
      ]
     },
     "execution_count": 39,
     "metadata": {},
     "output_type": "execute_result"
    }
   ],
   "source": [
    "soup.select('.sister')"
   ]
  },
  {
   "cell_type": "markdown",
   "metadata": {},
   "source": [
    "3 通过 id 名查找"
   ]
  },
  {
   "cell_type": "code",
   "execution_count": 41,
   "metadata": {},
   "outputs": [
    {
     "data": {
      "text/plain": [
       "[<a class=\"sister\" href=\"http://example.com/elsie\" id=\"link1\">Elsie</a>]"
      ]
     },
     "execution_count": 41,
     "metadata": {},
     "output_type": "execute_result"
    }
   ],
   "source": [
    "soup.select('#link1')\n"
   ]
  },
  {
   "cell_type": "markdown",
   "metadata": {},
   "source": [
    "4 组合查找\n",
    "\n",
    "组合查找即和写 class 文件时，标签名与类名、id名进行的组合原理是一样的，例如查找 p 标签中，id 等于 link1的内容，二者需要用空格分开"
   ]
  },
  {
   "cell_type": "code",
   "execution_count": 43,
   "metadata": {},
   "outputs": [
    {
     "data": {
      "text/plain": [
       "[<a class=\"sister\" href=\"http://example.com/elsie\" id=\"link1\">Elsie</a>]"
      ]
     },
     "execution_count": 43,
     "metadata": {},
     "output_type": "execute_result"
    }
   ],
   "source": [
    "soup.select('p #link1')"
   ]
  },
  {
   "cell_type": "markdown",
   "metadata": {},
   "source": [
    "直接子标签查找 这里`>`表示一个层级，空格表示多个层级"
   ]
  },
  {
   "cell_type": "code",
   "execution_count": 55,
   "metadata": {},
   "outputs": [
    {
     "data": {
      "text/plain": [
       "[<p>html_doc = \"\"\"\n",
       " </p>,\n",
       " <p class=\"title\"><b>The Dormouse's story</b></p>,\n",
       " <p class=\"story\">Once upon a time there were three little sisters; and their names were\n",
       " <a class=\"sister\" href=\"http://example.com/elsie\" id=\"link1\">Elsie</a>,\n",
       " <a class=\"sister\" href=\"http://example.com/lacie\" id=\"link2\">Lacie</a> and\n",
       " <a class=\"sister\" href=\"http://example.com/tillie\" id=\"link3\">Tillie</a>;\n",
       " and they lived at the bottom of a well.</p>,\n",
       " <p class=\"story\">...</p>]"
      ]
     },
     "execution_count": 55,
     "metadata": {},
     "output_type": "execute_result"
    }
   ],
   "source": [
    "soup.select(\"body > p\")"
   ]
  },
  {
   "cell_type": "markdown",
   "metadata": {},
   "source": [
    "5 属性查找\n",
    "\n",
    "查找时还可以加入属性元素，属性需要用中括号括起来，注意属性和标签属于同一节点，所以中间不能加空格，否则会无法匹配到。"
   ]
  },
  {
   "cell_type": "code",
   "execution_count": 51,
   "metadata": {},
   "outputs": [
    {
     "data": {
      "text/plain": [
       "[<a class=\"sister\" href=\"http://example.com/lacie\" id=\"link2\">Lacie</a>]"
      ]
     },
     "execution_count": 51,
     "metadata": {},
     "output_type": "execute_result"
    }
   ],
   "source": [
    "soup.select('a[href=\"http://example.com/lacie\"]')"
   ]
  },
  {
   "cell_type": "markdown",
   "metadata": {},
   "source": [
    "同样，属性仍然可以与上述查找方式组合，不在同一节点的空格隔开，同一节点的不加空格"
   ]
  },
  {
   "cell_type": "code",
   "execution_count": 52,
   "metadata": {},
   "outputs": [
    {
     "data": {
      "text/plain": [
       "[<a class=\"sister\" href=\"http://example.com/lacie\" id=\"link2\">Lacie</a>]"
      ]
     },
     "execution_count": 52,
     "metadata": {},
     "output_type": "execute_result"
    }
   ],
   "source": [
    "soup.select('body a[href=\"http://example.com/lacie\"]')"
   ]
  },
  {
   "cell_type": "markdown",
   "metadata": {},
   "source": [
    "#### 获取标签之间的文本数据or属性值\n",
    "定位到标签后，直接.text/.string/.get_text()\n",
    "- text/get_text()可以获得一个标签中所有的内容，包括直系的+子节点的\n",
    "- string 只获得直系的文本内容\n",
    "- 属性值，直接['TagName']"
   ]
  },
  {
   "cell_type": "markdown",
   "metadata": {},
   "source": [
    "### 爬取三国演义小说所有章节标题和章节内容\n",
    "www.shicimingju.com/book/sanguoyanyi.html"
   ]
  },
  {
   "cell_type": "code",
   "execution_count": 60,
   "metadata": {},
   "outputs": [],
   "source": [
    "headers = {\n",
    "    'User-Agent':'Mozilla/5.0 (Windows NT 10.0; Win64; x64) AppleWebKit/537.36 (KHTML, like Gecko) Chrome/85.0.4183.102 Safari/537.36'\n",
    "}\n",
    "url = 'https://www.shicimingju.com/book/sanguoyanyi.html'\n",
    "\n",
    "page_text = requests.get(url=url, headers=headers).text"
   ]
  },
  {
   "cell_type": "code",
   "execution_count": 62,
   "metadata": {},
   "outputs": [],
   "source": [
    "soup = BeautifulSoup(page_text,'lxml')"
   ]
  },
  {
   "cell_type": "code",
   "execution_count": 79,
   "metadata": {},
   "outputs": [
    {
     "ename": "IndexError",
     "evalue": "list index out of range",
     "output_type": "error",
     "traceback": [
      "\u001b[1;31m---------------------------------------------------------------------------\u001b[0m",
      "\u001b[1;31mIndexError\u001b[0m                                Traceback (most recent call last)",
      "\u001b[1;32m<ipython-input-79-041c76a015e1>\u001b[0m in \u001b[0;36m<module>\u001b[1;34m\u001b[0m\n\u001b[1;32m----> 1\u001b[1;33m \u001b[0msoup\u001b[0m\u001b[1;33m.\u001b[0m\u001b[0mselect\u001b[0m\u001b[1;33m(\u001b[0m\u001b[1;34m'body div .book-mulu a'\u001b[0m\u001b[1;33m)\u001b[0m\u001b[1;33m[\u001b[0m\u001b[1;36m0\u001b[0m\u001b[1;33m]\u001b[0m\u001b[1;33m[\u001b[0m\u001b[1;34m'href'\u001b[0m\u001b[1;33m]\u001b[0m\u001b[1;33m\u001b[0m\u001b[1;33m\u001b[0m\u001b[0m\n\u001b[0m",
      "\u001b[1;31mIndexError\u001b[0m: list index out of range"
     ]
    }
   ],
   "source": [
    "soup.select('body div .book-mulu a')[0]['href']"
   ]
  },
  {
   "cell_type": "code",
   "execution_count": 91,
   "metadata": {},
   "outputs": [
    {
     "data": {
      "text/plain": [
       "'html_doc = \"\"\"\\nThe Dormouse\\'s story\\nThe Dormouse\\'s story\\nOnce upon a time there were three little sisters; and their names were\\nElsie,\\nLacie and\\nTillie;\\nand they lived at the bottom of a well.\\n...\\n\"\"\"'"
      ]
     },
     "execution_count": 91,
     "metadata": {},
     "output_type": "execute_result"
    }
   ],
   "source": [
    "soup.select('body')[0].text"
   ]
  },
  {
   "cell_type": "code",
   "execution_count": 92,
   "metadata": {},
   "outputs": [],
   "source": [
    "soup.select('body')[0].string"
   ]
  },
  {
   "cell_type": "code",
   "execution_count": null,
   "metadata": {},
   "outputs": [],
   "source": []
  }
 ],
 "metadata": {
  "kernelspec": {
   "display_name": "Python 3",
   "language": "python",
   "name": "python3"
  },
  "language_info": {
   "codemirror_mode": {
    "name": "ipython",
    "version": 3
   },
   "file_extension": ".py",
   "mimetype": "text/x-python",
   "name": "python",
   "nbconvert_exporter": "python",
   "pygments_lexer": "ipython3",
   "version": "3.6.8"
  }
 },
 "nbformat": 4,
 "nbformat_minor": 4
}
