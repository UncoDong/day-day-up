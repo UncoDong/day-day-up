{
 "cells": [
  {
   "cell_type": "markdown",
   "metadata": {},
   "source": [
    "### 爬取搜狗首页的数据\n",
    "- 指定url\n",
    "- 对url发出http请求，get or post\n",
    "- 获取响应数据\n",
    "- 持久化存储"
   ]
  },
  {
   "cell_type": "code",
   "execution_count": 2,
   "metadata": {},
   "outputs": [],
   "source": [
    "import requests"
   ]
  },
  {
   "cell_type": "code",
   "execution_count": 17,
   "metadata": {},
   "outputs": [],
   "source": [
    "# 指定url\n",
    "url = 'https://www.sogou.com/web?query=%E5%B9%B4%E5%90%8E'\n",
    "# 发起请求 返回一个相应对象\n",
    "response = requests.get(url, headers=headers)# 参数：url, params, headers\n",
    "# 获取相应数据 \n",
    "page_text = response.text\n",
    "\n",
    "fileName = 'hi.html'\n",
    "with open(fileName, 'w', encoding='utf-8') as fp:\n",
    "    fp.write(page_text)"
   ]
  },
  {
   "cell_type": "markdown",
   "metadata": {},
   "source": [
    "#### 网页采集器\n"
   ]
  },
  {
   "cell_type": "code",
   "execution_count": 1,
   "metadata": {},
   "outputs": [
    {
     "ename": "NameError",
     "evalue": "name 'requests' is not defined",
     "output_type": "error",
     "traceback": [
      "\u001b[1;31m---------------------------------------------------------------------------\u001b[0m",
      "\u001b[1;31mNameError\u001b[0m                                 Traceback (most recent call last)",
      "\u001b[1;32m<ipython-input-1-8434dbef7aea>\u001b[0m in \u001b[0;36m<module>\u001b[1;34m\u001b[0m\n\u001b[0;32m     16\u001b[0m }\n\u001b[0;32m     17\u001b[0m \u001b[1;31m# 对指定的url发起的请求是携带参数的\u001b[0m\u001b[1;33m\u001b[0m\u001b[1;33m\u001b[0m\u001b[1;33m\u001b[0m\u001b[0m\n\u001b[1;32m---> 18\u001b[1;33m \u001b[0mresponse\u001b[0m \u001b[1;33m=\u001b[0m \u001b[0mrequests\u001b[0m\u001b[1;33m.\u001b[0m\u001b[0mget\u001b[0m\u001b[1;33m(\u001b[0m\u001b[0murl\u001b[0m\u001b[1;33m,\u001b[0m \u001b[0mparams\u001b[0m\u001b[1;33m=\u001b[0m\u001b[0mparam\u001b[0m\u001b[1;33m,\u001b[0m \u001b[0mheaders\u001b[0m\u001b[1;33m=\u001b[0m\u001b[0mheaders\u001b[0m\u001b[1;33m)\u001b[0m\u001b[1;33m\u001b[0m\u001b[1;33m\u001b[0m\u001b[0m\n\u001b[0m\u001b[0;32m     19\u001b[0m \u001b[1;33m\u001b[0m\u001b[0m\n\u001b[0;32m     20\u001b[0m \u001b[0mpage_text\u001b[0m \u001b[1;33m=\u001b[0m \u001b[0mresponse\u001b[0m\u001b[1;33m.\u001b[0m\u001b[0mtext\u001b[0m\u001b[1;33m\u001b[0m\u001b[1;33m\u001b[0m\u001b[0m\n",
      "\u001b[1;31mNameError\u001b[0m: name 'requests' is not defined"
     ]
    }
   ],
   "source": [
    "# UA伪装 User-Agent\n",
    "# 服务网站的服务器会检测对应请求的载体身份标识\n",
    "# 如果检测为某一款浏览器，那就说明是正常的请求\n",
    "# 如果监测到载体身份标识不是浏览器的，说明就是不正常的请求，也就是爬虫\n",
    "\n",
    "# 封装头\n",
    "headers = {\n",
    "    'User-Agent':'Mozilla/5.0 (Windows NT 10.0; Win64; x64) AppleWebKit/537.36 (KHTML, like Gecko) Chrome/85.0.4183.102 Safari/537.36'\n",
    "}\n",
    "\n",
    "url = 'https://www.sogou.com/web'\n",
    "kw = 'hi'\n",
    "# 处理url携带的参数：封装到字典中\n",
    "param = {\n",
    "    'query':kw\n",
    "}\n",
    "# 对指定的url发起的请求是携带参数的\n",
    "response = requests.get(url, params=param, headers=headers)\n",
    "\n",
    "page_text = response.text\n",
    "print(page_text)"
   ]
  },
  {
   "cell_type": "markdown",
   "metadata": {},
   "source": [
    "#### 百度翻译\n",
    "- 使用google的network抓包工具，可以看到HXR的响应\n",
    "- 发送了Post请求\n",
    "- 相应数据是一组json文件"
   ]
  },
  {
   "cell_type": "code",
   "execution_count": 18,
   "metadata": {},
   "outputs": [
    {
     "name": "stdout",
     "output_type": "stream",
     "text": [
      "{'errno': 0, 'data': [{'k': 'dog', 'v': 'n. 狗; 犬; 公狗; 公狐; 公狼; 赛狗; 灵𤟥赛; v. (长期)困扰，折磨，纠缠; 跟踪;'}, {'k': 'dogs', 'v': 'n. 狗; 犬; 公狗; 公狐; 公狼; 赛狗; 灵𤟥赛; v. (长期)困扰，折磨，纠缠; 跟踪;'}, {'k': 'doge', 'v': 'n. （美西部）孤犊，无母犊牛;'}, {'k': 'doggy', 'v': 'n. (儿语)小狗，汪汪，狗狗; adj. 狗的; 像狗一样的;'}, {'k': 'doggie', 'v': 'n. (儿语)狗狗;'}]}\n"
     ]
    }
   ],
   "source": [
    "# 1.UA伪装\n",
    "headers = {\n",
    "    'User-Agent':'Mozilla/5.0 (Windows NT 10.0; Win64; x64) AppleWebKit/537.36 (KHTML, like Gecko) Chrome/85.0.4183.102 Safari/537.36'\n",
    "}\n",
    "\n",
    "# 2. 指定URL\n",
    "post_url = 'https://fanyi.baidu.com/sug'\n",
    "\n",
    "# 与3. Post请求参数（与get一致）\n",
    "data = {\n",
    "    'kw':'dog'\n",
    "}\n",
    "\n",
    "# 4. 请求发送\n",
    "response = request.post(post_url, data, headers = headers)# url, data(params参数)\n",
    "\n",
    "# 5. 获取响应数据 返回字典对象，只有相应数据是json类型的时候才用这个方法\n",
    "print(response.json())\n",
    "import json\n",
    "\n",
    "# 持久化存储\n",
    "# file = open(,encoding='utf-8')\n",
    "# json.dump(response.json(), fp=文件对象, ensure_ascii=False)"
   ]
  },
  {
   "cell_type": "markdown",
   "metadata": {},
   "source": [
    "#### 豆瓣电影"
   ]
  },
  {
   "cell_type": "code",
   "execution_count": 22,
   "metadata": {},
   "outputs": [
    {
     "name": "stdout",
     "output_type": "stream",
     "text": [
      "[{'rating': ['9.2', '45'], 'rank': 21, 'cover_url': 'https://img2.doubanio.com/view/photo/s_ratio_poster/public/p1959764913.jpg', 'is_playable': True, 'id': '1299628', 'types': ['喜剧', '爱情'], 'regions': ['美国'], 'title': '马戏团', 'url': 'https://movie.douban.com/subject/1299628/', 'release_date': '1928-01-06', 'actor_count': 19, 'vote_count': 13137, 'score': '9.2', 'actors': ['阿尔·欧内斯特·加西亚', '梅尔纳·肯尼迪', '哈里·克罗克', 'George Davis', '亨利·伯格曼', '蒂尼·桑福德', '约翰兰德', '查理·卓别林', '艾伯特·奥斯汀', '斯坦利·布莱斯通', '海尼·康克林', 'Toraichi Kono', '贝蒂莫里西', \"L.J. O'Connor\", '杰克 P. 皮尔斯', 'Hugh Saxon', 'Armand Triller', '吉恩·巴瑞', '乔治·W·戴维斯'], 'is_watched': False}, {'rating': ['9.2', '50'], 'rank': 22, 'cover_url': 'https://img3.doubanio.com/view/photo/s_ratio_poster/public/p2409467410.jpg', 'is_playable': False, 'id': '26946612', 'types': ['剧情', '喜剧', '爱情'], 'regions': ['中国大陆'], 'title': '狐妖小红娘剧场版：王权富贵', 'url': 'https://movie.douban.com/subject/26946612/', 'release_date': '2016-05-20', 'actor_count': 7, 'vote_count': 7713, 'score': '9.2', 'actors': ['杨天翔', '刘校妤', '乔诗语', '魏超', '阎萌萌', '张凯', '范哲琛'], 'is_watched': False}, {'rating': ['9.2', '45'], 'rank': 23, 'cover_url': 'https://img3.doubanio.com/view/subject/l/public/s1806732.jpg', 'is_playable': False, 'id': '3075070', 'types': ['动画', '喜剧'], 'regions': ['美国'], 'title': '欢乐树的朋友们：赶尽杀绝', 'url': 'https://movie.douban.com/subject/3075070/', 'release_date': '2005-11-28', 'actor_count': 3, 'vote_count': 5288, 'score': '9.2', 'actors': ['Ken Pontac', '沃伦·格拉夫', '凯恩·纳瓦罗'], 'is_watched': False}, {'rating': ['9.2', '45'], 'rank': 24, 'cover_url': 'https://img3.doubanio.com/view/photo/s_ratio_poster/public/p2559163201.jpg', 'is_playable': False, 'id': '1393471', 'types': ['喜剧', '动画'], 'regions': ['美国'], 'title': '欢乐树的朋友们：第二发球', 'url': 'https://movie.douban.com/subject/1393471/', 'release_date': '2003', 'actor_count': 3, 'vote_count': 4360, 'score': '9.2', 'actors': ['沃伦·格拉夫', 'Rhode Montijo', '凯恩·纳瓦罗'], 'is_watched': False}, {'rating': ['9.2', '50'], 'rank': 25, 'cover_url': 'https://img3.doubanio.com/view/subject/l/public/s1806711.jpg', 'is_playable': False, 'id': '1393472', 'types': ['喜剧', '动画'], 'regions': ['美国'], 'title': '欢乐树的朋友们：第三击', 'url': 'https://movie.douban.com/subject/1393472/', 'release_date': '2004-08-01', 'actor_count': 5, 'vote_count': 3538, 'score': '9.2', 'actors': ['Liz Stuart', 'Ken Pontac', '凯恩·纳瓦罗', '沃伦·格拉夫', 'Rhode Montijo'], 'is_watched': False}, {'rating': ['9.2', '45'], 'rank': 26, 'cover_url': 'https://img9.doubanio.com/view/photo/s_ratio_poster/public/p2508661126.jpg', 'is_playable': False, 'id': '4199429', 'types': ['喜剧'], 'regions': ['美国'], 'title': '乔治·卡林：你们都有病', 'url': 'https://movie.douban.com/subject/4199429/', 'release_date': '1999', 'actor_count': 1, 'vote_count': 1030, 'score': '9.2', 'actors': ['乔治·卡林'], 'is_watched': False}, {'rating': ['9.1', '45'], 'rank': 27, 'cover_url': 'https://img1.doubanio.com/view/photo/s_ratio_poster/public/p501177648.jpg', 'is_playable': True, 'id': '3319755', 'types': ['剧情', '喜剧', '爱情'], 'regions': ['美国'], 'title': '怦然心动', 'url': 'https://movie.douban.com/subject/3319755/', 'release_date': '2010-07-26', 'actor_count': 32, 'vote_count': 1341900, 'score': '9.1', 'actors': ['玛德琳·卡罗尔', '卡兰·麦克奥利菲', '瑞贝卡·德·莫妮', '安东尼·爱德华兹', '约翰·马奥尼', '佩内洛普·安·米勒', '艾丹·奎因', '凯文·韦斯曼', '摩根·莉莉', '瑞安·克茨纳', '吉莉安·普法夫', '迈克尔·博萨', '博·勒纳', '杰奎琳·埃沃拉', '泰勒·格鲁秀斯', '艾莉·布莱恩特', '阿什莉·泰勒', '伊瑟尔·布罗萨德', '科迪·霍恩', '迈克尔·博尔顿', '肖恩·哈珀', '斯戴芬妮·斯考特', '帕特丽夏·伦茨', '马修·戈尔德', '阿罗拉·凯瑟琳·史密斯', '凯莉·唐纳利', '索菲亚·撒高', '米歇尔·梅斯默', '斯科特·乔尔·吉兹基', '罗德·迈尔斯', '卡拉 帕西托', '凯特琳·帕西托'], 'is_watched': False}, {'rating': ['9.1', '45'], 'rank': 28, 'cover_url': 'https://img9.doubanio.com/view/photo/s_ratio_poster/public/p2614500706.jpg', 'is_playable': True, 'id': '20495023', 'types': ['喜剧', '动画', '奇幻', '音乐'], 'regions': ['美国'], 'title': '寻梦环游记', 'url': 'https://movie.douban.com/subject/20495023/', 'release_date': '2017-11-24', 'actor_count': 25, 'vote_count': 1158267, 'score': '9.1', 'actors': ['安东尼·冈萨雷斯', '盖尔·加西亚·贝纳尔', '本杰明·布拉特', '阿兰娜·乌巴赫', '芮妮·维克托', '杰米·卡米尔', '阿方索·阿雷奥', '赫伯特·西古恩萨', '加布里埃尔·伊格莱西亚斯', '隆巴多·博伊尔', '安娜·奥菲丽亚·莫吉亚', '娜塔丽·科尔多瓦', '赛琳娜·露娜', '爱德华·詹姆斯·奥莫斯', '索菲亚·伊斯皮诺萨', '卡拉·梅迪纳', '黛娅娜·欧特里', '路易斯·瓦尔德斯', '布兰卡·阿拉切利', '萨尔瓦多·雷耶斯', '切奇·马林', '奥克塔维·索利斯', '约翰·拉岑贝格', '以利亚·罗德里格斯', '石桥阳彩'], 'is_watched': False}, {'rating': ['9.1', '45'], 'rank': 29, 'cover_url': 'https://img1.doubanio.com/view/photo/s_ratio_poster/public/p792443418.jpg', 'is_playable': False, 'id': '1293350', 'types': ['剧情', '喜剧', '犯罪'], 'regions': ['英国'], 'title': '两杆大烟枪', 'url': 'https://movie.douban.com/subject/1293350/', 'release_date': '1998-08-28', 'actor_count': 23, 'vote_count': 458032, 'score': '9.1', 'actors': ['杰森·弗莱明', '德克斯特·弗莱彻', '尼克·莫兰', '杰森·斯坦森', '斯蒂文·麦金托什', '斯汀', '维尼·琼斯', '安德鲁·蒂曼', '维克多·麦奎尔', '丹尼·约翰-儒勒', '马修·沃恩', '弗兰克·哈珀', '罗尼·福克斯', '薇拉·黛', '史蒂夫·斯威尼', '阿兰·福德', '罗伯·布莱顿', '瓦斯·布莱克伍德', 'Lenny McLean', '尼古拉斯·罗尔', 'P.H.莫里亚蒂', '斯蒂芬·马库斯', '杰克·亚伯拉罕'], 'is_watched': False}, {'rating': ['9.1', '45'], 'rank': 30, 'cover_url': 'https://img9.doubanio.com/view/photo/s_ratio_poster/public/p1960167314.jpg', 'is_playable': True, 'id': '1295646', 'types': ['喜剧', '剧情', '战争'], 'regions': ['美国'], 'title': '大独裁者', 'url': 'https://movie.douban.com/subject/1295646/', 'release_date': '1940-10-15', 'actor_count': 8, 'vote_count': 53820, 'score': '9.1', 'actors': ['查理·卓别林', '宝莲·高黛', '杰克·奥克', '雷金纳德·加德纳', '邱岳峰', '卡特·德黑文', '比利·吉尔伯特', '格蕾斯·海尔'], 'is_watched': False}, {'rating': ['9.1', '45'], 'rank': 31, 'cover_url': 'https://img3.doubanio.com/view/photo/s_ratio_poster/public/p2248676081.jpg', 'is_playable': True, 'id': '1292778', 'types': ['剧情', '喜剧', '动作', '战争', '冒险'], 'regions': ['美国'], 'title': '将军号', 'url': 'https://movie.douban.com/subject/1292778/', 'release_date': '1926-12-31', 'actor_count': 12, 'vote_count': 17666, 'score': '9.1', 'actors': ['巴斯特·基顿', '玛丽昂·马克', '格伦·卡文德', '吉姆·法利', '弗雷德里克·弗鲁姆', '查尔斯·亨利·史密斯', '弗兰克·巴恩斯', '乔·基顿', '麦克·多林', '汤姆·纳恩', '波利斯·卡洛夫', '安东尼·哈维'], 'is_watched': False}, {'rating': ['9.1', '45'], 'rank': 32, 'cover_url': 'https://img9.doubanio.com/view/photo/s_ratio_poster/public/p2384320756.jpg', 'is_playable': False, 'id': '1303525', 'types': ['喜剧', '犯罪', '剧情', '奇幻'], 'regions': ['意大利', '英国', '南斯拉夫'], 'title': '流浪者之歌', 'url': 'https://movie.douban.com/subject/1303525/', 'release_date': '1988-12-21', 'actor_count': 15, 'vote_count': 6973, 'score': '9.1', 'actors': ['达沃尔·杜伊莫维奇', '博拉·托德洛维奇', 'Ajnur Redzepi', 'Mirsad Zulic', 'Suada Karisik', 'Elvira Sali', 'Husnija Hasimovic', '扎比特·梅梅托夫', '鲁比卡·艾德维奇', 'Sinolicka Trpkova', 'Boris Juh', '普雷德拉格·拉科维奇', 'Marjeta Gregorac', '布兰科·德约里奇', 'Sedrije Halim'], 'is_watched': False}, {'rating': ['9.1', '45'], 'rank': 33, 'cover_url': 'https://img3.doubanio.com/view/photo/s_ratio_poster/public/p2533709702.jpg', 'is_playable': False, 'id': '4181031', 'types': ['动画', '喜剧'], 'regions': ['美国'], 'title': '欢乐树的朋友们', 'url': 'https://movie.douban.com/subject/4181031/', 'release_date': '2006-05-03', 'actor_count': 0, 'vote_count': 5582, 'score': '9.1', 'actors': [], 'is_watched': False}, {'rating': ['9.1', '45'], 'rank': 34, 'cover_url': 'https://img3.doubanio.com/view/subject/l/public/s3622650.jpg', 'is_playable': False, 'id': '3075092', 'types': ['喜剧', '动画'], 'regions': ['美国'], 'title': '欢乐树的朋友们：滑雪巡逻救生队', 'url': 'https://movie.douban.com/subject/3075092/', 'release_date': '2006-04-12', 'actor_count': 3, 'vote_count': 1620, 'score': '9.1', 'actors': ['沃伦·格拉夫', '比利·维斯特', '凯恩·纳瓦罗'], 'is_watched': False}, {'rating': ['9.1', '45'], 'rank': 35, 'cover_url': 'https://img9.doubanio.com/view/photo/s_ratio_poster/public/p2508660995.jpg', 'is_playable': False, 'id': '2173593', 'types': ['喜剧'], 'regions': ['美国'], 'title': '克里斯·洛克：无所畏惧', 'url': 'https://movie.douban.com/subject/2173593/', 'release_date': '2004-04-17', 'actor_count': 3, 'vote_count': 1132, 'score': '9.1', 'actors': ['克里斯·洛克', 'Doug E. Fresh', '托尼·洛克'], 'is_watched': False}, {'rating': ['9.1', '45'], 'rank': 36, 'cover_url': 'https://img3.doubanio.com/view/photo/s_ratio_poster/public/p2517976810.jpg', 'is_playable': False, 'id': '4850732', 'types': ['喜剧'], 'regions': ['英国', '澳大利亚'], 'title': '迪兰·莫兰：是什么？', 'url': 'https://movie.douban.com/subject/4850732/', 'release_date': '2009', 'actor_count': 1, 'vote_count': 1094, 'score': '9.1', 'actors': ['迪兰·莫兰'], 'is_watched': False}, {'rating': ['9.0', '45'], 'rank': 37, 'cover_url': 'https://img9.doubanio.com/view/photo/s_ratio_poster/public/p2561305376.jpg', 'is_playable': True, 'id': '26752088', 'types': ['剧情', '喜剧'], 'regions': ['中国大陆'], 'title': '我不是药神', 'url': 'https://movie.douban.com/subject/26752088/', 'release_date': '2018-07-05', 'actor_count': 32, 'vote_count': 1572505, 'score': '9.0', 'actors': ['徐峥', '王传君', '周一围', '谭卓', '章宇', '杨新鸣', '王佳佳', '王砚辉', '贾晨飞', '龚蓓苾', '宁浩', '李乃文', '岳小军', '苇青', '富冠铭', '巴拉特·巴蒂', '喜利图', '张海艳', '朱耕佑', '张子贤', '邓飞', '任洛敏', '杜子蓝', '刘兴雷', '何李宁', '甘昀宸', '石强', '刘頔', '马千壹', '杜家毅', '陈翃', '宁晓志'], 'is_watched': False}, {'rating': ['9.0', '45'], 'rank': 38, 'cover_url': 'https://img9.doubanio.com/view/photo/s_ratio_poster/public/p485887754.jpg', 'is_playable': True, 'id': '2129039', 'types': ['剧情', '喜剧', '动画', '冒险'], 'regions': ['美国'], 'title': '飞屋环游记', 'url': 'https://movie.douban.com/subject/2129039/', 'release_date': '2009-08-04', 'actor_count': 21, 'vote_count': 1004255, 'score': '9.0', 'actors': ['爱德华·阿斯纳', '克里斯托弗·普卢默', '乔丹·长井', '鲍勃·彼德森', '德尔罗伊·林多', '杰罗姆·兰福特', '约翰·拉岑贝格', '大卫·卡耶', '艾丽·道克特', '杰里米·利里', '米凯·麦高万', '丹尼·曼恩', '唐纳德·富利洛夫', '杰斯·哈梅尔', '乔什·库雷', '彼特·道格特', '布兰达∙查普曼', '泰迪·牛顿', '保罗·伊丁', '托尼·弗希勒', '雪莉·琳恩'], 'is_watched': False}, {'rating': ['9.0', '45'], 'rank': 39, 'cover_url': 'https://img3.doubanio.com/view/photo/s_ratio_poster/public/p2561721372.jpg', 'is_playable': False, 'id': '1299398', 'types': ['喜剧', '爱情', '奇幻', '古装'], 'regions': ['中国香港', '中国大陆'], 'title': '大话西游之月光宝盒', 'url': 'https://movie.douban.com/subject/1299398/', 'release_date': '2014-10-24', 'actor_count': 13, 'vote_count': 912324, 'score': '9.0', 'actors': ['周星驰', '吴孟达', '罗家英', '蓝洁瑛', '莫文蔚', '江约诚', '陆树铭', '刘镇伟', '朱茵', '李健仁', '许敬义', '胡立成', '蔡少芬'], 'is_watched': False}, {'rating': ['9.0', '45'], 'rank': 40, 'cover_url': 'https://img9.doubanio.com/view/photo/s_ratio_poster/public/p2189265085.jpg', 'is_playable': True, 'id': '1293839', 'types': ['喜剧', '剧情', '爱情'], 'regions': ['美国'], 'title': '罗马假日', 'url': 'https://movie.douban.com/subject/1293839/', 'release_date': '1953-08-20', 'actor_count': 34, 'vote_count': 733144, 'score': '9.0', 'actors': ['奥黛丽·赫本', '格利高里·派克', '埃迪·艾伯特', '哈特利·鲍尔', '哈考特·威廉姆斯', '玛格丽特·罗林斯', '托里奥·卡米纳提', '保罗·卡利尼', '克劳迪奥·埃尔梅利', '保拉·布鲁布尼', '里佐·弗雷多里佐', 'Laura Solari', 'Gorella Gori', 'Armando Annuale', '毛里齐奥·阿雷纳', 'Silvio Bagolini', 'Gildo Bocci', '弗兰科·科尔萨罗', 'John Cortay', 'Vittoria Crispo', 'Sidney Gordon', 'Luigi Moneta', 'Piero Pastore', '米莫·波利', 'Carlo Rizzo', 'Gianna Segale', '阿梅代奥·特里利', '海伦·塔布斯', 'Marco Tulli', 'Joop van Hulzen', 'Catherine Wyler', 'Judy Wyler', '陆建艺', '金毅'], 'is_watched': False}]\n"
     ]
    }
   ],
   "source": [
    "# 1.UA伪装\n",
    "headers = {\n",
    "    'User-Agent':'Mozilla/5.0 (Windows NT 10.0; Win64; x64) AppleWebKit/537.36 (KHTML, like Gecko) Chrome/85.0.4183.102 Safari/537.36'\n",
    "}\n",
    "\n",
    "# 2. 指定URL\n",
    "url = 'https://movie.douban.com/j/chart/top_list?type=24&interval_id=100%3A90&action=&start=20&limit=20'\n",
    "\n",
    "# 3. 请求参数\n",
    "params = {\n",
    "    'type': '24',\n",
    "'interval_id': '100:90',\n",
    "'action': '',\n",
    "'start': '20', # 从库中的第几个电影开始\n",
    "'limit': '20'  # 取出多少个\n",
    "}\n",
    "\n",
    "# 4. 请求响应\n",
    "response = requests.get(url=url, params=params, headers=headers)\n",
    "\n",
    "# 看看返回乐啥)\n",
    "print(response.json())"
   ]
  },
  {
   "cell_type": "markdown",
   "metadata": {},
   "source": [
    "#### 药监总局\n",
    "点进去查看详细信息"
   ]
  },
  {
   "cell_type": "code",
   "execution_count": 23,
   "metadata": {},
   "outputs": [],
   "source": [
    "url = 'http://scxk.nmpa.gov.cn:81/xk/'\n",
    "headers = {\n",
    "    'User-Agent':'Mozilla/5.0 (Windows NT 10.0; Win64; x64) AppleWebKit/537.36 (KHTML, like Gecko) Chrome/85.0.4183.102 Safari/537.36'\n",
    "}\n",
    "\n",
    "# 发送请求和响应请求合成一步\n",
    "page_text = requests.get(url=url, headers=headers).text\n",
    "\n",
    "with open('药监总局.html', 'w', encoding='utf-8') as fp:\n",
    "    fp.write(page_text)"
   ]
  },
  {
   "cell_type": "markdown",
   "metadata": {},
   "source": [
    "这样子会发现相比原来地址，用爬虫的话是没有新的信息的，这是为啥呢\n",
    "\n",
    "**一定说明这些数据不是那个url请求得到的**\n",
    "\n",
    "很有可能是Ajax，在这个例子里就是Ajax\n",
    "\n",
    "**这种方法叫做动态加载数据**"
   ]
  },
  {
   "cell_type": "code",
   "execution_count": 28,
   "metadata": {},
   "outputs": [],
   "source": [
    "headers = {\n",
    "    'User-Agent':'Mozilla/5.0 (Windows NT 10.0; Win64; x64) AppleWebKit/537.36 (KHTML, like Gecko) Chrome/85.0.4183.102 Safari/537.36'\n",
    "}\n",
    "url = 'http://scxk.nmpa.gov.cn:81/xk/itownet/portalAction.do?method=getXkzsList'\n",
    "data = {\n",
    "    'on': 'true',\n",
    "'page': '1', # 第一页的数据\n",
    "'pageSize': '15', # 每页显示信息数量\n",
    "'productName': '',\n",
    "'conditionType': '1',\n",
    "'applyname': '',\n",
    "}\n",
    "\n",
    "response = requests.post(url=url, data=data, headers=headers) \n",
    "\n",
    "# print(response.json())"
   ]
  },
  {
   "cell_type": "markdown",
   "metadata": {},
   "source": [
    "我们想要获取到每个详情页的url，但是上面的josn里面并没有url，但是有***id***\n",
    "\n",
    "对url分析，域名都是一样的，只有携带的参数“id”不一样"
   ]
  },
  {
   "cell_type": "markdown",
   "metadata": {},
   "source": [
    "#### 数据解析\n",
    "1. 进行标签的定位\n",
    "2. 将标签中的数据进行提取\n",
    "\n",
    "##### bs4\n",
    "1. 实例化Beautiful对象，将源码加载到对象中\n",
    "2. 使用该对象相关的属性或者方法进行标签定位or数据解析\n",
    "\n",
    "环境安装\n",
    "pip install bs4\n",
    "pip install lxml"
   ]
  },
  {
   "cell_type": "code",
   "execution_count": 33,
   "metadata": {},
   "outputs": [],
   "source": [
    "# 实例化bs4\n",
    "from bs4 import BeautifulSoup\n"
   ]
  },
  {
   "cell_type": "code",
   "execution_count": 75,
   "metadata": {},
   "outputs": [
    {
     "name": "stdout",
     "output_type": "stream",
     "text": [
      "<html>\n",
      " <body>\n",
      "  <p>\n",
      "   html_doc = \"\"\"\n",
      "  </p>\n",
      "  <title>\n",
      "   The Dormouse's story\n",
      "  </title>\n",
      "  <p class=\"title\">\n",
      "   <b>\n",
      "    The Dormouse's story\n",
      "   </b>\n",
      "  </p>\n",
      "  <p class=\"story\">\n",
      "   Once upon a time there were three little sisters; and their names were\n",
      "   <a class=\"sister\" href=\"http://example.com/elsie\" id=\"link1\">\n",
      "    Elsie\n",
      "   </a>\n",
      "   ,\n",
      "   <a class=\"sister\" href=\"http://example.com/lacie\" id=\"link2\">\n",
      "    Lacie\n",
      "   </a>\n",
      "   and\n",
      "   <a class=\"sister\" href=\"http://example.com/tillie\" id=\"link3\">\n",
      "    Tillie\n",
      "   </a>\n",
      "   ;\n",
      "and they lived at the bottom of a well.\n",
      "  </p>\n",
      "  <p class=\"story\">\n",
      "   ...\n",
      "  </p>\n",
      "  \"\"\"\n",
      " </body>\n",
      "</html>\n"
     ]
    }
   ],
   "source": [
    "# 1. 将本地html的数据加载到对象中\n",
    "fp = open('alice.html', 'r', encoding='utf-8')\n",
    "soup = BeautifulSoup(fp,'lxml')# 文件对象 解析器\n",
    "print(soup.prettify())"
   ]
  },
  {
   "cell_type": "code",
   "execution_count": 78,
   "metadata": {},
   "outputs": [
    {
     "data": {
      "text/plain": [
       "[]"
      ]
     },
     "execution_count": 78,
     "metadata": {},
     "output_type": "execute_result"
    }
   ],
   "source": [
    "soup.select('body > a')"
   ]
  },
  {
   "cell_type": "code",
   "execution_count": null,
   "metadata": {},
   "outputs": [],
   "source": [
    "# 2. 将网上的加载到对象中\n",
    "page_text = response.text\n",
    "soup = BeautifulSoup(page_text, 'lxml')"
   ]
  },
  {
   "cell_type": "markdown",
   "metadata": {},
   "source": [
    "tag标签就是\\< div\\>, \\< head\\>, \\< p\\>这些\n",
    "\n",
    "使用方法;`soup.tagName` ，返回的是出现的第一个标签"
   ]
  },
  {
   "cell_type": "code",
   "execution_count": 36,
   "metadata": {},
   "outputs": [
    {
     "data": {
      "text/plain": [
       "<a class=\"sister\" href=\"http://example.com/elsie\" id=\"link1\">Elsie</a>"
      ]
     },
     "execution_count": 36,
     "metadata": {},
     "output_type": "execute_result"
    }
   ],
   "source": [
    "soup.a"
   ]
  },
  {
   "cell_type": "markdown",
   "metadata": {},
   "source": [
    "与之类似的方法是soup.find(TagName)，也是只返回第一个\n",
    "\n",
    "soup.find_all(TagName)可以找到符合要求的所有的\n",
    "\n",
    "##### Select函数\n",
    "```python\n",
    "# 类选择器：.+类名：class=tang -> .tang\n",
    "# 标签选择器：不加任何修饰\n",
    "# id选择器：#+id\n",
    "soup.select('某种选择器')\n",
    "# 还能够选择位置\n",
    "soup.select('.tang > ul > li[1]')\n",
    "```"
   ]
  },
  {
   "cell_type": "markdown",
   "metadata": {},
   "source": [
    "1 通过标签名称查找"
   ]
  },
  {
   "cell_type": "code",
   "execution_count": 38,
   "metadata": {},
   "outputs": [
    {
     "data": {
      "text/plain": [
       "[<title>The Dormouse's story</title>]"
      ]
     },
     "execution_count": 38,
     "metadata": {},
     "output_type": "execute_result"
    }
   ],
   "source": [
    "soup.select('title') "
   ]
  },
  {
   "cell_type": "markdown",
   "metadata": {},
   "source": [
    "2 通过类名查找"
   ]
  },
  {
   "cell_type": "code",
   "execution_count": 39,
   "metadata": {},
   "outputs": [
    {
     "data": {
      "text/plain": [
       "[<a class=\"sister\" href=\"http://example.com/elsie\" id=\"link1\">Elsie</a>,\n",
       " <a class=\"sister\" href=\"http://example.com/lacie\" id=\"link2\">Lacie</a>,\n",
       " <a class=\"sister\" href=\"http://example.com/tillie\" id=\"link3\">Tillie</a>]"
      ]
     },
     "execution_count": 39,
     "metadata": {},
     "output_type": "execute_result"
    }
   ],
   "source": [
    "soup.select('.sister')"
   ]
  },
  {
   "cell_type": "markdown",
   "metadata": {},
   "source": [
    "3 通过 id 名查找"
   ]
  },
  {
   "cell_type": "code",
   "execution_count": 41,
   "metadata": {},
   "outputs": [
    {
     "data": {
      "text/plain": [
       "[<a class=\"sister\" href=\"http://example.com/elsie\" id=\"link1\">Elsie</a>]"
      ]
     },
     "execution_count": 41,
     "metadata": {},
     "output_type": "execute_result"
    }
   ],
   "source": [
    "soup.select('#link1')\n"
   ]
  },
  {
   "cell_type": "markdown",
   "metadata": {},
   "source": [
    "4 组合查找\n",
    "\n",
    "组合查找即和写 class 文件时，标签名与类名、id名进行的组合原理是一样的，例如查找 p 标签中，id 等于 link1的内容，二者需要用空格分开"
   ]
  },
  {
   "cell_type": "code",
   "execution_count": 43,
   "metadata": {},
   "outputs": [
    {
     "data": {
      "text/plain": [
       "[<a class=\"sister\" href=\"http://example.com/elsie\" id=\"link1\">Elsie</a>]"
      ]
     },
     "execution_count": 43,
     "metadata": {},
     "output_type": "execute_result"
    }
   ],
   "source": [
    "soup.select('p #link1')"
   ]
  },
  {
   "cell_type": "markdown",
   "metadata": {},
   "source": [
    "直接子标签查找 这里`>`表示一个层级，空格表示多个层级"
   ]
  },
  {
   "cell_type": "code",
   "execution_count": 55,
   "metadata": {},
   "outputs": [
    {
     "data": {
      "text/plain": [
       "[<p>html_doc = \"\"\"\n",
       " </p>,\n",
       " <p class=\"title\"><b>The Dormouse's story</b></p>,\n",
       " <p class=\"story\">Once upon a time there were three little sisters; and their names were\n",
       " <a class=\"sister\" href=\"http://example.com/elsie\" id=\"link1\">Elsie</a>,\n",
       " <a class=\"sister\" href=\"http://example.com/lacie\" id=\"link2\">Lacie</a> and\n",
       " <a class=\"sister\" href=\"http://example.com/tillie\" id=\"link3\">Tillie</a>;\n",
       " and they lived at the bottom of a well.</p>,\n",
       " <p class=\"story\">...</p>]"
      ]
     },
     "execution_count": 55,
     "metadata": {},
     "output_type": "execute_result"
    }
   ],
   "source": [
    "soup.select(\"body > p\")"
   ]
  },
  {
   "cell_type": "markdown",
   "metadata": {},
   "source": [
    "5 属性查找\n",
    "\n",
    "查找时还可以加入属性元素，属性需要用中括号括起来，注意属性和标签属于同一节点，所以中间不能加空格，否则会无法匹配到。"
   ]
  },
  {
   "cell_type": "code",
   "execution_count": 51,
   "metadata": {},
   "outputs": [
    {
     "data": {
      "text/plain": [
       "[<a class=\"sister\" href=\"http://example.com/lacie\" id=\"link2\">Lacie</a>]"
      ]
     },
     "execution_count": 51,
     "metadata": {},
     "output_type": "execute_result"
    }
   ],
   "source": [
    "soup.select('a[href=\"http://example.com/lacie\"]')"
   ]
  },
  {
   "cell_type": "markdown",
   "metadata": {},
   "source": [
    "同样，属性仍然可以与上述查找方式组合，不在同一节点的空格隔开，同一节点的不加空格"
   ]
  },
  {
   "cell_type": "code",
   "execution_count": 52,
   "metadata": {},
   "outputs": [
    {
     "data": {
      "text/plain": [
       "[<a class=\"sister\" href=\"http://example.com/lacie\" id=\"link2\">Lacie</a>]"
      ]
     },
     "execution_count": 52,
     "metadata": {},
     "output_type": "execute_result"
    }
   ],
   "source": [
    "soup.select('body a[href=\"http://example.com/lacie\"]')"
   ]
  },
  {
   "cell_type": "markdown",
   "metadata": {},
   "source": [
    "#### 获取标签之间的文本数据or属性值\n",
    "定位到标签后，直接.text/.string/.get_text()\n",
    "- text/get_text()可以获得一个标签中所有的内容，包括直系的+子节点的\n",
    "- string 只获得直系的文本内容\n",
    "- 属性值，直接['TagName']"
   ]
  },
  {
   "cell_type": "markdown",
   "metadata": {},
   "source": [
    "### 爬取三国演义小说所有章节标题和章节内容\n",
    "www.shicimingju.com/book/sanguoyanyi.html"
   ]
  },
  {
   "cell_type": "code",
   "execution_count": 60,
   "metadata": {},
   "outputs": [],
   "source": [
    "headers = {\n",
    "    'User-Agent':'Mozilla/5.0 (Windows NT 10.0; Win64; x64) AppleWebKit/537.36 (KHTML, like Gecko) Chrome/85.0.4183.102 Safari/537.36'\n",
    "}\n",
    "url = 'https://www.shicimingju.com/book/sanguoyanyi.html'\n",
    "\n",
    "page_text = requests.get(url=url, headers=headers).text"
   ]
  },
  {
   "cell_type": "code",
   "execution_count": 62,
   "metadata": {},
   "outputs": [],
   "source": [
    "soup = BeautifulSoup(page_text,'lxml')"
   ]
  },
  {
   "cell_type": "code",
   "execution_count": 79,
   "metadata": {},
   "outputs": [
    {
     "ename": "IndexError",
     "evalue": "list index out of range",
     "output_type": "error",
     "traceback": [
      "\u001b[1;31m---------------------------------------------------------------------------\u001b[0m",
      "\u001b[1;31mIndexError\u001b[0m                                Traceback (most recent call last)",
      "\u001b[1;32m<ipython-input-79-041c76a015e1>\u001b[0m in \u001b[0;36m<module>\u001b[1;34m\u001b[0m\n\u001b[1;32m----> 1\u001b[1;33m \u001b[0msoup\u001b[0m\u001b[1;33m.\u001b[0m\u001b[0mselect\u001b[0m\u001b[1;33m(\u001b[0m\u001b[1;34m'body div .book-mulu a'\u001b[0m\u001b[1;33m)\u001b[0m\u001b[1;33m[\u001b[0m\u001b[1;36m0\u001b[0m\u001b[1;33m]\u001b[0m\u001b[1;33m[\u001b[0m\u001b[1;34m'href'\u001b[0m\u001b[1;33m]\u001b[0m\u001b[1;33m\u001b[0m\u001b[1;33m\u001b[0m\u001b[0m\n\u001b[0m",
      "\u001b[1;31mIndexError\u001b[0m: list index out of range"
     ]
    }
   ],
   "source": [
    "soup.select('body div .book-mulu a')[0]['href']"
   ]
  },
  {
   "cell_type": "code",
   "execution_count": 91,
   "metadata": {},
   "outputs": [
    {
     "data": {
      "text/plain": [
       "'html_doc = \"\"\"\\nThe Dormouse\\'s story\\nThe Dormouse\\'s story\\nOnce upon a time there were three little sisters; and their names were\\nElsie,\\nLacie and\\nTillie;\\nand they lived at the bottom of a well.\\n...\\n\"\"\"'"
      ]
     },
     "execution_count": 91,
     "metadata": {},
     "output_type": "execute_result"
    }
   ],
   "source": [
    "soup.select('body')[0].text"
   ]
  },
  {
   "cell_type": "code",
   "execution_count": 92,
   "metadata": {},
   "outputs": [],
   "source": [
    "soup.select('body')[0].string"
   ]
  },
  {
   "cell_type": "code",
   "execution_count": null,
   "metadata": {},
   "outputs": [],
   "source": [
    "if response.status_code == 200:\n",
    "    return response.content\n",
    "\n",
    "def pare_content(content):\n",
    "    print()"
   ]
  },
  {
   "cell_type": "markdown",
   "metadata": {},
   "source": [
    "#### 异步爬虫的方式\n",
    "- 多线程，多进程（不建议使用）\n",
    "    - 好处：阻塞操作不会相互等待\n",
    "    - 坏处：无法无限制地开启多线程或者多进程，因为CPU的资源是有限的\n",
    "- 线程池、进程池适当使用（）\n",
    "    - 好处：可以降低系统对进程或者线程创建和销毁的一个频率，从而降低系统的开销\n",
    "    - 弊端：池中线程或进程的数量是有上限的"
   ]
  },
  {
   "cell_type": "code",
   "execution_count": 1,
   "metadata": {},
   "outputs": [
    {
     "name": "stdout",
     "output_type": "stream",
     "text": [
      "正在下载 xiaozi\n",
      "下载结束 xiaozi\n",
      "正在下载 aa\n",
      "下载结束 aa\n",
      "正在下载 bb\n",
      "下载结束 bb\n",
      "正在下载 cc\n",
      "下载结束 cc\n",
      "8 second\n"
     ]
    }
   ],
   "source": [
    "import time\n",
    "# 使用单线程串行方法执行\n",
    "\n",
    "def get_page(str):\n",
    "    print('正在下载', str)\n",
    "    time.sleep(2)\n",
    "    print('下载结束', str)\n",
    "\n",
    "    # 四个url\n",
    "name_list = ['xiaozi', 'aa', 'bb', 'cc']\n",
    "\n",
    "start_time = time.time()\n",
    "\n",
    "for i in range(len(name_list)):\n",
    "    get_page(name_list[i])\n",
    "\n",
    "end_time = time.time()\n",
    "print('%d second'%(end_time-start_time))"
   ]
  },
  {
   "cell_type": "code",
   "execution_count": 5,
   "metadata": {},
   "outputs": [
    {
     "name": "stdout",
     "output_type": "stream",
     "text": [
      "正在下载正在下载正在下载正在下载 aa\n",
      " cc\n",
      " bb\n",
      " xiaozi\n",
      "下载结束 下载结束aa\n",
      " cc\n",
      "下载结束 bb\n",
      "下载结束 xiaozi\n",
      "2 second\n"
     ]
    }
   ],
   "source": [
    "import time\n",
    "from multiprocessing.dummy import Pool\n",
    "# 使用线程池方法执行\n",
    "\n",
    "start_time = time.time()\n",
    "\n",
    "def get_page(str):\n",
    "    print('正在下载', str)\n",
    "    time.sleep(2)\n",
    "    print('下载结束', str)\n",
    "\n",
    "    # 四个url\n",
    "name_list = ['xiaozi', 'aa', 'bb', 'cc']\n",
    "\n",
    "# 实例化线程池对象\n",
    "pool = Pool(4)\n",
    "\n",
    "# 参数：会阻塞的函数，迭代对象\n",
    "# 将列表的每一个元素传递给get_page进行传递\n",
    "pool.map(get_page,name_list) # func, iter\n",
    "\n",
    "\n",
    "end_time = time.time()\n",
    "print('%d second'%(end_time-start_time))"
   ]
  },
  {
   "cell_type": "markdown",
   "metadata": {},
   "source": [
    "### 爬取梨视频数据"
   ]
  },
  {
   "cell_type": "code",
   "execution_count": 8,
   "metadata": {},
   "outputs": [],
   "source": [
    "import requests\n",
    "from bs4 import BeautifulSoup\n",
    "from lxml import etree\n",
    "# 封装头\n",
    "headers = {\n",
    "    'User-Agent':'Mozilla/5.0 (Windows NT 10.0; Win64; x64) AppleWebKit/537.36 (KHTML, like Gecko) Chrome/85.0.4183.102 Safari/537.36'\n",
    "}"
   ]
  },
  {
   "cell_type": "code",
   "execution_count": 10,
   "metadata": {},
   "outputs": [
    {
     "ename": "TypeError",
     "evalue": "xpath() takes exactly 1 positional argument (0 given)",
     "output_type": "error",
     "traceback": [
      "\u001b[1;31m---------------------------------------------------------------------------\u001b[0m",
      "\u001b[1;31mTypeError\u001b[0m                                 Traceback (most recent call last)",
      "\u001b[1;32m<ipython-input-10-6b23ba2f6208>\u001b[0m in \u001b[0;36m<module>\u001b[1;34m\u001b[0m\n\u001b[0;32m      4\u001b[0m \u001b[1;33m\u001b[0m\u001b[0m\n\u001b[0;32m      5\u001b[0m \u001b[0mtree\u001b[0m \u001b[1;33m=\u001b[0m \u001b[0metree\u001b[0m\u001b[1;33m.\u001b[0m\u001b[0mHTML\u001b[0m\u001b[1;33m(\u001b[0m\u001b[0mpage_text\u001b[0m\u001b[1;33m)\u001b[0m\u001b[1;33m\u001b[0m\u001b[1;33m\u001b[0m\u001b[0m\n\u001b[1;32m----> 6\u001b[1;33m \u001b[0mtree\u001b[0m\u001b[1;33m.\u001b[0m\u001b[0mxpath\u001b[0m\u001b[1;33m(\u001b[0m\u001b[1;33m)\u001b[0m\u001b[1;33m\u001b[0m\u001b[1;33m\u001b[0m\u001b[0m\n\u001b[0m",
      "\u001b[1;32msrc\\lxml\\etree.pyx\u001b[0m in \u001b[0;36mlxml.etree._Element.xpath\u001b[1;34m()\u001b[0m\n",
      "\u001b[1;31mTypeError\u001b[0m: xpath() takes exactly 1 positional argument (0 given)"
     ]
    }
   ],
   "source": [
    "# 对下面的url发起请求，解析出视频详情页的url和食品名称\n",
    "url = 'https://www.pearvideo.com/category_5'\n",
    "page_text = requests.get(url=url, headers=headers).text\n",
    "\n",
    "tree = etree.HTML(page_text)\n",
    "tree.xpath()\n"
   ]
  },
  {
   "cell_type": "markdown",
   "metadata": {},
   "source": [
    "#### 单线程+异步携程（推荐使用）\n",
    "- event_loop 事件循环，相当于一个无限循环，我们可以把一些函数注册到这个事件循环上，当满足某些条件的时候，函数就会被循环执行\n",
    "- coroutine 携程对象，我们可以将携程对象注册到事件循环中他会被事件循环调用，我们可以使用async关键字来定义一个方法，这个方法在调用的时候不会立即被执行，而是返回一个协程对象\n",
    "- task 任务，他是对携程对象的进一步封装，包含了任务的各个形态\n",
    "- future：代表将来执行或还没有执行的任务，实际上和task没有本质区别\n",
    "- async 定义一个协程\n",
    "- await 用挂起来阻塞的方法运行"
   ]
  },
  {
   "cell_type": "code",
   "execution_count": 12,
   "metadata": {},
   "outputs": [],
   "source": [
    " import asyncio "
   ]
  },
  {
   "cell_type": "code",
   "execution_count": 15,
   "metadata": {
    "collapsed": true
   },
   "outputs": [
    {
     "name": "stdout",
     "output_type": "stream",
     "text": [
      "<Task pending coro=<request() running at <ipython-input-15-a326fef68e23>:1>>\n"
     ]
    },
    {
     "ename": "RuntimeError",
     "evalue": "This event loop is already running",
     "output_type": "error",
     "traceback": [
      "\u001b[1;31m---------------------------------------------------------------------------\u001b[0m",
      "\u001b[1;31mRuntimeError\u001b[0m                              Traceback (most recent call last)",
      "\u001b[1;32m<ipython-input-15-a326fef68e23>\u001b[0m in \u001b[0;36m<module>\u001b[1;34m\u001b[0m\n\u001b[0;32m     20\u001b[0m \u001b[0mprint\u001b[0m\u001b[1;33m(\u001b[0m\u001b[0mtask\u001b[0m\u001b[1;33m)\u001b[0m\u001b[1;33m\u001b[0m\u001b[1;33m\u001b[0m\u001b[0m\n\u001b[0;32m     21\u001b[0m \u001b[1;33m\u001b[0m\u001b[0m\n\u001b[1;32m---> 22\u001b[1;33m \u001b[0mloop\u001b[0m\u001b[1;33m.\u001b[0m\u001b[0mrun_until_complete\u001b[0m\u001b[1;33m(\u001b[0m\u001b[0mtask\u001b[0m\u001b[1;33m)\u001b[0m\u001b[1;33m\u001b[0m\u001b[1;33m\u001b[0m\u001b[0m\n\u001b[0m\u001b[0;32m     23\u001b[0m \u001b[1;33m\u001b[0m\u001b[0m\n\u001b[0;32m     24\u001b[0m \u001b[1;31m# 这是执行之后的\u001b[0m\u001b[1;33m\u001b[0m\u001b[1;33m\u001b[0m\u001b[1;33m\u001b[0m\u001b[0m\n",
      "\u001b[1;32md:\\python\\python36\\lib\\asyncio\\base_events.py\u001b[0m in \u001b[0;36mrun_until_complete\u001b[1;34m(self, future)\u001b[0m\n\u001b[0;32m    469\u001b[0m         \u001b[0mfuture\u001b[0m\u001b[1;33m.\u001b[0m\u001b[0madd_done_callback\u001b[0m\u001b[1;33m(\u001b[0m\u001b[0m_run_until_complete_cb\u001b[0m\u001b[1;33m)\u001b[0m\u001b[1;33m\u001b[0m\u001b[1;33m\u001b[0m\u001b[0m\n\u001b[0;32m    470\u001b[0m         \u001b[1;32mtry\u001b[0m\u001b[1;33m:\u001b[0m\u001b[1;33m\u001b[0m\u001b[1;33m\u001b[0m\u001b[0m\n\u001b[1;32m--> 471\u001b[1;33m             \u001b[0mself\u001b[0m\u001b[1;33m.\u001b[0m\u001b[0mrun_forever\u001b[0m\u001b[1;33m(\u001b[0m\u001b[1;33m)\u001b[0m\u001b[1;33m\u001b[0m\u001b[1;33m\u001b[0m\u001b[0m\n\u001b[0m\u001b[0;32m    472\u001b[0m         \u001b[1;32mexcept\u001b[0m\u001b[1;33m:\u001b[0m\u001b[1;33m\u001b[0m\u001b[1;33m\u001b[0m\u001b[0m\n\u001b[0;32m    473\u001b[0m             \u001b[1;32mif\u001b[0m \u001b[0mnew_task\u001b[0m \u001b[1;32mand\u001b[0m \u001b[0mfuture\u001b[0m\u001b[1;33m.\u001b[0m\u001b[0mdone\u001b[0m\u001b[1;33m(\u001b[0m\u001b[1;33m)\u001b[0m \u001b[1;32mand\u001b[0m \u001b[1;32mnot\u001b[0m \u001b[0mfuture\u001b[0m\u001b[1;33m.\u001b[0m\u001b[0mcancelled\u001b[0m\u001b[1;33m(\u001b[0m\u001b[1;33m)\u001b[0m\u001b[1;33m:\u001b[0m\u001b[1;33m\u001b[0m\u001b[1;33m\u001b[0m\u001b[0m\n",
      "\u001b[1;32md:\\python\\python36\\lib\\asyncio\\base_events.py\u001b[0m in \u001b[0;36mrun_forever\u001b[1;34m(self)\u001b[0m\n\u001b[0;32m    423\u001b[0m         \u001b[0mself\u001b[0m\u001b[1;33m.\u001b[0m\u001b[0m_check_closed\u001b[0m\u001b[1;33m(\u001b[0m\u001b[1;33m)\u001b[0m\u001b[1;33m\u001b[0m\u001b[1;33m\u001b[0m\u001b[0m\n\u001b[0;32m    424\u001b[0m         \u001b[1;32mif\u001b[0m \u001b[0mself\u001b[0m\u001b[1;33m.\u001b[0m\u001b[0mis_running\u001b[0m\u001b[1;33m(\u001b[0m\u001b[1;33m)\u001b[0m\u001b[1;33m:\u001b[0m\u001b[1;33m\u001b[0m\u001b[1;33m\u001b[0m\u001b[0m\n\u001b[1;32m--> 425\u001b[1;33m             \u001b[1;32mraise\u001b[0m \u001b[0mRuntimeError\u001b[0m\u001b[1;33m(\u001b[0m\u001b[1;34m'This event loop is already running'\u001b[0m\u001b[1;33m)\u001b[0m\u001b[1;33m\u001b[0m\u001b[1;33m\u001b[0m\u001b[0m\n\u001b[0m\u001b[0;32m    426\u001b[0m         \u001b[1;32mif\u001b[0m \u001b[0mevents\u001b[0m\u001b[1;33m.\u001b[0m\u001b[0m_get_running_loop\u001b[0m\u001b[1;33m(\u001b[0m\u001b[1;33m)\u001b[0m \u001b[1;32mis\u001b[0m \u001b[1;32mnot\u001b[0m \u001b[1;32mNone\u001b[0m\u001b[1;33m:\u001b[0m\u001b[1;33m\u001b[0m\u001b[1;33m\u001b[0m\u001b[0m\n\u001b[0;32m    427\u001b[0m             raise RuntimeError(\n",
      "\u001b[1;31mRuntimeError\u001b[0m: This event loop is already running"
     ]
    },
    {
     "name": "stdout",
     "output_type": "stream",
     "text": [
      "正在请求的url是 www.baidu.com\n",
      "请求成功 www.baidu.com\n"
     ]
    }
   ],
   "source": [
    "import asyncio \n",
    "import requests\n",
    "\n",
    "async def request(url):\n",
    "    print('正在请求的url是',url)\n",
    "    print('请求成功', url)\n",
    "    return url\n",
    "\n",
    "# async修饰的函数    ，调用之后返回一个携程对象\n",
    "c = request('www.baidu.com')\n",
    "\n",
    "'''\n",
    "# 创建一个事件循环对象\n",
    "loop = asyncio.get_event_loop()\n",
    "\n",
    "# 将协程对象注册到loop中，然后启动loop\n",
    "loop.run_until_complete(c)\n",
    "'''\n",
    "\n",
    "'''\n",
    "# task的使用 封装协程对象\n",
    "loop = asyncio.get_event_loop()\n",
    "\n",
    "# 基于loop创建了一个task对象\n",
    "task = loop.create_task(c)\n",
    "print(task)\n",
    "loop.run_until_complete(task)\n",
    "\n",
    "# 这是执行之后的\n",
    "print(task)\n",
    "'''\n",
    "\n",
    "'''\n",
    "# future的使用 跟上面的task的结果是一样的\n",
    "loop = asyncio.get_event_loop()\n",
    "\n",
    "task = asyncio.ensure_future(c)\n",
    "print(task)\n",
    "loop.run_until_complete(task)\n",
    "print(task)\n",
    "'''\n",
    "\n",
    "'''\n",
    "# task.result()可以返回协程对象的函数返回值\n",
    "def callback_func(task):\n",
    "    print(task.result())\n",
    "\n",
    "# 绑定回调\n",
    "loop = asyncio.get_event_loop()\n",
    "task = asyncio.ensure_future(c)\n",
    "\n",
    "# 将回调函数绑定到任务对象中\n",
    "task.add_done_callback(callback_func)\n",
    "\n",
    "# 执行完原本的协程对象后，就会调用回调函数\n",
    "loop.run_until_complete(task)\n",
    "'''\n"
   ]
  },
  {
   "cell_type": "markdown",
   "metadata": {},
   "source": [
    "### 多任务协程"
   ]
  },
  {
   "cell_type": "code",
   "execution_count": 16,
   "metadata": {},
   "outputs": [
    {
     "ename": "RuntimeError",
     "evalue": "This event loop is already running",
     "output_type": "error",
     "traceback": [
      "\u001b[1;31m---------------------------------------------------------------------------\u001b[0m",
      "\u001b[1;31mRuntimeError\u001b[0m                              Traceback (most recent call last)",
      "\u001b[1;32m<ipython-input-16-dffe98b2f61d>\u001b[0m in \u001b[0;36m<module>\u001b[1;34m\u001b[0m\n\u001b[0;32m     23\u001b[0m \u001b[0mloop\u001b[0m \u001b[1;33m=\u001b[0m \u001b[0masyncio\u001b[0m\u001b[1;33m.\u001b[0m\u001b[0mget_event_loop\u001b[0m\u001b[1;33m(\u001b[0m\u001b[1;33m)\u001b[0m\u001b[1;33m\u001b[0m\u001b[1;33m\u001b[0m\u001b[0m\n\u001b[0;32m     24\u001b[0m \u001b[1;31m# 将stasks（任务列表）封装到wait方法中\u001b[0m\u001b[1;33m\u001b[0m\u001b[1;33m\u001b[0m\u001b[1;33m\u001b[0m\u001b[0m\n\u001b[1;32m---> 25\u001b[1;33m \u001b[0mloop\u001b[0m\u001b[1;33m.\u001b[0m\u001b[0mrun_until_complete\u001b[0m\u001b[1;33m(\u001b[0m\u001b[0masyncio\u001b[0m\u001b[1;33m.\u001b[0m\u001b[0mwait\u001b[0m\u001b[1;33m(\u001b[0m\u001b[0mstasks\u001b[0m\u001b[1;33m)\u001b[0m\u001b[1;33m)\u001b[0m\u001b[1;33m\u001b[0m\u001b[1;33m\u001b[0m\u001b[0m\n\u001b[0m\u001b[0;32m     26\u001b[0m \u001b[1;33m\u001b[0m\u001b[0m\n\u001b[0;32m     27\u001b[0m \u001b[0mprint\u001b[0m\u001b[1;33m(\u001b[0m\u001b[0mtime\u001b[0m\u001b[1;33m.\u001b[0m\u001b[0mtime\u001b[0m\u001b[1;33m(\u001b[0m\u001b[1;33m)\u001b[0m\u001b[1;33m-\u001b[0m\u001b[0mstart\u001b[0m\u001b[1;33m)\u001b[0m\u001b[1;33m\u001b[0m\u001b[1;33m\u001b[0m\u001b[0m\n",
      "\u001b[1;32md:\\python\\python36\\lib\\asyncio\\base_events.py\u001b[0m in \u001b[0;36mrun_until_complete\u001b[1;34m(self, future)\u001b[0m\n\u001b[0;32m    469\u001b[0m         \u001b[0mfuture\u001b[0m\u001b[1;33m.\u001b[0m\u001b[0madd_done_callback\u001b[0m\u001b[1;33m(\u001b[0m\u001b[0m_run_until_complete_cb\u001b[0m\u001b[1;33m)\u001b[0m\u001b[1;33m\u001b[0m\u001b[1;33m\u001b[0m\u001b[0m\n\u001b[0;32m    470\u001b[0m         \u001b[1;32mtry\u001b[0m\u001b[1;33m:\u001b[0m\u001b[1;33m\u001b[0m\u001b[1;33m\u001b[0m\u001b[0m\n\u001b[1;32m--> 471\u001b[1;33m             \u001b[0mself\u001b[0m\u001b[1;33m.\u001b[0m\u001b[0mrun_forever\u001b[0m\u001b[1;33m(\u001b[0m\u001b[1;33m)\u001b[0m\u001b[1;33m\u001b[0m\u001b[1;33m\u001b[0m\u001b[0m\n\u001b[0m\u001b[0;32m    472\u001b[0m         \u001b[1;32mexcept\u001b[0m\u001b[1;33m:\u001b[0m\u001b[1;33m\u001b[0m\u001b[1;33m\u001b[0m\u001b[0m\n\u001b[0;32m    473\u001b[0m             \u001b[1;32mif\u001b[0m \u001b[0mnew_task\u001b[0m \u001b[1;32mand\u001b[0m \u001b[0mfuture\u001b[0m\u001b[1;33m.\u001b[0m\u001b[0mdone\u001b[0m\u001b[1;33m(\u001b[0m\u001b[1;33m)\u001b[0m \u001b[1;32mand\u001b[0m \u001b[1;32mnot\u001b[0m \u001b[0mfuture\u001b[0m\u001b[1;33m.\u001b[0m\u001b[0mcancelled\u001b[0m\u001b[1;33m(\u001b[0m\u001b[1;33m)\u001b[0m\u001b[1;33m:\u001b[0m\u001b[1;33m\u001b[0m\u001b[1;33m\u001b[0m\u001b[0m\n",
      "\u001b[1;32md:\\python\\python36\\lib\\asyncio\\base_events.py\u001b[0m in \u001b[0;36mrun_forever\u001b[1;34m(self)\u001b[0m\n\u001b[0;32m    423\u001b[0m         \u001b[0mself\u001b[0m\u001b[1;33m.\u001b[0m\u001b[0m_check_closed\u001b[0m\u001b[1;33m(\u001b[0m\u001b[1;33m)\u001b[0m\u001b[1;33m\u001b[0m\u001b[1;33m\u001b[0m\u001b[0m\n\u001b[0;32m    424\u001b[0m         \u001b[1;32mif\u001b[0m \u001b[0mself\u001b[0m\u001b[1;33m.\u001b[0m\u001b[0mis_running\u001b[0m\u001b[1;33m(\u001b[0m\u001b[1;33m)\u001b[0m\u001b[1;33m:\u001b[0m\u001b[1;33m\u001b[0m\u001b[1;33m\u001b[0m\u001b[0m\n\u001b[1;32m--> 425\u001b[1;33m             \u001b[1;32mraise\u001b[0m \u001b[0mRuntimeError\u001b[0m\u001b[1;33m(\u001b[0m\u001b[1;34m'This event loop is already running'\u001b[0m\u001b[1;33m)\u001b[0m\u001b[1;33m\u001b[0m\u001b[1;33m\u001b[0m\u001b[0m\n\u001b[0m\u001b[0;32m    426\u001b[0m         \u001b[1;32mif\u001b[0m \u001b[0mevents\u001b[0m\u001b[1;33m.\u001b[0m\u001b[0m_get_running_loop\u001b[0m\u001b[1;33m(\u001b[0m\u001b[1;33m)\u001b[0m \u001b[1;32mis\u001b[0m \u001b[1;32mnot\u001b[0m \u001b[1;32mNone\u001b[0m\u001b[1;33m:\u001b[0m\u001b[1;33m\u001b[0m\u001b[1;33m\u001b[0m\u001b[0m\n\u001b[0;32m    427\u001b[0m             raise RuntimeError(\n",
      "\u001b[1;31mRuntimeError\u001b[0m: This event loop is already running"
     ]
    },
    {
     "name": "stdout",
     "output_type": "stream",
     "text": [
      "正在下载 www.baidu.com\n",
      "卸载完毕 www.baidu.com\n",
      "正在下载 www.sougou.com\n",
      "卸载完毕 www.sougou.com\n",
      "正在下载 www.doubanjia.com\n",
      "卸载完毕 www.doubanjia.com\n"
     ]
    }
   ],
   "source": [
    "import asyncio\n",
    "import time\n",
    "\n",
    "async def request(url):\n",
    "    print('正在下载',url)\n",
    "    # 在异步协程中，如果出现了同步模块相关的代码，就没法实现异步\n",
    "    # time.sleep(2)\n",
    "    \n",
    "    # 当在asyncio中遇到阻塞操作的时候必须手动挂起\n",
    "    await asyncio.sleep(2)\n",
    "    \n",
    "    print('卸载完毕',url)\n",
    "\n",
    "    \n",
    "start = time.time()\n",
    "urls = [\n",
    "    'www.baidu.com',\n",
    "    'www.sougou.com',\n",
    "    'www.doubanjia.com'\n",
    "]\n",
    "# 任务列表 需要存放多个任务对象\n",
    "stasks = []\n",
    "for url in urls:\n",
    "    c = request(url)\n",
    "    task = asyncio.ensure_future(c)\n",
    "    stasks.append(task)\n",
    "    \n",
    "loop = asyncio.get_event_loop()\n",
    "# 将stasks（任务列表）封装到wait方法中\n",
    "loop.run_until_complete(asyncio.wait(stasks))\n",
    "\n",
    "print(time.time()-start)"
   ]
  },
  {
   "cell_type": "markdown",
   "metadata": {},
   "source": [
    "由于requests是同步爬虫，因此没法实现异步操作，因此需要换一个别的\n",
    "而aiohttp是异步网络请求的模块，用它就可以了\n",
    "\n",
    "`pip install aiohttp`\n",
    "\n",
    "使用该模块的ClientSession类型对象发送网络请求就行"
   ]
  },
  {
   "cell_type": "code",
   "execution_count": 7,
   "metadata": {},
   "outputs": [
    {
     "ename": "RuntimeError",
     "evalue": "This event loop is already running",
     "output_type": "error",
     "traceback": [
      "\u001b[1;31m---------------------------------------------------------------------------\u001b[0m",
      "\u001b[1;31mRuntimeError\u001b[0m                              Traceback (most recent call last)",
      "\u001b[1;32m<ipython-input-7-472a915a936d>\u001b[0m in \u001b[0;36m<module>\u001b[1;34m\u001b[0m\n\u001b[0;32m     36\u001b[0m \u001b[0mloop\u001b[0m \u001b[1;33m=\u001b[0m \u001b[0masyncio\u001b[0m\u001b[1;33m.\u001b[0m\u001b[0mget_event_loop\u001b[0m\u001b[1;33m(\u001b[0m\u001b[1;33m)\u001b[0m\u001b[1;33m\u001b[0m\u001b[1;33m\u001b[0m\u001b[0m\n\u001b[0;32m     37\u001b[0m \u001b[1;31m# 将stasks（任务列表）封装到wait方法中\u001b[0m\u001b[1;33m\u001b[0m\u001b[1;33m\u001b[0m\u001b[1;33m\u001b[0m\u001b[0m\n\u001b[1;32m---> 38\u001b[1;33m \u001b[0mloop\u001b[0m\u001b[1;33m.\u001b[0m\u001b[0mrun_until_complete\u001b[0m\u001b[1;33m(\u001b[0m\u001b[0masyncio\u001b[0m\u001b[1;33m.\u001b[0m\u001b[0mwait\u001b[0m\u001b[1;33m(\u001b[0m\u001b[0mstasks\u001b[0m\u001b[1;33m)\u001b[0m\u001b[1;33m)\u001b[0m\u001b[1;33m\u001b[0m\u001b[1;33m\u001b[0m\u001b[0m\n\u001b[0m\u001b[0;32m     39\u001b[0m \u001b[1;33m\u001b[0m\u001b[0m\n\u001b[0;32m     40\u001b[0m \u001b[0mprint\u001b[0m\u001b[1;33m(\u001b[0m\u001b[0mtime\u001b[0m\u001b[1;33m.\u001b[0m\u001b[0mtime\u001b[0m\u001b[1;33m(\u001b[0m\u001b[1;33m)\u001b[0m\u001b[1;33m-\u001b[0m\u001b[0mstart\u001b[0m\u001b[1;33m)\u001b[0m\u001b[1;33m\u001b[0m\u001b[1;33m\u001b[0m\u001b[0m\n",
      "\u001b[1;32md:\\python\\python36\\lib\\asyncio\\base_events.py\u001b[0m in \u001b[0;36mrun_until_complete\u001b[1;34m(self, future)\u001b[0m\n\u001b[0;32m    469\u001b[0m         \u001b[0mfuture\u001b[0m\u001b[1;33m.\u001b[0m\u001b[0madd_done_callback\u001b[0m\u001b[1;33m(\u001b[0m\u001b[0m_run_until_complete_cb\u001b[0m\u001b[1;33m)\u001b[0m\u001b[1;33m\u001b[0m\u001b[1;33m\u001b[0m\u001b[0m\n\u001b[0;32m    470\u001b[0m         \u001b[1;32mtry\u001b[0m\u001b[1;33m:\u001b[0m\u001b[1;33m\u001b[0m\u001b[1;33m\u001b[0m\u001b[0m\n\u001b[1;32m--> 471\u001b[1;33m             \u001b[0mself\u001b[0m\u001b[1;33m.\u001b[0m\u001b[0mrun_forever\u001b[0m\u001b[1;33m(\u001b[0m\u001b[1;33m)\u001b[0m\u001b[1;33m\u001b[0m\u001b[1;33m\u001b[0m\u001b[0m\n\u001b[0m\u001b[0;32m    472\u001b[0m         \u001b[1;32mexcept\u001b[0m\u001b[1;33m:\u001b[0m\u001b[1;33m\u001b[0m\u001b[1;33m\u001b[0m\u001b[0m\n\u001b[0;32m    473\u001b[0m             \u001b[1;32mif\u001b[0m \u001b[0mnew_task\u001b[0m \u001b[1;32mand\u001b[0m \u001b[0mfuture\u001b[0m\u001b[1;33m.\u001b[0m\u001b[0mdone\u001b[0m\u001b[1;33m(\u001b[0m\u001b[1;33m)\u001b[0m \u001b[1;32mand\u001b[0m \u001b[1;32mnot\u001b[0m \u001b[0mfuture\u001b[0m\u001b[1;33m.\u001b[0m\u001b[0mcancelled\u001b[0m\u001b[1;33m(\u001b[0m\u001b[1;33m)\u001b[0m\u001b[1;33m:\u001b[0m\u001b[1;33m\u001b[0m\u001b[1;33m\u001b[0m\u001b[0m\n",
      "\u001b[1;32md:\\python\\python36\\lib\\asyncio\\base_events.py\u001b[0m in \u001b[0;36mrun_forever\u001b[1;34m(self)\u001b[0m\n\u001b[0;32m    423\u001b[0m         \u001b[0mself\u001b[0m\u001b[1;33m.\u001b[0m\u001b[0m_check_closed\u001b[0m\u001b[1;33m(\u001b[0m\u001b[1;33m)\u001b[0m\u001b[1;33m\u001b[0m\u001b[1;33m\u001b[0m\u001b[0m\n\u001b[0;32m    424\u001b[0m         \u001b[1;32mif\u001b[0m \u001b[0mself\u001b[0m\u001b[1;33m.\u001b[0m\u001b[0mis_running\u001b[0m\u001b[1;33m(\u001b[0m\u001b[1;33m)\u001b[0m\u001b[1;33m:\u001b[0m\u001b[1;33m\u001b[0m\u001b[1;33m\u001b[0m\u001b[0m\n\u001b[1;32m--> 425\u001b[1;33m             \u001b[1;32mraise\u001b[0m \u001b[0mRuntimeError\u001b[0m\u001b[1;33m(\u001b[0m\u001b[1;34m'This event loop is already running'\u001b[0m\u001b[1;33m)\u001b[0m\u001b[1;33m\u001b[0m\u001b[1;33m\u001b[0m\u001b[0m\n\u001b[0m\u001b[0;32m    426\u001b[0m         \u001b[1;32mif\u001b[0m \u001b[0mevents\u001b[0m\u001b[1;33m.\u001b[0m\u001b[0m_get_running_loop\u001b[0m\u001b[1;33m(\u001b[0m\u001b[1;33m)\u001b[0m \u001b[1;32mis\u001b[0m \u001b[1;32mnot\u001b[0m \u001b[1;32mNone\u001b[0m\u001b[1;33m:\u001b[0m\u001b[1;33m\u001b[0m\u001b[1;33m\u001b[0m\u001b[0m\n\u001b[0;32m    427\u001b[0m             raise RuntimeError(\n",
      "\u001b[1;31mRuntimeError\u001b[0m: This event loop is already running"
     ]
    }
   ],
   "source": [
    "import aiohttp\n",
    "import asyncio\n",
    "import time\n",
    "\n",
    "async def request(url):\n",
    "    # 这里的session和之前cookie的session一样\n",
    "    # 所有的with都要有async修饰\n",
    "    async with aiohttp.CilentSession() as session:\n",
    "        #get(),post()方法都有\n",
    "        # headers, get还是params, post还是data，跟requests一抹一眼\n",
    "        # proxy设置代理='http://ip:port'\n",
    "        # 手动挂起相应对象，因此用await\n",
    "        async with await session.get(url) as response:\n",
    "            # text() 返回字符串形式的响应数据\n",
    "            # json() 返回json对象\n",
    "            # read() 返回二进制的相应数据\n",
    "            \n",
    "            # 在获取相应数据操作之前一定要使用await进行手动挂起\n",
    "            page_text = await response.text()\n",
    "            print(page_text)\n",
    "\n",
    "    \n",
    "start = time.time()\n",
    "urls = [\n",
    "    'www.baidu.com',\n",
    "    'www.sougou.com'\n",
    "]\n",
    "# 任务列表 需要存放多个任务对象\n",
    "stasks = []\n",
    "for url in urls:\n",
    "    c = request(url)\n",
    "    task = asyncio.ensure_future(c)\n",
    "    stasks.append(task)\n",
    "    \n",
    "loop = asyncio.get_event_loop()\n",
    "# 将stasks（任务列表）封装到wait方法中\n",
    "loop.run_until_complete(asyncio.wait(stasks))\n",
    "\n",
    "print(time.time()-start)"
   ]
  },
  {
   "cell_type": "code",
   "execution_count": null,
   "metadata": {},
   "outputs": [],
   "source": [
    "\n",
    "start = time.time()\n",
    "urls = [\n",
    "    'https://bbs.baobeihuijia.com/forum-189-2.html',\n",
    "    'https://bbs.baobeihuijia.com/forum-189-12.html',\n",
    "    'https://bbs.baobeihuijia.com/forum-189-122.html'\n",
    "]\n",
    "# 任务列表 需要存放多个任务对象\n",
    "stasks = []\n",
    "for url in urls:\n",
    "    c = request(url)\n",
    "    task = asyncio.ensure_future(c)\n",
    "    stasks.append(task)\n",
    "    \n",
    "loop = asyncio.get_event_loop()\n",
    "# 将stasks（任务列表）封装到wait方法中\n",
    "loop.run_until_complete(asyncio.wait(stasks))\n",
    "\n",
    "print(time.time()-start)\n"
   ]
  },
  {
   "cell_type": "code",
   "execution_count": 6,
   "metadata": {},
   "outputs": [
    {
     "name": "stdout",
     "output_type": "stream",
     "text": [
      "11\n",
      "查找 https://www.baidu.com\n",
      "284837\n",
      "查找 https://www.sougou.com\n",
      "15549\n",
      "查找 https://bbs.baobeihuijia.com/forum-189-1.html\n",
      "75181\n",
      "查找 https://bbs.baobeihuijia.com/forum-189-2.html\n",
      "68835\n",
      "查找 https://bbs.baobeihuijia.com/forum-189-3.html\n",
      "68627\n",
      "查找 https://bbs.baobeihuijia.com/forum-189-4.html\n",
      "68816\n",
      "查找 https://bbs.baobeihuijia.com/forum-189-5.html\n",
      "68931\n",
      "查找 https://bbs.baobeihuijia.com/forum-189-6.html\n",
      "68859\n",
      "查找 https://bbs.baobeihuijia.com/forum-189-7.html\n",
      "68295\n",
      "查找 https://bbs.baobeihuijia.com/forum-189-8.html\n",
      "67660\n",
      "查找 https://bbs.baobeihuijia.com/forum-189-9.html\n",
      "67686\n",
      "2.4401023387908936\n"
     ]
    }
   ],
   "source": [
    "from bs4 import BeautifulSoup\n",
    "import requests\n",
    "import time\n",
    "\n",
    "# User-Agent 保护\n",
    "headers = {\n",
    "    'User-Agent':'Mozilla/5.0 (Windows NT 10.0; Win64; x64) AppleWebKit/537.36 (KHTML, like Gecko) Chrome/85.0.4183.102 Safari/537.36'\n",
    "}\n",
    "\n",
    "def request(url):\n",
    "    print('查找',url)\n",
    "    page_text = requests.get(url,headers=headers).text\n",
    "    print(len(page_text))\n",
    "\n",
    "start = time.time()\n",
    "urls = [\n",
    "    'https://www.baidu.com',\n",
    "    'https://www.sougou.com'\n",
    "]\n",
    "\n",
    "for i in range(1,10):\n",
    "    urls.append('https://bbs.baobeihuijia.com/forum-189-{0}.html'.format(i))\n",
    "\n",
    "print('长度',len(urls))\n",
    "# 任务列表 需要存放多个任务对象\n",
    "stasks = []\n",
    "for url in urls:\n",
    "    c = request(url)\n",
    "    \n",
    "\n",
    "print(time.time()-start)"
   ]
  },
  {
   "cell_type": "code",
   "execution_count": null,
   "metadata": {},
   "outputs": [],
   "source": []
  }
 ],
 "metadata": {
  "kernelspec": {
   "display_name": "Python 3",
   "language": "python",
   "name": "python3"
  },
  "language_info": {
   "codemirror_mode": {
    "name": "ipython",
    "version": 3
   },
   "file_extension": ".py",
   "mimetype": "text/x-python",
   "name": "python",
   "nbconvert_exporter": "python",
   "pygments_lexer": "ipython3",
   "version": "3.6.8"
  }
 },
 "nbformat": 4,
 "nbformat_minor": 4
}
