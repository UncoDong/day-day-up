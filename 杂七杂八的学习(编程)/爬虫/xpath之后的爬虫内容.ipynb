{
 "cells": [
  {
   "cell_type": "markdown",
   "metadata": {},
   "source": [
    "## 数据解析之xpath\n",
    "xpath是最便捷高效的一种解析方式，并且不同语言都可以使用xpath来寻找元素"
   ]
  },
  {
   "cell_type": "code",
   "execution_count": 1,
   "metadata": {},
   "outputs": [],
   "source": [
    "from lxml import etree\n",
    "etree.parse('文件名')"
   ]
  },
  {
   "cell_type": "code",
   "execution_count": 40,
   "metadata": {},
   "outputs": [
    {
     "data": {
      "text/plain": [
       "['Once upon a time there were three little sisters; and their names were\\n        ',\n",
       " 'Elsie',\n",
       " ',\\n        ',\n",
       " 'Lacie',\n",
       " ' and\\n        ',\n",
       " 'Tillie',\n",
       " '; and they lived at the bottom of a well.',\n",
       " '...']"
      ]
     },
     "execution_count": 40,
     "metadata": {},
     "output_type": "execute_result"
    }
   ],
   "source": [
    "from lxml import etree\n",
    "# 实例化好了一个etree对象，且将被解析的源码加载到了该对象中\n",
    "tree = etree.parse('alice.html')\n",
    "# 第一个斜杠表示从根节点开始遍历的\n",
    "tree.xpath('/html/body/p[@class=\"story\"]//text()')\n",
    "\n",
    "# # 从body往下走\n",
    "# title = body.xpath('./title')[0]\n",
    "# print(title.text)\n",
    "\n",
    "# # 以下代码直接报错\n",
    "# title = body.xpath('/title')[0]\n",
    "# print(title.text)"
   ]
  },
  {
   "cell_type": "code",
   "execution_count": null,
   "metadata": {},
   "outputs": [],
   "source": [
    "from lxml import etree\n",
    "# 实例化好了一个etree对象，且将被解析的源码加载到了该对象中\n",
    "tree = etree.parse('alice.html')\n",
    "# 第一个斜杠表示从根节点开始遍历的\n",
    "body = tree.xpath('//body')[0]"
   ]
  },
  {
   "cell_type": "markdown",
   "metadata": {},
   "source": [
    "### 58同城二手房信息"
   ]
  },
  {
   "cell_type": "code",
   "execution_count": 18,
   "metadata": {},
   "outputs": [],
   "source": [
    "\n",
    "import requests\n",
    "from lxml import etree\n",
    "headers = {\n",
    "    'User-Agent':'Mozilla/5.0 (Windows NT 10.0; Win64; x64) AppleWebKit/537.36 (KHTML, like Gecko) Chrome/85.0.4183.121 Safari/537.36'\n",
    "}\n",
    "url = 'https://bj.58.com/ershoufang/'\n",
    "response = requests.get(url=url, headers=headers)\n",
    "# 实例化好了一个etree对象，且将被解析的源码加载到了该对象中\n",
    "tree = etree.HTML(response.text)"
   ]
  },
  {
   "cell_type": "code",
   "execution_count": 36,
   "metadata": {},
   "outputs": [],
   "source": [
    "for each in tree.xpath('//li[@class=\"sendsoj\"]'):\n",
    "    each.xpath('./div[2]/h2/a/text()')[0]"
   ]
  },
  {
   "cell_type": "code",
   "execution_count": 37,
   "metadata": {},
   "outputs": [],
   "source": [
    "mid = tree.xpath('//h2[@class=\"title\"]/a[1]/text()')"
   ]
  },
  {
   "cell_type": "markdown",
   "metadata": {},
   "source": [
    "## 下载图片"
   ]
  },
  {
   "cell_type": "code",
   "execution_count": 41,
   "metadata": {},
   "outputs": [],
   "source": [
    "\n",
    "import requests\n",
    "from lxml import etree\n",
    "headers = {\n",
    "    'User-Agent':'Mozilla/5.0 (Windows NT 10.0; Win64; x64) AppleWebKit/537.36 (KHTML, like Gecko) Chrome/85.0.4183.121 Safari/537.36'\n",
    "}\n",
    "url = 'http://pic.netbian.com/4kdongman/'\n",
    "response = requests.get(url=url, headers=headers,timeout = 500)\n",
    "# 手动设定编码格式\n",
    "#response.encoding = 'utf-8'\n",
    "# 实例化好了一个etree对象，且将被解析的源码加载到了该对象中\n",
    "tree = etree.HTML(response.text)"
   ]
  },
  {
   "cell_type": "code",
   "execution_count": 72,
   "metadata": {},
   "outputs": [
    {
     "ename": "UnicodeDecodeError",
     "evalue": "'utf-8' codec can't decode byte 0xb3 in position 9: invalid start byte",
     "output_type": "error",
     "traceback": [
      "\u001b[1;31m---------------------------------------------------------------------------\u001b[0m",
      "\u001b[1;31mUnicodeDecodeError\u001b[0m                        Traceback (most recent call last)",
      "\u001b[1;32m<ipython-input-72-135d4e81239d>\u001b[0m in \u001b[0;36m<module>\u001b[1;34m\u001b[0m\n\u001b[0;32m      1\u001b[0m \u001b[0mtree\u001b[0m\u001b[1;33m.\u001b[0m\u001b[0mxpath\u001b[0m\u001b[1;33m(\u001b[0m\u001b[1;34m'//a[@target=\"_blank\"]/img/@alt'\u001b[0m\u001b[1;33m)\u001b[0m\u001b[1;33m\u001b[0m\u001b[1;33m\u001b[0m\u001b[0m\n\u001b[0;32m      2\u001b[0m \u001b[1;31m# 通用处理中文乱码的方式\u001b[0m\u001b[1;33m\u001b[0m\u001b[1;33m\u001b[0m\u001b[1;33m\u001b[0m\u001b[0m\n\u001b[1;32m----> 3\u001b[1;33m \u001b[0mtree\u001b[0m\u001b[1;33m.\u001b[0m\u001b[0mxpath\u001b[0m\u001b[1;33m(\u001b[0m\u001b[1;34m'//a[@target=\"_blank\"]/img/@alt'\u001b[0m\u001b[1;33m)\u001b[0m\u001b[1;33m[\u001b[0m\u001b[1;36m0\u001b[0m\u001b[1;33m]\u001b[0m\u001b[1;33m.\u001b[0m\u001b[0mencode\u001b[0m\u001b[1;33m(\u001b[0m\u001b[1;34m'iso-8859-1'\u001b[0m\u001b[1;33m)\u001b[0m\u001b[1;33m.\u001b[0m\u001b[0mdecode\u001b[0m\u001b[1;33m(\u001b[0m\u001b[1;34m'utf-8'\u001b[0m\u001b[1;33m)\u001b[0m\u001b[1;33m\u001b[0m\u001b[1;33m\u001b[0m\u001b[0m\n\u001b[0m",
      "\u001b[1;31mUnicodeDecodeError\u001b[0m: 'utf-8' codec can't decode byte 0xb3 in position 9: invalid start byte"
     ]
    }
   ],
   "source": [
    "tree.xpath('//a[@target=\"_blank\"]/img/@alt')\n",
    "# 通用处理中文乱码的方式\n",
    "tree.xpath('//a[@target=\"_blank\"]/img/@alt')[0].encode('iso-8859-1').decode('utf-8')"
   ]
  },
  {
   "cell_type": "code",
   "execution_count": 73,
   "metadata": {},
   "outputs": [],
   "source": [
    "s = tree.xpath('//a[@target=\"_blank\"]/img/@alt')[0]"
   ]
  },
  {
   "cell_type": "code",
   "execution_count": 86,
   "metadata": {},
   "outputs": [
    {
     "data": {
      "text/plain": [
       "'dva 宅女 长筒袜 短发 可爱女孩4k壁纸'"
      ]
     },
     "execution_count": 86,
     "metadata": {},
     "output_type": "execute_result"
    }
   ],
   "source": [
    "s.encode('iso-8859-1','ignore').decode('gbk')"
   ]
  },
  {
   "cell_type": "code",
   "execution_count": 88,
   "metadata": {},
   "outputs": [
    {
     "data": {
      "text/plain": [
       "'dva 宅女 长筒袜 短发 可爱女孩4k壁纸'"
      ]
     },
     "execution_count": 88,
     "metadata": {},
     "output_type": "execute_result"
    }
   ],
   "source": [
    "str(s).encode('iso-8859-1','ignore').decode('gbk')"
   ]
  },
  {
   "cell_type": "code",
   "execution_count": 85,
   "metadata": {},
   "outputs": [
    {
     "data": {
      "text/plain": [
       "{'encoding': 'utf-8', 'confidence': 0.99, 'language': ''}"
      ]
     },
     "execution_count": 85,
     "metadata": {},
     "output_type": "execute_result"
    }
   ],
   "source": [
    "import chardet\n",
    "chardet.detect(str(s).encode())"
   ]
  },
  {
   "cell_type": "code",
   "execution_count": 77,
   "metadata": {},
   "outputs": [
    {
     "data": {
      "text/plain": [
       "'dva Õ¬Å® ³¤Í²Íà ¶Ì·¢ ¿É°®Å®º¢4k±ÚÖ½'"
      ]
     },
     "execution_count": 77,
     "metadata": {},
     "output_type": "execute_result"
    }
   ],
   "source": [
    "s"
   ]
  },
  {
   "cell_type": "code",
   "execution_count": 78,
   "metadata": {},
   "outputs": [
    {
     "ename": "AttributeError",
     "evalue": "'lxml.etree._ElementUnicodeResult' object has no attribute 'text'",
     "output_type": "error",
     "traceback": [
      "\u001b[1;31m---------------------------------------------------------------------------\u001b[0m",
      "\u001b[1;31mAttributeError\u001b[0m                            Traceback (most recent call last)",
      "\u001b[1;32m<ipython-input-78-7191d8d62d71>\u001b[0m in \u001b[0;36m<module>\u001b[1;34m\u001b[0m\n\u001b[1;32m----> 1\u001b[1;33m \u001b[0ms\u001b[0m\u001b[1;33m.\u001b[0m\u001b[0mtext\u001b[0m\u001b[1;33m\u001b[0m\u001b[1;33m\u001b[0m\u001b[0m\n\u001b[0m",
      "\u001b[1;31mAttributeError\u001b[0m: 'lxml.etree._ElementUnicodeResult' object has no attribute 'text'"
     ]
    }
   ],
   "source": [
    "s.text"
   ]
  },
  {
   "cell_type": "code",
   "execution_count": 79,
   "metadata": {},
   "outputs": [
    {
     "data": {
      "text/plain": [
       "lxml.etree._ElementUnicodeResult"
      ]
     },
     "execution_count": 79,
     "metadata": {},
     "output_type": "execute_result"
    }
   ],
   "source": [
    "type(s)"
   ]
  },
  {
   "cell_type": "code",
   "execution_count": 84,
   "metadata": {},
   "outputs": [
    {
     "data": {
      "text/plain": [
       "b'dva \\xc3\\x95\\xc2\\xac\\xc3\\x85\\xc2\\xae \\xc2\\xb3\\xc2\\xa4\\xc3\\x8d\\xc2\\xb2\\xc3\\x8d\\xc3\\xa0 \\xc2\\xb6\\xc3\\x8c\\xc2\\xb7\\xc2\\xa2 \\xc2\\xbf\\xc3\\x89\\xc2\\xb0\\xc2\\xae\\xc3\\x85\\xc2\\xae\\xc2\\xba\\xc2\\xa24k\\xc2\\xb1\\xc3\\x9a\\xc3\\x96\\xc2\\xbd'"
      ]
     },
     "execution_count": 84,
     "metadata": {},
     "output_type": "execute_result"
    }
   ],
   "source": [
    "str(s).encode()"
   ]
  },
  {
   "cell_type": "code",
   "execution_count": 81,
   "metadata": {},
   "outputs": [
    {
     "data": {
      "text/plain": [
       "'dva Õ¬Å® ³¤Í²Íà ¶Ì·¢ ¿É°®Å®º¢4k±ÚÖ½'"
      ]
     },
     "execution_count": 81,
     "metadata": {},
     "output_type": "execute_result"
    }
   ],
   "source": [
    "str(s)"
   ]
  },
  {
   "cell_type": "code",
   "execution_count": null,
   "metadata": {},
   "outputs": [],
   "source": []
  }
 ],
 "metadata": {
  "kernelspec": {
   "display_name": "Python 3",
   "language": "python",
   "name": "python3"
  },
  "language_info": {
   "codemirror_mode": {
    "name": "ipython",
    "version": 3
   },
   "file_extension": ".py",
   "mimetype": "text/x-python",
   "name": "python",
   "nbconvert_exporter": "python",
   "pygments_lexer": "ipython3",
   "version": "3.6.8"
  }
 },
 "nbformat": 4,
 "nbformat_minor": 4
}
