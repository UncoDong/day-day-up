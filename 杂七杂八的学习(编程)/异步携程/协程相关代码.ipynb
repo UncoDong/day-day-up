{
 "cells": [
  {
   "cell_type": "code",
   "execution_count": 1,
   "metadata": {},
   "outputs": [
    {
     "name": "stdout",
     "output_type": "stream",
     "text": [
      "1\n",
      "3\n",
      "2\n",
      "4\n"
     ]
    }
   ],
   "source": [
    "from greenlet import greenlet\n",
    "\n",
    "def func1():\n",
    "    print(1)\t#第1步:输出1\n",
    "    gr2.switch()\t#第3步:切换到func2函数\n",
    "    print(2)\t#第6步:输出2\t\n",
    "    gr2.switch()#第7步:切换到func2函数，从上一次执行的位置继续向后执行\n",
    "    \n",
    "def func2():\n",
    "    print(3)\t#第4步∶输出3\n",
    "    gr1.switch()\t#第5步:切换到func1函数，从上一次执行的位置继续向后执行\n",
    "    print(4)\t#第8步:输出4\n",
    "\n",
    "# 生成了特殊的对象\n",
    "gr1 = greenlet(func1)\n",
    "gr2 = greenlet(func2)\n",
    "gr1.switch()\t#第1步︰去执行func1函数\n"
   ]
  },
  {
   "cell_type": "code",
   "execution_count": 4,
   "metadata": {},
   "outputs": [
    {
     "name": "stdout",
     "output_type": "stream",
     "text": [
      "1\n",
      "3\n",
      "4\n",
      "2\n"
     ]
    }
   ],
   "source": [
    "# 生成器函数\n",
    "def func1():\n",
    "    yield 1\n",
    "    yield from func2()\n",
    "    yield 2\n",
    "\n",
    "def func2():\n",
    "    yield 3\n",
    "    yield 4\n",
    "    \n",
    "# 执行生成器函数，返回func1\n",
    "f1 = func1()\n",
    "for item in f1:\n",
    "    print(item)\n"
   ]
  },
  {
   "cell_type": "code",
   "execution_count": 34,
   "metadata": {},
   "outputs": [
    {
     "ename": "AttributeError",
     "evalue": "'_WindowsSelectorEventLoop' object has no attribute 'run_urti1_complete'",
     "output_type": "error",
     "traceback": [
      "\u001b[1;31m---------------------------------------------------------------------------\u001b[0m",
      "\u001b[1;31mAttributeError\u001b[0m                            Traceback (most recent call last)",
      "\u001b[1;32m<ipython-input-34-310b5aa5da74>\u001b[0m in \u001b[0;36m<module>\u001b[1;34m\u001b[0m\n\u001b[0;32m     18\u001b[0m ]\n\u001b[0;32m     19\u001b[0m \u001b[0mloop\u001b[0m \u001b[1;33m=\u001b[0m \u001b[0masyncio\u001b[0m\u001b[1;33m.\u001b[0m\u001b[0mget_event_loop\u001b[0m\u001b[1;33m(\u001b[0m\u001b[1;33m)\u001b[0m\u001b[1;33m\u001b[0m\u001b[1;33m\u001b[0m\u001b[0m\n\u001b[1;32m---> 20\u001b[1;33m \u001b[0mloop\u001b[0m\u001b[1;33m.\u001b[0m\u001b[0mrun_urti1_complete\u001b[0m\u001b[1;33m(\u001b[0m\u001b[0masyncio\u001b[0m\u001b[1;33m.\u001b[0m\u001b[0mwait\u001b[0m\u001b[1;33m(\u001b[0m\u001b[0mtasks\u001b[0m\u001b[1;33m)\u001b[0m\u001b[1;33m)\u001b[0m\u001b[1;33m\u001b[0m\u001b[1;33m\u001b[0m\u001b[0m\n\u001b[0m",
      "\u001b[1;31mAttributeError\u001b[0m: '_WindowsSelectorEventLoop' object has no attribute 'run_urti1_complete'"
     ]
    },
    {
     "name": "stdout",
     "output_type": "stream",
     "text": [
      "1\n",
      "3\n",
      "4\n",
      "2\n"
     ]
    }
   ],
   "source": [
    "import asyncio\n",
    "\n",
    "@asyncio.coroutine\n",
    "def func1():\n",
    "    print(1)\n",
    "    yield from asyncio.sleep(2)#遇到Io耗时操作，自动化切换到tasks中的其他任务\n",
    "    print(2)\n",
    "    \n",
    "@asyncio.coroutine\n",
    "def func2():\n",
    "    print(3)\n",
    "    yield from asyncio.sleep(2)#遇到Io耗时操作，自动化切换到tasks中的其他任务\n",
    "    print(4)\n",
    "    \n",
    "tasks = [\n",
    "    asyncio.ensure_future(func1()),\n",
    "    asyncio.ensure_future(func2())\n",
    "]\n",
    "loop = asyncio.get_event_loop()\n",
    "loop.run_urti1_complete(asyncio.wait(tasks))\n"
   ]
  },
  {
   "cell_type": "code",
   "execution_count": 37,
   "metadata": {},
   "outputs": [
    {
     "ename": "AttributeError",
     "evalue": "'_WindowsSelectorEventLoop' object has no attribute 'run_urti1_complete'",
     "output_type": "error",
     "traceback": [
      "\u001b[1;31m---------------------------------------------------------------------------\u001b[0m",
      "\u001b[1;31mAttributeError\u001b[0m                            Traceback (most recent call last)",
      "\u001b[1;32m<ipython-input-37-e0ee776555fd>\u001b[0m in \u001b[0;36m<module>\u001b[1;34m\u001b[0m\n\u001b[0;32m     21\u001b[0m \u001b[1;33m\u001b[0m\u001b[0m\n\u001b[0;32m     22\u001b[0m \u001b[0mloop\u001b[0m \u001b[1;33m=\u001b[0m \u001b[0masyncio\u001b[0m\u001b[1;33m.\u001b[0m\u001b[0mget_event_loop\u001b[0m\u001b[1;33m(\u001b[0m\u001b[1;33m)\u001b[0m\u001b[1;33m\u001b[0m\u001b[1;33m\u001b[0m\u001b[0m\n\u001b[1;32m---> 23\u001b[1;33m \u001b[0masyncio\u001b[0m\u001b[1;33m.\u001b[0m\u001b[0mget_event_loop\u001b[0m\u001b[1;33m(\u001b[0m\u001b[1;33m)\u001b[0m\u001b[1;33m.\u001b[0m\u001b[0mrun_urti1_complete\u001b[0m\u001b[1;33m(\u001b[0m\u001b[0masyncio\u001b[0m\u001b[1;33m.\u001b[0m\u001b[0mwait\u001b[0m\u001b[1;33m(\u001b[0m\u001b[0mtasks\u001b[0m\u001b[1;33m)\u001b[0m\u001b[1;33m)\u001b[0m\u001b[1;33m\u001b[0m\u001b[1;33m\u001b[0m\u001b[0m\n\u001b[0m",
      "\u001b[1;31mAttributeError\u001b[0m: '_WindowsSelectorEventLoop' object has no attribute 'run_urti1_complete'"
     ]
    },
    {
     "name": "stdout",
     "output_type": "stream",
     "text": [
      "1\n",
      "3\n",
      "4\n",
      "2\n"
     ]
    }
   ],
   "source": [
    "\n",
    "\n",
    "# 这里去掉了装饰器\n",
    "async def func1():\n",
    "    print(1)\n",
    "    # 网络IO请求：下载一张图片\n",
    "    # 这里替换了yield from\n",
    "    await asyncio.sleep(2)#遇到Io耗时操作，自动化切换到tasks中的其他任务\n",
    "    print(2)\n",
    "    \n",
    "@asyncio.coroutine\n",
    "async def func2():\n",
    "    print(3)\n",
    "    # 网络IO请求：下载一张图片\n",
    "    # 遇到这个会等待两秒，不会傻等，会去做别的任务\n",
    "    await asyncio.sleep(2)#遇到Io耗时操作，自动化切换到tasks中的其他任务\n",
    "    print(4)\n",
    "    \n",
    "tasks = [\n",
    "    asyncio.ensure_future(func1()),\n",
    "    asyncio.ensure_future(func2())\n",
    "]\n",
    "\n",
    "loop = asyncio.get_event_loop()\n",
    "loop.run_urti1_complete(asyncio.wait(tasks))"
   ]
  },
  {
   "cell_type": "code",
   "execution_count": 17,
   "metadata": {},
   "outputs": [
    {
     "name": "stdout",
     "output_type": "stream",
     "text": [
      "开始下载: https://img-blog.csdnimg.cn/20200916001445274.png?x-oss-process=image/watermark,type_ZmFuZ3poZW5naGVpdGk,shadow_10,text_aHR0cHM6Ly9ibG9nLmNzZG4ubmV0L3dlaXhpbl80Mjc2MzY5Ng==,size_16,color_FFFFFF,t_70#pic_center\n",
      "下载完成\n",
      "开始下载: https://img-blog.csdnimg.cn/20200916002042945.png?x-oss-process=image/watermark,type_ZmFuZ3poZW5naGVpdGk,shadow_10,text_aHR0cHM6Ly9ibG9nLmNzZG4ubmV0L3dlaXhpbl80Mjc2MzY5Ng==,size_16,color_FFFFFF,t_70#pic_center\n",
      "下载完成\n",
      "开始下载: https://img-blog.csdnimg.cn/20200916002332382.png?x-oss-process=image/watermark,type_ZmFuZ3poZW5naGVpdGk,shadow_10,text_aHR0cHM6Ly9ibG9nLmNzZG4ubmV0L3dlaXhpbl80Mjc2MzY5Ng==,size_16,color_FFFFFF,t_70#pic_center\n",
      "下载完成\n"
     ]
    }
   ],
   "source": [
    "import requests\n",
    "\n",
    "def download_image(ur1):\n",
    "    print(\"开始下载:\" ,ur1)\n",
    "    #发送网络请求，下载图片\n",
    "    response = requests.get(ur1)\n",
    "    print(\"下载完成\")\n",
    "    #图片保存到本地文件\n",
    "    file_name = ur1.rsplit('/')[3].split('?')[0]\n",
    "    with open(file_name, mode='wb' ) as file_object:\n",
    "        file_object.write(response.content)\n",
    "if __name__ == '__main__':\n",
    "    ur1_list = [\n",
    "    'https://img-blog.csdnimg.cn/20200916001445274.png?x-oss-process=image/watermark,type_ZmFuZ3poZW5naGVpdGk,shadow_10,text_aHR0cHM6Ly9ibG9nLmNzZG4ubmV0L3dlaXhpbl80Mjc2MzY5Ng==,size_16,color_FFFFFF,t_70#pic_center',\n",
    "    'https://img-blog.csdnimg.cn/20200916002042945.png?x-oss-process=image/watermark,type_ZmFuZ3poZW5naGVpdGk,shadow_10,text_aHR0cHM6Ly9ibG9nLmNzZG4ubmV0L3dlaXhpbl80Mjc2MzY5Ng==,size_16,color_FFFFFF,t_70#pic_center',\n",
    "    'https://img-blog.csdnimg.cn/20200916002332382.png?x-oss-process=image/watermark,type_ZmFuZ3poZW5naGVpdGk,shadow_10,text_aHR0cHM6Ly9ibG9nLmNzZG4ubmV0L3dlaXhpbl80Mjc2MzY5Ng==,size_16,color_FFFFFF,t_70#pic_center'\n",
    "    ]\n",
    "    for item in ur1_list:\n",
    "        download_image(item)\n"
   ]
  },
  {
   "cell_type": "code",
   "execution_count": 15,
   "metadata": {},
   "outputs": [
    {
     "data": {
      "text/plain": [
       "['https:', '', 'img-blog.csdnimg.cn', '20200916001445274.png?']"
      ]
     },
     "execution_count": 15,
     "metadata": {},
     "output_type": "execute_result"
    }
   ],
   "source": [
    "'https://img-blog.csdnimg.cn/20200916001445274.png?'.split('/')"
   ]
  },
  {
   "cell_type": "code",
   "execution_count": 7,
   "metadata": {},
   "outputs": [
    {
     "ename": "AttributeError",
     "evalue": "module 'asyncio' has no attribute 'create_task'",
     "output_type": "error",
     "traceback": [
      "\u001b[1;31m---------------------------------------------------------------------------\u001b[0m",
      "\u001b[1;31mAttributeError\u001b[0m                            Traceback (most recent call last)",
      "\u001b[1;32m<ipython-input-7-8514e6311deb>\u001b[0m in \u001b[0;36masync-def-wrapper\u001b[1;34m()\u001b[0m\n\u001b[0;32m     26\u001b[0m     '''\n\u001b[0;32m     27\u001b[0m     \u001b[1;31m# 这句是3.7的语法\u001b[0m\u001b[1;33m\u001b[0m\u001b[1;33m\u001b[0m\u001b[1;33m\u001b[0m\u001b[0m\n\u001b[1;32m---> 28\u001b[1;33m     \u001b[1;31m# asyncio.run(main())\u001b[0m\u001b[1;33m\u001b[0m\u001b[1;33m\u001b[0m\u001b[1;33m\u001b[0m\u001b[0m\n\u001b[0m\u001b[0;32m     29\u001b[0m     \u001b[0mprint\u001b[0m\u001b[1;33m(\u001b[0m\u001b[1;34m'hi'\u001b[0m\u001b[1;33m)\u001b[0m\u001b[1;33m\u001b[0m\u001b[1;33m\u001b[0m\u001b[0m\n\u001b[0;32m     30\u001b[0m     \u001b[0masyncio\u001b[0m\u001b[1;33m.\u001b[0m\u001b[0mget_event_loop\u001b[0m\u001b[1;33m(\u001b[0m\u001b[1;33m)\u001b[0m\u001b[1;33m.\u001b[0m\u001b[0mrun_urti1_complete\u001b[0m\u001b[1;33m(\u001b[0m\u001b[0mmain\u001b[0m\u001b[1;33m(\u001b[0m\u001b[1;33m)\u001b[0m\u001b[1;33m)\u001b[0m\u001b[1;33m\u001b[0m\u001b[1;33m\u001b[0m\u001b[0m\n",
      "\u001b[1;32m<ipython-input-7-8514e6311deb>\u001b[0m in \u001b[0;36mmain\u001b[1;34m()\u001b[0m\n\u001b[0;32m     22\u001b[0m         \u001b[0mawait\u001b[0m \u001b[0masyncio\u001b[0m\u001b[1;33m.\u001b[0m\u001b[0mwait\u001b[0m\u001b[1;33m(\u001b[0m\u001b[0mtasks\u001b[0m\u001b[1;33m)\u001b[0m\u001b[1;33m\u001b[0m\u001b[1;33m\u001b[0m\u001b[0m\n\u001b[0;32m     23\u001b[0m \u001b[1;33m\u001b[0m\u001b[0m\n\u001b[1;32m---> 24\u001b[1;33m \u001b[1;32mif\u001b[0m \u001b[0m__name__\u001b[0m\u001b[1;33m==\u001b[0m \u001b[1;34m'__main__'\u001b[0m\u001b[1;33m:\u001b[0m\u001b[1;33m\u001b[0m\u001b[1;33m\u001b[0m\u001b[0m\n\u001b[0m\u001b[0;32m     25\u001b[0m     \u001b[0mawait\u001b[0m \u001b[0mmain\u001b[0m\u001b[1;33m(\u001b[0m\u001b[1;33m)\u001b[0m\u001b[1;33m\u001b[0m\u001b[1;33m\u001b[0m\u001b[0m\n\u001b[0;32m     26\u001b[0m     '''\n",
      "\u001b[1;32m<ipython-input-7-8514e6311deb>\u001b[0m in \u001b[0;36m<listcomp>\u001b[1;34m(.0)\u001b[0m\n\u001b[0;32m     22\u001b[0m         \u001b[0mawait\u001b[0m \u001b[0masyncio\u001b[0m\u001b[1;33m.\u001b[0m\u001b[0mwait\u001b[0m\u001b[1;33m(\u001b[0m\u001b[0mtasks\u001b[0m\u001b[1;33m)\u001b[0m\u001b[1;33m\u001b[0m\u001b[1;33m\u001b[0m\u001b[0m\n\u001b[0;32m     23\u001b[0m \u001b[1;33m\u001b[0m\u001b[0m\n\u001b[1;32m---> 24\u001b[1;33m \u001b[1;32mif\u001b[0m \u001b[0m__name__\u001b[0m\u001b[1;33m==\u001b[0m \u001b[1;34m'__main__'\u001b[0m\u001b[1;33m:\u001b[0m\u001b[1;33m\u001b[0m\u001b[1;33m\u001b[0m\u001b[0m\n\u001b[0m\u001b[0;32m     25\u001b[0m     \u001b[0mawait\u001b[0m \u001b[0mmain\u001b[0m\u001b[1;33m(\u001b[0m\u001b[1;33m)\u001b[0m\u001b[1;33m\u001b[0m\u001b[1;33m\u001b[0m\u001b[0m\n\u001b[0;32m     26\u001b[0m     '''\n",
      "\u001b[1;31mAttributeError\u001b[0m: module 'asyncio' has no attribute 'create_task'"
     ]
    }
   ],
   "source": [
    "import aiohttp\n",
    "import asyncio\n",
    "\n",
    "async def fetch(session, url):\n",
    "    print(\"发送请求:\", url)\n",
    "    async with session.get(url, verify_ss1=False) as response:\n",
    "        content = await response.content.read()\n",
    "        file_name = url.rsplit('/')[3]\n",
    "        print(file_name)\n",
    "        with open(file_name, mode='wb') as file_object:\n",
    "            file_object.write(content)\n",
    "        print('下载完成')\n",
    "            \n",
    "async def main():\n",
    "    async with aiohttp.ClientSession() as session:\n",
    "        url_list = [\n",
    "            'https://img-blog.csdnimg.cn/20200916001445274.png',\n",
    "            'https://img-blog.csdnimg.cn/20200916002042945.png',\n",
    "            'https://img-blog.csdnimg.cn/20200916002332382.png'\n",
    "            ]\n",
    "        tasks = [asyncio.create_task(fetch(session, url)) for url in url_list]\n",
    "        await asyncio.wait(tasks)\n",
    "\n",
    "if __name__== '__main__':\n",
    "    await main()\n",
    "    '''\n",
    "    # 这句是3.7的语法\n",
    "    # asyncio.run(main())\n",
    "    print('hi')\n",
    "    asyncio.get_event_loop().run_urti1_complete(main())\n",
    "    '''"
   ]
  },
  {
   "cell_type": "code",
   "execution_count": 10,
   "metadata": {},
   "outputs": [
    {
     "name": "stdout",
     "output_type": "stream",
     "text": [
      "发送请求: https://img-blog.csdnimg.cn/20200916001445274.png\n",
      "发送请求: https://img-blog.csdnimg.cn/20200916002042945.png\n",
      "发送请求: https://img-blog.csdnimg.cn/20200916002332382.png\n",
      "20200916001445274.png\n",
      "下载完成\n",
      "20200916002332382.png\n",
      "下载完成\n",
      "20200916002042945.png\n",
      "下载完成\n"
     ]
    }
   ],
   "source": [
    "import aiohttp\n",
    "import asyncio\n",
    "\n",
    "async def fetch(session, url):\n",
    "    print(\"发送请求:\", url)\n",
    "    async with session.get(url, verify_ssl=False) as response:\n",
    "        content = await response.content.read()\n",
    "        file_name = url.rsplit('/')[3]\n",
    "        print(file_name)\n",
    "        with open(file_name, mode='wb') as file_object:\n",
    "            file_object.write(content)\n",
    "        print('下载完成')\n",
    "            \n",
    "async def main():\n",
    "    async with aiohttp.ClientSession() as session:\n",
    "        url_list = [\n",
    "            'https://img-blog.csdnimg.cn/20200916001445274.png',\n",
    "            'https://img-blog.csdnimg.cn/20200916002042945.png',\n",
    "            'https://img-blog.csdnimg.cn/20200916002332382.png'\n",
    "            ]\n",
    "        tasks = [asyncio.ensure_future(fetch(session, url)) for url in url_list]\n",
    "        await asyncio.wait(tasks)\n",
    "\n",
    "if __name__== '__main__':\n",
    "    await main()\n",
    "    "
   ]
  },
  {
   "cell_type": "code",
   "execution_count": 12,
   "metadata": {},
   "outputs": [
    {
     "name": "stdout",
     "output_type": "stream",
     "text": [
      "main开始\n",
      "main结束\n",
      "1\n",
      "1\n",
      "2\n",
      "2\n",
      "返回值 返回值\n"
     ]
    }
   ],
   "source": [
    "import asyncio\n",
    "\n",
    "\n",
    "async def func():\n",
    "    print(1)\n",
    "    await asyncio.sleep(2)\n",
    "    print(2)\n",
    "    return \"返回值\"\n",
    "\n",
    "\n",
    "async def main():\n",
    "    print(\"main开始\")\n",
    "\t\n",
    " \t# 创建Task对象，将当前执行func函数任务添加到事件循环。\n",
    "    task1 = asyncio.ensure_future( func() )\n",
    "\t\n",
    "    # 创建Task对象，将当前执行func函数任务添加到事件循环。\n",
    "    task2 = asyncio.ensure_future( func() )\n",
    "\n",
    "    print(\"main结束\")\n",
    "\n",
    "    # 当执行某协程遇到IO操作时，会自动化切换执行其他任务。\n",
    "    # 此处的await是等待相对应的协程全都执行完毕并获取结果\n",
    "    ret1 = await task1\n",
    "    ret2 = await task2\n",
    "    print(ret1, ret2)\n",
    "\n",
    "await main()"
   ]
  },
  {
   "cell_type": "code",
   "execution_count": 21,
   "metadata": {},
   "outputs": [
    {
     "name": "stdout",
     "output_type": "stream",
     "text": [
      "main开始\n"
     ]
    },
    {
     "ename": "TypeError",
     "evalue": "ensure_future() got an unexpected keyword argument 'event_name'",
     "output_type": "error",
     "traceback": [
      "\u001b[1;31m---------------------------------------------------------------------------\u001b[0m",
      "\u001b[1;31mTypeError\u001b[0m                                 Traceback (most recent call last)",
      "\u001b[1;32m<ipython-input-21-e2e177948fd1>\u001b[0m in \u001b[0;36masync-def-wrapper\u001b[1;34m()\u001b[0m\n",
      "\u001b[1;32m<ipython-input-21-e2e177948fd1>\u001b[0m in \u001b[0;36mmain\u001b[1;34m()\u001b[0m\n\u001b[0;32m     22\u001b[0m         \u001b[0masyncio\u001b[0m\u001b[1;33m.\u001b[0m\u001b[0mensure_future\u001b[0m\u001b[1;33m(\u001b[0m\u001b[0mfunc2\u001b[0m\u001b[1;33m(\u001b[0m\u001b[1;33m)\u001b[0m\u001b[1;33m)\u001b[0m\u001b[1;33m\u001b[0m\u001b[1;33m\u001b[0m\u001b[0m\n\u001b[0;32m     23\u001b[0m     ]\n\u001b[1;32m---> 24\u001b[1;33m     \u001b[0mprint\u001b[0m\u001b[1;33m(\u001b[0m\u001b[1;34m\"main结束\"\u001b[0m\u001b[1;33m)\u001b[0m\u001b[1;33m\u001b[0m\u001b[1;33m\u001b[0m\u001b[0m\n\u001b[0m\u001b[0;32m     25\u001b[0m \u001b[1;33m\u001b[0m\u001b[0m\n\u001b[0;32m     26\u001b[0m     \u001b[1;31m# 两个太麻烦了，直接await一个列表，但是await后面只能加 协程对象，Future、Task对象\u001b[0m\u001b[1;33m\u001b[0m\u001b[1;33m\u001b[0m\u001b[1;33m\u001b[0m\u001b[0m\n",
      "\u001b[1;31mTypeError\u001b[0m: ensure_future() got an unexpected keyword argument 'event_name'"
     ]
    }
   ],
   "source": [
    "import asyncio\n",
    "\n",
    "\n",
    "async def func1():\n",
    "    print(1)\n",
    "    await asyncio.sleep(2)\n",
    "    print(2)\n",
    "    return \"返回值\"\n",
    "\n",
    "async def func2():\n",
    "    print(1)\n",
    "    await asyncio.sleep(3)\n",
    "    print(2)\n",
    "    return \"返回值\"\n",
    "\n",
    "async def main():\n",
    "    print(\"main开始\")\n",
    "    \n",
    "    # 显式声明列表\n",
    "    task_list = [\n",
    "        asyncio.ensure_future(func1(),event_name='n1'),\n",
    "        asyncio.ensure_future(func2())\n",
    "    ]\n",
    "    print(\"main结束\")\n",
    "\n",
    "    # 两个太麻烦了，直接await一个列表，但是await后面只能加 协程对象，Future、Task对象\n",
    "    # ret1 = await task1\n",
    "    # ret2 = await task2\n",
    "    \n",
    "    # 两个默认返回\n",
    "    # donw：是个集合，两个task的返回值都在这里\n",
    "    # pending：没啥意义\n",
    "    # 设置最多等2s，如果么有完成，down就是空的，pending就是还没完成的那些\n",
    "    # 如果设置为None，就是等待所有的都完成\n",
    "    done,pending = await asyncio.wait(task_list, timeout=3)\n",
    "    print(done, pending)\n",
    "\n",
    "\n",
    "await main() "
   ]
  },
  {
   "cell_type": "code",
   "execution_count": 23,
   "metadata": {},
   "outputs": [
    {
     "ename": "AttributeError",
     "evalue": "module 'asyncio' has no attribute 'get_running_loop'",
     "output_type": "error",
     "traceback": [
      "\u001b[1;31m---------------------------------------------------------------------------\u001b[0m",
      "\u001b[1;31mAttributeError\u001b[0m                            Traceback (most recent call last)",
      "\u001b[1;32m<ipython-input-23-551eb6d98af4>\u001b[0m in \u001b[0;36masync-def-wrapper\u001b[1;34m()\u001b[0m\n",
      "\u001b[1;32m<ipython-input-23-551eb6d98af4>\u001b[0m in \u001b[0;36mmain\u001b[1;34m()\u001b[0m\n\u001b[0;32m      4\u001b[0m \u001b[1;33m\u001b[0m\u001b[0m\n\u001b[0;32m      5\u001b[0m     \u001b[1;31m# 创建一个任务 Future对象, 这个任务什么都不干/不执行任务\u001b[0m\u001b[1;33m\u001b[0m\u001b[1;33m\u001b[0m\u001b[1;33m\u001b[0m\u001b[0m\n\u001b[1;32m----> 6\u001b[1;33m     \u001b[0mfut\u001b[0m \u001b[1;33m=\u001b[0m \u001b[0mloop\u001b[0m\u001b[1;33m.\u001b[0m\u001b[0mensure_future\u001b[0m\u001b[1;33m(\u001b[0m\u001b[1;33m)\u001b[0m\u001b[1;33m\u001b[0m\u001b[1;33m\u001b[0m\u001b[0m\n\u001b[0m\u001b[0;32m      7\u001b[0m \u001b[1;33m\u001b[0m\u001b[0m\n\u001b[0;32m      8\u001b[0m     \u001b[1;31m# 等待任务最终结束，没有结束会一直等待下去\u001b[0m\u001b[1;33m\u001b[0m\u001b[1;33m\u001b[0m\u001b[1;33m\u001b[0m\u001b[0m\n",
      "\u001b[1;31mAttributeError\u001b[0m: module 'asyncio' has no attribute 'get_running_loop'"
     ]
    }
   ],
   "source": [
    "async def main():\n",
    "    # 获取当前事件循环\n",
    "    loop = asyncio.get_running_loop()\n",
    "    \n",
    "    # 创建一个任务 Future对象, 这个任务什么都不干/不执行任务\n",
    "    fut = loop.ensure_future()\n",
    "    \n",
    "    # 等待任务最终结束，没有结束会一直等待下去\n",
    "    await fut\n",
    "\n",
    "await main()"
   ]
  },
  {
   "cell_type": "code",
   "execution_count": null,
   "metadata": {},
   "outputs": [],
   "source": []
  }
 ],
 "metadata": {
  "kernelspec": {
   "display_name": "Python 3",
   "language": "python",
   "name": "python3"
  },
  "language_info": {
   "codemirror_mode": {
    "name": "ipython",
    "version": 3
   },
   "file_extension": ".py",
   "mimetype": "text/x-python",
   "name": "python",
   "nbconvert_exporter": "python",
   "pygments_lexer": "ipython3",
   "version": "3.6.8"
  }
 },
 "nbformat": 4,
 "nbformat_minor": 4
}
