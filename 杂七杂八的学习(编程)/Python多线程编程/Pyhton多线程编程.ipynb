{
 "cells": [
  {
   "cell_type": "markdown",
   "metadata": {},
   "source": [
    "## 串行方式"
   ]
  },
  {
   "cell_type": "code",
   "execution_count": 1,
   "metadata": {},
   "outputs": [],
   "source": [
    "import time\n",
    "#唱歌\n",
    "def sing( ):\n",
    "    for i in range(3):\n",
    "        print(\"唱歌...\")\n",
    "        time.sleep(0.5)\n",
    "#跳舞\n",
    "def dance( ):\n",
    "    for i in range(3):\n",
    "        print(\"跳舞...\")\n",
    "        time.sleep(0.5)\n"
   ]
  },
  {
   "cell_type": "code",
   "execution_count": 8,
   "metadata": {},
   "outputs": [
    {
     "name": "stdout",
     "output_type": "stream",
     "text": [
      "唱歌...\n",
      "唱歌...\n",
      "唱歌...\n",
      "跳舞...\n",
      "跳舞...\n",
      "跳舞...\n"
     ]
    }
   ],
   "source": [
    "sing()\n",
    "dance()"
   ]
  },
  {
   "cell_type": "markdown",
   "metadata": {},
   "source": [
    "## 多进程方式"
   ]
  },
  {
   "cell_type": "markdown",
   "metadata": {},
   "source": [
    "1. 导入进程包\n",
    "2. 使用进程类\n",
    "3. 使用start启动"
   ]
  },
  {
   "cell_type": "code",
   "execution_count": 14,
   "metadata": {},
   "outputs": [],
   "source": [
    "# 1 导入\n",
    "import multiprocessing\n",
    "\n",
    "\n",
    "import time\n",
    "#唱歌\n",
    "def sing( ):\n",
    "    for i in range(3):\n",
    "        print(\"唱歌...\")\n",
    "        time.sleep(0.5)\n",
    "#跳舞\n",
    "def dance( ):\n",
    "    for i in range(3):\n",
    "        print(\"跳舞...\")\n",
    "        time.sleep(0.5)\n",
    "\n",
    "# 2. 使用进程类\n",
    "sing_process = multiprocessing.Process (target=sing)\n",
    "dance_process = multiprocessing.Process (target=dance)\n",
    "\n",
    "if __name__ == '__main__':\n",
    "    # 3. 启动进程\n",
    "    sing_process.start()\n",
    "    dance_process.start()"
   ]
  },
  {
   "cell_type": "code",
   "execution_count": 10,
   "metadata": {},
   "outputs": [],
   "source": []
  },
  {
   "cell_type": "code",
   "execution_count": 12,
   "metadata": {},
   "outputs": [
    {
     "name": "stdout",
     "output_type": "stream",
     "text": [
      "唱歌...\n",
      "唱歌...\n",
      "唱歌...\n"
     ]
    }
   ],
   "source": [
    "sing()"
   ]
  },
  {
   "cell_type": "code",
   "execution_count": null,
   "metadata": {},
   "outputs": [],
   "source": []
  }
 ],
 "metadata": {
  "kernelspec": {
   "display_name": "Python 3",
   "language": "python",
   "name": "python3"
  },
  "language_info": {
   "codemirror_mode": {
    "name": "ipython",
    "version": 3
   },
   "file_extension": ".py",
   "mimetype": "text/x-python",
   "name": "python",
   "nbconvert_exporter": "python",
   "pygments_lexer": "ipython3",
   "version": "3.6.8"
  }
 },
 "nbformat": 4,
 "nbformat_minor": 4
}
